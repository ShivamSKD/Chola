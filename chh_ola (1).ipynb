{
 "cells": [
  {
   "cell_type": "code",
   "execution_count": 1,
   "metadata": {
    "colab": {
     "base_uri": "https://localhost:8080/",
     "height": 125
    },
    "colab_type": "code",
    "executionInfo": {
     "elapsed": 39917,
     "status": "ok",
     "timestamp": 1568433600167,
     "user": {
      "displayName": "vedant kale",
      "photoUrl": "https://lh3.googleusercontent.com/a-/AAuE7mCDab_KFU1MHWEjRsQP-6z1fyiPUiZjRxo9hWUi2w=s64",
      "userId": "16040215375828489081"
     },
     "user_tz": -330
    },
    "id": "el5pJQjF5J3B",
    "outputId": "683106cf-1ead-45a1-f806-f32e093d0c45"
   },
   "outputs": [],
   "source": [
    "import numpy as np     #importing necessary libraries\n",
    "import pandas as pd\n",
    "import seaborn as sns\n",
    "import matplotlib.pyplot as plt\n",
    "import matplotlib as mpl\n",
    "from sklearn import metrics\n",
    "\n",
    "%matplotlib inline\n"
   ]
  },
  {
   "cell_type": "markdown",
   "metadata": {},
   "source": [
    "### Train Data Loading"
   ]
  },
  {
   "cell_type": "code",
   "execution_count": 2,
   "metadata": {
    "colab": {
     "base_uri": "https://localhost:8080/",
     "height": 90
    },
    "colab_type": "code",
    "executionInfo": {
     "elapsed": 43754,
     "status": "ok",
     "timestamp": 1568433604022,
     "user": {
      "displayName": "vedant kale",
      "photoUrl": "https://lh3.googleusercontent.com/a-/AAuE7mCDab_KFU1MHWEjRsQP-6z1fyiPUiZjRxo9hWUi2w=s64",
      "userId": "16040215375828489081"
     },
     "user_tz": -330
    },
    "id": "S-9qKmPE5J3I",
    "outputId": "f59d3d72-72d8-413d-f883-36e834a259c3"
   },
   "outputs": [
    {
     "name": "stderr",
     "output_type": "stream",
     "text": [
      "C:\\Users\\Vedant Kale\\Anaconda3\\lib\\site-packages\\IPython\\core\\interactiveshell.py:3057: DtypeWarning: Columns (4,10) have mixed types. Specify dtype option on import or set low_memory=False.\n",
      "  interactivity=interactivity, compiler=compiler, result=result)\n"
     ]
    },
    {
     "data": {
      "text/plain": [
       "(1048575, 17)"
      ]
     },
     "execution_count": 2,
     "metadata": {},
     "output_type": "execute_result"
    }
   ],
   "source": [
    "# reading the train data\n",
    "# while data cleaning we found '+ACI-  +ACIAIg-status+ACIAIg- : 500+ACI-','0+AHs-' this values\n",
    "# unwanted, so replacing them with NaN\n",
    "d1 = pd.read_csv('chola_train.csv',na_values=['+ACI-  +ACIAIg-status+ACIAIg- : 500+ACI-','0+AHs-'])\n",
    "d1.shape"
   ]
  },
  {
   "cell_type": "code",
   "execution_count": 3,
   "metadata": {
    "colab": {
     "base_uri": "https://localhost:8080/",
     "height": 407
    },
    "colab_type": "code",
    "executionInfo": {
     "elapsed": 44157,
     "status": "ok",
     "timestamp": 1568433604439,
     "user": {
      "displayName": "vedant kale",
      "photoUrl": "https://lh3.googleusercontent.com/a-/AAuE7mCDab_KFU1MHWEjRsQP-6z1fyiPUiZjRxo9hWUi2w=s64",
      "userId": "16040215375828489081"
     },
     "user_tz": -330
    },
    "id": "y0rWQtF05J3N",
    "outputId": "19981338-28a1-4edb-9282-a6a9150d8637"
   },
   "outputs": [
    {
     "name": "stdout",
     "output_type": "stream",
     "text": [
      "<class 'pandas.core.frame.DataFrame'>\n",
      "RangeIndex: 1048575 entries, 0 to 1048574\n",
      "Data columns (total 17 columns):\n",
      "ID                        1048575 non-null int64\n",
      "vendor+AF8-id             1048574 non-null float64\n",
      "pickup+AF8-loc            1048574 non-null float64\n",
      "drop+AF8-loc              1048574 non-null float64\n",
      "driver+AF8-tip            1048573 non-null object\n",
      "mta+AF8-tax               1048573 non-null object\n",
      "distance                  1048574 non-null float64\n",
      "pickup+AF8-time           1048574 non-null object\n",
      "drop+AF8-time             1048574 non-null object\n",
      "num+AF8-passengers        1048574 non-null float64\n",
      "toll+AF8-amount           1048573 non-null object\n",
      "payment+AF8-method        1048574 non-null float64\n",
      "rate+AF8-code             1048574 non-null float64\n",
      "stored+AF8-flag           1048574 non-null object\n",
      "extra+AF8-charges         1048574 non-null object\n",
      "improvement+AF8-charge    1048573 non-null object\n",
      "total+AF8-amount          1048573 non-null object\n",
      "dtypes: float64(7), int64(1), object(9)\n",
      "memory usage: 136.0+ MB\n"
     ]
    }
   ],
   "source": [
    "#getting insight of data and null values in it\n",
    "d1.info()"
   ]
  },
  {
   "cell_type": "code",
   "execution_count": 4,
   "metadata": {
    "colab": {
     "base_uri": "https://localhost:8080/",
     "height": 401
    },
    "colab_type": "code",
    "executionInfo": {
     "elapsed": 44145,
     "status": "ok",
     "timestamp": 1568433604441,
     "user": {
      "displayName": "vedant kale",
      "photoUrl": "https://lh3.googleusercontent.com/a-/AAuE7mCDab_KFU1MHWEjRsQP-6z1fyiPUiZjRxo9hWUi2w=s64",
      "userId": "16040215375828489081"
     },
     "user_tz": -330
    },
    "id": "Yaq65roy5J3R",
    "outputId": "58362b54-0e86-4bba-f73f-bd2d8f40d82a",
    "scrolled": true
   },
   "outputs": [
    {
     "data": {
      "text/html": [
       "<div>\n",
       "<style scoped>\n",
       "    .dataframe tbody tr th:only-of-type {\n",
       "        vertical-align: middle;\n",
       "    }\n",
       "\n",
       "    .dataframe tbody tr th {\n",
       "        vertical-align: top;\n",
       "    }\n",
       "\n",
       "    .dataframe thead th {\n",
       "        text-align: right;\n",
       "    }\n",
       "</style>\n",
       "<table border=\"1\" class=\"dataframe\">\n",
       "  <thead>\n",
       "    <tr style=\"text-align: right;\">\n",
       "      <th></th>\n",
       "      <th>ID</th>\n",
       "      <th>vendor+AF8-id</th>\n",
       "      <th>pickup+AF8-loc</th>\n",
       "      <th>drop+AF8-loc</th>\n",
       "      <th>driver+AF8-tip</th>\n",
       "      <th>mta+AF8-tax</th>\n",
       "      <th>distance</th>\n",
       "      <th>pickup+AF8-time</th>\n",
       "      <th>drop+AF8-time</th>\n",
       "      <th>num+AF8-passengers</th>\n",
       "      <th>toll+AF8-amount</th>\n",
       "      <th>payment+AF8-method</th>\n",
       "      <th>rate+AF8-code</th>\n",
       "      <th>stored+AF8-flag</th>\n",
       "      <th>extra+AF8-charges</th>\n",
       "      <th>improvement+AF8-charge</th>\n",
       "      <th>total+AF8-amount</th>\n",
       "    </tr>\n",
       "  </thead>\n",
       "  <tbody>\n",
       "    <tr>\n",
       "      <th>0</th>\n",
       "      <td>0</td>\n",
       "      <td>1.0</td>\n",
       "      <td>170.0</td>\n",
       "      <td>233.0</td>\n",
       "      <td>1.83</td>\n",
       "      <td>0.5</td>\n",
       "      <td>0.70</td>\n",
       "      <td>04/04/2017 05:59:43 PM</td>\n",
       "      <td>04/04/2017 06:05:04 PM</td>\n",
       "      <td>1.0</td>\n",
       "      <td>0</td>\n",
       "      <td>1.0</td>\n",
       "      <td>1.0</td>\n",
       "      <td>N</td>\n",
       "      <td>1</td>\n",
       "      <td>0.3</td>\n",
       "      <td>9.13</td>\n",
       "    </tr>\n",
       "    <tr>\n",
       "      <th>1</th>\n",
       "      <td>1</td>\n",
       "      <td>2.0</td>\n",
       "      <td>151.0</td>\n",
       "      <td>243.0</td>\n",
       "      <td>3.56</td>\n",
       "      <td>0.5</td>\n",
       "      <td>4.64</td>\n",
       "      <td>04/03/2017 07:03:34 PM</td>\n",
       "      <td>04/03/2017 07:20:04 PM</td>\n",
       "      <td>1.0</td>\n",
       "      <td>0</td>\n",
       "      <td>1.0</td>\n",
       "      <td>1.0</td>\n",
       "      <td>N</td>\n",
       "      <td>1</td>\n",
       "      <td>0.3</td>\n",
       "      <td>21.36</td>\n",
       "    </tr>\n",
       "    <tr>\n",
       "      <th>2</th>\n",
       "      <td>2</td>\n",
       "      <td>2.0</td>\n",
       "      <td>68.0</td>\n",
       "      <td>90.0</td>\n",
       "      <td>1.5</td>\n",
       "      <td>0.5</td>\n",
       "      <td>1.29</td>\n",
       "      <td>04/03/2017 03:06:13 PM</td>\n",
       "      <td>04/03/2017 03:12:30 PM</td>\n",
       "      <td>2.0</td>\n",
       "      <td>0</td>\n",
       "      <td>1.0</td>\n",
       "      <td>1.0</td>\n",
       "      <td>N</td>\n",
       "      <td>0</td>\n",
       "      <td>0.3</td>\n",
       "      <td>8.8</td>\n",
       "    </tr>\n",
       "    <tr>\n",
       "      <th>3</th>\n",
       "      <td>3</td>\n",
       "      <td>2.0</td>\n",
       "      <td>142.0</td>\n",
       "      <td>234.0</td>\n",
       "      <td>1.5</td>\n",
       "      <td>0.5</td>\n",
       "      <td>2.74</td>\n",
       "      <td>04/04/2017 08:10:52 AM</td>\n",
       "      <td>04/04/2017 08:27:00 AM</td>\n",
       "      <td>1.0</td>\n",
       "      <td>0</td>\n",
       "      <td>1.0</td>\n",
       "      <td>1.0</td>\n",
       "      <td>N</td>\n",
       "      <td>0</td>\n",
       "      <td>0.3</td>\n",
       "      <td>14.8</td>\n",
       "    </tr>\n",
       "    <tr>\n",
       "      <th>4</th>\n",
       "      <td>4</td>\n",
       "      <td>2.0</td>\n",
       "      <td>238.0</td>\n",
       "      <td>238.0</td>\n",
       "      <td>0</td>\n",
       "      <td>0.5</td>\n",
       "      <td>0.45</td>\n",
       "      <td>04/05/2017 02:02:59 PM</td>\n",
       "      <td>04/05/2017 02:05:41 PM</td>\n",
       "      <td>6.0</td>\n",
       "      <td>0</td>\n",
       "      <td>2.0</td>\n",
       "      <td>1.0</td>\n",
       "      <td>N</td>\n",
       "      <td>0</td>\n",
       "      <td>0.3</td>\n",
       "      <td>4.8</td>\n",
       "    </tr>\n",
       "  </tbody>\n",
       "</table>\n",
       "</div>"
      ],
      "text/plain": [
       "   ID  vendor+AF8-id  pickup+AF8-loc  drop+AF8-loc driver+AF8-tip mta+AF8-tax  \\\n",
       "0   0            1.0           170.0         233.0           1.83         0.5   \n",
       "1   1            2.0           151.0         243.0           3.56         0.5   \n",
       "2   2            2.0            68.0          90.0            1.5         0.5   \n",
       "3   3            2.0           142.0         234.0            1.5         0.5   \n",
       "4   4            2.0           238.0         238.0              0         0.5   \n",
       "\n",
       "   distance         pickup+AF8-time           drop+AF8-time  \\\n",
       "0      0.70  04/04/2017 05:59:43 PM  04/04/2017 06:05:04 PM   \n",
       "1      4.64  04/03/2017 07:03:34 PM  04/03/2017 07:20:04 PM   \n",
       "2      1.29  04/03/2017 03:06:13 PM  04/03/2017 03:12:30 PM   \n",
       "3      2.74  04/04/2017 08:10:52 AM  04/04/2017 08:27:00 AM   \n",
       "4      0.45  04/05/2017 02:02:59 PM  04/05/2017 02:05:41 PM   \n",
       "\n",
       "   num+AF8-passengers toll+AF8-amount  payment+AF8-method  rate+AF8-code  \\\n",
       "0                 1.0               0                 1.0            1.0   \n",
       "1                 1.0               0                 1.0            1.0   \n",
       "2                 2.0               0                 1.0            1.0   \n",
       "3                 1.0               0                 1.0            1.0   \n",
       "4                 6.0               0                 2.0            1.0   \n",
       "\n",
       "  stored+AF8-flag extra+AF8-charges improvement+AF8-charge total+AF8-amount  \n",
       "0               N                 1                    0.3             9.13  \n",
       "1               N                 1                    0.3            21.36  \n",
       "2               N                 0                    0.3              8.8  \n",
       "3               N                 0                    0.3             14.8  \n",
       "4               N                 0                    0.3              4.8  "
      ]
     },
     "execution_count": 4,
     "metadata": {},
     "output_type": "execute_result"
    }
   ],
   "source": [
    "d1.head()"
   ]
  },
  {
   "cell_type": "code",
   "execution_count": 5,
   "metadata": {
    "colab": {
     "base_uri": "https://localhost:8080/",
     "height": 336
    },
    "colab_type": "code",
    "executionInfo": {
     "elapsed": 45089,
     "status": "ok",
     "timestamp": 1568433605404,
     "user": {
      "displayName": "vedant kale",
      "photoUrl": "https://lh3.googleusercontent.com/a-/AAuE7mCDab_KFU1MHWEjRsQP-6z1fyiPUiZjRxo9hWUi2w=s64",
      "userId": "16040215375828489081"
     },
     "user_tz": -330
    },
    "id": "eI6I-TRE5J3U",
    "outputId": "0d610da1-1f47-4714-ae06-3c34125122bb",
    "scrolled": true
   },
   "outputs": [
    {
     "data": {
      "text/plain": [
       "ID                        0\n",
       "vendor+AF8-id             1\n",
       "pickup+AF8-loc            1\n",
       "drop+AF8-loc              1\n",
       "driver+AF8-tip            2\n",
       "mta+AF8-tax               2\n",
       "distance                  1\n",
       "pickup+AF8-time           1\n",
       "drop+AF8-time             1\n",
       "num+AF8-passengers        1\n",
       "toll+AF8-amount           2\n",
       "payment+AF8-method        1\n",
       "rate+AF8-code             1\n",
       "stored+AF8-flag           1\n",
       "extra+AF8-charges         1\n",
       "improvement+AF8-charge    2\n",
       "total+AF8-amount          2\n",
       "dtype: int64"
      ]
     },
     "execution_count": 5,
     "metadata": {},
     "output_type": "execute_result"
    }
   ],
   "source": [
    "d1.isnull().sum()"
   ]
  },
  {
   "cell_type": "markdown",
   "metadata": {},
   "source": [
    "### Data Cleaning"
   ]
  },
  {
   "cell_type": "code",
   "execution_count": 6,
   "metadata": {},
   "outputs": [
    {
     "name": "stdout",
     "output_type": "stream",
     "text": [
      "ID [      0       1       2 ... 1048572 1048573 1048574]\n",
      "vendor+AF8-id [ 1.  2. nan]\n",
      "pickup+AF8-loc [170. 151.  68. 142. 238. 230. 236. 229. 132. 114. 264. 166. 263. 137.\n",
      "  90. 141. 211. 138. 164. 148. 237. 261. 234. 186. 161. 107. 140.  24.\n",
      " 113.  13. 231. 143. 239. 249.  48.   4. 162. 158. 163.  79. 224. 223.\n",
      " 179.  75. 125.  87. 100. 233.  12. 262. 144.  43.  74. 152.  66. 226.\n",
      " 112.   7.  41. 246.  50.  88. 256. 193.  45.  65. 146.  42.  85.  34.\n",
      " 209. 145. 189.  61. 232. 116.  52. 244.  80.  56.  33. 260. 181.  17.\n",
      " 194. 196. 259.  37. 197. 188. 127. 255. 228. 247.  25.  93.  49. 265.\n",
      " 215.  40. 198. 220. 129. 106.  82. 130.  10. 217.  97.  95. 190. 195.\n",
      "  18. 167. 157.  36.  89. 219.  28. 119. 168. 208.  62. 243. 225.  92.\n",
      " 169.  54. 136. 134. 242.   9.  70.   1. 124. 156. 227. 159. 207.  83.\n",
      " 135.  35. 216.  73.  47. 235. 173.  26. 218. 108. 123.  91.  76. 153.\n",
      "  86. 165. 111. 202. 257. 213.   8.  19. 178.  20. 160. 203. 205. 200.\n",
      " 182.  69. 126. 241. 254. 101.  57. 177. 102.  72.  71. 128. 191.  11.\n",
      "   6.  39.  14.  32. 133. 149.  31.  22.  78. 171.  64.  53.  60.  55.\n",
      "  67. 248. 222. 212. 192.  51. 155. 253. 147.  94. 131. 175. 185.  98.\n",
      "  96. 221. 258. 154. 174. 250.  77. 252. 180. 118. 210.  16.  81. 120.\n",
      " 139.  84. 206.  21. 201.  23.  nan 183. 121. 122. 109.  29. 214. 184.\n",
      "  63. 150.  99. 240. 204. 176.   3.]\n",
      "drop+AF8-loc [233. 243.  90. 234. 238.  48. 140.  13. 141. 164. 170. 264. 151. 246.\n",
      " 138.  79. 230. 263. 232. 143. 229.  50. 237. 144.  24. 142. 100. 161.\n",
      "  75. 236. 239. 261.  41. 162. 125.   7. 137. 158. 107. 116.  74. 113.\n",
      " 211. 186.  68. 132.  87. 179. 226. 249. 145. 262.  42.  33. 166. 218.\n",
      "  82. 163.  45. 224. 231. 222. 244. 152. 220. 256.  66. 265. 216. 225.\n",
      " 102.  80. 148. 202.  25. 255.  12. 223. 114.  43. 193.   1.  85.  88.\n",
      "  14. 149. 181. 112. 169. 248.  40.  49. 257.  52.  39.   4. 196.  65.\n",
      "  61. 146. 127. 209.  91. 200. 168. 180. 195. 130.  95. 228.  36.  97.\n",
      " 173. 203.  89. 129. 189.  18.  67.  83.  37.  70. 201. 134. 247.  69.\n",
      " 135. 259.  10. 121.  59. 252.   9.  98. 188. 198. 213.  17. 182.  28.\n",
      " 241. 106.  63.  54.  26. 126.  60.  76. 160. 217.  31.  22. 133. 219.\n",
      "  21. 157. 165. 205.  34. 177.  96.  62.  92. 260.  93.  51.  20. 208.\n",
      " 258. 178. 197.  56. 192. 221.  71. 159. 250.  23. 167. 210. 150. 174.\n",
      " 147. 227. 235. 124. 155.  38.  35.  15.  55.  72. 185.   3. 123.  64.\n",
      "  78. 191.  58.  53. 131.  94.   6.  16. 108. 242. 119. 156.  77.  47.\n",
      " 128. 206. 207. 139.  73. 212. 101.  32. 120. 190. 117. 171. 136.  57.\n",
      " 251. 183. 215.  86.  81. 240.  11. 115. 194. 153.  19. 254. 175.  29.\n",
      " 184. 214.  44. 122. 253. 245.  27.   8. 109. 154. 204. 172.  46. 111.\n",
      " 118.   5.   2. 105.  84.  30. 176.  nan 187.]\n",
      "driver+AF8-tip ['1.83' '3.56' '1.5' ... '9.42' '14.02' '37.2']\n",
      "mta+AF8-tax ['0.5' '0' '+AC0-0.5' nan]\n",
      "distance [ 0.7   4.64  1.29 ... 24.18 24.46 30.54]\n",
      "pickup+AF8-time ['04/04/2017 05:59:43 PM' '04/03/2017 07:03:34 PM'\n",
      " '04/03/2017 03:06:13 PM' ... '04/06/2017 05:03:22 AM'\n",
      " '04/03/2017 06:56:42 AM' '04/06/2017 05:22:32 AM']\n",
      "drop+AF8-time ['04/04/2017 06:05:04 PM' '04/03/2017 07:20:04 PM'\n",
      " '04/03/2017 03:12:30 PM' ... '04/04/2017 05:13:12 PM'\n",
      " '04/06/2017 02:11:15 AM' '04/03/2017 12:19:06 PM']\n",
      "num+AF8-passengers [ 1.  2.  6.  3.  4.  5.  0.  8.  7.  9. nan]\n",
      "toll+AF8-amount [0.0 5.76 5.54 2.64 17.5 15.0 11.52 7.0 2.16 10.5 16.26 20.0 5.78 15.5\n",
      " 16.5 12.5 10.08 18.25 15.01 10.05 22.02 14.65 5.11 8.5 14.1 2.7 27.5 11.0\n",
      " 5.5 6.5 17.28 26.26 14.95 10.2 29.0 5.4 15.1 19.5 16.0 17.0 13.5 25.0\n",
      " 17.58 23.26 21.0 18.5 14.82 6.0 17.1 18.26 5.56 14.5 15.45 13.0 26.7 15.3\n",
      " 5.0 5.74 20.5 18.0 24.0 24.5 5.55 12.65 18.8 14.58 8.76 0.02 0.06 15.4\n",
      " 14.06 1.5 12.95 11.08 19.0 2.54 14.0 30.76 14.8 16.9 21.26 67.5 57.76\n",
      " 5.46 16.95 24.76 8.4 20.76 24.02 15.05 19.8 17.4 7.92 16.1 95.76 3.0 21.9\n",
      " 5.77 16.04 15.35 5.75 7.51 9.53 5.28 16.8 5.88 5.73 13.75 8.0 5.7 nan\n",
      " 21.5 14.26 5.84 54.0 15.95 21.76 5.72 4.0 22.22 45.76 5.44 22.25 5.14\n",
      " 12.0 14.66 15.25 31.5 5.86 24.26 2.56 0.01 5.34 16.7 0.04 5.79 2.0 5.85\n",
      " 17.45 26.76 405.84 17.25 5.67 17.05 16.25 23.5 20.9 18.04 3.5 12.3 14.75\n",
      " 15.75 22.2 5.87 17.7 18.38 18.7 12.32 30.02 0.09 11.26 16.45 9.99 16.24\n",
      " 25.54 26.97 7.76 18.55 16.75 19.1 15.7 14.7 50.5 19.49 27.02 34.0 2.44\n",
      " 19.7 2.18 5.94 20.09 10.0 14.9 9.76 5.57 15.14 13.03 7.56 5.65 16.55\n",
      " 24.56 31.0 13.44 12.9 9.89 2.45 22.0 86.0 2.5 18.3 23.0 6.56 13.25 5.45\n",
      " 16.52 5.64 33.3 20.42 7.1 5.8 15.2 5.13 18.1 26.52 17.6 7.2 22.15 11.09\n",
      " 11.9 16.76 11.54 19.75 21.05 21.01 19.3 19.4 22.76 17.78 17.76 5.96 19.01\n",
      " 1.0 17.26 7.01 18.6 5.83 19.85 8.01 52.26 14.52 28.52 17.75 765.34 905.76\n",
      " 0.07 17.8 12.25 25.7 5.58 13.7 12.84 15.04 22.5 30.26 5.08 27.7 28.26\n",
      " 5.42 571.32 17.35 16.62 23.8 22.26 22.16 15.9 25.76 12.75 20.56 0.3 19.02\n",
      " 12.2 13.15 6.59 5.89 8.26 6.7 17.2 13.14 24.01 40.0 4.32 6.79 13.04 57.59\n",
      " 56.97 24.21 7.25 8.8 19.2 0.76 8.78 29.02 26.62 5.71 14.4 6.06 15.19\n",
      " 20.26 26.55 13.95 17.9 25.9 15.08 14.3 13.8 5.59 19.86 70.5 18.9 12.59\n",
      " 18.76 38.02 40.02 0.5 5.62 13.3 17.3 6.43 9.26 11.3 575.09 10.8 17.08\n",
      " 16.82 8.48 14.25 18.2 96.52 11.75 32.5 24.7 5.33 9.0 1.26 50.0 '0' '5.76'\n",
      " '12.5' '10.5' '17' '+AC0-5.76' '5.54' '25' '6' '16' '13.25' '1' '5.46'\n",
      " '18' '29' '21' '2.64' '15.5' '8.5' '15' '14.95' '8.4' '17.28' '5.75' '22'\n",
      " '11.52' '16.5' '17.1' '16.26' '2.25' '19.5' '18.7' '22.5' '13.5' '12.95'\n",
      " '5.68' '5.5' '20' '20.5' '2.16' '18.26' '14.5' '15.3' '5.74' '16.04' '11'\n",
      " '16.55' '22.02' '12.8' '1.5' '10' '16.76' '5' '5.44' '17.4' '85.76'\n",
      " '17.2' '17.5' '18.5' '23.26' '16.15' '5.8' '18.2' '5.6' '9.76' '25.26'\n",
      " '7.51' '5.72' '0.01' '5.95' '5.55' '14.82' '5.73' '28.6' '13' '18.9'\n",
      " '5.56' '17.29' '3' '16.05' '5.78' '12.04' '19.71' '30.76' 18.65 46.0\n",
      " 18.35 25.35 18.05 11.65 13.45 5.53 7.64 2.2 0.08 1.75 19.9 25.46 37.78\n",
      " 10.76 6.72 13.27 19.45 78.5 55.0 5.6 2.76 7.52 11.76 22.06 16.38 4.76\n",
      " 54.55 6.88 18.4 45.0 19.76 14.71 26.02 21.31 21.06 23.91 29.5 13.36 85.55\n",
      " 16.3 10.26 18.96 16.05 6.54 11.33 20.46 15.02 15.15 14.38 23.36 4.5 15.76\n",
      " 20.71 17.42 12.66 26.0 16.42 55.76 1.25 18.24 39.76 97.0 36.26 11.43 2.55\n",
      " 11.5 17.06 7.8 11.51 17.19]\n",
      "payment+AF8-method [ 1.  2.  3.  4. nan]\n",
      "rate+AF8-code [ 1.  2.  3.  4.  5. 99.  6. nan]\n",
      "stored+AF8-flag ['N' 'Y' nan]\n",
      "extra+AF8-charges ['1' '0' '0.5' '4.5' '+AC0-0.5' '+AC0-1' '1.8' '0.8' '0.05' '+AC0-4.5'\n",
      " '6.5' '1.5' nan '0.2' '0.1' '1.3']\n",
      "improvement+AF8-charge ['0.3' '+AC0-0.3' '0' nan]\n",
      "total+AF8-amount ['9.13' '21.36' '8.8' ... '58.4' '64.94' '128.75']\n"
     ]
    }
   ],
   "source": [
    "for  col in d1.columns:\n",
    "    print(col, d1[col].unique())"
   ]
  },
  {
   "cell_type": "code",
   "execution_count": 7,
   "metadata": {
    "colab": {},
    "colab_type": "code",
    "id": "jxrHKsDB5J3W"
   },
   "outputs": [],
   "source": [
    "# found that +AC0- is a misllaneous value adjoined with many data elements\n",
    "# so replacing it with empty string\n",
    "d1=d1.replace(to_replace='\\+AC0\\-' , value='', regex=True)"
   ]
  },
  {
   "cell_type": "code",
   "execution_count": 8,
   "metadata": {
    "colab": {
     "base_uri": "https://localhost:8080/",
     "height": 401
    },
    "colab_type": "code",
    "executionInfo": {
     "elapsed": 56985,
     "status": "ok",
     "timestamp": 1568433617320,
     "user": {
      "displayName": "vedant kale",
      "photoUrl": "https://lh3.googleusercontent.com/a-/AAuE7mCDab_KFU1MHWEjRsQP-6z1fyiPUiZjRxo9hWUi2w=s64",
      "userId": "16040215375828489081"
     },
     "user_tz": -330
    },
    "id": "MlBGnRCC5J3Z",
    "outputId": "782f85c1-aebf-42f7-fe5c-01947344a22f"
   },
   "outputs": [
    {
     "name": "stdout",
     "output_type": "stream",
     "text": [
      "ID [      0       1       2 ... 1048572 1048573 1048574]\n",
      "vendor+AF8-id [ 1.  2. nan]\n",
      "pickup+AF8-loc [170. 151.  68. 142. 238. 230. 236. 229. 132. 114. 264. 166. 263. 137.\n",
      "  90. 141. 211. 138. 164. 148. 237. 261. 234. 186. 161. 107. 140.  24.\n",
      " 113.  13. 231. 143. 239. 249.  48.   4. 162. 158. 163.  79. 224. 223.\n",
      " 179.  75. 125.  87. 100. 233.  12. 262. 144.  43.  74. 152.  66. 226.\n",
      " 112.   7.  41. 246.  50.  88. 256. 193.  45.  65. 146.  42.  85.  34.\n",
      " 209. 145. 189.  61. 232. 116.  52. 244.  80.  56.  33. 260. 181.  17.\n",
      " 194. 196. 259.  37. 197. 188. 127. 255. 228. 247.  25.  93.  49. 265.\n",
      " 215.  40. 198. 220. 129. 106.  82. 130.  10. 217.  97.  95. 190. 195.\n",
      "  18. 167. 157.  36.  89. 219.  28. 119. 168. 208.  62. 243. 225.  92.\n",
      " 169.  54. 136. 134. 242.   9.  70.   1. 124. 156. 227. 159. 207.  83.\n",
      " 135.  35. 216.  73.  47. 235. 173.  26. 218. 108. 123.  91.  76. 153.\n",
      "  86. 165. 111. 202. 257. 213.   8.  19. 178.  20. 160. 203. 205. 200.\n",
      " 182.  69. 126. 241. 254. 101.  57. 177. 102.  72.  71. 128. 191.  11.\n",
      "   6.  39.  14.  32. 133. 149.  31.  22.  78. 171.  64.  53.  60.  55.\n",
      "  67. 248. 222. 212. 192.  51. 155. 253. 147.  94. 131. 175. 185.  98.\n",
      "  96. 221. 258. 154. 174. 250.  77. 252. 180. 118. 210.  16.  81. 120.\n",
      " 139.  84. 206.  21. 201.  23.  nan 183. 121. 122. 109.  29. 214. 184.\n",
      "  63. 150.  99. 240. 204. 176.   3.]\n",
      "drop+AF8-loc [233. 243.  90. 234. 238.  48. 140.  13. 141. 164. 170. 264. 151. 246.\n",
      " 138.  79. 230. 263. 232. 143. 229.  50. 237. 144.  24. 142. 100. 161.\n",
      "  75. 236. 239. 261.  41. 162. 125.   7. 137. 158. 107. 116.  74. 113.\n",
      " 211. 186.  68. 132.  87. 179. 226. 249. 145. 262.  42.  33. 166. 218.\n",
      "  82. 163.  45. 224. 231. 222. 244. 152. 220. 256.  66. 265. 216. 225.\n",
      " 102.  80. 148. 202.  25. 255.  12. 223. 114.  43. 193.   1.  85.  88.\n",
      "  14. 149. 181. 112. 169. 248.  40.  49. 257.  52.  39.   4. 196.  65.\n",
      "  61. 146. 127. 209.  91. 200. 168. 180. 195. 130.  95. 228.  36.  97.\n",
      " 173. 203.  89. 129. 189.  18.  67.  83.  37.  70. 201. 134. 247.  69.\n",
      " 135. 259.  10. 121.  59. 252.   9.  98. 188. 198. 213.  17. 182.  28.\n",
      " 241. 106.  63.  54.  26. 126.  60.  76. 160. 217.  31.  22. 133. 219.\n",
      "  21. 157. 165. 205.  34. 177.  96.  62.  92. 260.  93.  51.  20. 208.\n",
      " 258. 178. 197.  56. 192. 221.  71. 159. 250.  23. 167. 210. 150. 174.\n",
      " 147. 227. 235. 124. 155.  38.  35.  15.  55.  72. 185.   3. 123.  64.\n",
      "  78. 191.  58.  53. 131.  94.   6.  16. 108. 242. 119. 156.  77.  47.\n",
      " 128. 206. 207. 139.  73. 212. 101.  32. 120. 190. 117. 171. 136.  57.\n",
      " 251. 183. 215.  86.  81. 240.  11. 115. 194. 153.  19. 254. 175.  29.\n",
      " 184. 214.  44. 122. 253. 245.  27.   8. 109. 154. 204. 172.  46. 111.\n",
      " 118.   5.   2. 105.  84.  30. 176.  nan 187.]\n",
      "driver+AF8-tip ['1.83' '3.56' '1.5' ... '9.42' '14.02' '37.2']\n",
      "mta+AF8-tax ['0.5' '0' nan]\n",
      "distance [ 0.7   4.64  1.29 ... 24.18 24.46 30.54]\n",
      "pickup+AF8-time ['04/04/2017 05:59:43 PM' '04/03/2017 07:03:34 PM'\n",
      " '04/03/2017 03:06:13 PM' ... '04/06/2017 05:03:22 AM'\n",
      " '04/03/2017 06:56:42 AM' '04/06/2017 05:22:32 AM']\n",
      "drop+AF8-time ['04/04/2017 06:05:04 PM' '04/03/2017 07:20:04 PM'\n",
      " '04/03/2017 03:12:30 PM' ... '04/04/2017 05:13:12 PM'\n",
      " '04/06/2017 02:11:15 AM' '04/03/2017 12:19:06 PM']\n",
      "num+AF8-passengers [ 1.  2.  6.  3.  4.  5.  0.  8.  7.  9. nan]\n",
      "toll+AF8-amount [0.0 5.76 5.54 2.64 17.5 15.0 11.52 7.0 2.16 10.5 16.26 20.0 5.78 15.5\n",
      " 16.5 12.5 10.08 18.25 15.01 10.05 22.02 14.65 5.11 8.5 14.1 2.7 27.5 11.0\n",
      " 5.5 6.5 17.28 26.26 14.95 10.2 29.0 5.4 15.1 19.5 16.0 17.0 13.5 25.0\n",
      " 17.58 23.26 21.0 18.5 14.82 6.0 17.1 18.26 5.56 14.5 15.45 13.0 26.7 15.3\n",
      " 5.0 5.74 20.5 18.0 24.0 24.5 5.55 12.65 18.8 14.58 8.76 0.02 0.06 15.4\n",
      " 14.06 1.5 12.95 11.08 19.0 2.54 14.0 30.76 14.8 16.9 21.26 67.5 57.76\n",
      " 5.46 16.95 24.76 8.4 20.76 24.02 15.05 19.8 17.4 7.92 16.1 95.76 3.0 21.9\n",
      " 5.77 16.04 15.35 5.75 7.51 9.53 5.28 16.8 5.88 5.73 13.75 8.0 5.7 nan\n",
      " 21.5 14.26 5.84 54.0 15.95 21.76 5.72 4.0 22.22 45.76 5.44 22.25 5.14\n",
      " 12.0 14.66 15.25 31.5 5.86 24.26 2.56 0.01 5.34 16.7 0.04 5.79 2.0 5.85\n",
      " 17.45 26.76 405.84 17.25 5.67 17.05 16.25 23.5 20.9 18.04 3.5 12.3 14.75\n",
      " 15.75 22.2 5.87 17.7 18.38 18.7 12.32 30.02 0.09 11.26 16.45 9.99 16.24\n",
      " 25.54 26.97 7.76 18.55 16.75 19.1 15.7 14.7 50.5 19.49 27.02 34.0 2.44\n",
      " 19.7 2.18 5.94 20.09 10.0 14.9 9.76 5.57 15.14 13.03 7.56 5.65 16.55\n",
      " 24.56 31.0 13.44 12.9 9.89 2.45 22.0 86.0 2.5 18.3 23.0 6.56 13.25 5.45\n",
      " 16.52 5.64 33.3 20.42 7.1 5.8 15.2 5.13 18.1 26.52 17.6 7.2 22.15 11.09\n",
      " 11.9 16.76 11.54 19.75 21.05 21.01 19.3 19.4 22.76 17.78 17.76 5.96 19.01\n",
      " 1.0 17.26 7.01 18.6 5.83 19.85 8.01 52.26 14.52 28.52 17.75 765.34 905.76\n",
      " 0.07 17.8 12.25 25.7 5.58 13.7 12.84 15.04 22.5 30.26 5.08 27.7 28.26\n",
      " 5.42 571.32 17.35 16.62 23.8 22.26 22.16 15.9 25.76 12.75 20.56 0.3 19.02\n",
      " 12.2 13.15 6.59 5.89 8.26 6.7 17.2 13.14 24.01 40.0 4.32 6.79 13.04 57.59\n",
      " 56.97 24.21 7.25 8.8 19.2 0.76 8.78 29.02 26.62 5.71 14.4 6.06 15.19\n",
      " 20.26 26.55 13.95 17.9 25.9 15.08 14.3 13.8 5.59 19.86 70.5 18.9 12.59\n",
      " 18.76 38.02 40.02 0.5 5.62 13.3 17.3 6.43 9.26 11.3 575.09 10.8 17.08\n",
      " 16.82 8.48 14.25 18.2 96.52 11.75 32.5 24.7 5.33 9.0 1.26 50.0 '0' '5.76'\n",
      " '12.5' '10.5' '17' '5.54' '25' '6' '16' '13.25' '1' '5.46' '18' '29' '21'\n",
      " '2.64' '15.5' '8.5' '15' '14.95' '8.4' '17.28' '5.75' '22' '11.52' '16.5'\n",
      " '17.1' '16.26' '2.25' '19.5' '18.7' '22.5' '13.5' '12.95' '5.68' '5.5'\n",
      " '20' '20.5' '2.16' '18.26' '14.5' '15.3' '5.74' '16.04' '11' '16.55'\n",
      " '22.02' '12.8' '1.5' '10' '16.76' '5' '5.44' '17.4' '85.76' '17.2' '17.5'\n",
      " '18.5' '23.26' '16.15' '5.8' '18.2' '5.6' '9.76' '25.26' '7.51' '5.72'\n",
      " '0.01' '5.95' '5.55' '14.82' '5.73' '28.6' '13' '18.9' '5.56' '17.29' '3'\n",
      " '16.05' '5.78' '12.04' '19.71' '30.76' 18.65 46.0 18.35 25.35 18.05 11.65\n",
      " 13.45 5.53 7.64 2.2 0.08 1.75 19.9 25.46 37.78 10.76 6.72 13.27 19.45\n",
      " 78.5 55.0 5.6 2.76 7.52 11.76 22.06 16.38 4.76 54.55 6.88 18.4 45.0 19.76\n",
      " 14.71 26.02 21.31 21.06 23.91 29.5 13.36 85.55 16.3 10.26 18.96 16.05\n",
      " 6.54 11.33 20.46 15.02 15.15 14.38 23.36 4.5 15.76 20.71 17.42 12.66 26.0\n",
      " 16.42 55.76 1.25 18.24 39.76 97.0 36.26 11.43 2.55 11.5 17.06 7.8 11.51\n",
      " 17.19]\n",
      "payment+AF8-method [ 1.  2.  3.  4. nan]\n",
      "rate+AF8-code [ 1.  2.  3.  4.  5. 99.  6. nan]\n",
      "stored+AF8-flag ['N' 'Y' nan]\n",
      "extra+AF8-charges ['1' '0' '0.5' '4.5' '1.8' '0.8' '0.05' '6.5' '1.5' nan '0.2' '0.1' '1.3']\n",
      "improvement+AF8-charge ['0.3' '0' nan]\n",
      "total+AF8-amount ['9.13' '21.36' '8.8' ... '58.4' '64.94' '128.75']\n"
     ]
    }
   ],
   "source": [
    "#checking wether the data is cleaned successfully or not\n",
    "for  col in d1.columns:\n",
    "    print(col, d1[col].unique())"
   ]
  },
  {
   "cell_type": "code",
   "execution_count": 9,
   "metadata": {
    "colab": {
     "base_uri": "https://localhost:8080/",
     "height": 123
    },
    "colab_type": "code",
    "executionInfo": {
     "elapsed": 56962,
     "status": "ok",
     "timestamp": 1568433617323,
     "user": {
      "displayName": "vedant kale",
      "photoUrl": "https://lh3.googleusercontent.com/a-/AAuE7mCDab_KFU1MHWEjRsQP-6z1fyiPUiZjRxo9hWUi2w=s64",
      "userId": "16040215375828489081"
     },
     "user_tz": -330
    },
    "id": "-r_eg-Xt5J3e",
    "outputId": "80fda3a0-e897-4b52-804c-0ac4e355963b",
    "scrolled": true
   },
   "outputs": [
    {
     "data": {
      "text/plain": [
       "Index(['ID', 'vendor+AF8-id', 'pickup+AF8-loc', 'drop+AF8-loc',\n",
       "       'driver+AF8-tip', 'mta+AF8-tax', 'distance', 'pickup+AF8-time',\n",
       "       'drop+AF8-time', 'num+AF8-passengers', 'toll+AF8-amount',\n",
       "       'payment+AF8-method', 'rate+AF8-code', 'stored+AF8-flag',\n",
       "       'extra+AF8-charges', 'improvement+AF8-charge', 'total+AF8-amount'],\n",
       "      dtype='object')"
      ]
     },
     "execution_count": 9,
     "metadata": {},
     "output_type": "execute_result"
    }
   ],
   "source": [
    "d1.columns"
   ]
  },
  {
   "cell_type": "code",
   "execution_count": 16,
   "metadata": {},
   "outputs": [],
   "source": [
    "# there are few null values so using forward fill to replace them\n",
    "d1_u1=d1\n",
    "d1_u1=d1_u1.fillna(method='ffill')"
   ]
  },
  {
   "cell_type": "markdown",
   "metadata": {},
   "source": [
    "### Manipulating Train Data"
   ]
  },
  {
   "cell_type": "code",
   "execution_count": 17,
   "metadata": {},
   "outputs": [],
   "source": [
    "# replacing column names by removing +AF8-\n",
    "d1_u1.columns = ['ID', 'vendor_id', 'pickup_loc', 'drop_loc', 'driver_tip', 'mta_tax',\n",
    "       'distance', 'pickup_time', 'drop_time', 'num_passengers', 'toll_amount',\n",
    "       'payment_method', 'rate_code', 'stored_flag', 'extra_charges',\n",
    "       'improvement_charge','total_amount']"
   ]
  },
  {
   "cell_type": "code",
   "execution_count": 18,
   "metadata": {
    "colab": {},
    "colab_type": "code",
    "id": "Dl-fAk385J3k"
   },
   "outputs": [],
   "source": [
    "# replacing N,Y values in stored flag wit 0,1 for ease of computation\n",
    "\n",
    "d1_u1['stored_flag']=d1_u1['stored_flag'].replace(to_replace='N', value=0, regex=True)\n",
    "d1_u1['stored_flag']=d1_u1['stored_flag'].replace(to_replace='Y', value=1, regex=True)   "
   ]
  },
  {
   "cell_type": "code",
   "execution_count": 19,
   "metadata": {
    "colab": {
     "base_uri": "https://localhost:8080/",
     "height": 336
    },
    "colab_type": "code",
    "executionInfo": {
     "elapsed": 60239,
     "status": "ok",
     "timestamp": 1568433620654,
     "user": {
      "displayName": "vedant kale",
      "photoUrl": "https://lh3.googleusercontent.com/a-/AAuE7mCDab_KFU1MHWEjRsQP-6z1fyiPUiZjRxo9hWUi2w=s64",
      "userId": "16040215375828489081"
     },
     "user_tz": -330
    },
    "id": "fgAp61SW5J3r",
    "outputId": "d4b6350c-5bd2-4130-8f87-8924e07bb2e8"
   },
   "outputs": [
    {
     "data": {
      "text/plain": [
       "ID                    0\n",
       "vendor_id             0\n",
       "pickup_loc            0\n",
       "drop_loc              0\n",
       "driver_tip            0\n",
       "mta_tax               0\n",
       "distance              0\n",
       "pickup_time           0\n",
       "drop_time             0\n",
       "num_passengers        0\n",
       "toll_amount           0\n",
       "payment_method        0\n",
       "rate_code             0\n",
       "stored_flag           0\n",
       "extra_charges         0\n",
       "improvement_charge    0\n",
       "total_amount          0\n",
       "dtype: int64"
      ]
     },
     "execution_count": 19,
     "metadata": {},
     "output_type": "execute_result"
    }
   ],
   "source": [
    "d1_u1.isnull().sum()   #no null value left"
   ]
  },
  {
   "cell_type": "code",
   "execution_count": 20,
   "metadata": {
    "colab": {},
    "colab_type": "code",
    "id": "MbAf3YPR5J3t"
   },
   "outputs": [
    {
     "name": "stderr",
     "output_type": "stream",
     "text": [
      "C:\\Users\\Vedant Kale\\Anaconda3\\lib\\site-packages\\IPython\\core\\interactiveshell.py:3325: FutureWarning: Passing timedelta64-dtype data is deprecated, will raise a TypeError in a future version\n",
      "  exec(code_obj, self.user_global_ns, self.user_ns)\n"
     ]
    }
   ],
   "source": [
    "# pickup_time and drop_time are object type so converting them to datetime type\n",
    "d1_u1['pickup_time'] = pd.to_datetime(d1_u1['pickup_time'])\n",
    "d1_u1['drop_time'] = pd.to_datetime(d1_u1['drop_time'])\n",
    "\n",
    "# calculating time difference and adding a column time_diff\n",
    "d1_u1['time_diff'] = d1_u1['drop_time']-d1_u1['pickup_time'] \n",
    "d1_u1['time_diff'] = pd.to_datetime(d1_u1['time_diff'])"
   ]
  },
  {
   "cell_type": "code",
   "execution_count": 21,
   "metadata": {
    "colab": {
     "base_uri": "https://localhost:8080/",
     "height": 72
    },
    "colab_type": "code",
    "executionInfo": {
     "elapsed": 395927,
     "status": "ok",
     "timestamp": 1568433956373,
     "user": {
      "displayName": "vedant kale",
      "photoUrl": "https://lh3.googleusercontent.com/a-/AAuE7mCDab_KFU1MHWEjRsQP-6z1fyiPUiZjRxo9hWUi2w=s64",
      "userId": "16040215375828489081"
     },
     "user_tz": -330
    },
    "id": "fh7sYeia5J3x",
    "outputId": "e5c2ba0f-1934-47cd-fb3c-7243f5940e59"
   },
   "outputs": [],
   "source": [
    "# converting time_diff to minutes\n",
    "\n",
    "d1_u1['journey_duration'] = d1_u1['time_diff'].dt.hour*60 + d1_u1['time_diff'].dt.minute + (d1_u1['time_diff'].dt.second)/60 "
   ]
  },
  {
   "cell_type": "code",
   "execution_count": 22,
   "metadata": {},
   "outputs": [],
   "source": [
    "# Converting object type to float for ease of computation\n",
    "\n",
    "d1_u1['driver_tip'] = d1_u1['driver_tip'].astype('float')\n",
    "d1_u1['mta_tax'] = d1_u1['mta_tax'].astype('float')\n",
    "d1_u1['toll_amount'] = d1_u1['toll_amount'].astype('float')\n",
    "d1_u1['extra_charges'] = d1_u1['extra_charges'].astype('float')\n",
    "d1_u1['improvement_charge'] = d1_u1['improvement_charge'].astype('float')\n",
    "d1_u1['total_amount'] = d1_u1['total_amount'].astype('float')"
   ]
  },
  {
   "cell_type": "code",
   "execution_count": 23,
   "metadata": {},
   "outputs": [],
   "source": [
    "d1_u1['loc_diff']=d1_u1['drop_loc']-d1_u1['pickup_loc']"
   ]
  },
  {
   "cell_type": "code",
   "execution_count": 24,
   "metadata": {},
   "outputs": [
    {
     "name": "stdout",
     "output_type": "stream",
     "text": [
      "<class 'pandas.core.frame.DataFrame'>\n",
      "RangeIndex: 1048575 entries, 0 to 1048574\n",
      "Data columns (total 20 columns):\n",
      "ID                    1048575 non-null int64\n",
      "vendor_id             1048575 non-null float64\n",
      "pickup_loc            1048575 non-null float64\n",
      "drop_loc              1048575 non-null float64\n",
      "driver_tip            1048575 non-null float64\n",
      "mta_tax               1048575 non-null float64\n",
      "distance              1048575 non-null float64\n",
      "pickup_time           1048575 non-null datetime64[ns]\n",
      "drop_time             1048575 non-null datetime64[ns]\n",
      "num_passengers        1048575 non-null float64\n",
      "toll_amount           1048575 non-null float64\n",
      "payment_method        1048575 non-null float64\n",
      "rate_code             1048575 non-null float64\n",
      "stored_flag           1048575 non-null int64\n",
      "extra_charges         1048575 non-null float64\n",
      "improvement_charge    1048575 non-null float64\n",
      "total_amount          1048575 non-null float64\n",
      "time_diff             1048575 non-null datetime64[ns]\n",
      "journey_duration      1048575 non-null float64\n",
      "loc_diff              1048575 non-null float64\n",
      "dtypes: datetime64[ns](3), float64(15), int64(2)\n",
      "memory usage: 160.0 MB\n"
     ]
    }
   ],
   "source": [
    "d1_u1.info()"
   ]
  },
  {
   "cell_type": "code",
   "execution_count": 25,
   "metadata": {},
   "outputs": [
    {
     "data": {
      "text/html": [
       "<div>\n",
       "<style scoped>\n",
       "    .dataframe tbody tr th:only-of-type {\n",
       "        vertical-align: middle;\n",
       "    }\n",
       "\n",
       "    .dataframe tbody tr th {\n",
       "        vertical-align: top;\n",
       "    }\n",
       "\n",
       "    .dataframe thead th {\n",
       "        text-align: right;\n",
       "    }\n",
       "</style>\n",
       "<table border=\"1\" class=\"dataframe\">\n",
       "  <thead>\n",
       "    <tr style=\"text-align: right;\">\n",
       "      <th></th>\n",
       "      <th>ID</th>\n",
       "      <th>vendor_id</th>\n",
       "      <th>pickup_loc</th>\n",
       "      <th>drop_loc</th>\n",
       "      <th>driver_tip</th>\n",
       "      <th>mta_tax</th>\n",
       "      <th>distance</th>\n",
       "      <th>pickup_time</th>\n",
       "      <th>drop_time</th>\n",
       "      <th>num_passengers</th>\n",
       "      <th>toll_amount</th>\n",
       "      <th>payment_method</th>\n",
       "      <th>rate_code</th>\n",
       "      <th>stored_flag</th>\n",
       "      <th>extra_charges</th>\n",
       "      <th>improvement_charge</th>\n",
       "      <th>total_amount</th>\n",
       "      <th>time_diff</th>\n",
       "      <th>journey_duration</th>\n",
       "      <th>loc_diff</th>\n",
       "    </tr>\n",
       "  </thead>\n",
       "  <tbody>\n",
       "    <tr>\n",
       "      <th>0</th>\n",
       "      <td>0</td>\n",
       "      <td>1.0</td>\n",
       "      <td>170.0</td>\n",
       "      <td>233.0</td>\n",
       "      <td>1.83</td>\n",
       "      <td>0.5</td>\n",
       "      <td>0.70</td>\n",
       "      <td>2017-04-04 17:59:43</td>\n",
       "      <td>2017-04-04 18:05:04</td>\n",
       "      <td>1.0</td>\n",
       "      <td>0.0</td>\n",
       "      <td>1.0</td>\n",
       "      <td>1.0</td>\n",
       "      <td>0</td>\n",
       "      <td>1.0</td>\n",
       "      <td>0.3</td>\n",
       "      <td>9.13</td>\n",
       "      <td>1970-01-01 00:05:21</td>\n",
       "      <td>5.350000</td>\n",
       "      <td>63.0</td>\n",
       "    </tr>\n",
       "    <tr>\n",
       "      <th>1</th>\n",
       "      <td>1</td>\n",
       "      <td>2.0</td>\n",
       "      <td>151.0</td>\n",
       "      <td>243.0</td>\n",
       "      <td>3.56</td>\n",
       "      <td>0.5</td>\n",
       "      <td>4.64</td>\n",
       "      <td>2017-04-03 19:03:34</td>\n",
       "      <td>2017-04-03 19:20:04</td>\n",
       "      <td>1.0</td>\n",
       "      <td>0.0</td>\n",
       "      <td>1.0</td>\n",
       "      <td>1.0</td>\n",
       "      <td>0</td>\n",
       "      <td>1.0</td>\n",
       "      <td>0.3</td>\n",
       "      <td>21.36</td>\n",
       "      <td>1970-01-01 00:16:30</td>\n",
       "      <td>16.500000</td>\n",
       "      <td>92.0</td>\n",
       "    </tr>\n",
       "    <tr>\n",
       "      <th>2</th>\n",
       "      <td>2</td>\n",
       "      <td>2.0</td>\n",
       "      <td>68.0</td>\n",
       "      <td>90.0</td>\n",
       "      <td>1.50</td>\n",
       "      <td>0.5</td>\n",
       "      <td>1.29</td>\n",
       "      <td>2017-04-03 15:06:13</td>\n",
       "      <td>2017-04-03 15:12:30</td>\n",
       "      <td>2.0</td>\n",
       "      <td>0.0</td>\n",
       "      <td>1.0</td>\n",
       "      <td>1.0</td>\n",
       "      <td>0</td>\n",
       "      <td>0.0</td>\n",
       "      <td>0.3</td>\n",
       "      <td>8.80</td>\n",
       "      <td>1970-01-01 00:06:17</td>\n",
       "      <td>6.283333</td>\n",
       "      <td>22.0</td>\n",
       "    </tr>\n",
       "    <tr>\n",
       "      <th>3</th>\n",
       "      <td>3</td>\n",
       "      <td>2.0</td>\n",
       "      <td>142.0</td>\n",
       "      <td>234.0</td>\n",
       "      <td>1.50</td>\n",
       "      <td>0.5</td>\n",
       "      <td>2.74</td>\n",
       "      <td>2017-04-04 08:10:52</td>\n",
       "      <td>2017-04-04 08:27:00</td>\n",
       "      <td>1.0</td>\n",
       "      <td>0.0</td>\n",
       "      <td>1.0</td>\n",
       "      <td>1.0</td>\n",
       "      <td>0</td>\n",
       "      <td>0.0</td>\n",
       "      <td>0.3</td>\n",
       "      <td>14.80</td>\n",
       "      <td>1970-01-01 00:16:08</td>\n",
       "      <td>16.133333</td>\n",
       "      <td>92.0</td>\n",
       "    </tr>\n",
       "    <tr>\n",
       "      <th>4</th>\n",
       "      <td>4</td>\n",
       "      <td>2.0</td>\n",
       "      <td>238.0</td>\n",
       "      <td>238.0</td>\n",
       "      <td>0.00</td>\n",
       "      <td>0.5</td>\n",
       "      <td>0.45</td>\n",
       "      <td>2017-04-05 14:02:59</td>\n",
       "      <td>2017-04-05 14:05:41</td>\n",
       "      <td>6.0</td>\n",
       "      <td>0.0</td>\n",
       "      <td>2.0</td>\n",
       "      <td>1.0</td>\n",
       "      <td>0</td>\n",
       "      <td>0.0</td>\n",
       "      <td>0.3</td>\n",
       "      <td>4.80</td>\n",
       "      <td>1970-01-01 00:02:42</td>\n",
       "      <td>2.700000</td>\n",
       "      <td>0.0</td>\n",
       "    </tr>\n",
       "  </tbody>\n",
       "</table>\n",
       "</div>"
      ],
      "text/plain": [
       "   ID  vendor_id  pickup_loc  drop_loc  driver_tip  mta_tax  distance  \\\n",
       "0   0        1.0       170.0     233.0        1.83      0.5      0.70   \n",
       "1   1        2.0       151.0     243.0        3.56      0.5      4.64   \n",
       "2   2        2.0        68.0      90.0        1.50      0.5      1.29   \n",
       "3   3        2.0       142.0     234.0        1.50      0.5      2.74   \n",
       "4   4        2.0       238.0     238.0        0.00      0.5      0.45   \n",
       "\n",
       "          pickup_time           drop_time  num_passengers  toll_amount  \\\n",
       "0 2017-04-04 17:59:43 2017-04-04 18:05:04             1.0          0.0   \n",
       "1 2017-04-03 19:03:34 2017-04-03 19:20:04             1.0          0.0   \n",
       "2 2017-04-03 15:06:13 2017-04-03 15:12:30             2.0          0.0   \n",
       "3 2017-04-04 08:10:52 2017-04-04 08:27:00             1.0          0.0   \n",
       "4 2017-04-05 14:02:59 2017-04-05 14:05:41             6.0          0.0   \n",
       "\n",
       "   payment_method  rate_code  stored_flag  extra_charges  improvement_charge  \\\n",
       "0             1.0        1.0            0            1.0                 0.3   \n",
       "1             1.0        1.0            0            1.0                 0.3   \n",
       "2             1.0        1.0            0            0.0                 0.3   \n",
       "3             1.0        1.0            0            0.0                 0.3   \n",
       "4             2.0        1.0            0            0.0                 0.3   \n",
       "\n",
       "   total_amount           time_diff  journey_duration  loc_diff  \n",
       "0          9.13 1970-01-01 00:05:21          5.350000      63.0  \n",
       "1         21.36 1970-01-01 00:16:30         16.500000      92.0  \n",
       "2          8.80 1970-01-01 00:06:17          6.283333      22.0  \n",
       "3         14.80 1970-01-01 00:16:08         16.133333      92.0  \n",
       "4          4.80 1970-01-01 00:02:42          2.700000       0.0  "
      ]
     },
     "execution_count": 25,
     "metadata": {},
     "output_type": "execute_result"
    }
   ],
   "source": [
    "d1_u1.head()"
   ]
  },
  {
   "cell_type": "markdown",
   "metadata": {},
   "source": [
    "### Loading Test Data"
   ]
  },
  {
   "cell_type": "code",
   "execution_count": 26,
   "metadata": {
    "colab": {
     "base_uri": "https://localhost:8080/",
     "height": 390
    },
    "colab_type": "code",
    "executionInfo": {
     "elapsed": 397289,
     "status": "ok",
     "timestamp": 1568433957752,
     "user": {
      "displayName": "vedant kale",
      "photoUrl": "https://lh3.googleusercontent.com/a-/AAuE7mCDab_KFU1MHWEjRsQP-6z1fyiPUiZjRxo9hWUi2w=s64",
      "userId": "16040215375828489081"
     },
     "user_tz": -330
    },
    "id": "UcSUpblW5J34",
    "outputId": "668b5cf9-922f-4c33-a251-d5472fd7f080"
   },
   "outputs": [
    {
     "name": "stdout",
     "output_type": "stream",
     "text": [
      "<class 'pandas.core.frame.DataFrame'>\n",
      "RangeIndex: 154235 entries, 0 to 154234\n",
      "Data columns (total 16 columns):\n",
      "ID                    154235 non-null int64\n",
      "vendor_id             154235 non-null int64\n",
      "pickup_loc            154235 non-null float64\n",
      "drop_loc              154235 non-null float64\n",
      "driver_tip            154235 non-null float64\n",
      "mta_tax               154235 non-null float64\n",
      "distance              154235 non-null float64\n",
      "pickup_time           154235 non-null object\n",
      "drop_time             154235 non-null object\n",
      "num_passengers        154235 non-null float64\n",
      "toll_amount           154235 non-null float64\n",
      "payment_method        154235 non-null float64\n",
      "rate_code             154235 non-null float64\n",
      "stored_flag           154235 non-null object\n",
      "extra_charges         154235 non-null float64\n",
      "improvement_charge    154235 non-null float64\n",
      "dtypes: float64(11), int64(2), object(3)\n",
      "memory usage: 18.8+ MB\n"
     ]
    }
   ],
   "source": [
    "d2 = pd.read_csv('chola_test.csv')\n",
    "d2.info()"
   ]
  },
  {
   "cell_type": "code",
   "execution_count": 27,
   "metadata": {
    "colab": {
     "base_uri": "https://localhost:8080/",
     "height": 318
    },
    "colab_type": "code",
    "executionInfo": {
     "elapsed": 397277,
     "status": "ok",
     "timestamp": 1568433957754,
     "user": {
      "displayName": "vedant kale",
      "photoUrl": "https://lh3.googleusercontent.com/a-/AAuE7mCDab_KFU1MHWEjRsQP-6z1fyiPUiZjRxo9hWUi2w=s64",
      "userId": "16040215375828489081"
     },
     "user_tz": -330
    },
    "id": "DUzsHa3d5J36",
    "outputId": "8f7082bf-a842-4801-c4b3-1c1c4414ad72"
   },
   "outputs": [
    {
     "data": {
      "text/plain": [
       "ID                    0\n",
       "vendor_id             0\n",
       "pickup_loc            0\n",
       "drop_loc              0\n",
       "driver_tip            0\n",
       "mta_tax               0\n",
       "distance              0\n",
       "pickup_time           0\n",
       "drop_time             0\n",
       "num_passengers        0\n",
       "toll_amount           0\n",
       "payment_method        0\n",
       "rate_code             0\n",
       "stored_flag           0\n",
       "extra_charges         0\n",
       "improvement_charge    0\n",
       "dtype: int64"
      ]
     },
     "execution_count": 27,
     "metadata": {},
     "output_type": "execute_result"
    }
   ],
   "source": [
    "d2.isnull().sum() # No Null values, so no data cleaning required "
   ]
  },
  {
   "cell_type": "markdown",
   "metadata": {},
   "source": [
    "### Manipulating Train Data"
   ]
  },
  {
   "cell_type": "code",
   "execution_count": 28,
   "metadata": {
    "colab": {
     "base_uri": "https://localhost:8080/",
     "height": 72
    },
    "colab_type": "code",
    "executionInfo": {
     "elapsed": 446809,
     "status": "ok",
     "timestamp": 1568434007299,
     "user": {
      "displayName": "vedant kale",
      "photoUrl": "https://lh3.googleusercontent.com/a-/AAuE7mCDab_KFU1MHWEjRsQP-6z1fyiPUiZjRxo9hWUi2w=s64",
      "userId": "16040215375828489081"
     },
     "user_tz": -330
    },
    "id": "0Xq9vwn95J39",
    "outputId": "efb0df29-8adc-4880-9e3a-a0f1dcf97f76"
   },
   "outputs": [],
   "source": [
    "# pickup_time and drop_time are object type so converting them to datetime type\n",
    "\n",
    "d2['pickup_time'] = pd.to_datetime(d2['pickup_time'])\n",
    "d2['drop_time'] = pd.to_datetime(d2['drop_time'])\n",
    "\n",
    "# calculating time difference and adding a column time_diff\n",
    "d2['time_diff'] = d2['drop_time']-d2['pickup_time'] \n",
    "d2['time_diff'] = pd.to_datetime(d2['time_diff'])\n",
    "\n",
    "# Converting object type to float for ease of computation\n",
    "d2['journey_duration'] = d2['time_diff'].dt.hour*60 + d2['time_diff'].dt.minute + (d2['time_diff'].dt.second)/60 "
   ]
  },
  {
   "cell_type": "code",
   "execution_count": 29,
   "metadata": {
    "colab": {},
    "colab_type": "code",
    "id": "FMhf7uY35J4A"
   },
   "outputs": [],
   "source": [
    "# replacing N,Y values in stored flag wit 0,1 for ease of computation\n",
    "\n",
    "d2['stored_flag']=d2['stored_flag'].replace(to_replace='N', value=0, regex=True)\n",
    "d2['stored_flag']=d2['stored_flag'].replace(to_replace='Y', value=1, regex=True)    "
   ]
  },
  {
   "cell_type": "code",
   "execution_count": 30,
   "metadata": {},
   "outputs": [],
   "source": [
    "d2['loc_diff']=d2['drop_loc']-d2['pickup_loc']"
   ]
  },
  {
   "cell_type": "code",
   "execution_count": 31,
   "metadata": {
    "colab": {
     "base_uri": "https://localhost:8080/",
     "height": 384
    },
    "colab_type": "code",
    "executionInfo": {
     "elapsed": 446794,
     "status": "ok",
     "timestamp": 1568434007301,
     "user": {
      "displayName": "vedant kale",
      "photoUrl": "https://lh3.googleusercontent.com/a-/AAuE7mCDab_KFU1MHWEjRsQP-6z1fyiPUiZjRxo9hWUi2w=s64",
      "userId": "16040215375828489081"
     },
     "user_tz": -330
    },
    "id": "UzyB2NtL5J4D",
    "outputId": "0ca89c34-db07-480f-aef8-2d8053bd898d"
   },
   "outputs": [
    {
     "data": {
      "text/html": [
       "<div>\n",
       "<style scoped>\n",
       "    .dataframe tbody tr th:only-of-type {\n",
       "        vertical-align: middle;\n",
       "    }\n",
       "\n",
       "    .dataframe tbody tr th {\n",
       "        vertical-align: top;\n",
       "    }\n",
       "\n",
       "    .dataframe thead th {\n",
       "        text-align: right;\n",
       "    }\n",
       "</style>\n",
       "<table border=\"1\" class=\"dataframe\">\n",
       "  <thead>\n",
       "    <tr style=\"text-align: right;\">\n",
       "      <th></th>\n",
       "      <th>ID</th>\n",
       "      <th>vendor_id</th>\n",
       "      <th>pickup_loc</th>\n",
       "      <th>drop_loc</th>\n",
       "      <th>driver_tip</th>\n",
       "      <th>mta_tax</th>\n",
       "      <th>distance</th>\n",
       "      <th>pickup_time</th>\n",
       "      <th>drop_time</th>\n",
       "      <th>num_passengers</th>\n",
       "      <th>toll_amount</th>\n",
       "      <th>payment_method</th>\n",
       "      <th>rate_code</th>\n",
       "      <th>stored_flag</th>\n",
       "      <th>extra_charges</th>\n",
       "      <th>improvement_charge</th>\n",
       "      <th>time_diff</th>\n",
       "      <th>journey_duration</th>\n",
       "      <th>loc_diff</th>\n",
       "    </tr>\n",
       "  </thead>\n",
       "  <tbody>\n",
       "    <tr>\n",
       "      <th>0</th>\n",
       "      <td>0</td>\n",
       "      <td>1</td>\n",
       "      <td>68.0</td>\n",
       "      <td>186.0</td>\n",
       "      <td>1.00</td>\n",
       "      <td>0.5</td>\n",
       "      <td>0.70</td>\n",
       "      <td>2017-04-05 05:49:46</td>\n",
       "      <td>2017-04-05 05:54:03</td>\n",
       "      <td>1.0</td>\n",
       "      <td>0.0</td>\n",
       "      <td>1.0</td>\n",
       "      <td>1.0</td>\n",
       "      <td>0</td>\n",
       "      <td>0.5</td>\n",
       "      <td>0.3</td>\n",
       "      <td>1970-01-01 00:04:17</td>\n",
       "      <td>4.283333</td>\n",
       "      <td>118.0</td>\n",
       "    </tr>\n",
       "    <tr>\n",
       "      <th>1</th>\n",
       "      <td>1</td>\n",
       "      <td>1</td>\n",
       "      <td>170.0</td>\n",
       "      <td>161.0</td>\n",
       "      <td>2.55</td>\n",
       "      <td>0.5</td>\n",
       "      <td>1.00</td>\n",
       "      <td>2017-04-07 08:57:27</td>\n",
       "      <td>2017-04-07 09:16:00</td>\n",
       "      <td>1.0</td>\n",
       "      <td>0.0</td>\n",
       "      <td>1.0</td>\n",
       "      <td>1.0</td>\n",
       "      <td>0</td>\n",
       "      <td>0.0</td>\n",
       "      <td>0.3</td>\n",
       "      <td>1970-01-01 00:18:33</td>\n",
       "      <td>18.550000</td>\n",
       "      <td>-9.0</td>\n",
       "    </tr>\n",
       "    <tr>\n",
       "      <th>2</th>\n",
       "      <td>2</td>\n",
       "      <td>2</td>\n",
       "      <td>13.0</td>\n",
       "      <td>246.0</td>\n",
       "      <td>2.96</td>\n",
       "      <td>0.5</td>\n",
       "      <td>3.35</td>\n",
       "      <td>2017-04-06 08:06:41</td>\n",
       "      <td>2017-04-06 08:21:33</td>\n",
       "      <td>2.0</td>\n",
       "      <td>0.0</td>\n",
       "      <td>1.0</td>\n",
       "      <td>1.0</td>\n",
       "      <td>0</td>\n",
       "      <td>0.0</td>\n",
       "      <td>0.3</td>\n",
       "      <td>1970-01-01 00:14:52</td>\n",
       "      <td>14.866667</td>\n",
       "      <td>233.0</td>\n",
       "    </tr>\n",
       "    <tr>\n",
       "      <th>3</th>\n",
       "      <td>3</td>\n",
       "      <td>1</td>\n",
       "      <td>170.0</td>\n",
       "      <td>233.0</td>\n",
       "      <td>2.00</td>\n",
       "      <td>0.5</td>\n",
       "      <td>0.80</td>\n",
       "      <td>2017-04-04 08:31:34</td>\n",
       "      <td>2017-04-04 08:37:21</td>\n",
       "      <td>2.0</td>\n",
       "      <td>0.0</td>\n",
       "      <td>1.0</td>\n",
       "      <td>1.0</td>\n",
       "      <td>0</td>\n",
       "      <td>0.0</td>\n",
       "      <td>0.3</td>\n",
       "      <td>1970-01-01 00:05:47</td>\n",
       "      <td>5.783333</td>\n",
       "      <td>63.0</td>\n",
       "    </tr>\n",
       "    <tr>\n",
       "      <th>4</th>\n",
       "      <td>4</td>\n",
       "      <td>1</td>\n",
       "      <td>237.0</td>\n",
       "      <td>236.0</td>\n",
       "      <td>1.00</td>\n",
       "      <td>0.5</td>\n",
       "      <td>0.70</td>\n",
       "      <td>2017-04-07 10:54:06</td>\n",
       "      <td>2017-04-07 11:00:59</td>\n",
       "      <td>1.0</td>\n",
       "      <td>0.0</td>\n",
       "      <td>1.0</td>\n",
       "      <td>1.0</td>\n",
       "      <td>1</td>\n",
       "      <td>0.0</td>\n",
       "      <td>0.3</td>\n",
       "      <td>1970-01-01 00:06:53</td>\n",
       "      <td>6.883333</td>\n",
       "      <td>-1.0</td>\n",
       "    </tr>\n",
       "  </tbody>\n",
       "</table>\n",
       "</div>"
      ],
      "text/plain": [
       "   ID  vendor_id  pickup_loc  drop_loc  driver_tip  mta_tax  distance  \\\n",
       "0   0          1        68.0     186.0        1.00      0.5      0.70   \n",
       "1   1          1       170.0     161.0        2.55      0.5      1.00   \n",
       "2   2          2        13.0     246.0        2.96      0.5      3.35   \n",
       "3   3          1       170.0     233.0        2.00      0.5      0.80   \n",
       "4   4          1       237.0     236.0        1.00      0.5      0.70   \n",
       "\n",
       "          pickup_time           drop_time  num_passengers  toll_amount  \\\n",
       "0 2017-04-05 05:49:46 2017-04-05 05:54:03             1.0          0.0   \n",
       "1 2017-04-07 08:57:27 2017-04-07 09:16:00             1.0          0.0   \n",
       "2 2017-04-06 08:06:41 2017-04-06 08:21:33             2.0          0.0   \n",
       "3 2017-04-04 08:31:34 2017-04-04 08:37:21             2.0          0.0   \n",
       "4 2017-04-07 10:54:06 2017-04-07 11:00:59             1.0          0.0   \n",
       "\n",
       "   payment_method  rate_code  stored_flag  extra_charges  improvement_charge  \\\n",
       "0             1.0        1.0            0            0.5                 0.3   \n",
       "1             1.0        1.0            0            0.0                 0.3   \n",
       "2             1.0        1.0            0            0.0                 0.3   \n",
       "3             1.0        1.0            0            0.0                 0.3   \n",
       "4             1.0        1.0            1            0.0                 0.3   \n",
       "\n",
       "            time_diff  journey_duration  loc_diff  \n",
       "0 1970-01-01 00:04:17          4.283333     118.0  \n",
       "1 1970-01-01 00:18:33         18.550000      -9.0  \n",
       "2 1970-01-01 00:14:52         14.866667     233.0  \n",
       "3 1970-01-01 00:05:47          5.783333      63.0  \n",
       "4 1970-01-01 00:06:53          6.883333      -1.0  "
      ]
     },
     "execution_count": 31,
     "metadata": {},
     "output_type": "execute_result"
    }
   ],
   "source": [
    "d2.head()"
   ]
  },
  {
   "cell_type": "markdown",
   "metadata": {},
   "source": [
    "### Creating X_train, X_test, Y_train from d1_u1 and d2"
   ]
  },
  {
   "cell_type": "code",
   "execution_count": 32,
   "metadata": {},
   "outputs": [
    {
     "data": {
      "text/plain": [
       "Index(['ID', 'vendor_id', 'pickup_loc', 'drop_loc', 'driver_tip', 'mta_tax',\n",
       "       'distance', 'pickup_time', 'drop_time', 'num_passengers', 'toll_amount',\n",
       "       'payment_method', 'rate_code', 'stored_flag', 'extra_charges',\n",
       "       'improvement_charge', 'time_diff', 'journey_duration', 'loc_diff'],\n",
       "      dtype='object')"
      ]
     },
     "execution_count": 32,
     "metadata": {},
     "output_type": "execute_result"
    }
   ],
   "source": [
    "d2.columns"
   ]
  },
  {
   "cell_type": "code",
   "execution_count": 33,
   "metadata": {
    "colab": {
     "base_uri": "https://localhost:8080/",
     "height": 34
    },
    "colab_type": "code",
    "executionInfo": {
     "elapsed": 446779,
     "status": "ok",
     "timestamp": 1568434007302,
     "user": {
      "displayName": "vedant kale",
      "photoUrl": "https://lh3.googleusercontent.com/a-/AAuE7mCDab_KFU1MHWEjRsQP-6z1fyiPUiZjRxo9hWUi2w=s64",
      "userId": "16040215375828489081"
     },
     "user_tz": -330
    },
    "id": "nZJuIka45J4F",
    "outputId": "42b5ee94-2b08-43b4-de67-679485fb63ce"
   },
   "outputs": [
    {
     "data": {
      "text/plain": [
       "(1048575, 15)"
      ]
     },
     "execution_count": 33,
     "metadata": {},
     "output_type": "execute_result"
    }
   ],
   "source": [
    "# taking all columns of d1_u1 except ID in X_train\n",
    "X_train = d1_u1[['vendor_id', 'pickup_loc', 'drop_loc', 'driver_tip', 'mta_tax',\n",
    "       'distance', 'num_passengers', 'toll_amount',\n",
    "       'payment_method', 'rate_code', 'stored_flag', 'extra_charges',\n",
    "       'improvement_charge', 'journey_duration', 'loc_diff']]\n",
    "X_train.shape"
   ]
  },
  {
   "cell_type": "code",
   "execution_count": 34,
   "metadata": {
    "colab": {
     "base_uri": "https://localhost:8080/",
     "height": 34
    },
    "colab_type": "code",
    "executionInfo": {
     "elapsed": 446765,
     "status": "ok",
     "timestamp": 1568434007302,
     "user": {
      "displayName": "vedant kale",
      "photoUrl": "https://lh3.googleusercontent.com/a-/AAuE7mCDab_KFU1MHWEjRsQP-6z1fyiPUiZjRxo9hWUi2w=s64",
      "userId": "16040215375828489081"
     },
     "user_tz": -330
    },
    "id": "AyLI8PMy5J4H",
    "outputId": "b9e82df3-902d-42c0-c1b0-5613c0d9e409"
   },
   "outputs": [
    {
     "data": {
      "text/plain": [
       "(1048575,)"
      ]
     },
     "execution_count": 34,
     "metadata": {},
     "output_type": "execute_result"
    }
   ],
   "source": [
    "# total_amount is taken as output and stored in Y_train\n",
    "Y_train = d1_u1['total_amount']\n",
    "Y_train.shape"
   ]
  },
  {
   "cell_type": "code",
   "execution_count": 35,
   "metadata": {
    "colab": {
     "base_uri": "https://localhost:8080/",
     "height": 34
    },
    "colab_type": "code",
    "executionInfo": {
     "elapsed": 447139,
     "status": "ok",
     "timestamp": 1568434007703,
     "user": {
      "displayName": "vedant kale",
      "photoUrl": "https://lh3.googleusercontent.com/a-/AAuE7mCDab_KFU1MHWEjRsQP-6z1fyiPUiZjRxo9hWUi2w=s64",
      "userId": "16040215375828489081"
     },
     "user_tz": -330
    },
    "id": "SZa6TBOb5J4M",
    "outputId": "1f6f3a3a-3d7d-41fa-c7cc-7a243af3930c"
   },
   "outputs": [
    {
     "data": {
      "text/plain": [
       "(154235, 15)"
      ]
     },
     "execution_count": 35,
     "metadata": {},
     "output_type": "execute_result"
    }
   ],
   "source": [
    "# taking all columns of d2 except ID in X_test\n",
    "X_test = d2[['vendor_id', 'pickup_loc', 'drop_loc', 'driver_tip', 'mta_tax',\n",
    "       'distance', 'num_passengers', 'toll_amount',\n",
    "       'payment_method', 'rate_code', 'stored_flag', 'extra_charges',\n",
    "       'improvement_charge', 'journey_duration', 'loc_diff']]\n",
    "X_test.shape"
   ]
  },
  {
   "cell_type": "code",
   "execution_count": 36,
   "metadata": {
    "colab": {
     "base_uri": "https://localhost:8080/",
     "height": 354
    },
    "colab_type": "code",
    "executionInfo": {
     "elapsed": 447595,
     "status": "ok",
     "timestamp": 1568434008184,
     "user": {
      "displayName": "vedant kale",
      "photoUrl": "https://lh3.googleusercontent.com/a-/AAuE7mCDab_KFU1MHWEjRsQP-6z1fyiPUiZjRxo9hWUi2w=s64",
      "userId": "16040215375828489081"
     },
     "user_tz": -330
    },
    "id": "2t9AEtS21Zmk",
    "outputId": "acf86f4b-3eef-4085-8070-0cc856f95e9c"
   },
   "outputs": [
    {
     "name": "stdout",
     "output_type": "stream",
     "text": [
      "<class 'pandas.core.frame.DataFrame'>\n",
      "RangeIndex: 1048575 entries, 0 to 1048574\n",
      "Data columns (total 15 columns):\n",
      "vendor_id             1048575 non-null float64\n",
      "pickup_loc            1048575 non-null float64\n",
      "drop_loc              1048575 non-null float64\n",
      "driver_tip            1048575 non-null float64\n",
      "mta_tax               1048575 non-null float64\n",
      "distance              1048575 non-null float64\n",
      "num_passengers        1048575 non-null float64\n",
      "toll_amount           1048575 non-null float64\n",
      "payment_method        1048575 non-null float64\n",
      "rate_code             1048575 non-null float64\n",
      "stored_flag           1048575 non-null int64\n",
      "extra_charges         1048575 non-null float64\n",
      "improvement_charge    1048575 non-null float64\n",
      "journey_duration      1048575 non-null float64\n",
      "loc_diff              1048575 non-null float64\n",
      "dtypes: float64(14), int64(1)\n",
      "memory usage: 120.0 MB\n"
     ]
    },
    {
     "data": {
      "text/plain": [
       "(None, count    1.048575e+06\n",
       " mean     1.622720e+01\n",
       " std      1.508591e+01\n",
       " min      0.000000e+00\n",
       " 25%      8.500000e+00\n",
       " 50%      1.176000e+01\n",
       " 75%      1.775000e+01\n",
       " max      2.759370e+03\n",
       " Name: total_amount, dtype: float64)"
      ]
     },
     "execution_count": 36,
     "metadata": {},
     "output_type": "execute_result"
    }
   ],
   "source": [
    "X_train.info(), Y_train.describe()"
   ]
  },
  {
   "cell_type": "markdown",
   "metadata": {},
   "source": [
    "### Data Visualization"
   ]
  },
  {
   "cell_type": "code",
   "execution_count": 37,
   "metadata": {
    "colab": {
     "base_uri": "https://localhost:8080/",
     "height": 301
    },
    "colab_type": "code",
    "executionInfo": {
     "elapsed": 480207,
     "status": "ok",
     "timestamp": 1568434040839,
     "user": {
      "displayName": "vedant kale",
      "photoUrl": "https://lh3.googleusercontent.com/a-/AAuE7mCDab_KFU1MHWEjRsQP-6z1fyiPUiZjRxo9hWUi2w=s64",
      "userId": "16040215375828489081"
     },
     "user_tz": -330
    },
    "id": "_cgLkogHynai",
    "outputId": "cf25f2a1-11a6-4288-9c5e-096e42d75427"
   },
   "outputs": [
    {
     "data": {
      "text/plain": [
       "Text(0, 0.5, 'total_fare')"
      ]
     },
     "execution_count": 37,
     "metadata": {},
     "output_type": "execute_result"
    },
    {
     "data": {
      "image/png": "[encoded data removed]",
      "text/plain": [
       "<Figure size 432x288 with 1 Axes>"
      ]
     },
     "metadata": {
      "needs_background": "light"
     },
     "output_type": "display_data"
    }
   ],
   "source": [
    "# graph is ploted between pickup_loc and total_fare\n",
    "\n",
    "plt.scatter(X_train['pickup_loc'], Y_train)\n",
    "plt.xlabel('pickup_loc')\n",
    "plt.ylabel('total_fare')"
   ]
  },
  {
   "cell_type": "code",
   "execution_count": 38,
   "metadata": {
    "colab": {
     "base_uri": "https://localhost:8080/",
     "height": 301
    },
    "colab_type": "code",
    "executionInfo": {
     "elapsed": 480207,
     "status": "ok",
     "timestamp": 1568434040839,
     "user": {
      "displayName": "vedant kale",
      "photoUrl": "https://lh3.googleusercontent.com/a-/AAuE7mCDab_KFU1MHWEjRsQP-6z1fyiPUiZjRxo9hWUi2w=s64",
      "userId": "16040215375828489081"
     },
     "user_tz": -330
    },
    "id": "_cgLkogHynai",
    "outputId": "cf25f2a1-11a6-4288-9c5e-096e42d75427"
   },
   "outputs": [
    {
     "data": {
      "text/plain": [
       "Text(0, 0.5, 'total_fare')"
      ]
     },
     "execution_count": 38,
     "metadata": {},
     "output_type": "execute_result"
    },
    {
     "data": {
      "image/png": "[encoded data removed]",
      "text/plain": [
       "<Figure size 432x288 with 1 Axes>"
      ]
     },
     "metadata": {
      "needs_background": "light"
     },
     "output_type": "display_data"
    }
   ],
   "source": [
    "# graph is ploted between drop_loc and total_fare\n",
    "\n",
    "plt.scatter(X_train['drop_loc'], Y_train)\n",
    "plt.xlabel('drop_loc')\n",
    "plt.ylabel('total_fare')"
   ]
  },
  {
   "cell_type": "code",
   "execution_count": 39,
   "metadata": {
    "colab": {
     "base_uri": "https://localhost:8080/",
     "height": 301
    },
    "colab_type": "code",
    "executionInfo": {
     "elapsed": 480207,
     "status": "ok",
     "timestamp": 1568434040839,
     "user": {
      "displayName": "vedant kale",
      "photoUrl": "https://lh3.googleusercontent.com/a-/AAuE7mCDab_KFU1MHWEjRsQP-6z1fyiPUiZjRxo9hWUi2w=s64",
      "userId": "16040215375828489081"
     },
     "user_tz": -330
    },
    "id": "_cgLkogHynai",
    "outputId": "cf25f2a1-11a6-4288-9c5e-096e42d75427"
   },
   "outputs": [
    {
     "data": {
      "text/plain": [
       "Text(0, 0.5, 'total_fare')"
      ]
     },
     "execution_count": 39,
     "metadata": {},
     "output_type": "execute_result"
    },
    {
     "data": {
      "image/png": "[encoded data removed]",
      "text/plain": [
       "<Figure size 432x288 with 1 Axes>"
      ]
     },
     "metadata": {
      "needs_background": "light"
     },
     "output_type": "display_data"
    }
   ],
   "source": [
    "# graph is ploted between loc_diff and total_fare\n",
    "\n",
    "plt.scatter(X_train['loc_diff'], Y_train)\n",
    "plt.ylim(0,1000)\n",
    "plt.xlabel('loc_diff')\n",
    "plt.ylabel('total_fare')"
   ]
  },
  {
   "cell_type": "code",
   "execution_count": 40,
   "metadata": {
    "colab": {
     "base_uri": "https://localhost:8080/",
     "height": 300
    },
    "colab_type": "code",
    "executionInfo": {
     "elapsed": 490794,
     "status": "ok",
     "timestamp": 1568434051441,
     "user": {
      "displayName": "vedant kale",
      "photoUrl": "https://lh3.googleusercontent.com/a-/AAuE7mCDab_KFU1MHWEjRsQP-6z1fyiPUiZjRxo9hWUi2w=s64",
      "userId": "16040215375828489081"
     },
     "user_tz": -330
    },
    "id": "K29KSqbG78lm",
    "outputId": "f2cf6b93-6c83-41c3-f802-14c78526b3ea"
   },
   "outputs": [
    {
     "data": {
      "text/plain": [
       "Text(0, 0.5, 'total_fare')"
      ]
     },
     "execution_count": 40,
     "metadata": {},
     "output_type": "execute_result"
    },
    {
     "data": {
      "image/png": "[encoded data removed]",
      "text/plain": [
       "<Figure size 432x288 with 1 Axes>"
      ]
     },
     "metadata": {
      "needs_background": "light"
     },
     "output_type": "display_data"
    }
   ],
   "source": [
    "# graph is ploted between distance and total_fare\n",
    "\n",
    "plt.scatter(X_train['distance'], Y_train)\n",
    "plt.xlabel('distance')\n",
    "plt.xlim(0,85)\n",
    "plt.ylim(0,750)\n",
    "plt.ylabel('total_fare')"
   ]
  },
  {
   "cell_type": "code",
   "execution_count": 41,
   "metadata": {
    "colab": {
     "base_uri": "https://localhost:8080/",
     "height": 300
    },
    "colab_type": "code",
    "executionInfo": {
     "elapsed": 500819,
     "status": "ok",
     "timestamp": 1568434061479,
     "user": {
      "displayName": "vedant kale",
      "photoUrl": "https://lh3.googleusercontent.com/a-/AAuE7mCDab_KFU1MHWEjRsQP-6z1fyiPUiZjRxo9hWUi2w=s64",
      "userId": "16040215375828489081"
     },
     "user_tz": -330
    },
    "id": "3DurBC6678sz",
    "outputId": "4cb27791-5335-4592-d3c3-7218669692e7"
   },
   "outputs": [
    {
     "data": {
      "text/plain": [
       "Text(0, 0.5, 'total_fare')"
      ]
     },
     "execution_count": 41,
     "metadata": {},
     "output_type": "execute_result"
    },
    {
     "data": {
      "image/png": "[encoded data removed]",
      "text/plain": [
       "<Figure size 432x288 with 1 Axes>"
      ]
     },
     "metadata": {
      "needs_background": "light"
     },
     "output_type": "display_data"
    }
   ],
   "source": [
    "# graph is ploted between driver_tip and total_fare\n",
    "\n",
    "plt.scatter(X_train['driver_tip'], Y_train)\n",
    "plt.xlabel('driver_tip')\n",
    "plt.xlim(0,230)\n",
    "plt.ylim(0,750)\n",
    "plt.ylabel('total_fare')"
   ]
  },
  {
   "cell_type": "code",
   "execution_count": 42,
   "metadata": {
    "colab": {
     "base_uri": "https://localhost:8080/",
     "height": 300
    },
    "colab_type": "code",
    "executionInfo": {
     "elapsed": 511426,
     "status": "ok",
     "timestamp": 1568434072099,
     "user": {
      "displayName": "vedant kale",
      "photoUrl": "https://lh3.googleusercontent.com/a-/AAuE7mCDab_KFU1MHWEjRsQP-6z1fyiPUiZjRxo9hWUi2w=s64",
      "userId": "16040215375828489081"
     },
     "user_tz": -330
    },
    "id": "KMypb0eo78y3",
    "outputId": "c42ac250-a449-4cd5-8186-7e5d185ecf22"
   },
   "outputs": [
    {
     "data": {
      "text/plain": [
       "Text(0, 0.5, 'total_fare')"
      ]
     },
     "execution_count": 42,
     "metadata": {},
     "output_type": "execute_result"
    },
    {
     "data": {
      "image/png": "[encoded data removed]",
      "text/plain": [
       "<Figure size 432x288 with 1 Axes>"
      ]
     },
     "metadata": {
      "needs_background": "light"
     },
     "output_type": "display_data"
    }
   ],
   "source": [
    "# graph is ploted between mta_tax and total_fare\n",
    "\n",
    "plt.scatter(X_train['mta_tax'], Y_train)\n",
    "plt.xlabel('mta_tax')\n",
    "# plt.xlim(0,230)\n",
    "# plt.ylim(0,750)\n",
    "plt.ylabel('total_fare')"
   ]
  },
  {
   "cell_type": "code",
   "execution_count": 43,
   "metadata": {
    "colab": {
     "base_uri": "https://localhost:8080/",
     "height": 300
    },
    "colab_type": "code",
    "executionInfo": {
     "elapsed": 521921,
     "status": "ok",
     "timestamp": 1568434082607,
     "user": {
      "displayName": "vedant kale",
      "photoUrl": "https://lh3.googleusercontent.com/a-/AAuE7mCDab_KFU1MHWEjRsQP-6z1fyiPUiZjRxo9hWUi2w=s64",
      "userId": "16040215375828489081"
     },
     "user_tz": -330
    },
    "id": "wJn0GjhE788e",
    "outputId": "a947bce8-0512-4528-cad8-5cf5e51a76ed"
   },
   "outputs": [
    {
     "data": {
      "text/plain": [
       "Text(0, 0.5, 'total_fare')"
      ]
     },
     "execution_count": 43,
     "metadata": {},
     "output_type": "execute_result"
    },
    {
     "data": {
      "image/png": "[encoded data removed]",
      "text/plain": [
       "<Figure size 432x288 with 1 Axes>"
      ]
     },
     "metadata": {
      "needs_background": "light"
     },
     "output_type": "display_data"
    }
   ],
   "source": [
    "# graph is ploted between num_passengers and total_fare\n",
    "\n",
    "plt.scatter(X_train['num_passengers'], Y_train)\n",
    "plt.xlabel('num_passengers')\n",
    "plt.xlim(0,10)\n",
    "plt.ylim(0,850)\n",
    "plt.ylabel('total_fare')"
   ]
  },
  {
   "cell_type": "code",
   "execution_count": 44,
   "metadata": {
    "colab": {
     "base_uri": "https://localhost:8080/",
     "height": 300
    },
    "colab_type": "code",
    "executionInfo": {
     "elapsed": 531854,
     "status": "ok",
     "timestamp": 1568434092551,
     "user": {
      "displayName": "vedant kale",
      "photoUrl": "https://lh3.googleusercontent.com/a-/AAuE7mCDab_KFU1MHWEjRsQP-6z1fyiPUiZjRxo9hWUi2w=s64",
      "userId": "16040215375828489081"
     },
     "user_tz": -330
    },
    "id": "LlVNs8HL-eLI",
    "outputId": "afe050bd-6a19-49c0-d9c0-dac69ffd9f38"
   },
   "outputs": [
    {
     "data": {
      "text/plain": [
       "Text(0, 0.5, 'total_fare')"
      ]
     },
     "execution_count": 44,
     "metadata": {},
     "output_type": "execute_result"
    },
    {
     "data": {
      "image/png": "[encoded data removed]",
      "text/plain": [
       "<Figure size 432x288 with 1 Axes>"
      ]
     },
     "metadata": {
      "needs_background": "light"
     },
     "output_type": "display_data"
    }
   ],
   "source": [
    "# graph is ploted between toll_amount and total_fare\n",
    "\n",
    "plt.scatter(X_train['toll_amount'], Y_train)\n",
    "plt.xlabel('toll_amount')\n",
    "plt.xlim(0,100)\n",
    "plt.ylim(0,750)\n",
    "plt.ylabel('total_fare')"
   ]
  },
  {
   "cell_type": "code",
   "execution_count": 45,
   "metadata": {
    "colab": {
     "base_uri": "https://localhost:8080/",
     "height": 300
    },
    "colab_type": "code",
    "executionInfo": {
     "elapsed": 542243,
     "status": "ok",
     "timestamp": 1568434102953,
     "user": {
      "displayName": "vedant kale",
      "photoUrl": "https://lh3.googleusercontent.com/a-/AAuE7mCDab_KFU1MHWEjRsQP-6z1fyiPUiZjRxo9hWUi2w=s64",
      "userId": "16040215375828489081"
     },
     "user_tz": -330
    },
    "id": "Bl-1dPVv-m7v",
    "outputId": "9f911089-3741-4a6e-d2b0-b0023fa9550f"
   },
   "outputs": [
    {
     "data": {
      "text/plain": [
       "Text(0, 0.5, 'total_fare')"
      ]
     },
     "execution_count": 45,
     "metadata": {},
     "output_type": "execute_result"
    },
    {
     "data": {
      "image/png": "[encoded data removed]",
      "text/plain": [
       "<Figure size 432x288 with 1 Axes>"
      ]
     },
     "metadata": {
      "needs_background": "light"
     },
     "output_type": "display_data"
    }
   ],
   "source": [
    "# graph is ploted between rate_code and total_fare\n",
    "\n",
    "plt.scatter(X_train['rate_code'], Y_train)\n",
    "plt.xlabel('rate_code')\n",
    "plt.xlim(0,10)\n",
    "plt.ylim(0,750)\n",
    "plt.ylabel('total_fare')"
   ]
  },
  {
   "cell_type": "code",
   "execution_count": 46,
   "metadata": {
    "colab": {
     "base_uri": "https://localhost:8080/",
     "height": 300
    },
    "colab_type": "code",
    "executionInfo": {
     "elapsed": 552829,
     "status": "ok",
     "timestamp": 1568434113551,
     "user": {
      "displayName": "vedant kale",
      "photoUrl": "https://lh3.googleusercontent.com/a-/AAuE7mCDab_KFU1MHWEjRsQP-6z1fyiPUiZjRxo9hWUi2w=s64",
      "userId": "16040215375828489081"
     },
     "user_tz": -330
    },
    "id": "V8_z7Wdj_66J",
    "outputId": "6fd5891a-b9bd-4d28-8aa3-08e07e40e49d"
   },
   "outputs": [
    {
     "data": {
      "text/plain": [
       "Text(0, 0.5, 'total_fare')"
      ]
     },
     "execution_count": 46,
     "metadata": {},
     "output_type": "execute_result"
    },
    {
     "data": {
      "image/png": "[encoded data removed]",
      "text/plain": [
       "<Figure size 432x288 with 1 Axes>"
      ]
     },
     "metadata": {
      "needs_background": "light"
     },
     "output_type": "display_data"
    }
   ],
   "source": [
    "# graph is ploted between extra_charges and total_fare\n",
    "\n",
    "plt.scatter(X_train['extra_charges'], Y_train)\n",
    "plt.xlabel('extra_charges')\n",
    "# plt.xlim(0,100)\n",
    "# plt.ylim(0,750)\n",
    "plt.ylabel('total_fare')"
   ]
  },
  {
   "cell_type": "code",
   "execution_count": 47,
   "metadata": {
    "colab": {
     "base_uri": "https://localhost:8080/",
     "height": 300
    },
    "colab_type": "code",
    "executionInfo": {
     "elapsed": 563398,
     "status": "ok",
     "timestamp": 1568434124134,
     "user": {
      "displayName": "vedant kale",
      "photoUrl": "https://lh3.googleusercontent.com/a-/AAuE7mCDab_KFU1MHWEjRsQP-6z1fyiPUiZjRxo9hWUi2w=s64",
      "userId": "16040215375828489081"
     },
     "user_tz": -330
    },
    "id": "9GGcpnZT_7Kl",
    "outputId": "9c3f9c16-af2d-40de-a8e0-4b4180007f48"
   },
   "outputs": [
    {
     "data": {
      "text/plain": [
       "Text(0, 0.5, 'total_fare')"
      ]
     },
     "execution_count": 47,
     "metadata": {},
     "output_type": "execute_result"
    },
    {
     "data": {
      "image/png": "[encoded data removed]",
      "text/plain": [
       "<Figure size 432x288 with 1 Axes>"
      ]
     },
     "metadata": {
      "needs_background": "light"
     },
     "output_type": "display_data"
    }
   ],
   "source": [
    "# graph is ploted between improvement and total_fare\n",
    "\n",
    "plt.scatter(X_train['improvement_charge'], Y_train)\n",
    "plt.xlabel('improvement_charge')\n",
    "# plt.xlim(0,100)\n",
    "# plt.ylim(0,750)\n",
    "plt.ylabel('total_fare')"
   ]
  },
  {
   "cell_type": "code",
   "execution_count": 48,
   "metadata": {
    "colab": {
     "base_uri": "https://localhost:8080/",
     "height": 301
    },
    "colab_type": "code",
    "executionInfo": {
     "elapsed": 573949,
     "status": "ok",
     "timestamp": 1568434134697,
     "user": {
      "displayName": "vedant kale",
      "photoUrl": "https://lh3.googleusercontent.com/a-/AAuE7mCDab_KFU1MHWEjRsQP-6z1fyiPUiZjRxo9hWUi2w=s64",
      "userId": "16040215375828489081"
     },
     "user_tz": -330
    },
    "id": "zZGPNnNEBMFw",
    "outputId": "641ac44e-5caa-47c6-9408-3ef68a67c0bd"
   },
   "outputs": [
    {
     "data": {
      "text/plain": [
       "Text(0, 0.5, 'total_fare')"
      ]
     },
     "execution_count": 48,
     "metadata": {},
     "output_type": "execute_result"
    },
    {
     "data": {
      "image/png": "[encoded data removed]",
      "text/plain": [
       "<Figure size 432x288 with 1 Axes>"
      ]
     },
     "metadata": {
      "needs_background": "light"
     },
     "output_type": "display_data"
    }
   ],
   "source": [
    "# graph is ploted between journey_duration and total_fare\n",
    "\n",
    "plt.scatter(X_train['journey_duration'], Y_train)\n",
    "plt.xlabel('journey_duration')\n",
    "# plt.xlim(0,100)\n",
    "# plt.ylim(0,750)\n",
    "plt.ylabel('total_fare')"
   ]
  },
  {
   "cell_type": "markdown",
   "metadata": {},
   "source": [
    "### Manipulating X_train and X_test acccording to visulization"
   ]
  },
  {
   "cell_type": "code",
   "execution_count": 53,
   "metadata": {},
   "outputs": [
    {
     "data": {
      "text/plain": [
       "Index(['vendor_id', 'pickup_loc', 'drop_loc', 'driver_tip', 'mta_tax',\n",
       "       'distance', 'num_passengers', 'toll_amount', 'payment_method',\n",
       "       'rate_code', 'stored_flag', 'extra_charges', 'improvement_charge',\n",
       "       'journey_duration', 'loc_diff', 'dist_sq', 'tip_sq', 'toll_sq',\n",
       "       'rate_dist'],\n",
       "      dtype='object')"
      ]
     },
     "execution_count": 53,
     "metadata": {},
     "output_type": "execute_result"
    }
   ],
   "source": [
    "X_train.columns"
   ]
  },
  {
   "cell_type": "code",
   "execution_count": 54,
   "metadata": {
    "colab": {
     "base_uri": "https://localhost:8080/",
     "height": 230
    },
    "colab_type": "code",
    "executionInfo": {
     "elapsed": 584405,
     "status": "ok",
     "timestamp": 1568434145178,
     "user": {
      "displayName": "vedant kale",
      "photoUrl": "https://lh3.googleusercontent.com/a-/AAuE7mCDab_KFU1MHWEjRsQP-6z1fyiPUiZjRxo9hWUi2w=s64",
      "userId": "16040215375828489081"
     },
     "user_tz": -330
    },
    "id": "ClG9rJkLBN-c",
    "outputId": "ea136f6a-6b88-4c4f-add6-457967a076c3"
   },
   "outputs": [
    {
     "name": "stderr",
     "output_type": "stream",
     "text": [
      "C:\\Users\\Vedant Kale\\Anaconda3\\lib\\site-packages\\ipykernel_launcher.py:3: SettingWithCopyWarning: \n",
      "A value is trying to be set on a copy of a slice from a DataFrame.\n",
      "Try using .loc[row_indexer,col_indexer] = value instead\n",
      "\n",
      "See the caveats in the documentation: http://pandas.pydata.org/pandas-docs/stable/indexing.html#indexing-view-versus-copy\n",
      "  This is separate from the ipykernel package so we can avoid doing imports until\n",
      "C:\\Users\\Vedant Kale\\Anaconda3\\lib\\site-packages\\ipykernel_launcher.py:4: SettingWithCopyWarning: \n",
      "A value is trying to be set on a copy of a slice from a DataFrame.\n",
      "Try using .loc[row_indexer,col_indexer] = value instead\n",
      "\n",
      "See the caveats in the documentation: http://pandas.pydata.org/pandas-docs/stable/indexing.html#indexing-view-versus-copy\n",
      "  after removing the cwd from sys.path.\n",
      "C:\\Users\\Vedant Kale\\Anaconda3\\lib\\site-packages\\ipykernel_launcher.py:5: SettingWithCopyWarning: \n",
      "A value is trying to be set on a copy of a slice from a DataFrame.\n",
      "Try using .loc[row_indexer,col_indexer] = value instead\n",
      "\n",
      "See the caveats in the documentation: http://pandas.pydata.org/pandas-docs/stable/indexing.html#indexing-view-versus-copy\n",
      "  \"\"\"\n",
      "C:\\Users\\Vedant Kale\\Anaconda3\\lib\\site-packages\\ipykernel_launcher.py:6: SettingWithCopyWarning: \n",
      "A value is trying to be set on a copy of a slice from a DataFrame.\n",
      "Try using .loc[row_indexer,col_indexer] = value instead\n",
      "\n",
      "See the caveats in the documentation: http://pandas.pydata.org/pandas-docs/stable/indexing.html#indexing-view-versus-copy\n",
      "  \n"
     ]
    }
   ],
   "source": [
    "# dependency found between distance, driver_tip, toll_amount\n",
    "#So adding columns of it\n",
    "X_train['dist_sq'] = X_train['distance'] * X_train['distance']\n",
    "X_train['tip_sq'] = X_train['driver_tip'] * X_train['driver_tip']\n",
    "X_train['toll_sq'] = X_train['toll_amount'] * X_train['toll_amount']\n",
    "X_train['rate_dist'] = X_train['distance'] * X_train['rate_code']\n"
   ]
  },
  {
   "cell_type": "code",
   "execution_count": 55,
   "metadata": {
    "colab": {
     "base_uri": "https://localhost:8080/",
     "height": 230
    },
    "colab_type": "code",
    "executionInfo": {
     "elapsed": 584796,
     "status": "ok",
     "timestamp": 1568434145582,
     "user": {
      "displayName": "vedant kale",
      "photoUrl": "https://lh3.googleusercontent.com/a-/AAuE7mCDab_KFU1MHWEjRsQP-6z1fyiPUiZjRxo9hWUi2w=s64",
      "userId": "16040215375828489081"
     },
     "user_tz": -330
    },
    "id": "DKgL1N4eG7tm",
    "outputId": "58b5cdea-4599-4ade-88b2-3483c111dda8"
   },
   "outputs": [],
   "source": [
    "# dependency found between distance, driver_tip, toll_amount\n",
    "#So adding columns of it\n",
    "X_test['dist_sq'] = X_test['distance'] * X_test['distance']\n",
    "X_test['tip_sq'] = X_test['driver_tip'] * X_test['driver_tip']\n",
    "X_test['toll_sq'] = X_test['toll_amount'] * X_test['toll_amount']\n",
    "X_test['rate_dist'] = X_test['distance'] * X_test['rate_code']\n"
   ]
  },
  {
   "cell_type": "code",
   "execution_count": 56,
   "metadata": {
    "colab": {
     "base_uri": "https://localhost:8080/",
     "height": 234
    },
    "colab_type": "code",
    "executionInfo": {
     "elapsed": 584783,
     "status": "ok",
     "timestamp": 1568434145583,
     "user": {
      "displayName": "vedant kale",
      "photoUrl": "https://lh3.googleusercontent.com/a-/AAuE7mCDab_KFU1MHWEjRsQP-6z1fyiPUiZjRxo9hWUi2w=s64",
      "userId": "16040215375828489081"
     },
     "user_tz": -330
    },
    "id": "U7-9AAIREKLk",
    "outputId": "595f0df8-9453-48b1-f9ab-c03d4eac09ce"
   },
   "outputs": [
    {
     "data": {
      "text/html": [
       "<div>\n",
       "<style scoped>\n",
       "    .dataframe tbody tr th:only-of-type {\n",
       "        vertical-align: middle;\n",
       "    }\n",
       "\n",
       "    .dataframe tbody tr th {\n",
       "        vertical-align: top;\n",
       "    }\n",
       "\n",
       "    .dataframe thead th {\n",
       "        text-align: right;\n",
       "    }\n",
       "</style>\n",
       "<table border=\"1\" class=\"dataframe\">\n",
       "  <thead>\n",
       "    <tr style=\"text-align: right;\">\n",
       "      <th></th>\n",
       "      <th>vendor_id</th>\n",
       "      <th>pickup_loc</th>\n",
       "      <th>drop_loc</th>\n",
       "      <th>driver_tip</th>\n",
       "      <th>mta_tax</th>\n",
       "      <th>distance</th>\n",
       "      <th>num_passengers</th>\n",
       "      <th>toll_amount</th>\n",
       "      <th>payment_method</th>\n",
       "      <th>rate_code</th>\n",
       "      <th>stored_flag</th>\n",
       "      <th>extra_charges</th>\n",
       "      <th>improvement_charge</th>\n",
       "      <th>journey_duration</th>\n",
       "      <th>loc_diff</th>\n",
       "      <th>dist_sq</th>\n",
       "      <th>tip_sq</th>\n",
       "      <th>toll_sq</th>\n",
       "      <th>rate_dist</th>\n",
       "    </tr>\n",
       "  </thead>\n",
       "  <tbody>\n",
       "    <tr>\n",
       "      <th>0</th>\n",
       "      <td>1.0</td>\n",
       "      <td>170.0</td>\n",
       "      <td>233.0</td>\n",
       "      <td>1.83</td>\n",
       "      <td>0.5</td>\n",
       "      <td>0.70</td>\n",
       "      <td>1.0</td>\n",
       "      <td>0.0</td>\n",
       "      <td>1.0</td>\n",
       "      <td>1.0</td>\n",
       "      <td>0</td>\n",
       "      <td>1.0</td>\n",
       "      <td>0.3</td>\n",
       "      <td>5.350000</td>\n",
       "      <td>63.0</td>\n",
       "      <td>0.4900</td>\n",
       "      <td>3.3489</td>\n",
       "      <td>0.0</td>\n",
       "      <td>0.70</td>\n",
       "    </tr>\n",
       "    <tr>\n",
       "      <th>1</th>\n",
       "      <td>2.0</td>\n",
       "      <td>151.0</td>\n",
       "      <td>243.0</td>\n",
       "      <td>3.56</td>\n",
       "      <td>0.5</td>\n",
       "      <td>4.64</td>\n",
       "      <td>1.0</td>\n",
       "      <td>0.0</td>\n",
       "      <td>1.0</td>\n",
       "      <td>1.0</td>\n",
       "      <td>0</td>\n",
       "      <td>1.0</td>\n",
       "      <td>0.3</td>\n",
       "      <td>16.500000</td>\n",
       "      <td>92.0</td>\n",
       "      <td>21.5296</td>\n",
       "      <td>12.6736</td>\n",
       "      <td>0.0</td>\n",
       "      <td>4.64</td>\n",
       "    </tr>\n",
       "    <tr>\n",
       "      <th>2</th>\n",
       "      <td>2.0</td>\n",
       "      <td>68.0</td>\n",
       "      <td>90.0</td>\n",
       "      <td>1.50</td>\n",
       "      <td>0.5</td>\n",
       "      <td>1.29</td>\n",
       "      <td>2.0</td>\n",
       "      <td>0.0</td>\n",
       "      <td>1.0</td>\n",
       "      <td>1.0</td>\n",
       "      <td>0</td>\n",
       "      <td>0.0</td>\n",
       "      <td>0.3</td>\n",
       "      <td>6.283333</td>\n",
       "      <td>22.0</td>\n",
       "      <td>1.6641</td>\n",
       "      <td>2.2500</td>\n",
       "      <td>0.0</td>\n",
       "      <td>1.29</td>\n",
       "    </tr>\n",
       "    <tr>\n",
       "      <th>3</th>\n",
       "      <td>2.0</td>\n",
       "      <td>142.0</td>\n",
       "      <td>234.0</td>\n",
       "      <td>1.50</td>\n",
       "      <td>0.5</td>\n",
       "      <td>2.74</td>\n",
       "      <td>1.0</td>\n",
       "      <td>0.0</td>\n",
       "      <td>1.0</td>\n",
       "      <td>1.0</td>\n",
       "      <td>0</td>\n",
       "      <td>0.0</td>\n",
       "      <td>0.3</td>\n",
       "      <td>16.133333</td>\n",
       "      <td>92.0</td>\n",
       "      <td>7.5076</td>\n",
       "      <td>2.2500</td>\n",
       "      <td>0.0</td>\n",
       "      <td>2.74</td>\n",
       "    </tr>\n",
       "    <tr>\n",
       "      <th>4</th>\n",
       "      <td>2.0</td>\n",
       "      <td>238.0</td>\n",
       "      <td>238.0</td>\n",
       "      <td>0.00</td>\n",
       "      <td>0.5</td>\n",
       "      <td>0.45</td>\n",
       "      <td>6.0</td>\n",
       "      <td>0.0</td>\n",
       "      <td>2.0</td>\n",
       "      <td>1.0</td>\n",
       "      <td>0</td>\n",
       "      <td>0.0</td>\n",
       "      <td>0.3</td>\n",
       "      <td>2.700000</td>\n",
       "      <td>0.0</td>\n",
       "      <td>0.2025</td>\n",
       "      <td>0.0000</td>\n",
       "      <td>0.0</td>\n",
       "      <td>0.45</td>\n",
       "    </tr>\n",
       "  </tbody>\n",
       "</table>\n",
       "</div>"
      ],
      "text/plain": [
       "   vendor_id  pickup_loc  drop_loc  driver_tip  mta_tax  distance  \\\n",
       "0        1.0       170.0     233.0        1.83      0.5      0.70   \n",
       "1        2.0       151.0     243.0        3.56      0.5      4.64   \n",
       "2        2.0        68.0      90.0        1.50      0.5      1.29   \n",
       "3        2.0       142.0     234.0        1.50      0.5      2.74   \n",
       "4        2.0       238.0     238.0        0.00      0.5      0.45   \n",
       "\n",
       "   num_passengers  toll_amount  payment_method  rate_code  stored_flag  \\\n",
       "0             1.0          0.0             1.0        1.0            0   \n",
       "1             1.0          0.0             1.0        1.0            0   \n",
       "2             2.0          0.0             1.0        1.0            0   \n",
       "3             1.0          0.0             1.0        1.0            0   \n",
       "4             6.0          0.0             2.0        1.0            0   \n",
       "\n",
       "   extra_charges  improvement_charge  journey_duration  loc_diff  dist_sq  \\\n",
       "0            1.0                 0.3          5.350000      63.0   0.4900   \n",
       "1            1.0                 0.3         16.500000      92.0  21.5296   \n",
       "2            0.0                 0.3          6.283333      22.0   1.6641   \n",
       "3            0.0                 0.3         16.133333      92.0   7.5076   \n",
       "4            0.0                 0.3          2.700000       0.0   0.2025   \n",
       "\n",
       "    tip_sq  toll_sq  rate_dist  \n",
       "0   3.3489      0.0       0.70  \n",
       "1  12.6736      0.0       4.64  \n",
       "2   2.2500      0.0       1.29  \n",
       "3   2.2500      0.0       2.74  \n",
       "4   0.0000      0.0       0.45  "
      ]
     },
     "execution_count": 56,
     "metadata": {},
     "output_type": "execute_result"
    }
   ],
   "source": [
    "X_train.head()"
   ]
  },
  {
   "cell_type": "markdown",
   "metadata": {},
   "source": [
    "### Applying Models"
   ]
  },
  {
   "cell_type": "code",
   "execution_count": 57,
   "metadata": {
    "colab": {},
    "colab_type": "code",
    "id": "fDbSvviy5J4T"
   },
   "outputs": [],
   "source": [
    "from sklearn.ensemble import RandomForestRegressor\n",
    "from sklearn.linear_model import LinearRegression\n",
    "from sklearn import linear_model"
   ]
  },
  {
   "cell_type": "code",
   "execution_count": 58,
   "metadata": {
    "colab": {
     "base_uri": "https://localhost:8080/",
     "height": 587
    },
    "colab_type": "code",
    "executionInfo": {
     "elapsed": 586098,
     "status": "ok",
     "timestamp": 1568434146935,
     "user": {
      "displayName": "vedant kale",
      "photoUrl": "https://lh3.googleusercontent.com/a-/AAuE7mCDab_KFU1MHWEjRsQP-6z1fyiPUiZjRxo9hWUi2w=s64",
      "userId": "16040215375828489081"
     },
     "user_tz": -330
    },
    "id": "VuQJp5sr5J4W",
    "outputId": "53d56316-209c-419b-b93a-06f5fc3a906e"
   },
   "outputs": [
    {
     "data": {
      "text/html": [
       "<div>\n",
       "<style scoped>\n",
       "    .dataframe tbody tr th:only-of-type {\n",
       "        vertical-align: middle;\n",
       "    }\n",
       "\n",
       "    .dataframe tbody tr th {\n",
       "        vertical-align: top;\n",
       "    }\n",
       "\n",
       "    .dataframe thead th {\n",
       "        text-align: right;\n",
       "    }\n",
       "</style>\n",
       "<table border=\"1\" class=\"dataframe\">\n",
       "  <thead>\n",
       "    <tr style=\"text-align: right;\">\n",
       "      <th></th>\n",
       "      <th>Coeifficent Values</th>\n",
       "    </tr>\n",
       "  </thead>\n",
       "  <tbody>\n",
       "    <tr>\n",
       "      <th>vendor_id</th>\n",
       "      <td>-9.845480e-03</td>\n",
       "    </tr>\n",
       "    <tr>\n",
       "      <th>pickup_loc</th>\n",
       "      <td>-2.962339e+09</td>\n",
       "    </tr>\n",
       "    <tr>\n",
       "      <th>drop_loc</th>\n",
       "      <td>2.962339e+09</td>\n",
       "    </tr>\n",
       "    <tr>\n",
       "      <th>driver_tip</th>\n",
       "      <td>1.617859e+00</td>\n",
       "    </tr>\n",
       "    <tr>\n",
       "      <th>mta_tax</th>\n",
       "      <td>-3.789024e+01</td>\n",
       "    </tr>\n",
       "    <tr>\n",
       "      <th>distance</th>\n",
       "      <td>2.639187e+00</td>\n",
       "    </tr>\n",
       "    <tr>\n",
       "      <th>num_passengers</th>\n",
       "      <td>2.574505e-03</td>\n",
       "    </tr>\n",
       "    <tr>\n",
       "      <th>toll_amount</th>\n",
       "      <td>8.836458e-01</td>\n",
       "    </tr>\n",
       "    <tr>\n",
       "      <th>payment_method</th>\n",
       "      <td>1.237871e+00</td>\n",
       "    </tr>\n",
       "    <tr>\n",
       "      <th>rate_code</th>\n",
       "      <td>1.185106e+00</td>\n",
       "    </tr>\n",
       "    <tr>\n",
       "      <th>stored_flag</th>\n",
       "      <td>3.509097e-01</td>\n",
       "    </tr>\n",
       "    <tr>\n",
       "      <th>extra_charges</th>\n",
       "      <td>5.223221e-01</td>\n",
       "    </tr>\n",
       "    <tr>\n",
       "      <th>improvement_charge</th>\n",
       "      <td>4.413745e+01</td>\n",
       "    </tr>\n",
       "    <tr>\n",
       "      <th>journey_duration</th>\n",
       "      <td>5.774878e-03</td>\n",
       "    </tr>\n",
       "    <tr>\n",
       "      <th>loc_diff</th>\n",
       "      <td>-2.962339e+09</td>\n",
       "    </tr>\n",
       "    <tr>\n",
       "      <th>dist_sq</th>\n",
       "      <td>-2.273728e-02</td>\n",
       "    </tr>\n",
       "    <tr>\n",
       "      <th>tip_sq</th>\n",
       "      <td>-2.462674e-03</td>\n",
       "    </tr>\n",
       "    <tr>\n",
       "      <th>toll_sq</th>\n",
       "      <td>1.496869e-04</td>\n",
       "    </tr>\n",
       "    <tr>\n",
       "      <th>rate_dist</th>\n",
       "      <td>1.399514e-01</td>\n",
       "    </tr>\n",
       "  </tbody>\n",
       "</table>\n",
       "</div>"
      ],
      "text/plain": [
       "                    Coeifficent Values\n",
       "vendor_id                -9.845480e-03\n",
       "pickup_loc               -2.962339e+09\n",
       "drop_loc                  2.962339e+09\n",
       "driver_tip                1.617859e+00\n",
       "mta_tax                  -3.789024e+01\n",
       "distance                  2.639187e+00\n",
       "num_passengers            2.574505e-03\n",
       "toll_amount               8.836458e-01\n",
       "payment_method            1.237871e+00\n",
       "rate_code                 1.185106e+00\n",
       "stored_flag               3.509097e-01\n",
       "extra_charges             5.223221e-01\n",
       "improvement_charge        4.413745e+01\n",
       "journey_duration          5.774878e-03\n",
       "loc_diff                 -2.962339e+09\n",
       "dist_sq                  -2.273728e-02\n",
       "tip_sq                   -2.462674e-03\n",
       "toll_sq                   1.496869e-04\n",
       "rate_dist                 1.399514e-01"
      ]
     },
     "execution_count": 58,
     "metadata": {},
     "output_type": "execute_result"
    }
   ],
   "source": [
    "#Applying Linear Regression model\n",
    "\n",
    "model1 = linear_model.LinearRegression()\n",
    "\n",
    "model1.fit(X_train, Y_train)\n",
    "\n",
    "prediction1 = model1.predict(X_test)\n",
    "prediction2 = model1.predict(X_train)\n",
    "\n",
    "Y_test = prediction1\n",
    "\n",
    "#plt.scatter(Y_test, prediction1)\n",
    "\n",
    "model1.coef_\n",
    "\n",
    "dframe_coef = pd.DataFrame(model1.coef_, X_train.columns, columns=['Coeifficent Values'])\n",
    "\n",
    "dframe_coef"
   ]
  },
  {
   "cell_type": "code",
   "execution_count": 59,
   "metadata": {
    "colab": {
     "base_uri": "https://localhost:8080/",
     "height": 52
    },
    "colab_type": "code",
    "executionInfo": {
     "elapsed": 670899,
     "status": "ok",
     "timestamp": 1568434231750,
     "user": {
      "displayName": "vedant kale",
      "photoUrl": "https://lh3.googleusercontent.com/a-/AAuE7mCDab_KFU1MHWEjRsQP-6z1fyiPUiZjRxo9hWUi2w=s64",
      "userId": "16040215375828489081"
     },
     "user_tz": -330
    },
    "id": "TM9hwW_rIsRd",
    "outputId": "4274c8c3-8fd7-4674-baef-ad9d43ec555b"
   },
   "outputs": [
    {
     "name": "stderr",
     "output_type": "stream",
     "text": [
      "C:\\Users\\Vedant Kale\\Anaconda3\\lib\\site-packages\\sklearn\\ensemble\\forest.py:245: FutureWarning: The default value of n_estimators will change from 10 in version 0.20 to 100 in 0.22.\n",
      "  \"10 in version 0.20 to 100 in 0.22.\", FutureWarning)\n"
     ]
    }
   ],
   "source": [
    "# Applying Random Forest Regression Model\n",
    "\n",
    "model2 = RandomForestRegressor()\n",
    "\n",
    "model2.fit(X_train, Y_train)\n",
    "\n",
    "prediction3 = model2.predict(X_test)\n",
    "prediction4 = model2.predict(X_train)\n",
    "\n",
    "Y_test = prediction3\n"
   ]
  },
  {
   "cell_type": "code",
   "execution_count": 60,
   "metadata": {
    "colab": {
     "base_uri": "https://localhost:8080/",
     "height": 34
    },
    "colab_type": "code",
    "executionInfo": {
     "elapsed": 757744,
     "status": "ok",
     "timestamp": 1568434318630,
     "user": {
      "displayName": "vedant kale",
      "photoUrl": "https://lh3.googleusercontent.com/a-/AAuE7mCDab_KFU1MHWEjRsQP-6z1fyiPUiZjRxo9hWUi2w=s64",
      "userId": "16040215375828489081"
     },
     "user_tz": -330
    },
    "id": "etqpxXk85J4Z",
    "outputId": "4f3744e5-5d5b-4e86-f9e9-d1b176858ffc"
   },
   "outputs": [
    {
     "data": {
      "text/plain": [
       "6.456544510842619"
      ]
     },
     "execution_count": 60,
     "metadata": {},
     "output_type": "execute_result"
    }
   ],
   "source": [
    "# Root mean square of our prediction on X_train and Y_train is calculated for Linear Regression\n",
    "RMSR1=np.sqrt(metrics.mean_squared_error(Y_train, prediction2))\n",
    "RMSR1"
   ]
  },
  {
   "cell_type": "code",
   "execution_count": 61,
   "metadata": {
    "colab": {
     "base_uri": "https://localhost:8080/",
     "height": 34
    },
    "colab_type": "code",
    "executionInfo": {
     "elapsed": 757731,
     "status": "ok",
     "timestamp": 1568434318631,
     "user": {
      "displayName": "vedant kale",
      "photoUrl": "https://lh3.googleusercontent.com/a-/AAuE7mCDab_KFU1MHWEjRsQP-6z1fyiPUiZjRxo9hWUi2w=s64",
      "userId": "16040215375828489081"
     },
     "user_tz": -330
    },
    "id": "vKG3XQYYJOBW",
    "outputId": "ed85fc3a-f6cf-476b-de36-c8530fe78748"
   },
   "outputs": [
    {
     "data": {
      "text/plain": [
       "1.5307437367470846"
      ]
     },
     "execution_count": 61,
     "metadata": {},
     "output_type": "execute_result"
    }
   ],
   "source": [
    "# Root mean square of our prediction on X_train and Y_train is calculated for Random Forest\n",
    "RMSR1=np.sqrt(metrics.mean_squared_error(Y_train, prediction4))\n",
    "RMSR1"
   ]
  },
  {
   "cell_type": "code",
   "execution_count": 70,
   "metadata": {
    "colab": {
     "base_uri": "https://localhost:8080/",
     "height": 34
    },
    "colab_type": "code",
    "executionInfo": {
     "elapsed": 761379,
     "status": "ok",
     "timestamp": 1568434322856,
     "user": {
      "displayName": "vedant kale",
      "photoUrl": "https://lh3.googleusercontent.com/a-/AAuE7mCDab_KFU1MHWEjRsQP-6z1fyiPUiZjRxo9hWUi2w=s64",
      "userId": "16040215375828489081"
     },
     "user_tz": -330
    },
    "id": "v2czApn7yvma",
    "outputId": "0ec97356-e4b9-4c83-92b3-fef6058a4204"
   },
   "outputs": [
    {
     "data": {
      "text/plain": [
       "5.872039145224871"
      ]
     },
     "execution_count": 70,
     "metadata": {},
     "output_type": "execute_result"
    }
   ],
   "source": [
    "# Root mean square of our prediction on X_train and Y_train is c Random Forest\n",
    "RMSR1=np.sqrt(metrics.mean_squared_error(prediction2, prediction4))\n",
    "RMSR1"
   ]
  },
  {
   "cell_type": "code",
   "execution_count": 65,
   "metadata": {
    "colab": {
     "base_uri": "https://localhost:8080/",
     "height": 1000
    },
    "colab_type": "code",
    "executionInfo": {
     "elapsed": 759037,
     "status": "ok",
     "timestamp": 1568434319964,
     "user": {
      "displayName": "vedant kale",
      "photoUrl": "https://lh3.googleusercontent.com/a-/AAuE7mCDab_KFU1MHWEjRsQP-6z1fyiPUiZjRxo9hWUi2w=s64",
      "userId": "16040215375828489081"
     },
     "user_tz": -330
    },
    "id": "mAL3UAEt5J4b",
    "outputId": "e4036e73-0507-4543-d467-69b33a348fe4"
   },
   "outputs": [
    {
     "name": "stdout",
     "output_type": "stream",
     "text": [
      "            ID  total_amount\n",
      "0            0      8.343671\n",
      "1            1     11.519474\n",
      "2            2     18.438692\n",
      "3            3     10.094997\n",
      "4            4      8.610808\n",
      "5            5     10.860058\n",
      "6            6     11.582404\n",
      "7            7     12.701362\n",
      "8            8      7.638422\n",
      "9            9     11.675242\n",
      "10          10     15.498174\n",
      "11          11     13.337376\n",
      "12          12     15.567552\n",
      "13          13     15.329784\n",
      "14          14     11.046407\n",
      "15          15      7.586343\n",
      "16          16     43.883109\n",
      "17          17     11.645076\n",
      "18          18      8.321073\n",
      "19          19      8.486608\n",
      "20          20     15.123282\n",
      "21          21     11.869463\n",
      "22          22      8.292847\n",
      "23          23     48.042896\n",
      "24          24     23.568412\n",
      "25          25      9.923976\n",
      "26          26     13.468730\n",
      "27          27     18.861961\n",
      "28          28     50.762851\n",
      "29          29      7.230357\n",
      "...        ...           ...\n",
      "154205  154205     43.113247\n",
      "154206  154206      7.119926\n",
      "154207  154207     34.592657\n",
      "154208  154208     12.286321\n",
      "154209  154209     10.786859\n",
      "154210  154210     13.734948\n",
      "154211  154211      9.416922\n",
      "154212  154212      8.564697\n",
      "154213  154213     12.353625\n",
      "154214  154214      7.859521\n",
      "154215  154215     10.157408\n",
      "154216  154216     11.673999\n",
      "154217  154217     11.045861\n",
      "154218  154218     13.135831\n",
      "154219  154219     14.522084\n",
      "154220  154220     18.227765\n",
      "154221  154221      7.460858\n",
      "154222  154222      8.955338\n",
      "154223  154223     14.233180\n",
      "154224  154224     38.489728\n",
      "154225  154225     17.813975\n",
      "154226  154226      7.693720\n",
      "154227  154227     20.920803\n",
      "154228  154228     34.610941\n",
      "154229  154229     10.111533\n",
      "154230  154230     13.366873\n",
      "154231  154231      9.296846\n",
      "154232  154232     11.103163\n",
      "154233  154233     14.466896\n",
      "154234  154234     14.048338\n",
      "\n",
      "[154235 rows x 2 columns]\n"
     ]
    }
   ],
   "source": [
    "# Converting and saving the predictions for Linear Regression\n",
    "\n",
    "from pandas import DataFrame\n",
    "C = { 'ID': d2['ID'],\n",
    "      'total_amount': prediction1,\n",
    "    }\n",
    "df = DataFrame(C, columns= ['ID', 'total_amount'])\n",
    "export_csv = df.to_csv ('SampleSubmission_lin.csv', index = None, header=True) # here you have to write path, where result file will be stored\n",
    "print (df)"
   ]
  },
  {
   "cell_type": "code",
   "execution_count": 67,
   "metadata": {
    "colab": {
     "base_uri": "https://localhost:8080/",
     "height": 1000
    },
    "colab_type": "code",
    "executionInfo": {
     "elapsed": 759464,
     "status": "ok",
     "timestamp": 1568434320405,
     "user": {
      "displayName": "vedant kale",
      "photoUrl": "https://lh3.googleusercontent.com/a-/AAuE7mCDab_KFU1MHWEjRsQP-6z1fyiPUiZjRxo9hWUi2w=s64",
      "userId": "16040215375828489081"
     },
     "user_tz": -330
    },
    "id": "8KtpgWhE5J4d",
    "outputId": "1e5cf41c-813c-45c9-fc92-ca287505178d"
   },
   "outputs": [
    {
     "name": "stdout",
     "output_type": "stream",
     "text": [
      "            ID  total_amount\n",
      "0            0         7.300\n",
      "1            1        15.350\n",
      "2            2        17.759\n",
      "3            3         8.750\n",
      "4            4         7.800\n",
      "5            5         9.120\n",
      "6            6        11.558\n",
      "7            7        15.360\n",
      "8            8         8.700\n",
      "9            9        12.350\n",
      "10          10        20.964\n",
      "11          11        14.865\n",
      "12          12        23.450\n",
      "13          13        22.400\n",
      "14          14        10.350\n",
      "15          15         5.850\n",
      "16          16        41.470\n",
      "17          17        11.804\n",
      "18          18         6.600\n",
      "19          19         5.850\n",
      "20          20        18.650\n",
      "21          21        13.560\n",
      "22          22         7.300\n",
      "23          23        46.810\n",
      "24          24        23.953\n",
      "25          25         8.500\n",
      "26          26        15.866\n",
      "27          27        16.550\n",
      "28          28        54.422\n",
      "29          29         4.700\n",
      "...        ...           ...\n",
      "154205  154205        42.960\n",
      "154206  154206         4.750\n",
      "154207  154207        32.650\n",
      "154208  154208        11.400\n",
      "154209  154209         9.360\n",
      "154210  154210        16.560\n",
      "154211  154211         7.850\n",
      "154212  154212         9.550\n",
      "154213  154213        11.500\n",
      "154214  154214         9.649\n",
      "154215  154215         8.550\n",
      "154216  154216        11.160\n",
      "154217  154217        10.550\n",
      "154218  154218        12.950\n",
      "154219  154219        15.550\n",
      "154220  154220        20.150\n",
      "154221  154221         5.750\n",
      "154222  154222         7.300\n",
      "154223  154223        14.250\n",
      "154224  154224        44.810\n",
      "154225  154225        21.734\n",
      "154226  154226         5.800\n",
      "154227  154227        19.350\n",
      "154228  154228        35.710\n",
      "154229  154229         8.250\n",
      "154230  154230        15.360\n",
      "154231  154231         8.725\n",
      "154232  154232         9.360\n",
      "154233  154233        14.705\n",
      "154234  154234        15.960\n",
      "\n",
      "[154235 rows x 2 columns]\n"
     ]
    }
   ],
   "source": [
    "# Converting and saving the predictions for Random Forest Regression\n",
    "\n",
    "from pandas import DataFrame\n",
    "C = { 'ID': d2['ID'],\n",
    "      'total_amount': prediction3,\n",
    "    }\n",
    "df = DataFrame(C, columns= ['ID', 'total_amount'])\n",
    "export_csv = df.to_csv ('SampleSubmission_rf.csv', index = None, header=True) # here you have to write path, where result file will be stored\n",
    "print (df)"
   ]
  },
  {
   "cell_type": "code",
   "execution_count": 69,
   "metadata": {
    "colab": {
     "base_uri": "https://localhost:8080/",
     "height": 1000
    },
    "colab_type": "code",
    "executionInfo": {
     "elapsed": 761891,
     "status": "ok",
     "timestamp": 1568434322852,
     "user": {
      "displayName": "vedant kale",
      "photoUrl": "https://lh3.googleusercontent.com/a-/AAuE7mCDab_KFU1MHWEjRsQP-6z1fyiPUiZjRxo9hWUi2w=s64",
      "userId": "16040215375828489081"
     },
     "user_tz": -330
    },
    "id": "qeFIM4Z6LL3M",
    "outputId": "32785497-f066-4e0d-827d-bbc1591a4d9b"
   },
   "outputs": [
    {
     "name": "stdout",
     "output_type": "stream",
     "text": [
      "            ID  total_amount\n",
      "0            0      7.821836\n",
      "1            1     13.434737\n",
      "2            2     18.098846\n",
      "3            3      9.422498\n",
      "4            4      8.205404\n",
      "5            5      9.990029\n",
      "6            6     11.570202\n",
      "7            7     14.030681\n",
      "8            8      8.169211\n",
      "9            9     12.012621\n",
      "10          10     18.231087\n",
      "11          11     14.101188\n",
      "12          12     19.508776\n",
      "13          13     18.864892\n",
      "14          14     10.698204\n",
      "15          15      6.718172\n",
      "16          16     42.676554\n",
      "17          17     11.724538\n",
      "18          18      7.460536\n",
      "19          19      7.168304\n",
      "20          20     16.886641\n",
      "21          21     12.714731\n",
      "22          22      7.796423\n",
      "23          23     47.426448\n",
      "24          24     23.760706\n",
      "25          25      9.211988\n",
      "26          26     14.667365\n",
      "27          27     17.705981\n",
      "28          28     52.592425\n",
      "29          29      5.965179\n",
      "...        ...           ...\n",
      "154205  154205     43.036624\n",
      "154206  154206      5.934963\n",
      "154207  154207     33.621328\n",
      "154208  154208     11.843160\n",
      "154209  154209     10.073429\n",
      "154210  154210     15.147474\n",
      "154211  154211      8.633461\n",
      "154212  154212      9.057348\n",
      "154213  154213     11.926813\n",
      "154214  154214      8.754261\n",
      "154215  154215      9.353704\n",
      "154216  154216     11.416999\n",
      "154217  154217     10.797930\n",
      "154218  154218     13.042916\n",
      "154219  154219     15.036042\n",
      "154220  154220     19.188882\n",
      "154221  154221      6.605429\n",
      "154222  154222      8.127669\n",
      "154223  154223     14.241590\n",
      "154224  154224     41.649864\n",
      "154225  154225     19.773987\n",
      "154226  154226      6.746860\n",
      "154227  154227     20.135402\n",
      "154228  154228     35.160471\n",
      "154229  154229      9.180767\n",
      "154230  154230     14.363437\n",
      "154231  154231      9.010923\n",
      "154232  154232     10.231582\n",
      "154233  154233     14.585948\n",
      "154234  154234     15.004169\n",
      "\n",
      "[154235 rows x 2 columns]\n"
     ]
    }
   ],
   "source": [
    "# Converting and saving the mean of predictions for Linear Regression and Random Forest\n",
    "from pandas import DataFrame\n",
    "C = { 'ID': d2['ID'],\n",
    "      'total_amount': (prediction1+prediction3)/2 ,\n",
    "    }\n",
    "df = DataFrame(C, columns= ['ID', 'total_amount'])\n",
    "export_csv = df.to_csv ('SampleSubmission_rf+lin.csv', index = None, header=True) # here you have to write path, where result file will be stored\n",
    "print (df)"
   ]
  },
  {
   "cell_type": "code",
   "execution_count": null,
   "metadata": {},
   "outputs": [],
   "source": []
  }
 ],
 "metadata": {
  "colab": {
   "collapsed_sections": [],
   "name": "chh_ola.ipynb",
   "provenance": [],
   "version": "0.3.2"
  },
  "kernelspec": {
   "display_name": "Python 3",
   "language": "python",
   "name": "python3"
  },
  "language_info": {
   "codemirror_mode": {
    "name": "ipython",
    "version": 3
   },
   "file_extension": ".py",
   "mimetype": "text/x-python",
   "name": "python",
   "nbconvert_exporter": "python",
   "pygments_lexer": "ipython3",
   "version": "3.7.3"
  }
 },
 "nbformat": 4,
 "nbformat_minor": 1
}
