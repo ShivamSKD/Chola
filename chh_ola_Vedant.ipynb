{
 "cells": [
  {
   "cell_type": "code",
   "execution_count": 2,
   "metadata": {
    "colab": {
     "base_uri": "https://localhost:8080/",
     "height": 125
    },
    "colab_type": "code",
    "executionInfo": {
     "elapsed": 39917,
     "status": "ok",
     "timestamp": 1568433600167,
     "user": {
      "displayName": "vedant kale",
      "photoUrl": "https://lh3.googleusercontent.com/a-/AAuE7mCDab_KFU1MHWEjRsQP-6z1fyiPUiZjRxo9hWUi2w=s64",
      "userId": "16040215375828489081"
     },
     "user_tz": -330
    },
    "id": "el5pJQjF5J3B",
    "outputId": "683106cf-1ead-45a1-f806-f32e093d0c45"
   },
   "outputs": [],
   "source": [
    "import numpy as np     #importing necessary libraries\n",
    "import pandas as pd\n",
    "import seaborn as sns\n",
    "import matplotlib.pyplot as plt\n",
    "import matplotlib as mpl\n",
    "from sklearn import metrics\n",
    "plt.figure(figsize=(20,10))\n",
    "from sklearn.model_selection import GridSearchCV\n",
    "%matplotlib inline"
   ]
  },
  {
   "cell_type": "markdown",
   "metadata": {},
   "source": [
    "### Train Data Loading"
   ]
  },
  {
   "cell_type": "code",
   "execution_count": null,
   "metadata": {
    "colab": {
     "base_uri": "https://localhost:8080/",
     "height": 90
    },
    "colab_type": "code",
    "executionInfo": {
     "elapsed": 43754,
     "status": "ok",
     "timestamp": 1568433604022,
     "user": {
      "displayName": "vedant kale",
      "photoUrl": "https://lh3.googleusercontent.com/a-/AAuE7mCDab_KFU1MHWEjRsQP-6z1fyiPUiZjRxo9hWUi2w=s64",
      "userId": "16040215375828489081"
     },
     "user_tz": -330
    },
    "id": "S-9qKmPE5J3I",
    "outputId": "f59d3d72-72d8-413d-f883-36e834a259c3"
   },
   "outputs": [],
   "source": [
    "# reading the train data\n",
    "# while data cleaning we found '+ACI-  +ACIAIg-status+ACIAIg- : 500+ACI-','0+AHs-' this values\n",
    "# unwanted, so replacing them with NaN\n",
    "d1 = pd.read_csv('train2.csv',na_values=['+ACI-  +ACIAIg-status+ACIAIg- : 500+ACI-','0+AHs-'])\n",
    "d1.shape"
   ]
  },
  {
   "cell_type": "code",
   "execution_count": null,
   "metadata": {
    "colab": {
     "base_uri": "https://localhost:8080/",
     "height": 407
    },
    "colab_type": "code",
    "executionInfo": {
     "elapsed": 44157,
     "status": "ok",
     "timestamp": 1568433604439,
     "user": {
      "displayName": "vedant kale",
      "photoUrl": "https://lh3.googleusercontent.com/a-/AAuE7mCDab_KFU1MHWEjRsQP-6z1fyiPUiZjRxo9hWUi2w=s64",
      "userId": "16040215375828489081"
     },
     "user_tz": -330
    },
    "id": "y0rWQtF05J3N",
    "outputId": "19981338-28a1-4edb-9282-a6a9150d8637"
   },
   "outputs": [],
   "source": [
    "#getting insight of data and null values in it\n",
    "d1.info()"
   ]
  },
  {
   "cell_type": "code",
   "execution_count": null,
   "metadata": {
    "colab": {
     "base_uri": "https://localhost:8080/",
     "height": 401
    },
    "colab_type": "code",
    "executionInfo": {
     "elapsed": 44145,
     "status": "ok",
     "timestamp": 1568433604441,
     "user": {
      "displayName": "vedant kale",
      "photoUrl": "https://lh3.googleusercontent.com/a-/AAuE7mCDab_KFU1MHWEjRsQP-6z1fyiPUiZjRxo9hWUi2w=s64",
      "userId": "16040215375828489081"
     },
     "user_tz": -330
    },
    "id": "Yaq65roy5J3R",
    "outputId": "58362b54-0e86-4bba-f73f-bd2d8f40d82a",
    "scrolled": true
   },
   "outputs": [],
   "source": [
    "d1.head()"
   ]
  },
  {
   "cell_type": "code",
   "execution_count": null,
   "metadata": {
    "colab": {
     "base_uri": "https://localhost:8080/",
     "height": 336
    },
    "colab_type": "code",
    "executionInfo": {
     "elapsed": 45089,
     "status": "ok",
     "timestamp": 1568433605404,
     "user": {
      "displayName": "vedant kale",
      "photoUrl": "https://lh3.googleusercontent.com/a-/AAuE7mCDab_KFU1MHWEjRsQP-6z1fyiPUiZjRxo9hWUi2w=s64",
      "userId": "16040215375828489081"
     },
     "user_tz": -330
    },
    "id": "eI6I-TRE5J3U",
    "outputId": "0d610da1-1f47-4714-ae06-3c34125122bb",
    "scrolled": true
   },
   "outputs": [],
   "source": [
    "d1.isnull().sum()"
   ]
  },
  {
   "cell_type": "markdown",
   "metadata": {},
   "source": [
    "### Data Cleaning"
   ]
  },
  {
   "cell_type": "code",
   "execution_count": null,
   "metadata": {},
   "outputs": [],
   "source": [
    "for  col in d1.columns:\n",
    "    print(col, d1[col].unique())"
   ]
  },
  {
   "cell_type": "code",
   "execution_count": null,
   "metadata": {
    "colab": {},
    "colab_type": "code",
    "id": "jxrHKsDB5J3W"
   },
   "outputs": [],
   "source": [
    "# found that +AC0- is a misllaneous value adjoined with many data elements\n",
    "# so replacing it with empty string\n",
    "d1=d1.replace(to_replace='\\+AC0\\-' , value='', regex=True)"
   ]
  },
  {
   "cell_type": "code",
   "execution_count": null,
   "metadata": {
    "colab": {
     "base_uri": "https://localhost:8080/",
     "height": 401
    },
    "colab_type": "code",
    "executionInfo": {
     "elapsed": 56985,
     "status": "ok",
     "timestamp": 1568433617320,
     "user": {
      "displayName": "vedant kale",
      "photoUrl": "https://lh3.googleusercontent.com/a-/AAuE7mCDab_KFU1MHWEjRsQP-6z1fyiPUiZjRxo9hWUi2w=s64",
      "userId": "16040215375828489081"
     },
     "user_tz": -330
    },
    "id": "MlBGnRCC5J3Z",
    "outputId": "782f85c1-aebf-42f7-fe5c-01947344a22f"
   },
   "outputs": [],
   "source": [
    "#checking wether the data is cleaned successfully or not\n",
    "for  col in d1.columns:\n",
    "    print(col, d1[col].unique())"
   ]
  },
  {
   "cell_type": "code",
   "execution_count": null,
   "metadata": {
    "colab": {
     "base_uri": "https://localhost:8080/",
     "height": 123
    },
    "colab_type": "code",
    "executionInfo": {
     "elapsed": 56962,
     "status": "ok",
     "timestamp": 1568433617323,
     "user": {
      "displayName": "vedant kale",
      "photoUrl": "https://lh3.googleusercontent.com/a-/AAuE7mCDab_KFU1MHWEjRsQP-6z1fyiPUiZjRxo9hWUi2w=s64",
      "userId": "16040215375828489081"
     },
     "user_tz": -330
    },
    "id": "-r_eg-Xt5J3e",
    "outputId": "80fda3a0-e897-4b52-804c-0ac4e355963b",
    "scrolled": true
   },
   "outputs": [],
   "source": [
    "d1.columns"
   ]
  },
  {
   "cell_type": "code",
   "execution_count": null,
   "metadata": {},
   "outputs": [],
   "source": [
    "# there are few null values so using forward fill to replace them\n",
    "d1_u1=d1\n",
    "d1_u1=d1_u1.fillna(method='ffill')"
   ]
  },
  {
   "cell_type": "markdown",
   "metadata": {},
   "source": [
    "### Manipulating Train Data"
   ]
  },
  {
   "cell_type": "code",
   "execution_count": null,
   "metadata": {},
   "outputs": [],
   "source": [
    "# replacing column names by removing +AF8-\n",
    "d1_u1.columns = ['ID', 'vendor_id', 'pickup_loc', 'drop_loc', 'driver_tip', 'mta_tax',\n",
    "       'distance', 'pickup_time', 'drop_time', 'num_passengers', 'toll_amount',\n",
    "       'payment_method', 'rate_code', 'stored_flag', 'extra_charges',\n",
    "       'improvement_charge','total_amount']"
   ]
  },
  {
   "cell_type": "code",
   "execution_count": null,
   "metadata": {
    "colab": {},
    "colab_type": "code",
    "id": "Dl-fAk385J3k"
   },
   "outputs": [],
   "source": [
    "# replacing N,Y values in stored flag wit 0,1 for ease of computation\n",
    "\n",
    "d1_u1['stored_flag']=d1_u1['stored_flag'].replace(to_replace='N', value=0, regex=True)\n",
    "d1_u1['stored_flag']=d1_u1['stored_flag'].replace(to_replace='Y', value=1, regex=True)   "
   ]
  },
  {
   "cell_type": "code",
   "execution_count": null,
   "metadata": {
    "colab": {
     "base_uri": "https://localhost:8080/",
     "height": 336
    },
    "colab_type": "code",
    "executionInfo": {
     "elapsed": 60239,
     "status": "ok",
     "timestamp": 1568433620654,
     "user": {
      "displayName": "vedant kale",
      "photoUrl": "https://lh3.googleusercontent.com/a-/AAuE7mCDab_KFU1MHWEjRsQP-6z1fyiPUiZjRxo9hWUi2w=s64",
      "userId": "16040215375828489081"
     },
     "user_tz": -330
    },
    "id": "fgAp61SW5J3r",
    "outputId": "d4b6350c-5bd2-4130-8f87-8924e07bb2e8"
   },
   "outputs": [],
   "source": [
    "d1_u1.isnull().sum()   #no null value left"
   ]
  },
  {
   "cell_type": "code",
   "execution_count": null,
   "metadata": {
    "colab": {},
    "colab_type": "code",
    "id": "MbAf3YPR5J3t"
   },
   "outputs": [],
   "source": [
    "# pickup_time and drop_time are object type so converting them to datetime type\n",
    "d1_u1['pickup_time'] = pd.to_datetime(d1_u1['pickup_time'])\n",
    "d1_u1['drop_time'] = pd.to_datetime(d1_u1['drop_time'])\n",
    "\n",
    "# calculating time difference and adding a column time_diff\n",
    "d1_u1['time_diff'] = d1_u1['drop_time']-d1_u1['pickup_time'] \n",
    "d1_u1['time_diff'] = pd.to_datetime(d1_u1['time_diff'])"
   ]
  },
  {
   "cell_type": "code",
   "execution_count": null,
   "metadata": {},
   "outputs": [],
   "source": [
    "d1_u1['pickup_time'] = d1_u1['pickup_time'].dt.hour #+ (d1_u1['pickup_time'].dt.minute/60)\n",
    "d1_u1['drop_time'] = d1_u1['drop_time'].dt.hour #+ (d1_u1['drop_time'].dt.minute/60)"
   ]
  },
  {
   "cell_type": "code",
   "execution_count": null,
   "metadata": {
    "colab": {
     "base_uri": "https://localhost:8080/",
     "height": 72
    },
    "colab_type": "code",
    "executionInfo": {
     "elapsed": 395927,
     "status": "ok",
     "timestamp": 1568433956373,
     "user": {
      "displayName": "vedant kale",
      "photoUrl": "https://lh3.googleusercontent.com/a-/AAuE7mCDab_KFU1MHWEjRsQP-6z1fyiPUiZjRxo9hWUi2w=s64",
      "userId": "16040215375828489081"
     },
     "user_tz": -330
    },
    "id": "fh7sYeia5J3x",
    "outputId": "e5c2ba0f-1934-47cd-fb3c-7243f5940e59"
   },
   "outputs": [],
   "source": [
    "# converting time_diff to minutes\n",
    "\n",
    "d1_u1['journey_duration'] = d1_u1['time_diff'].dt.hour*60 + d1_u1['time_diff'].dt.minute + (d1_u1['time_diff'].dt.second)/60 "
   ]
  },
  {
   "cell_type": "code",
   "execution_count": null,
   "metadata": {},
   "outputs": [],
   "source": [
    "# Converting object type to float for ease of computation\n",
    "\n",
    "d1_u1['driver_tip'] = d1_u1['driver_tip'].astype('float')\n",
    "d1_u1['mta_tax'] = d1_u1['mta_tax'].astype('float')\n",
    "d1_u1['toll_amount'] = d1_u1['toll_amount'].astype('float')\n",
    "d1_u1['extra_charges'] = d1_u1['extra_charges'].astype('float')\n",
    "d1_u1['improvement_charge'] = d1_u1['improvement_charge'].astype('float')\n",
    "d1_u1['total_amount'] = d1_u1['total_amount'].astype('float')"
   ]
  },
  {
   "cell_type": "code",
   "execution_count": null,
   "metadata": {},
   "outputs": [],
   "source": [
    "d1_u1['loc_diff']=d1_u1['drop_loc']-d1_u1['pickup_loc']"
   ]
  },
  {
   "cell_type": "code",
   "execution_count": null,
   "metadata": {},
   "outputs": [],
   "source": [
    "d1_u1.head()"
   ]
  },
  {
   "cell_type": "code",
   "execution_count": null,
   "metadata": {},
   "outputs": [],
   "source": [
    "d1_u1.head()"
   ]
  },
  {
   "cell_type": "markdown",
   "metadata": {},
   "source": [
    "### Loading Test Data"
   ]
  },
  {
   "cell_type": "code",
   "execution_count": null,
   "metadata": {
    "colab": {
     "base_uri": "https://localhost:8080/",
     "height": 390
    },
    "colab_type": "code",
    "executionInfo": {
     "elapsed": 397289,
     "status": "ok",
     "timestamp": 1568433957752,
     "user": {
      "displayName": "vedant kale",
      "photoUrl": "https://lh3.googleusercontent.com/a-/AAuE7mCDab_KFU1MHWEjRsQP-6z1fyiPUiZjRxo9hWUi2w=s64",
      "userId": "16040215375828489081"
     },
     "user_tz": -330
    },
    "id": "UcSUpblW5J34",
    "outputId": "668b5cf9-922f-4c33-a251-d5472fd7f080"
   },
   "outputs": [],
   "source": [
    "d2 = pd.read_csv('test2.csv')\n",
    "d2.info()"
   ]
  },
  {
   "cell_type": "code",
   "execution_count": 1,
   "metadata": {
    "colab": {
     "base_uri": "https://localhost:8080/",
     "height": 318
    },
    "colab_type": "code",
    "executionInfo": {
     "elapsed": 397277,
     "status": "ok",
     "timestamp": 1568433957754,
     "user": {
      "displayName": "vedant kale",
      "photoUrl": "https://lh3.googleusercontent.com/a-/AAuE7mCDab_KFU1MHWEjRsQP-6z1fyiPUiZjRxo9hWUi2w=s64",
      "userId": "16040215375828489081"
     },
     "user_tz": -330
    },
    "id": "DUzsHa3d5J36",
    "outputId": "8f7082bf-a842-4801-c4b3-1c1c4414ad72"
   },
   "outputs": [
    {
     "ename": "NameError",
     "evalue": "name 'd2' is not defined",
     "output_type": "error",
     "traceback": [
      "\u001b[1;31m---------------------------------------------------------------------------\u001b[0m",
      "\u001b[1;31mNameError\u001b[0m                                 Traceback (most recent call last)",
      "\u001b[1;32m<ipython-input-1-6783ba87dfb6>\u001b[0m in \u001b[0;36m<module>\u001b[1;34m\u001b[0m\n\u001b[1;32m----> 1\u001b[1;33m \u001b[0md2\u001b[0m\u001b[1;33m.\u001b[0m\u001b[0misnull\u001b[0m\u001b[1;33m(\u001b[0m\u001b[1;33m)\u001b[0m\u001b[1;33m.\u001b[0m\u001b[0msum\u001b[0m\u001b[1;33m(\u001b[0m\u001b[1;33m)\u001b[0m \u001b[1;31m# No Null values, so no data cleaning required\u001b[0m\u001b[1;33m\u001b[0m\u001b[1;33m\u001b[0m\u001b[0m\n\u001b[0m",
      "\u001b[1;31mNameError\u001b[0m: name 'd2' is not defined"
     ]
    }
   ],
   "source": [
    "d2.isnull().sum() # No Null values, so no data cleaning required "
   ]
  },
  {
   "cell_type": "markdown",
   "metadata": {},
   "source": [
    "### Manipulating Test Data"
   ]
  },
  {
   "cell_type": "code",
   "execution_count": null,
   "metadata": {
    "colab": {
     "base_uri": "https://localhost:8080/",
     "height": 72
    },
    "colab_type": "code",
    "executionInfo": {
     "elapsed": 446809,
     "status": "ok",
     "timestamp": 1568434007299,
     "user": {
      "displayName": "vedant kale",
      "photoUrl": "https://lh3.googleusercontent.com/a-/AAuE7mCDab_KFU1MHWEjRsQP-6z1fyiPUiZjRxo9hWUi2w=s64",
      "userId": "16040215375828489081"
     },
     "user_tz": -330
    },
    "id": "0Xq9vwn95J39",
    "outputId": "efb0df29-8adc-4880-9e3a-a0f1dcf97f76"
   },
   "outputs": [],
   "source": [
    "# pickup_time and drop_time are object type so converting them to datetime type\n",
    "\n",
    "d2['pickup_time'] = pd.to_datetime(d2['pickup_time'])\n",
    "d2['drop_time'] = pd.to_datetime(d2['drop_time'])\n",
    "\n",
    "\n",
    "# calculating time difference and adding a column time_diff\n",
    "d2['time_diff'] = d2['drop_time']-d2['pickup_time'] \n",
    "d2['time_diff'] = pd.to_datetime(d2['time_diff'])\n",
    "\n",
    "# Converting object type to float for ease of computation\n",
    "d2['journey_duration'] = d2['time_diff'].dt.hour*60 + d2['time_diff'].dt.minute + (d2['time_diff'].dt.second)/60 "
   ]
  },
  {
   "cell_type": "code",
   "execution_count": 24,
   "metadata": {},
   "outputs": [],
   "source": [
    "d2['pickup_time'] = d2['pickup_time'].dt.hour #+ (d2['pickup_time'].dt.minute/60)\n",
    "d2['drop_time'] = d2['drop_time'].dt.hour #+ (d2['drop_time'].dt.minute/60)"
   ]
  },
  {
   "cell_type": "code",
   "execution_count": 25,
   "metadata": {
    "colab": {},
    "colab_type": "code",
    "id": "FMhf7uY35J4A"
   },
   "outputs": [],
   "source": [
    "# replacing N,Y values in stored flag wit 0,1 for ease of computation\n",
    "\n",
    "d2['stored_flag']=d2['stored_flag'].replace(to_replace='N', value=0, regex=True)\n",
    "d2['stored_flag']=d2['stored_flag'].replace(to_replace='Y', value=1, regex=True)    "
   ]
  },
  {
   "cell_type": "code",
   "execution_count": 26,
   "metadata": {},
   "outputs": [],
   "source": [
    "d2['loc_diff']=d2['drop_loc']-d2['pickup_loc']"
   ]
  },
  {
   "cell_type": "code",
   "execution_count": 27,
   "metadata": {
    "colab": {
     "base_uri": "https://localhost:8080/",
     "height": 384
    },
    "colab_type": "code",
    "executionInfo": {
     "elapsed": 446794,
     "status": "ok",
     "timestamp": 1568434007301,
     "user": {
      "displayName": "vedant kale",
      "photoUrl": "https://lh3.googleusercontent.com/a-/AAuE7mCDab_KFU1MHWEjRsQP-6z1fyiPUiZjRxo9hWUi2w=s64",
      "userId": "16040215375828489081"
     },
     "user_tz": -330
    },
    "id": "UzyB2NtL5J4D",
    "outputId": "0ca89c34-db07-480f-aef8-2d8053bd898d"
   },
   "outputs": [
    {
     "data": {
      "text/html": [
       "<div>\n",
       "<style scoped>\n",
       "    .dataframe tbody tr th:only-of-type {\n",
       "        vertical-align: middle;\n",
       "    }\n",
       "\n",
       "    .dataframe tbody tr th {\n",
       "        vertical-align: top;\n",
       "    }\n",
       "\n",
       "    .dataframe thead th {\n",
       "        text-align: right;\n",
       "    }\n",
       "</style>\n",
       "<table border=\"1\" class=\"dataframe\">\n",
       "  <thead>\n",
       "    <tr style=\"text-align: right;\">\n",
       "      <th></th>\n",
       "      <th>ID</th>\n",
       "      <th>vendor_id</th>\n",
       "      <th>pickup_loc</th>\n",
       "      <th>drop_loc</th>\n",
       "      <th>driver_tip</th>\n",
       "      <th>mta_tax</th>\n",
       "      <th>distance</th>\n",
       "      <th>pickup_time</th>\n",
       "      <th>drop_time</th>\n",
       "      <th>num_passengers</th>\n",
       "      <th>toll_amount</th>\n",
       "      <th>payment_method</th>\n",
       "      <th>rate_code</th>\n",
       "      <th>stored_flag</th>\n",
       "      <th>extra_charges</th>\n",
       "      <th>improvement_charge</th>\n",
       "      <th>time_diff</th>\n",
       "      <th>journey_duration</th>\n",
       "      <th>loc_diff</th>\n",
       "    </tr>\n",
       "  </thead>\n",
       "  <tbody>\n",
       "    <tr>\n",
       "      <th>0</th>\n",
       "      <td>0</td>\n",
       "      <td>1</td>\n",
       "      <td>68.0</td>\n",
       "      <td>186.0</td>\n",
       "      <td>1.00</td>\n",
       "      <td>0.5</td>\n",
       "      <td>0.70</td>\n",
       "      <td>5</td>\n",
       "      <td>5</td>\n",
       "      <td>1.0</td>\n",
       "      <td>0.0</td>\n",
       "      <td>1.0</td>\n",
       "      <td>1.0</td>\n",
       "      <td>0</td>\n",
       "      <td>0.5</td>\n",
       "      <td>0.3</td>\n",
       "      <td>1970-01-01 00:04:17</td>\n",
       "      <td>4.283333</td>\n",
       "      <td>118.0</td>\n",
       "    </tr>\n",
       "    <tr>\n",
       "      <th>1</th>\n",
       "      <td>1</td>\n",
       "      <td>1</td>\n",
       "      <td>170.0</td>\n",
       "      <td>161.0</td>\n",
       "      <td>2.55</td>\n",
       "      <td>0.5</td>\n",
       "      <td>1.00</td>\n",
       "      <td>8</td>\n",
       "      <td>9</td>\n",
       "      <td>1.0</td>\n",
       "      <td>0.0</td>\n",
       "      <td>1.0</td>\n",
       "      <td>1.0</td>\n",
       "      <td>0</td>\n",
       "      <td>0.0</td>\n",
       "      <td>0.3</td>\n",
       "      <td>1970-01-01 00:18:33</td>\n",
       "      <td>18.550000</td>\n",
       "      <td>-9.0</td>\n",
       "    </tr>\n",
       "    <tr>\n",
       "      <th>2</th>\n",
       "      <td>2</td>\n",
       "      <td>2</td>\n",
       "      <td>13.0</td>\n",
       "      <td>246.0</td>\n",
       "      <td>2.96</td>\n",
       "      <td>0.5</td>\n",
       "      <td>3.35</td>\n",
       "      <td>8</td>\n",
       "      <td>8</td>\n",
       "      <td>2.0</td>\n",
       "      <td>0.0</td>\n",
       "      <td>1.0</td>\n",
       "      <td>1.0</td>\n",
       "      <td>0</td>\n",
       "      <td>0.0</td>\n",
       "      <td>0.3</td>\n",
       "      <td>1970-01-01 00:14:52</td>\n",
       "      <td>14.866667</td>\n",
       "      <td>233.0</td>\n",
       "    </tr>\n",
       "    <tr>\n",
       "      <th>3</th>\n",
       "      <td>3</td>\n",
       "      <td>1</td>\n",
       "      <td>170.0</td>\n",
       "      <td>233.0</td>\n",
       "      <td>2.00</td>\n",
       "      <td>0.5</td>\n",
       "      <td>0.80</td>\n",
       "      <td>8</td>\n",
       "      <td>8</td>\n",
       "      <td>2.0</td>\n",
       "      <td>0.0</td>\n",
       "      <td>1.0</td>\n",
       "      <td>1.0</td>\n",
       "      <td>0</td>\n",
       "      <td>0.0</td>\n",
       "      <td>0.3</td>\n",
       "      <td>1970-01-01 00:05:47</td>\n",
       "      <td>5.783333</td>\n",
       "      <td>63.0</td>\n",
       "    </tr>\n",
       "    <tr>\n",
       "      <th>4</th>\n",
       "      <td>4</td>\n",
       "      <td>1</td>\n",
       "      <td>237.0</td>\n",
       "      <td>236.0</td>\n",
       "      <td>1.00</td>\n",
       "      <td>0.5</td>\n",
       "      <td>0.70</td>\n",
       "      <td>10</td>\n",
       "      <td>11</td>\n",
       "      <td>1.0</td>\n",
       "      <td>0.0</td>\n",
       "      <td>1.0</td>\n",
       "      <td>1.0</td>\n",
       "      <td>1</td>\n",
       "      <td>0.0</td>\n",
       "      <td>0.3</td>\n",
       "      <td>1970-01-01 00:06:53</td>\n",
       "      <td>6.883333</td>\n",
       "      <td>-1.0</td>\n",
       "    </tr>\n",
       "  </tbody>\n",
       "</table>\n",
       "</div>"
      ],
      "text/plain": [
       "   ID  vendor_id  pickup_loc  drop_loc  driver_tip  mta_tax  distance  \\\n",
       "0   0          1        68.0     186.0        1.00      0.5      0.70   \n",
       "1   1          1       170.0     161.0        2.55      0.5      1.00   \n",
       "2   2          2        13.0     246.0        2.96      0.5      3.35   \n",
       "3   3          1       170.0     233.0        2.00      0.5      0.80   \n",
       "4   4          1       237.0     236.0        1.00      0.5      0.70   \n",
       "\n",
       "   pickup_time  drop_time  num_passengers  toll_amount  payment_method  \\\n",
       "0            5          5             1.0          0.0             1.0   \n",
       "1            8          9             1.0          0.0             1.0   \n",
       "2            8          8             2.0          0.0             1.0   \n",
       "3            8          8             2.0          0.0             1.0   \n",
       "4           10         11             1.0          0.0             1.0   \n",
       "\n",
       "   rate_code  stored_flag  extra_charges  improvement_charge  \\\n",
       "0        1.0            0            0.5                 0.3   \n",
       "1        1.0            0            0.0                 0.3   \n",
       "2        1.0            0            0.0                 0.3   \n",
       "3        1.0            0            0.0                 0.3   \n",
       "4        1.0            1            0.0                 0.3   \n",
       "\n",
       "            time_diff  journey_duration  loc_diff  \n",
       "0 1970-01-01 00:04:17          4.283333     118.0  \n",
       "1 1970-01-01 00:18:33         18.550000      -9.0  \n",
       "2 1970-01-01 00:14:52         14.866667     233.0  \n",
       "3 1970-01-01 00:05:47          5.783333      63.0  \n",
       "4 1970-01-01 00:06:53          6.883333      -1.0  "
      ]
     },
     "execution_count": 27,
     "metadata": {},
     "output_type": "execute_result"
    }
   ],
   "source": [
    "d2.head()"
   ]
  },
  {
   "cell_type": "markdown",
   "metadata": {},
   "source": [
    "### Creating X_train, X_test, Y_train from d1_u1 and d2"
   ]
  },
  {
   "cell_type": "code",
   "execution_count": 28,
   "metadata": {},
   "outputs": [
    {
     "data": {
      "text/plain": [
       "Index(['ID', 'vendor_id', 'pickup_loc', 'drop_loc', 'driver_tip', 'mta_tax',\n",
       "       'distance', 'pickup_time', 'drop_time', 'num_passengers', 'toll_amount',\n",
       "       'payment_method', 'rate_code', 'stored_flag', 'extra_charges',\n",
       "       'improvement_charge', 'time_diff', 'journey_duration', 'loc_diff'],\n",
       "      dtype='object')"
      ]
     },
     "execution_count": 28,
     "metadata": {},
     "output_type": "execute_result"
    }
   ],
   "source": [
    "d2.columns"
   ]
  },
  {
   "cell_type": "code",
   "execution_count": 29,
   "metadata": {
    "colab": {
     "base_uri": "https://localhost:8080/",
     "height": 34
    },
    "colab_type": "code",
    "executionInfo": {
     "elapsed": 446779,
     "status": "ok",
     "timestamp": 1568434007302,
     "user": {
      "displayName": "vedant kale",
      "photoUrl": "https://lh3.googleusercontent.com/a-/AAuE7mCDab_KFU1MHWEjRsQP-6z1fyiPUiZjRxo9hWUi2w=s64",
      "userId": "16040215375828489081"
     },
     "user_tz": -330
    },
    "id": "nZJuIka45J4F",
    "outputId": "42b5ee94-2b08-43b4-de67-679485fb63ce"
   },
   "outputs": [
    {
     "data": {
      "text/plain": [
       "(1048575, 17)"
      ]
     },
     "execution_count": 29,
     "metadata": {},
     "output_type": "execute_result"
    }
   ],
   "source": [
    "# taking all columns of d1_u1 except ID in X_train\n",
    "X_train = d1_u1[[ 'vendor_id', 'pickup_loc', 'drop_loc', 'driver_tip', 'mta_tax',\n",
    "       'distance', 'pickup_time', 'drop_time', 'num_passengers', 'toll_amount',\n",
    "       'payment_method', 'rate_code', 'stored_flag', 'extra_charges',\n",
    "       'improvement_charge', 'journey_duration', 'loc_diff']]\n",
    "X_train.shape"
   ]
  },
  {
   "cell_type": "code",
   "execution_count": 30,
   "metadata": {
    "colab": {
     "base_uri": "https://localhost:8080/",
     "height": 34
    },
    "colab_type": "code",
    "executionInfo": {
     "elapsed": 446765,
     "status": "ok",
     "timestamp": 1568434007302,
     "user": {
      "displayName": "vedant kale",
      "photoUrl": "https://lh3.googleusercontent.com/a-/AAuE7mCDab_KFU1MHWEjRsQP-6z1fyiPUiZjRxo9hWUi2w=s64",
      "userId": "16040215375828489081"
     },
     "user_tz": -330
    },
    "id": "AyLI8PMy5J4H",
    "outputId": "b9e82df3-902d-42c0-c1b0-5613c0d9e409"
   },
   "outputs": [
    {
     "data": {
      "text/plain": [
       "(1048575,)"
      ]
     },
     "execution_count": 30,
     "metadata": {},
     "output_type": "execute_result"
    }
   ],
   "source": [
    "# total_amount is taken as output and stored in Y_train\n",
    "Y_train = d1_u1['total_amount']\n",
    "Y_train.shape"
   ]
  },
  {
   "cell_type": "code",
   "execution_count": 31,
   "metadata": {
    "colab": {
     "base_uri": "https://localhost:8080/",
     "height": 34
    },
    "colab_type": "code",
    "executionInfo": {
     "elapsed": 447139,
     "status": "ok",
     "timestamp": 1568434007703,
     "user": {
      "displayName": "vedant kale",
      "photoUrl": "https://lh3.googleusercontent.com/a-/AAuE7mCDab_KFU1MHWEjRsQP-6z1fyiPUiZjRxo9hWUi2w=s64",
      "userId": "16040215375828489081"
     },
     "user_tz": -330
    },
    "id": "SZa6TBOb5J4M",
    "outputId": "1f6f3a3a-3d7d-41fa-c7cc-7a243af3930c"
   },
   "outputs": [
    {
     "data": {
      "text/plain": [
       "(154235, 17)"
      ]
     },
     "execution_count": 31,
     "metadata": {},
     "output_type": "execute_result"
    }
   ],
   "source": [
    "# taking all columns of d2 except ID in X_test\n",
    "X_test = d2[[ 'vendor_id', 'pickup_loc', 'drop_loc', 'driver_tip', 'mta_tax',\n",
    "       'distance', 'pickup_time', 'drop_time', 'num_passengers', 'toll_amount',\n",
    "       'payment_method', 'rate_code', 'stored_flag', 'extra_charges',\n",
    "       'improvement_charge', 'journey_duration', 'loc_diff']]\n",
    "X_test.shape"
   ]
  },
  {
   "cell_type": "code",
   "execution_count": 32,
   "metadata": {
    "colab": {
     "base_uri": "https://localhost:8080/",
     "height": 354
    },
    "colab_type": "code",
    "executionInfo": {
     "elapsed": 447595,
     "status": "ok",
     "timestamp": 1568434008184,
     "user": {
      "displayName": "vedant kale",
      "photoUrl": "https://lh3.googleusercontent.com/a-/AAuE7mCDab_KFU1MHWEjRsQP-6z1fyiPUiZjRxo9hWUi2w=s64",
      "userId": "16040215375828489081"
     },
     "user_tz": -330
    },
    "id": "2t9AEtS21Zmk",
    "outputId": "acf86f4b-3eef-4085-8070-0cc856f95e9c"
   },
   "outputs": [
    {
     "name": "stdout",
     "output_type": "stream",
     "text": [
      "<class 'pandas.core.frame.DataFrame'>\n",
      "RangeIndex: 1048575 entries, 0 to 1048574\n",
      "Data columns (total 17 columns):\n",
      "vendor_id             1048575 non-null float64\n",
      "pickup_loc            1048575 non-null float64\n",
      "drop_loc              1048575 non-null float64\n",
      "driver_tip            1048575 non-null float64\n",
      "mta_tax               1048575 non-null float64\n",
      "distance              1048575 non-null float64\n",
      "pickup_time           1048575 non-null int64\n",
      "drop_time             1048575 non-null int64\n",
      "num_passengers        1048575 non-null float64\n",
      "toll_amount           1048575 non-null float64\n",
      "payment_method        1048575 non-null float64\n",
      "rate_code             1048575 non-null float64\n",
      "stored_flag           1048575 non-null int64\n",
      "extra_charges         1048575 non-null float64\n",
      "improvement_charge    1048575 non-null float64\n",
      "journey_duration      1048575 non-null float64\n",
      "loc_diff              1048575 non-null float64\n",
      "dtypes: float64(14), int64(3)\n",
      "memory usage: 136.0 MB\n"
     ]
    },
    {
     "data": {
      "text/plain": [
       "(None, count    1.048575e+06\n",
       " mean     1.622720e+01\n",
       " std      1.508591e+01\n",
       " min      0.000000e+00\n",
       " 25%      8.500000e+00\n",
       " 50%      1.176000e+01\n",
       " 75%      1.775000e+01\n",
       " max      2.759370e+03\n",
       " Name: total_amount, dtype: float64)"
      ]
     },
     "execution_count": 32,
     "metadata": {},
     "output_type": "execute_result"
    }
   ],
   "source": [
    "X_train.info(), Y_train.describe()"
   ]
  },
  {
   "cell_type": "markdown",
   "metadata": {},
   "source": [
    "### Data Visualization"
   ]
  },
  {
   "cell_type": "code",
   "execution_count": 39,
   "metadata": {
    "colab": {
     "base_uri": "https://localhost:8080/",
     "height": 301
    },
    "colab_type": "code",
    "executionInfo": {
     "elapsed": 480207,
     "status": "ok",
     "timestamp": 1568434040839,
     "user": {
      "displayName": "vedant kale",
      "photoUrl": "https://lh3.googleusercontent.com/a-/AAuE7mCDab_KFU1MHWEjRsQP-6z1fyiPUiZjRxo9hWUi2w=s64",
      "userId": "16040215375828489081"
     },
     "user_tz": -330
    },
    "id": "_cgLkogHynai",
    "outputId": "cf25f2a1-11a6-4288-9c5e-096e42d75427"
   },
   "outputs": [
    {
     "data": {
      "text/plain": [
       "Text(0, 0.5, 'total_fare')"
      ]
     },
     "execution_count": 39,
     "metadata": {},
     "output_type": "execute_result"
    },
    {
     "data": {
      "image/png": "[encoded data removed]",
      "text/plain": [
       "<Figure size 432x288 with 1 Axes>"
      ]
     },
     "metadata": {
      "needs_background": "light"
     },
     "output_type": "display_data"
    }
   ],
   "source": [
    "# graph is ploted between pickup_loc and total_fare\n",
    "\n",
    "plt.scatter(X_train['pickup_loc'], Y_train)\n",
    "plt.ylim(0,1000)\n",
    "plt.xlabel('pickup_loc')\n",
    "plt.ylabel('total_fare')"
   ]
  },
  {
   "cell_type": "code",
   "execution_count": 40,
   "metadata": {
    "colab": {
     "base_uri": "https://localhost:8080/",
     "height": 301
    },
    "colab_type": "code",
    "executionInfo": {
     "elapsed": 480207,
     "status": "ok",
     "timestamp": 1568434040839,
     "user": {
      "displayName": "vedant kale",
      "photoUrl": "https://lh3.googleusercontent.com/a-/AAuE7mCDab_KFU1MHWEjRsQP-6z1fyiPUiZjRxo9hWUi2w=s64",
      "userId": "16040215375828489081"
     },
     "user_tz": -330
    },
    "id": "_cgLkogHynai",
    "outputId": "cf25f2a1-11a6-4288-9c5e-096e42d75427",
    "scrolled": true
   },
   "outputs": [
    {
     "data": {
      "text/plain": [
       "Text(0, 0.5, 'total_fare')"
      ]
     },
     "execution_count": 40,
     "metadata": {},
     "output_type": "execute_result"
    },
    {
     "data": {
      "image/png": "[encoded data removed]",
      "text/plain": [
       "<Figure size 432x288 with 1 Axes>"
      ]
     },
     "metadata": {
      "needs_background": "light"
     },
     "output_type": "display_data"
    }
   ],
   "source": [
    "# graph is ploted between drop_loc and total_fare\n",
    "\n",
    "plt.scatter(X_train['drop_loc'], Y_train)\n",
    "plt.ylim(0,1000)\n",
    "plt.xlabel('drop_loc')\n",
    "plt.ylabel('total_fare')"
   ]
  },
  {
   "cell_type": "code",
   "execution_count": 41,
   "metadata": {
    "colab": {
     "base_uri": "https://localhost:8080/",
     "height": 301
    },
    "colab_type": "code",
    "executionInfo": {
     "elapsed": 480207,
     "status": "ok",
     "timestamp": 1568434040839,
     "user": {
      "displayName": "vedant kale",
      "photoUrl": "https://lh3.googleusercontent.com/a-/AAuE7mCDab_KFU1MHWEjRsQP-6z1fyiPUiZjRxo9hWUi2w=s64",
      "userId": "16040215375828489081"
     },
     "user_tz": -330
    },
    "id": "_cgLkogHynai",
    "outputId": "cf25f2a1-11a6-4288-9c5e-096e42d75427"
   },
   "outputs": [
    {
     "data": {
      "text/plain": [
       "Text(0, 0.5, 'total_fare')"
      ]
     },
     "execution_count": 41,
     "metadata": {},
     "output_type": "execute_result"
    },
    {
     "data": {
      "image/png": "[encoded data removed]",
      "text/plain": [
       "<Figure size 432x288 with 1 Axes>"
      ]
     },
     "metadata": {
      "needs_background": "light"
     },
     "output_type": "display_data"
    }
   ],
   "source": [
    "# graph is ploted between loc_diff and total_fare\n",
    "\n",
    "plt.scatter(X_train['loc_diff'], Y_train)\n",
    "plt.ylim(0,1000)\n",
    "plt.xlabel('loc_diff')\n",
    "plt.ylabel('total_fare')"
   ]
  },
  {
   "cell_type": "code",
   "execution_count": 42,
   "metadata": {
    "colab": {
     "base_uri": "https://localhost:8080/",
     "height": 301
    },
    "colab_type": "code",
    "executionInfo": {
     "elapsed": 480207,
     "status": "ok",
     "timestamp": 1568434040839,
     "user": {
      "displayName": "vedant kale",
      "photoUrl": "https://lh3.googleusercontent.com/a-/AAuE7mCDab_KFU1MHWEjRsQP-6z1fyiPUiZjRxo9hWUi2w=s64",
      "userId": "16040215375828489081"
     },
     "user_tz": -330
    },
    "id": "_cgLkogHynai",
    "outputId": "cf25f2a1-11a6-4288-9c5e-096e42d75427",
    "scrolled": true
   },
   "outputs": [
    {
     "data": {
      "text/plain": [
       "Text(0, 0.5, 'total_fare')"
      ]
     },
     "execution_count": 42,
     "metadata": {},
     "output_type": "execute_result"
    },
    {
     "data": {
      "image/png": "[encoded data removed]",
      "text/plain": [
       "<Figure size 432x288 with 1 Axes>"
      ]
     },
     "metadata": {
      "needs_background": "light"
     },
     "output_type": "display_data"
    }
   ],
   "source": [
    "# graph is ploted between pickup_time and total_fare\n",
    "\n",
    "plt.scatter(X_train['pickup_time'], Y_train)\n",
    "plt.ylim(0,1000)\n",
    "plt.xlim(0,25)\n",
    "plt.xlabel('pickup_time')\n",
    "plt.ylabel('total_fare')"
   ]
  },
  {
   "cell_type": "code",
   "execution_count": 43,
   "metadata": {
    "colab": {
     "base_uri": "https://localhost:8080/",
     "height": 301
    },
    "colab_type": "code",
    "executionInfo": {
     "elapsed": 480207,
     "status": "ok",
     "timestamp": 1568434040839,
     "user": {
      "displayName": "vedant kale",
      "photoUrl": "https://lh3.googleusercontent.com/a-/AAuE7mCDab_KFU1MHWEjRsQP-6z1fyiPUiZjRxo9hWUi2w=s64",
      "userId": "16040215375828489081"
     },
     "user_tz": -330
    },
    "id": "_cgLkogHynai",
    "outputId": "cf25f2a1-11a6-4288-9c5e-096e42d75427",
    "scrolled": true
   },
   "outputs": [
    {
     "data": {
      "text/plain": [
       "Text(0, 0.5, 'total_fare')"
      ]
     },
     "execution_count": 43,
     "metadata": {},
     "output_type": "execute_result"
    },
    {
     "data": {
      "image/png": "[encoded data removed]",
      "text/plain": [
       "<Figure size 432x288 with 1 Axes>"
      ]
     },
     "metadata": {
      "needs_background": "light"
     },
     "output_type": "display_data"
    }
   ],
   "source": [
    "# graph is ploted between drop_time and total_fare\n",
    "\n",
    "plt.scatter(X_train['drop_time'], Y_train)\n",
    "plt.ylim(0,1000)\n",
    "plt.xlim(0,25)\n",
    "plt.xlabel('drop_time')\n",
    "plt.ylabel('total_fare')"
   ]
  },
  {
   "cell_type": "code",
   "execution_count": 44,
   "metadata": {
    "colab": {
     "base_uri": "https://localhost:8080/",
     "height": 301
    },
    "colab_type": "code",
    "executionInfo": {
     "elapsed": 573949,
     "status": "ok",
     "timestamp": 1568434134697,
     "user": {
      "displayName": "vedant kale",
      "photoUrl": "https://lh3.googleusercontent.com/a-/AAuE7mCDab_KFU1MHWEjRsQP-6z1fyiPUiZjRxo9hWUi2w=s64",
      "userId": "16040215375828489081"
     },
     "user_tz": -330
    },
    "id": "zZGPNnNEBMFw",
    "outputId": "641ac44e-5caa-47c6-9408-3ef68a67c0bd",
    "scrolled": true
   },
   "outputs": [
    {
     "data": {
      "text/plain": [
       "Text(0, 0.5, 'total_fare')"
      ]
     },
     "execution_count": 44,
     "metadata": {},
     "output_type": "execute_result"
    },
    {
     "data": {
      "image/png": "[encoded data removed]",
      "text/plain": [
       "<Figure size 432x288 with 1 Axes>"
      ]
     },
     "metadata": {
      "needs_background": "light"
     },
     "output_type": "display_data"
    }
   ],
   "source": [
    "# graph is ploted between journey_duration and total_fare\n",
    "\n",
    "plt.scatter(X_train['journey_duration'], Y_train)\n",
    "plt.xlabel('journey_duration')\n",
    "# plt.xlim(0,100)\n",
    "# plt.ylim(0,750)\n",
    "plt.ylabel('total_fare')"
   ]
  },
  {
   "cell_type": "code",
   "execution_count": 45,
   "metadata": {
    "colab": {
     "base_uri": "https://localhost:8080/",
     "height": 300
    },
    "colab_type": "code",
    "executionInfo": {
     "elapsed": 490794,
     "status": "ok",
     "timestamp": 1568434051441,
     "user": {
      "displayName": "vedant kale",
      "photoUrl": "https://lh3.googleusercontent.com/a-/AAuE7mCDab_KFU1MHWEjRsQP-6z1fyiPUiZjRxo9hWUi2w=s64",
      "userId": "16040215375828489081"
     },
     "user_tz": -330
    },
    "id": "K29KSqbG78lm",
    "outputId": "f2cf6b93-6c83-41c3-f802-14c78526b3ea"
   },
   "outputs": [
    {
     "data": {
      "text/plain": [
       "Text(0, 0.5, 'total_fare')"
      ]
     },
     "execution_count": 45,
     "metadata": {},
     "output_type": "execute_result"
    },
    {
     "data": {
      "image/png": "[encoded data removed]",
      "text/plain": [
       "<Figure size 432x288 with 1 Axes>"
      ]
     },
     "metadata": {
      "needs_background": "light"
     },
     "output_type": "display_data"
    }
   ],
   "source": [
    "# graph is ploted between distance and total_fare\n",
    "\n",
    "plt.scatter(X_train['distance'], Y_train)\n",
    "plt.xlabel('distance')\n",
    "plt.xlim(0,85)\n",
    "plt.ylim(0,750)\n",
    "plt.ylabel('total_fare')"
   ]
  },
  {
   "cell_type": "code",
   "execution_count": 46,
   "metadata": {
    "colab": {
     "base_uri": "https://localhost:8080/",
     "height": 300
    },
    "colab_type": "code",
    "executionInfo": {
     "elapsed": 500819,
     "status": "ok",
     "timestamp": 1568434061479,
     "user": {
      "displayName": "vedant kale",
      "photoUrl": "https://lh3.googleusercontent.com/a-/AAuE7mCDab_KFU1MHWEjRsQP-6z1fyiPUiZjRxo9hWUi2w=s64",
      "userId": "16040215375828489081"
     },
     "user_tz": -330
    },
    "id": "3DurBC6678sz",
    "outputId": "4cb27791-5335-4592-d3c3-7218669692e7"
   },
   "outputs": [
    {
     "data": {
      "text/plain": [
       "Text(0, 0.5, 'total_fare')"
      ]
     },
     "execution_count": 46,
     "metadata": {},
     "output_type": "execute_result"
    },
    {
     "data": {
      "image/png": "[encoded data removed]",
      "text/plain": [
       "<Figure size 432x288 with 1 Axes>"
      ]
     },
     "metadata": {
      "needs_background": "light"
     },
     "output_type": "display_data"
    }
   ],
   "source": [
    "# graph is ploted between driver_tip and total_fare\n",
    "\n",
    "plt.scatter(X_train['driver_tip'], Y_train)\n",
    "plt.xlabel('driver_tip')\n",
    "plt.xlim(0,230)\n",
    "plt.ylim(0,750)\n",
    "plt.ylabel('total_fare')"
   ]
  },
  {
   "cell_type": "code",
   "execution_count": 47,
   "metadata": {
    "colab": {
     "base_uri": "https://localhost:8080/",
     "height": 300
    },
    "colab_type": "code",
    "executionInfo": {
     "elapsed": 511426,
     "status": "ok",
     "timestamp": 1568434072099,
     "user": {
      "displayName": "vedant kale",
      "photoUrl": "https://lh3.googleusercontent.com/a-/AAuE7mCDab_KFU1MHWEjRsQP-6z1fyiPUiZjRxo9hWUi2w=s64",
      "userId": "16040215375828489081"
     },
     "user_tz": -330
    },
    "id": "KMypb0eo78y3",
    "outputId": "c42ac250-a449-4cd5-8186-7e5d185ecf22"
   },
   "outputs": [
    {
     "data": {
      "text/plain": [
       "Text(0, 0.5, 'total_fare')"
      ]
     },
     "execution_count": 47,
     "metadata": {},
     "output_type": "execute_result"
    },
    {
     "name": "stdout",
     "output_type": "stream",
     "text": [
      "Error in callback <function flush_figures at 0x0000014D512D4D90> (for post_execute):\n"
     ]
    },
    {
     "ename": "KeyboardInterrupt",
     "evalue": "",
     "output_type": "error",
     "traceback": [
      "\u001b[1;31m---------------------------------------------------------------------------\u001b[0m",
      "\u001b[1;31mKeyboardInterrupt\u001b[0m                         Traceback (most recent call last)",
      "\u001b[1;32mC:\\ProgramData\\Anaconda3\\lib\\site-packages\\ipykernel\\pylab\\backend_inline.py\u001b[0m in \u001b[0;36mflush_figures\u001b[1;34m()\u001b[0m\n\u001b[0;32m    115\u001b[0m         \u001b[1;31m# ignore the tracking, just draw and close all figures\u001b[0m\u001b[1;33m\u001b[0m\u001b[1;33m\u001b[0m\u001b[1;33m\u001b[0m\u001b[0m\n\u001b[0;32m    116\u001b[0m         \u001b[1;32mtry\u001b[0m\u001b[1;33m:\u001b[0m\u001b[1;33m\u001b[0m\u001b[1;33m\u001b[0m\u001b[0m\n\u001b[1;32m--> 117\u001b[1;33m             \u001b[1;32mreturn\u001b[0m \u001b[0mshow\u001b[0m\u001b[1;33m(\u001b[0m\u001b[1;32mTrue\u001b[0m\u001b[1;33m)\u001b[0m\u001b[1;33m\u001b[0m\u001b[1;33m\u001b[0m\u001b[0m\n\u001b[0m\u001b[0;32m    118\u001b[0m         \u001b[1;32mexcept\u001b[0m \u001b[0mException\u001b[0m \u001b[1;32mas\u001b[0m \u001b[0me\u001b[0m\u001b[1;33m:\u001b[0m\u001b[1;33m\u001b[0m\u001b[1;33m\u001b[0m\u001b[0m\n\u001b[0;32m    119\u001b[0m             \u001b[1;31m# safely show traceback if in IPython, else raise\u001b[0m\u001b[1;33m\u001b[0m\u001b[1;33m\u001b[0m\u001b[1;33m\u001b[0m\u001b[0m\n",
      "\u001b[1;32mC:\\ProgramData\\Anaconda3\\lib\\site-packages\\ipykernel\\pylab\\backend_inline.py\u001b[0m in \u001b[0;36mshow\u001b[1;34m(close, block)\u001b[0m\n\u001b[0;32m     37\u001b[0m             display(\n\u001b[0;32m     38\u001b[0m                 \u001b[0mfigure_manager\u001b[0m\u001b[1;33m.\u001b[0m\u001b[0mcanvas\u001b[0m\u001b[1;33m.\u001b[0m\u001b[0mfigure\u001b[0m\u001b[1;33m,\u001b[0m\u001b[1;33m\u001b[0m\u001b[1;33m\u001b[0m\u001b[0m\n\u001b[1;32m---> 39\u001b[1;33m                 \u001b[0mmetadata\u001b[0m\u001b[1;33m=\u001b[0m\u001b[0m_fetch_figure_metadata\u001b[0m\u001b[1;33m(\u001b[0m\u001b[0mfigure_manager\u001b[0m\u001b[1;33m.\u001b[0m\u001b[0mcanvas\u001b[0m\u001b[1;33m.\u001b[0m\u001b[0mfigure\u001b[0m\u001b[1;33m)\u001b[0m\u001b[1;33m\u001b[0m\u001b[1;33m\u001b[0m\u001b[0m\n\u001b[0m\u001b[0;32m     40\u001b[0m             )\n\u001b[0;32m     41\u001b[0m     \u001b[1;32mfinally\u001b[0m\u001b[1;33m:\u001b[0m\u001b[1;33m\u001b[0m\u001b[1;33m\u001b[0m\u001b[0m\n",
      "\u001b[1;32mC:\\ProgramData\\Anaconda3\\lib\\site-packages\\IPython\\core\\display.py\u001b[0m in \u001b[0;36mdisplay\u001b[1;34m(include, exclude, metadata, transient, display_id, *objs, **kwargs)\u001b[0m\n\u001b[0;32m    304\u001b[0m             \u001b[0mpublish_display_data\u001b[0m\u001b[1;33m(\u001b[0m\u001b[0mdata\u001b[0m\u001b[1;33m=\u001b[0m\u001b[0mobj\u001b[0m\u001b[1;33m,\u001b[0m \u001b[0mmetadata\u001b[0m\u001b[1;33m=\u001b[0m\u001b[0mmetadata\u001b[0m\u001b[1;33m,\u001b[0m \u001b[1;33m**\u001b[0m\u001b[0mkwargs\u001b[0m\u001b[1;33m)\u001b[0m\u001b[1;33m\u001b[0m\u001b[1;33m\u001b[0m\u001b[0m\n\u001b[0;32m    305\u001b[0m         \u001b[1;32melse\u001b[0m\u001b[1;33m:\u001b[0m\u001b[1;33m\u001b[0m\u001b[1;33m\u001b[0m\u001b[0m\n\u001b[1;32m--> 306\u001b[1;33m             \u001b[0mformat_dict\u001b[0m\u001b[1;33m,\u001b[0m \u001b[0mmd_dict\u001b[0m \u001b[1;33m=\u001b[0m \u001b[0mformat\u001b[0m\u001b[1;33m(\u001b[0m\u001b[0mobj\u001b[0m\u001b[1;33m,\u001b[0m \u001b[0minclude\u001b[0m\u001b[1;33m=\u001b[0m\u001b[0minclude\u001b[0m\u001b[1;33m,\u001b[0m \u001b[0mexclude\u001b[0m\u001b[1;33m=\u001b[0m\u001b[0mexclude\u001b[0m\u001b[1;33m)\u001b[0m\u001b[1;33m\u001b[0m\u001b[1;33m\u001b[0m\u001b[0m\n\u001b[0m\u001b[0;32m    307\u001b[0m             \u001b[1;32mif\u001b[0m \u001b[1;32mnot\u001b[0m \u001b[0mformat_dict\u001b[0m\u001b[1;33m:\u001b[0m\u001b[1;33m\u001b[0m\u001b[1;33m\u001b[0m\u001b[0m\n\u001b[0;32m    308\u001b[0m                 \u001b[1;31m# nothing to display (e.g. _ipython_display_ took over)\u001b[0m\u001b[1;33m\u001b[0m\u001b[1;33m\u001b[0m\u001b[1;33m\u001b[0m\u001b[0m\n",
      "\u001b[1;32mC:\\ProgramData\\Anaconda3\\lib\\site-packages\\IPython\\core\\formatters.py\u001b[0m in \u001b[0;36mformat\u001b[1;34m(self, obj, include, exclude)\u001b[0m\n\u001b[0;32m    178\u001b[0m             \u001b[0mmd\u001b[0m \u001b[1;33m=\u001b[0m \u001b[1;32mNone\u001b[0m\u001b[1;33m\u001b[0m\u001b[1;33m\u001b[0m\u001b[0m\n\u001b[0;32m    179\u001b[0m             \u001b[1;32mtry\u001b[0m\u001b[1;33m:\u001b[0m\u001b[1;33m\u001b[0m\u001b[1;33m\u001b[0m\u001b[0m\n\u001b[1;32m--> 180\u001b[1;33m                 \u001b[0mdata\u001b[0m \u001b[1;33m=\u001b[0m \u001b[0mformatter\u001b[0m\u001b[1;33m(\u001b[0m\u001b[0mobj\u001b[0m\u001b[1;33m)\u001b[0m\u001b[1;33m\u001b[0m\u001b[1;33m\u001b[0m\u001b[0m\n\u001b[0m\u001b[0;32m    181\u001b[0m             \u001b[1;32mexcept\u001b[0m\u001b[1;33m:\u001b[0m\u001b[1;33m\u001b[0m\u001b[1;33m\u001b[0m\u001b[0m\n\u001b[0;32m    182\u001b[0m                 \u001b[1;31m# FIXME: log the exception\u001b[0m\u001b[1;33m\u001b[0m\u001b[1;33m\u001b[0m\u001b[1;33m\u001b[0m\u001b[0m\n",
      "\u001b[1;32m<C:\\ProgramData\\Anaconda3\\lib\\site-packages\\decorator.py:decorator-gen-9>\u001b[0m in \u001b[0;36m__call__\u001b[1;34m(self, obj)\u001b[0m\n",
      "\u001b[1;32mC:\\ProgramData\\Anaconda3\\lib\\site-packages\\IPython\\core\\formatters.py\u001b[0m in \u001b[0;36mcatch_format_error\u001b[1;34m(method, self, *args, **kwargs)\u001b[0m\n\u001b[0;32m    222\u001b[0m     \u001b[1;34m\"\"\"show traceback on failed format call\"\"\"\u001b[0m\u001b[1;33m\u001b[0m\u001b[1;33m\u001b[0m\u001b[0m\n\u001b[0;32m    223\u001b[0m     \u001b[1;32mtry\u001b[0m\u001b[1;33m:\u001b[0m\u001b[1;33m\u001b[0m\u001b[1;33m\u001b[0m\u001b[0m\n\u001b[1;32m--> 224\u001b[1;33m         \u001b[0mr\u001b[0m \u001b[1;33m=\u001b[0m \u001b[0mmethod\u001b[0m\u001b[1;33m(\u001b[0m\u001b[0mself\u001b[0m\u001b[1;33m,\u001b[0m \u001b[1;33m*\u001b[0m\u001b[0margs\u001b[0m\u001b[1;33m,\u001b[0m \u001b[1;33m**\u001b[0m\u001b[0mkwargs\u001b[0m\u001b[1;33m)\u001b[0m\u001b[1;33m\u001b[0m\u001b[1;33m\u001b[0m\u001b[0m\n\u001b[0m\u001b[0;32m    225\u001b[0m     \u001b[1;32mexcept\u001b[0m \u001b[0mNotImplementedError\u001b[0m\u001b[1;33m:\u001b[0m\u001b[1;33m\u001b[0m\u001b[1;33m\u001b[0m\u001b[0m\n\u001b[0;32m    226\u001b[0m         \u001b[1;31m# don't warn on NotImplementedErrors\u001b[0m\u001b[1;33m\u001b[0m\u001b[1;33m\u001b[0m\u001b[1;33m\u001b[0m\u001b[0m\n",
      "\u001b[1;32mC:\\ProgramData\\Anaconda3\\lib\\site-packages\\IPython\\core\\formatters.py\u001b[0m in \u001b[0;36m__call__\u001b[1;34m(self, obj)\u001b[0m\n\u001b[0;32m    339\u001b[0m                 \u001b[1;32mpass\u001b[0m\u001b[1;33m\u001b[0m\u001b[1;33m\u001b[0m\u001b[0m\n\u001b[0;32m    340\u001b[0m             \u001b[1;32melse\u001b[0m\u001b[1;33m:\u001b[0m\u001b[1;33m\u001b[0m\u001b[1;33m\u001b[0m\u001b[0m\n\u001b[1;32m--> 341\u001b[1;33m                 \u001b[1;32mreturn\u001b[0m \u001b[0mprinter\u001b[0m\u001b[1;33m(\u001b[0m\u001b[0mobj\u001b[0m\u001b[1;33m)\u001b[0m\u001b[1;33m\u001b[0m\u001b[1;33m\u001b[0m\u001b[0m\n\u001b[0m\u001b[0;32m    342\u001b[0m             \u001b[1;31m# Finally look for special method names\u001b[0m\u001b[1;33m\u001b[0m\u001b[1;33m\u001b[0m\u001b[1;33m\u001b[0m\u001b[0m\n\u001b[0;32m    343\u001b[0m             \u001b[0mmethod\u001b[0m \u001b[1;33m=\u001b[0m \u001b[0mget_real_method\u001b[0m\u001b[1;33m(\u001b[0m\u001b[0mobj\u001b[0m\u001b[1;33m,\u001b[0m \u001b[0mself\u001b[0m\u001b[1;33m.\u001b[0m\u001b[0mprint_method\u001b[0m\u001b[1;33m)\u001b[0m\u001b[1;33m\u001b[0m\u001b[1;33m\u001b[0m\u001b[0m\n",
      "\u001b[1;32mC:\\ProgramData\\Anaconda3\\lib\\site-packages\\IPython\\core\\pylabtools.py\u001b[0m in \u001b[0;36m<lambda>\u001b[1;34m(fig)\u001b[0m\n\u001b[0;32m    242\u001b[0m \u001b[1;33m\u001b[0m\u001b[0m\n\u001b[0;32m    243\u001b[0m     \u001b[1;32mif\u001b[0m \u001b[1;34m'png'\u001b[0m \u001b[1;32min\u001b[0m \u001b[0mformats\u001b[0m\u001b[1;33m:\u001b[0m\u001b[1;33m\u001b[0m\u001b[1;33m\u001b[0m\u001b[0m\n\u001b[1;32m--> 244\u001b[1;33m         \u001b[0mpng_formatter\u001b[0m\u001b[1;33m.\u001b[0m\u001b[0mfor_type\u001b[0m\u001b[1;33m(\u001b[0m\u001b[0mFigure\u001b[0m\u001b[1;33m,\u001b[0m \u001b[1;32mlambda\u001b[0m \u001b[0mfig\u001b[0m\u001b[1;33m:\u001b[0m \u001b[0mprint_figure\u001b[0m\u001b[1;33m(\u001b[0m\u001b[0mfig\u001b[0m\u001b[1;33m,\u001b[0m \u001b[1;34m'png'\u001b[0m\u001b[1;33m,\u001b[0m \u001b[1;33m**\u001b[0m\u001b[0mkwargs\u001b[0m\u001b[1;33m)\u001b[0m\u001b[1;33m)\u001b[0m\u001b[1;33m\u001b[0m\u001b[1;33m\u001b[0m\u001b[0m\n\u001b[0m\u001b[0;32m    245\u001b[0m     \u001b[1;32mif\u001b[0m \u001b[1;34m'retina'\u001b[0m \u001b[1;32min\u001b[0m \u001b[0mformats\u001b[0m \u001b[1;32mor\u001b[0m \u001b[1;34m'png2x'\u001b[0m \u001b[1;32min\u001b[0m \u001b[0mformats\u001b[0m\u001b[1;33m:\u001b[0m\u001b[1;33m\u001b[0m\u001b[1;33m\u001b[0m\u001b[0m\n\u001b[0;32m    246\u001b[0m         \u001b[0mpng_formatter\u001b[0m\u001b[1;33m.\u001b[0m\u001b[0mfor_type\u001b[0m\u001b[1;33m(\u001b[0m\u001b[0mFigure\u001b[0m\u001b[1;33m,\u001b[0m \u001b[1;32mlambda\u001b[0m \u001b[0mfig\u001b[0m\u001b[1;33m:\u001b[0m \u001b[0mretina_figure\u001b[0m\u001b[1;33m(\u001b[0m\u001b[0mfig\u001b[0m\u001b[1;33m,\u001b[0m \u001b[1;33m**\u001b[0m\u001b[0mkwargs\u001b[0m\u001b[1;33m)\u001b[0m\u001b[1;33m)\u001b[0m\u001b[1;33m\u001b[0m\u001b[1;33m\u001b[0m\u001b[0m\n",
      "\u001b[1;32mC:\\ProgramData\\Anaconda3\\lib\\site-packages\\IPython\\core\\pylabtools.py\u001b[0m in \u001b[0;36mprint_figure\u001b[1;34m(fig, fmt, bbox_inches, **kwargs)\u001b[0m\n\u001b[0;32m    126\u001b[0m \u001b[1;33m\u001b[0m\u001b[0m\n\u001b[0;32m    127\u001b[0m     \u001b[0mbytes_io\u001b[0m \u001b[1;33m=\u001b[0m \u001b[0mBytesIO\u001b[0m\u001b[1;33m(\u001b[0m\u001b[1;33m)\u001b[0m\u001b[1;33m\u001b[0m\u001b[1;33m\u001b[0m\u001b[0m\n\u001b[1;32m--> 128\u001b[1;33m     \u001b[0mfig\u001b[0m\u001b[1;33m.\u001b[0m\u001b[0mcanvas\u001b[0m\u001b[1;33m.\u001b[0m\u001b[0mprint_figure\u001b[0m\u001b[1;33m(\u001b[0m\u001b[0mbytes_io\u001b[0m\u001b[1;33m,\u001b[0m \u001b[1;33m**\u001b[0m\u001b[0mkw\u001b[0m\u001b[1;33m)\u001b[0m\u001b[1;33m\u001b[0m\u001b[1;33m\u001b[0m\u001b[0m\n\u001b[0m\u001b[0;32m    129\u001b[0m     \u001b[0mdata\u001b[0m \u001b[1;33m=\u001b[0m \u001b[0mbytes_io\u001b[0m\u001b[1;33m.\u001b[0m\u001b[0mgetvalue\u001b[0m\u001b[1;33m(\u001b[0m\u001b[1;33m)\u001b[0m\u001b[1;33m\u001b[0m\u001b[1;33m\u001b[0m\u001b[0m\n\u001b[0;32m    130\u001b[0m     \u001b[1;32mif\u001b[0m \u001b[0mfmt\u001b[0m \u001b[1;33m==\u001b[0m \u001b[1;34m'svg'\u001b[0m\u001b[1;33m:\u001b[0m\u001b[1;33m\u001b[0m\u001b[1;33m\u001b[0m\u001b[0m\n",
      "\u001b[1;32mC:\\ProgramData\\Anaconda3\\lib\\site-packages\\matplotlib\\backend_bases.py\u001b[0m in \u001b[0;36mprint_figure\u001b[1;34m(self, filename, dpi, facecolor, edgecolor, orientation, format, bbox_inches, **kwargs)\u001b[0m\n\u001b[0;32m   2058\u001b[0m                     \u001b[0mbbox_artists\u001b[0m \u001b[1;33m=\u001b[0m \u001b[0mkwargs\u001b[0m\u001b[1;33m.\u001b[0m\u001b[0mpop\u001b[0m\u001b[1;33m(\u001b[0m\u001b[1;34m\"bbox_extra_artists\"\u001b[0m\u001b[1;33m,\u001b[0m \u001b[1;32mNone\u001b[0m\u001b[1;33m)\u001b[0m\u001b[1;33m\u001b[0m\u001b[1;33m\u001b[0m\u001b[0m\n\u001b[0;32m   2059\u001b[0m                     bbox_inches = self.figure.get_tightbbox(renderer,\n\u001b[1;32m-> 2060\u001b[1;33m                             bbox_extra_artists=bbox_artists)\n\u001b[0m\u001b[0;32m   2061\u001b[0m                     \u001b[0mpad\u001b[0m \u001b[1;33m=\u001b[0m \u001b[0mkwargs\u001b[0m\u001b[1;33m.\u001b[0m\u001b[0mpop\u001b[0m\u001b[1;33m(\u001b[0m\u001b[1;34m\"pad_inches\"\u001b[0m\u001b[1;33m,\u001b[0m \u001b[1;32mNone\u001b[0m\u001b[1;33m)\u001b[0m\u001b[1;33m\u001b[0m\u001b[1;33m\u001b[0m\u001b[0m\n\u001b[0;32m   2062\u001b[0m                     \u001b[1;32mif\u001b[0m \u001b[0mpad\u001b[0m \u001b[1;32mis\u001b[0m \u001b[1;32mNone\u001b[0m\u001b[1;33m:\u001b[0m\u001b[1;33m\u001b[0m\u001b[1;33m\u001b[0m\u001b[0m\n",
      "\u001b[1;32mC:\\ProgramData\\Anaconda3\\lib\\site-packages\\matplotlib\\figure.py\u001b[0m in \u001b[0;36mget_tightbbox\u001b[1;34m(self, renderer, bbox_extra_artists)\u001b[0m\n\u001b[0;32m   2374\u001b[0m                 \u001b[1;32mtry\u001b[0m\u001b[1;33m:\u001b[0m\u001b[1;33m\u001b[0m\u001b[1;33m\u001b[0m\u001b[0m\n\u001b[0;32m   2375\u001b[0m                     bbox = ax.get_tightbbox(renderer,\n\u001b[1;32m-> 2376\u001b[1;33m                             bbox_extra_artists=bbox_extra_artists)\n\u001b[0m\u001b[0;32m   2377\u001b[0m                 \u001b[1;32mexcept\u001b[0m \u001b[0mTypeError\u001b[0m\u001b[1;33m:\u001b[0m\u001b[1;33m\u001b[0m\u001b[1;33m\u001b[0m\u001b[0m\n\u001b[0;32m   2378\u001b[0m                     \u001b[0mbbox\u001b[0m \u001b[1;33m=\u001b[0m \u001b[0max\u001b[0m\u001b[1;33m.\u001b[0m\u001b[0mget_tightbbox\u001b[0m\u001b[1;33m(\u001b[0m\u001b[0mrenderer\u001b[0m\u001b[1;33m)\u001b[0m\u001b[1;33m\u001b[0m\u001b[1;33m\u001b[0m\u001b[0m\n",
      "\u001b[1;32mC:\\ProgramData\\Anaconda3\\lib\\site-packages\\matplotlib\\axes\\_base.py\u001b[0m in \u001b[0;36mget_tightbbox\u001b[1;34m(self, renderer, call_axes_locator, bbox_extra_artists)\u001b[0m\n\u001b[0;32m   4372\u001b[0m \u001b[1;33m\u001b[0m\u001b[0m\n\u001b[0;32m   4373\u001b[0m         \u001b[1;32mfor\u001b[0m \u001b[0ma\u001b[0m \u001b[1;32min\u001b[0m \u001b[0mbbox_artists\u001b[0m\u001b[1;33m:\u001b[0m\u001b[1;33m\u001b[0m\u001b[1;33m\u001b[0m\u001b[0m\n\u001b[1;32m-> 4374\u001b[1;33m             \u001b[0mbbox\u001b[0m \u001b[1;33m=\u001b[0m \u001b[0ma\u001b[0m\u001b[1;33m.\u001b[0m\u001b[0mget_tightbbox\u001b[0m\u001b[1;33m(\u001b[0m\u001b[0mrenderer\u001b[0m\u001b[1;33m)\u001b[0m\u001b[1;33m\u001b[0m\u001b[1;33m\u001b[0m\u001b[0m\n\u001b[0m\u001b[0;32m   4375\u001b[0m             if (bbox is not None\n\u001b[0;32m   4376\u001b[0m                     \u001b[1;32mand\u001b[0m \u001b[1;36m0\u001b[0m \u001b[1;33m<\u001b[0m \u001b[0mbbox\u001b[0m\u001b[1;33m.\u001b[0m\u001b[0mwidth\u001b[0m \u001b[1;33m<\u001b[0m \u001b[0mnp\u001b[0m\u001b[1;33m.\u001b[0m\u001b[0minf\u001b[0m\u001b[1;33m\u001b[0m\u001b[1;33m\u001b[0m\u001b[0m\n",
      "\u001b[1;32mC:\\ProgramData\\Anaconda3\\lib\\site-packages\\matplotlib\\artist.py\u001b[0m in \u001b[0;36mget_tightbbox\u001b[1;34m(self, renderer)\u001b[0m\n\u001b[0;32m    265\u001b[0m             \u001b[0mThe\u001b[0m \u001b[0menclosing\u001b[0m \u001b[0mbounding\u001b[0m \u001b[0mbox\u001b[0m \u001b[1;33m(\u001b[0m\u001b[1;32min\u001b[0m \u001b[0mfigure\u001b[0m \u001b[0mpixel\u001b[0m \u001b[0mco\u001b[0m\u001b[1;33m-\u001b[0m\u001b[0mordinates\u001b[0m\u001b[1;33m)\u001b[0m\u001b[1;33m.\u001b[0m\u001b[1;33m\u001b[0m\u001b[1;33m\u001b[0m\u001b[0m\n\u001b[0;32m    266\u001b[0m         \"\"\"\n\u001b[1;32m--> 267\u001b[1;33m         \u001b[0mbbox\u001b[0m \u001b[1;33m=\u001b[0m \u001b[0mself\u001b[0m\u001b[1;33m.\u001b[0m\u001b[0mget_window_extent\u001b[0m\u001b[1;33m(\u001b[0m\u001b[0mrenderer\u001b[0m\u001b[1;33m)\u001b[0m\u001b[1;33m\u001b[0m\u001b[1;33m\u001b[0m\u001b[0m\n\u001b[0m\u001b[0;32m    268\u001b[0m         \u001b[1;32mif\u001b[0m \u001b[0mself\u001b[0m\u001b[1;33m.\u001b[0m\u001b[0mget_clip_on\u001b[0m\u001b[1;33m(\u001b[0m\u001b[1;33m)\u001b[0m\u001b[1;33m:\u001b[0m\u001b[1;33m\u001b[0m\u001b[1;33m\u001b[0m\u001b[0m\n\u001b[0;32m    269\u001b[0m             \u001b[0mclip_box\u001b[0m \u001b[1;33m=\u001b[0m \u001b[0mself\u001b[0m\u001b[1;33m.\u001b[0m\u001b[0mget_clip_box\u001b[0m\u001b[1;33m(\u001b[0m\u001b[1;33m)\u001b[0m\u001b[1;33m\u001b[0m\u001b[1;33m\u001b[0m\u001b[0m\n",
      "\u001b[1;32mC:\\ProgramData\\Anaconda3\\lib\\site-packages\\matplotlib\\collections.py\u001b[0m in \u001b[0;36mget_window_extent\u001b[1;34m(self, renderer)\u001b[0m\n\u001b[0;32m    208\u001b[0m         \u001b[1;31m# TODO: check to ensure that this does not fail for\u001b[0m\u001b[1;33m\u001b[0m\u001b[1;33m\u001b[0m\u001b[1;33m\u001b[0m\u001b[0m\n\u001b[0;32m    209\u001b[0m         \u001b[1;31m# cases other than scatter plot legend\u001b[0m\u001b[1;33m\u001b[0m\u001b[1;33m\u001b[0m\u001b[1;33m\u001b[0m\u001b[0m\n\u001b[1;32m--> 210\u001b[1;33m         \u001b[1;32mreturn\u001b[0m \u001b[0mself\u001b[0m\u001b[1;33m.\u001b[0m\u001b[0mget_datalim\u001b[0m\u001b[1;33m(\u001b[0m\u001b[0mtransforms\u001b[0m\u001b[1;33m.\u001b[0m\u001b[0mIdentityTransform\u001b[0m\u001b[1;33m(\u001b[0m\u001b[1;33m)\u001b[0m\u001b[1;33m)\u001b[0m\u001b[1;33m\u001b[0m\u001b[1;33m\u001b[0m\u001b[0m\n\u001b[0m\u001b[0;32m    211\u001b[0m \u001b[1;33m\u001b[0m\u001b[0m\n\u001b[0;32m    212\u001b[0m     \u001b[1;32mdef\u001b[0m \u001b[0m_prepare_points\u001b[0m\u001b[1;33m(\u001b[0m\u001b[0mself\u001b[0m\u001b[1;33m)\u001b[0m\u001b[1;33m:\u001b[0m\u001b[1;33m\u001b[0m\u001b[1;33m\u001b[0m\u001b[0m\n",
      "\u001b[1;32mC:\\ProgramData\\Anaconda3\\lib\\site-packages\\matplotlib\\collections.py\u001b[0m in \u001b[0;36mget_datalim\u001b[1;34m(self, transData)\u001b[0m\n\u001b[0;32m    199\u001b[0m             result = mpath.get_path_collection_extents(\n\u001b[0;32m    200\u001b[0m                 \u001b[0mtransform\u001b[0m\u001b[1;33m.\u001b[0m\u001b[0mfrozen\u001b[0m\u001b[1;33m(\u001b[0m\u001b[1;33m)\u001b[0m\u001b[1;33m,\u001b[0m \u001b[0mpaths\u001b[0m\u001b[1;33m,\u001b[0m \u001b[0mself\u001b[0m\u001b[1;33m.\u001b[0m\u001b[0mget_transforms\u001b[0m\u001b[1;33m(\u001b[0m\u001b[1;33m)\u001b[0m\u001b[1;33m,\u001b[0m\u001b[1;33m\u001b[0m\u001b[1;33m\u001b[0m\u001b[0m\n\u001b[1;32m--> 201\u001b[1;33m                 offsets, transOffset.frozen())\n\u001b[0m\u001b[0;32m    202\u001b[0m             \u001b[0mresult\u001b[0m \u001b[1;33m=\u001b[0m \u001b[0mresult\u001b[0m\u001b[1;33m.\u001b[0m\u001b[0minverse_transformed\u001b[0m\u001b[1;33m(\u001b[0m\u001b[0mtransData\u001b[0m\u001b[1;33m)\u001b[0m\u001b[1;33m\u001b[0m\u001b[1;33m\u001b[0m\u001b[0m\n\u001b[0;32m    203\u001b[0m         \u001b[1;32melse\u001b[0m\u001b[1;33m:\u001b[0m\u001b[1;33m\u001b[0m\u001b[1;33m\u001b[0m\u001b[0m\n",
      "\u001b[1;32mC:\\ProgramData\\Anaconda3\\lib\\site-packages\\matplotlib\\path.py\u001b[0m in \u001b[0;36mget_path_collection_extents\u001b[1;34m(master_transform, paths, transforms, offsets, offset_transform)\u001b[0m\n\u001b[0;32m    962\u001b[0m     return Bbox.from_extents(*_path.get_path_collection_extents(\n\u001b[0;32m    963\u001b[0m         \u001b[0mmaster_transform\u001b[0m\u001b[1;33m,\u001b[0m \u001b[0mpaths\u001b[0m\u001b[1;33m,\u001b[0m \u001b[0mnp\u001b[0m\u001b[1;33m.\u001b[0m\u001b[0matleast_3d\u001b[0m\u001b[1;33m(\u001b[0m\u001b[0mtransforms\u001b[0m\u001b[1;33m)\u001b[0m\u001b[1;33m,\u001b[0m\u001b[1;33m\u001b[0m\u001b[1;33m\u001b[0m\u001b[0m\n\u001b[1;32m--> 964\u001b[1;33m         offsets, offset_transform))\n\u001b[0m\u001b[0;32m    965\u001b[0m \u001b[1;33m\u001b[0m\u001b[0m\n\u001b[0;32m    966\u001b[0m \u001b[1;33m\u001b[0m\u001b[0m\n",
      "\u001b[1;32mC:\\ProgramData\\Anaconda3\\lib\\site-packages\\matplotlib\\path.py\u001b[0m in \u001b[0;36mvertices\u001b[1;34m(self)\u001b[0m\n\u001b[0;32m    195\u001b[0m         )\n\u001b[0;32m    196\u001b[0m \u001b[1;33m\u001b[0m\u001b[0m\n\u001b[1;32m--> 197\u001b[1;33m     \u001b[1;33m@\u001b[0m\u001b[0mproperty\u001b[0m\u001b[1;33m\u001b[0m\u001b[1;33m\u001b[0m\u001b[0m\n\u001b[0m\u001b[0;32m    198\u001b[0m     \u001b[1;32mdef\u001b[0m \u001b[0mvertices\u001b[0m\u001b[1;33m(\u001b[0m\u001b[0mself\u001b[0m\u001b[1;33m)\u001b[0m\u001b[1;33m:\u001b[0m\u001b[1;33m\u001b[0m\u001b[1;33m\u001b[0m\u001b[0m\n\u001b[0;32m    199\u001b[0m         \"\"\"\n",
      "\u001b[1;31mKeyboardInterrupt\u001b[0m: "
     ]
    }
   ],
   "source": [
    "# graph is ploted between mta_tax and total_fare\n",
    "\n",
    "plt.scatter(X_train['mta_tax'], Y_train)\n",
    "plt.xlabel('mta_tax')\n",
    "# plt.xlim(0,230)\n",
    "# plt.ylim(0,750)\n",
    "plt.ylabel('total_fare')"
   ]
  },
  {
   "cell_type": "code",
   "execution_count": 48,
   "metadata": {
    "colab": {
     "base_uri": "https://localhost:8080/",
     "height": 300
    },
    "colab_type": "code",
    "executionInfo": {
     "elapsed": 521921,
     "status": "ok",
     "timestamp": 1568434082607,
     "user": {
      "displayName": "vedant kale",
      "photoUrl": "https://lh3.googleusercontent.com/a-/AAuE7mCDab_KFU1MHWEjRsQP-6z1fyiPUiZjRxo9hWUi2w=s64",
      "userId": "16040215375828489081"
     },
     "user_tz": -330
    },
    "id": "wJn0GjhE788e",
    "outputId": "a947bce8-0512-4528-cad8-5cf5e51a76ed"
   },
   "outputs": [
    {
     "data": {
      "text/plain": [
       "Text(0, 0.5, 'total_fare')"
      ]
     },
     "execution_count": 48,
     "metadata": {},
     "output_type": "execute_result"
    },
    {
     "data": {
      "image/png": "[encoded data removed]",
      "text/plain": [
       "<Figure size 432x288 with 1 Axes>"
      ]
     },
     "metadata": {
      "needs_background": "light"
     },
     "output_type": "display_data"
    }
   ],
   "source": [
    "# graph is ploted between num_passengers and total_fare\n",
    "\n",
    "plt.scatter(X_train['num_passengers'], Y_train)\n",
    "plt.xlabel('num_passengers')\n",
    "plt.xlim(0,10)\n",
    "plt.ylim(0,850)\n",
    "plt.ylabel('total_fare')"
   ]
  },
  {
   "cell_type": "code",
   "execution_count": 49,
   "metadata": {
    "colab": {
     "base_uri": "https://localhost:8080/",
     "height": 300
    },
    "colab_type": "code",
    "executionInfo": {
     "elapsed": 531854,
     "status": "ok",
     "timestamp": 1568434092551,
     "user": {
      "displayName": "vedant kale",
      "photoUrl": "https://lh3.googleusercontent.com/a-/AAuE7mCDab_KFU1MHWEjRsQP-6z1fyiPUiZjRxo9hWUi2w=s64",
      "userId": "16040215375828489081"
     },
     "user_tz": -330
    },
    "id": "LlVNs8HL-eLI",
    "outputId": "afe050bd-6a19-49c0-d9c0-dac69ffd9f38"
   },
   "outputs": [
    {
     "data": {
      "text/plain": [
       "Text(0, 0.5, 'total_fare')"
      ]
     },
     "execution_count": 49,
     "metadata": {},
     "output_type": "execute_result"
    },
    {
     "data": {
      "image/png": "[encoded data removed]",
      "text/plain": [
       "<Figure size 432x288 with 1 Axes>"
      ]
     },
     "metadata": {
      "needs_background": "light"
     },
     "output_type": "display_data"
    }
   ],
   "source": [
    "# graph is ploted between toll_amount and total_fare\n",
    "\n",
    "plt.scatter(X_train['toll_amount'], Y_train)\n",
    "plt.xlabel('toll_amount')\n",
    "plt.xlim(0,100)\n",
    "plt.ylim(0,750)\n",
    "plt.ylabel('total_fare')"
   ]
  },
  {
   "cell_type": "code",
   "execution_count": 50,
   "metadata": {
    "colab": {
     "base_uri": "https://localhost:8080/",
     "height": 300
    },
    "colab_type": "code",
    "executionInfo": {
     "elapsed": 542243,
     "status": "ok",
     "timestamp": 1568434102953,
     "user": {
      "displayName": "vedant kale",
      "photoUrl": "https://lh3.googleusercontent.com/a-/AAuE7mCDab_KFU1MHWEjRsQP-6z1fyiPUiZjRxo9hWUi2w=s64",
      "userId": "16040215375828489081"
     },
     "user_tz": -330
    },
    "id": "Bl-1dPVv-m7v",
    "outputId": "9f911089-3741-4a6e-d2b0-b0023fa9550f"
   },
   "outputs": [
    {
     "data": {
      "text/plain": [
       "Text(0, 0.5, 'total_fare')"
      ]
     },
     "execution_count": 50,
     "metadata": {},
     "output_type": "execute_result"
    },
    {
     "data": {
      "image/png": "[encoded data removed]",
      "text/plain": [
       "<Figure size 432x288 with 1 Axes>"
      ]
     },
     "metadata": {
      "needs_background": "light"
     },
     "output_type": "display_data"
    }
   ],
   "source": [
    "# graph is ploted between rate_code and total_fare\n",
    "\n",
    "plt.scatter(X_train['rate_code'], Y_train)\n",
    "plt.xlabel('rate_code')\n",
    "plt.xlim(0,10)\n",
    "plt.ylim(0,750)\n",
    "plt.ylabel('total_fare')"
   ]
  },
  {
   "cell_type": "code",
   "execution_count": 51,
   "metadata": {
    "colab": {
     "base_uri": "https://localhost:8080/",
     "height": 300
    },
    "colab_type": "code",
    "executionInfo": {
     "elapsed": 552829,
     "status": "ok",
     "timestamp": 1568434113551,
     "user": {
      "displayName": "vedant kale",
      "photoUrl": "https://lh3.googleusercontent.com/a-/AAuE7mCDab_KFU1MHWEjRsQP-6z1fyiPUiZjRxo9hWUi2w=s64",
      "userId": "16040215375828489081"
     },
     "user_tz": -330
    },
    "id": "V8_z7Wdj_66J",
    "outputId": "6fd5891a-b9bd-4d28-8aa3-08e07e40e49d"
   },
   "outputs": [
    {
     "data": {
      "text/plain": [
       "Text(0, 0.5, 'total_fare')"
      ]
     },
     "execution_count": 51,
     "metadata": {},
     "output_type": "execute_result"
    },
    {
     "data": {
      "image/png": "[encoded data removed]",
      "text/plain": [
       "<Figure size 432x288 with 1 Axes>"
      ]
     },
     "metadata": {
      "needs_background": "light"
     },
     "output_type": "display_data"
    }
   ],
   "source": [
    "# graph is ploted between extra_charges and total_fare\n",
    "\n",
    "plt.scatter(X_train['extra_charges'], Y_train)\n",
    "plt.xlabel('extra_charges')\n",
    "# plt.xlim(0,100)\n",
    "# plt.ylim(0,750)\n",
    "plt.ylabel('total_fare')"
   ]
  },
  {
   "cell_type": "code",
   "execution_count": 52,
   "metadata": {
    "colab": {
     "base_uri": "https://localhost:8080/",
     "height": 300
    },
    "colab_type": "code",
    "executionInfo": {
     "elapsed": 563398,
     "status": "ok",
     "timestamp": 1568434124134,
     "user": {
      "displayName": "vedant kale",
      "photoUrl": "https://lh3.googleusercontent.com/a-/AAuE7mCDab_KFU1MHWEjRsQP-6z1fyiPUiZjRxo9hWUi2w=s64",
      "userId": "16040215375828489081"
     },
     "user_tz": -330
    },
    "id": "9GGcpnZT_7Kl",
    "outputId": "9c3f9c16-af2d-40de-a8e0-4b4180007f48"
   },
   "outputs": [
    {
     "data": {
      "text/plain": [
       "Text(0, 0.5, 'total_fare')"
      ]
     },
     "execution_count": 52,
     "metadata": {},
     "output_type": "execute_result"
    },
    {
     "data": {
      "image/png": "[encoded data removed]",
      "text/plain": [
       "<Figure size 432x288 with 1 Axes>"
      ]
     },
     "metadata": {
      "needs_background": "light"
     },
     "output_type": "display_data"
    }
   ],
   "source": [
    "# graph is ploted between improvement and total_fare\n",
    "\n",
    "plt.scatter(X_train['improvement_charge'], Y_train)\n",
    "plt.xlabel('improvement_charge')\n",
    "# plt.xlim(0,100)\n",
    "# plt.ylim(0,750)\n",
    "plt.ylabel('total_fare')"
   ]
  },
  {
   "cell_type": "code",
   "execution_count": 53,
   "metadata": {},
   "outputs": [
    {
     "data": {
      "text/plain": [
       "Text(0, 0.5, 'total_fare')"
      ]
     },
     "execution_count": 53,
     "metadata": {},
     "output_type": "execute_result"
    },
    {
     "data": {
      "image/png": "[encoded data removed]",
      "text/plain": [
       "<Figure size 432x288 with 1 Axes>"
      ]
     },
     "metadata": {
      "needs_background": "light"
     },
     "output_type": "display_data"
    }
   ],
   "source": [
    "# graph is ploted between payment_method and total_fare\n",
    "\n",
    "plt.scatter(X_train['payment_method'], Y_train)\n",
    "plt.xlabel('payment_method')\n",
    "plt.ylabel('total_fare')"
   ]
  },
  {
   "cell_type": "code",
   "execution_count": 54,
   "metadata": {},
   "outputs": [
    {
     "data": {
      "text/plain": [
       "Text(0, 0.5, 'total_fare')"
      ]
     },
     "execution_count": 54,
     "metadata": {},
     "output_type": "execute_result"
    },
    {
     "data": {
      "image/png": "[encoded data removed]",
      "text/plain": [
       "<Figure size 432x288 with 1 Axes>"
      ]
     },
     "metadata": {
      "needs_background": "light"
     },
     "output_type": "display_data"
    }
   ],
   "source": [
    "# graph is ploted between vendor_id and total_fare\n",
    "\n",
    "plt.scatter(X_train['vendor_id'], Y_train)\n",
    "plt.xlabel('vendor_id')\n",
    "plt.ylabel('total_fare')"
   ]
  },
  {
   "cell_type": "code",
   "execution_count": 55,
   "metadata": {},
   "outputs": [
    {
     "data": {
      "text/plain": [
       "Text(0, 0.5, 'total_fare')"
      ]
     },
     "execution_count": 55,
     "metadata": {},
     "output_type": "execute_result"
    },
    {
     "data": {
      "image/png": "[encoded data removed]",
      "text/plain": [
       "<Figure size 432x288 with 1 Axes>"
      ]
     },
     "metadata": {
      "needs_background": "light"
     },
     "output_type": "display_data"
    }
   ],
   "source": [
    "# graph is ploted between stored_flag and total_fare\n",
    "\n",
    "plt.scatter(X_train['stored_flag'], Y_train)\n",
    "plt.xlabel('stored_flag')\n",
    "plt.ylabel('total_fare')"
   ]
  },
  {
   "cell_type": "markdown",
   "metadata": {},
   "source": [
    "### Manipulating X_train and X_test acccording to visulization"
   ]
  },
  {
   "cell_type": "code",
   "execution_count": 34,
   "metadata": {},
   "outputs": [
    {
     "data": {
      "text/plain": [
       "Index(['vendor_id', 'pickup_loc', 'drop_loc', 'driver_tip', 'mta_tax',\n",
       "       'distance', 'pickup_time', 'drop_time', 'num_passengers', 'toll_amount',\n",
       "       'payment_method', 'rate_code', 'stored_flag', 'extra_charges',\n",
       "       'improvement_charge', 'journey_duration', 'loc_diff'],\n",
       "      dtype='object')"
      ]
     },
     "execution_count": 34,
     "metadata": {},
     "output_type": "execute_result"
    }
   ],
   "source": [
    "X_train.columns"
   ]
  },
  {
   "cell_type": "code",
   "execution_count": 35,
   "metadata": {
    "colab": {
     "base_uri": "https://localhost:8080/",
     "height": 230
    },
    "colab_type": "code",
    "executionInfo": {
     "elapsed": 584405,
     "status": "ok",
     "timestamp": 1568434145178,
     "user": {
      "displayName": "vedant kale",
      "photoUrl": "https://lh3.googleusercontent.com/a-/AAuE7mCDab_KFU1MHWEjRsQP-6z1fyiPUiZjRxo9hWUi2w=s64",
      "userId": "16040215375828489081"
     },
     "user_tz": -330
    },
    "id": "ClG9rJkLBN-c",
    "outputId": "ea136f6a-6b88-4c4f-add6-457967a076c3"
   },
   "outputs": [],
   "source": [
    "# dependency found between distance, driver_tip, toll_amount\n",
    "#So adding columns of it\n",
    "#X_train['dist_sq'] = X_train['distance'] * X_train['distance']"
   ]
  },
  {
   "cell_type": "code",
   "execution_count": 36,
   "metadata": {
    "colab": {
     "base_uri": "https://localhost:8080/",
     "height": 230
    },
    "colab_type": "code",
    "executionInfo": {
     "elapsed": 584796,
     "status": "ok",
     "timestamp": 1568434145582,
     "user": {
      "displayName": "vedant kale",
      "photoUrl": "https://lh3.googleusercontent.com/a-/AAuE7mCDab_KFU1MHWEjRsQP-6z1fyiPUiZjRxo9hWUi2w=s64",
      "userId": "16040215375828489081"
     },
     "user_tz": -330
    },
    "id": "DKgL1N4eG7tm",
    "outputId": "58b5cdea-4599-4ade-88b2-3483c111dda8"
   },
   "outputs": [],
   "source": [
    "# dependency found between distance, driver_tip, toll_amount\n",
    "#So adding columns of it\n",
    "#X_test['dist_sq'] = X_test['distance'] * X_test['distance']\n"
   ]
  },
  {
   "cell_type": "code",
   "execution_count": 37,
   "metadata": {
    "colab": {
     "base_uri": "https://localhost:8080/",
     "height": 234
    },
    "colab_type": "code",
    "executionInfo": {
     "elapsed": 584783,
     "status": "ok",
     "timestamp": 1568434145583,
     "user": {
      "displayName": "vedant kale",
      "photoUrl": "https://lh3.googleusercontent.com/a-/AAuE7mCDab_KFU1MHWEjRsQP-6z1fyiPUiZjRxo9hWUi2w=s64",
      "userId": "16040215375828489081"
     },
     "user_tz": -330
    },
    "id": "U7-9AAIREKLk",
    "outputId": "595f0df8-9453-48b1-f9ab-c03d4eac09ce"
   },
   "outputs": [
    {
     "name": "stdout",
     "output_type": "stream",
     "text": [
      "<class 'pandas.core.frame.DataFrame'>\n",
      "RangeIndex: 1048575 entries, 0 to 1048574\n",
      "Data columns (total 17 columns):\n",
      "vendor_id             1048575 non-null float64\n",
      "pickup_loc            1048575 non-null float64\n",
      "drop_loc              1048575 non-null float64\n",
      "driver_tip            1048575 non-null float64\n",
      "mta_tax               1048575 non-null float64\n",
      "distance              1048575 non-null float64\n",
      "pickup_time           1048575 non-null int64\n",
      "drop_time             1048575 non-null int64\n",
      "num_passengers        1048575 non-null float64\n",
      "toll_amount           1048575 non-null float64\n",
      "payment_method        1048575 non-null float64\n",
      "rate_code             1048575 non-null float64\n",
      "stored_flag           1048575 non-null int64\n",
      "extra_charges         1048575 non-null float64\n",
      "improvement_charge    1048575 non-null float64\n",
      "journey_duration      1048575 non-null float64\n",
      "loc_diff              1048575 non-null float64\n",
      "dtypes: float64(14), int64(3)\n",
      "memory usage: 136.0 MB\n"
     ]
    }
   ],
   "source": [
    "X_train.info()"
   ]
  },
  {
   "cell_type": "markdown",
   "metadata": {},
   "source": [
    "### Applying Models"
   ]
  },
  {
   "cell_type": "code",
   "execution_count": 33,
   "metadata": {
    "colab": {},
    "colab_type": "code",
    "id": "fDbSvviy5J4T"
   },
   "outputs": [],
   "source": [
    "from sklearn.ensemble import RandomForestRegressor\n",
    "from sklearn.linear_model import LinearRegression\n",
    "from sklearn import linear_model\n",
    "import sklearn.model_selection as ms"
   ]
  },
  {
   "cell_type": "code",
   "execution_count": 34,
   "metadata": {},
   "outputs": [],
   "source": [
    "Xtrain,Xtest, Ytrain,Ytest = ms.train_test_split(X_train,Y_train, test_size=0.2, random_state=100)"
   ]
  },
  {
   "cell_type": "code",
   "execution_count": null,
   "metadata": {},
   "outputs": [
    {
     "name": "stderr",
     "output_type": "stream",
     "text": [
      "C:\\ProgramData\\Anaconda3\\lib\\site-packages\\sklearn\\svm\\base.py:193: FutureWarning: The default value of gamma will change from 'auto' to 'scale' in version 0.22 to account better for unscaled features. Set gamma explicitly to 'auto' or 'scale' to avoid this warning.\n",
      "  \"avoid this warning.\", FutureWarning)\n"
     ]
    }
   ],
   "source": [
    "from sklearn.svm import SVR\n",
    "svr = SVR()\n",
    "svr.fit(Xtrain, Ytrain)\n",
    "ypred = svr.predict(Xtest)"
   ]
  },
  {
   "cell_type": "code",
   "execution_count": null,
   "metadata": {},
   "outputs": [],
   "source": [
    "RMSR = np.sqrt(metrics.mean_squared_error(Ytrain, svr.predict(Xtrain)))\n",
    "RMSR"
   ]
  },
  {
   "cell_type": "code",
   "execution_count": null,
   "metadata": {},
   "outputs": [],
   "source": [
    "RMSR = np.sqrt(metrics.mean_squared_error(Ytest, ypred))\n",
    "RMSR"
   ]
  },
  {
   "cell_type": "code",
   "execution_count": null,
   "metadata": {},
   "outputs": [],
   "source": []
  },
  {
   "cell_type": "code",
   "execution_count": null,
   "metadata": {},
   "outputs": [],
   "source": []
  },
  {
   "cell_type": "raw",
   "metadata": {
    "colab": {
     "base_uri": "https://localhost:8080/",
     "height": 587
    },
    "colab_type": "code",
    "executionInfo": {
     "elapsed": 586098,
     "status": "ok",
     "timestamp": 1568434146935,
     "user": {
      "displayName": "vedant kale",
      "photoUrl": "https://lh3.googleusercontent.com/a-/AAuE7mCDab_KFU1MHWEjRsQP-6z1fyiPUiZjRxo9hWUi2w=s64",
      "userId": "16040215375828489081"
     },
     "user_tz": -330
    },
    "id": "VuQJp5sr5J4W",
    "outputId": "53d56316-209c-419b-b93a-06f5fc3a906e"
   },
   "source": [
    "#Applying Linear Regression model\n",
    "\n",
    "model1 = linear_model.LinearRegression()\n",
    "\n",
    "model1.fit(X_train, Y_train)\n",
    "\n",
    "prediction1 = model1.predict(X_test)\n",
    "prediction2 = model1.predict(X_train)\n",
    "\n",
    "Y_test = prediction1\n",
    "\n",
    "#plt.scatter(Y_test, prediction1)\n",
    "\n",
    "model1.coef_\n",
    "\n",
    "dframe_coef = pd.DataFrame(model1.coef_, X_train.columns, columns=['Coeifficent Values'])\n",
    "\n",
    "dframe_coef"
   ]
  },
  {
   "cell_type": "code",
   "execution_count": 46,
   "metadata": {
    "colab": {
     "base_uri": "https://localhost:8080/",
     "height": 52
    },
    "colab_type": "code",
    "executionInfo": {
     "elapsed": 670899,
     "status": "ok",
     "timestamp": 1568434231750,
     "user": {
      "displayName": "vedant kale",
      "photoUrl": "https://lh3.googleusercontent.com/a-/AAuE7mCDab_KFU1MHWEjRsQP-6z1fyiPUiZjRxo9hWUi2w=s64",
      "userId": "16040215375828489081"
     },
     "user_tz": -330
    },
    "id": "TM9hwW_rIsRd",
    "outputId": "4274c8c3-8fd7-4674-baef-ad9d43ec555b"
   },
   "outputs": [],
   "source": [
    "# Applying Random Forest Regression Model\n",
    "\n",
    "model2 = RandomForestRegressor(n_estimators=100, random_state=50, n_jobs=-1, max_features='auto', min_samples_leaf=50, oob_score=True)\n",
    "\n",
    "model2.fit(Xtrain, Ytrain)\n",
    "\n",
    "prediction3 = model2.predict(Xtest)\n",
    "prediction4 = model2.predict(Xtrain)\n",
    "\n",
    "#Y_test = prediction3"
   ]
  },
  {
   "cell_type": "code",
   "execution_count": 51,
   "metadata": {},
   "outputs": [
    {
     "data": {
      "text/plain": [
       "0.9502101554784941"
      ]
     },
     "execution_count": 51,
     "metadata": {},
     "output_type": "execute_result"
    }
   ],
   "source": [
    "model2.score(Xtest, Ytest)"
   ]
  },
  {
   "cell_type": "code",
   "execution_count": 47,
   "metadata": {},
   "outputs": [
    {
     "data": {
      "text/plain": [
       "6.065542309404026"
      ]
     },
     "execution_count": 47,
     "metadata": {},
     "output_type": "execute_result"
    }
   ],
   "source": [
    "RMSR1=np.sqrt(metrics.mean_squared_error(Ytrain, prediction4))\n",
    "RMSR1"
   ]
  },
  {
   "cell_type": "code",
   "execution_count": 48,
   "metadata": {
    "colab": {
     "base_uri": "https://localhost:8080/",
     "height": 34
    },
    "colab_type": "code",
    "executionInfo": {
     "elapsed": 757744,
     "status": "ok",
     "timestamp": 1568434318630,
     "user": {
      "displayName": "vedant kale",
      "photoUrl": "https://lh3.googleusercontent.com/a-/AAuE7mCDab_KFU1MHWEjRsQP-6z1fyiPUiZjRxo9hWUi2w=s64",
      "userId": "16040215375828489081"
     },
     "user_tz": -330
    },
    "id": "etqpxXk85J4Z",
    "outputId": "4f3744e5-5d5b-4e86-f9e9-d1b176858ffc"
   },
   "outputs": [
    {
     "data": {
      "text/plain": [
       "3.1913415842620534"
      ]
     },
     "execution_count": 48,
     "metadata": {},
     "output_type": "execute_result"
    }
   ],
   "source": [
    "# Root mean square of our prediction on X_train and Y_train is calculated for Linear Regression\n",
    "RMSR1=np.sqrt(metrics.mean_squared_error(Ytest, prediction3))\n",
    "RMSR1"
   ]
  },
  {
   "cell_type": "raw",
   "metadata": {},
   "source": [
    "# Converting and saving the mean of predictions for Linear Regression and Random Forest\n",
    "prediction33 = model2.predict(X_test)\n",
    "from pandas import DataFrame\n",
    "C = { 'ID': d2['ID'],\n",
    "      'total_amount': (prediction33),\n",
    "    }\n",
    "df = DataFrame(C, columns= ['ID', 'total_amount'])\n",
    "export_csv = df.to_csv ('Output_RF_estimators50_bootstrapTrue.csv', index = None, header=True) # here you have to write path, where result file will be stored\n",
    "print (df)"
   ]
  },
  {
   "cell_type": "raw",
   "metadata": {},
   "source": [
    "model2.feature_importances_"
   ]
  },
  {
   "cell_type": "raw",
   "metadata": {},
   "source": [
    "col = Xtrain.columns\n",
    "#modelname.feature_importance_\n",
    "y = model2.feature_importances_\n",
    "#plot\n",
    "fig, ax = plt.subplots() \n",
    "width = 0.4 # the width of the bars \n",
    "ind = np.arange(len(y)) # the x locations for the groups\n",
    "ax.barh(ind, y, width, color=\"green\")\n",
    "ax.set_yticks(ind+width/10)\n",
    "ax.set_yticklabels(col, minor=False)\n",
    "plt.title('Feature importance in RandomForest Classifier')\n",
    "plt.xlabel('Relative importance')\n",
    "plt.ylabel('feature') \n",
    "plt.figure(figsize=(11,8))\n",
    "fig.set_size_inches(6.5, 4.5, forward=True)"
   ]
  },
  {
   "cell_type": "code",
   "execution_count": null,
   "metadata": {},
   "outputs": [],
   "source": []
  },
  {
   "cell_type": "code",
   "execution_count": 40,
   "metadata": {},
   "outputs": [],
   "source": [
    "from sklearn.model_selection import RandomizedSearchCV\n",
    "#from sklearn.cross_validation import train_test_split\n",
    "from sklearn.metrics import mean_squared_error"
   ]
  },
  {
   "cell_type": "code",
   "execution_count": 60,
   "metadata": {},
   "outputs": [],
   "source": [
    "n_estimators = [int(x) for x in np.linspace(start = 1, stop = 200, num =5)]\n",
    "n_estimators.append(5)\n",
    "# Number of features to consider at every split\n",
    "max_features = ['auto', 'sqrt']\n",
    "# Maximum number of levels in tree\n",
    "#max_depth = [int(x) for x in np.linspace(5, 30, num = 6)]\n",
    "# max_depth.append(None)\n",
    "# Minimum number of samples required to split a node\n",
    "#min_samples_split = [2, 5, 10, 15, 100]\n",
    "# Minimum number of samples required at each leaf node\n",
    "min_samples_leaf = [1, 5, 10, 20, 50, 70]\n",
    "# Method of selecting samples for training each tree\n",
    "bootstrap = [True, False]\n",
    "\n",
    "# Create the random grid\n",
    "random_grid = {'n_estimators': n_estimators,\n",
    "               'max_features': max_features,\n",
    "              # 'max_depth': max_depth,\n",
    "               #'min_samples_split': min_samples_split,\n",
    "               'min_samples_leaf': min_samples_leaf,\n",
    "               'bootstrap':bootstrap \n",
    "              }\n"
   ]
  },
  {
   "cell_type": "code",
   "execution_count": 61,
   "metadata": {},
   "outputs": [],
   "source": [
    "est = RandomForestRegressor(n_jobs=-1)\n",
    "gscv = GridSearchCV(est, random_grid, n_jobs=-1, cv=5)"
   ]
  },
  {
   "cell_type": "code",
   "execution_count": null,
   "metadata": {},
   "outputs": [],
   "source": [
    "gscv.fit(X_train, Y_train)"
   ]
  },
  {
   "cell_type": "raw",
   "metadata": {},
   "source": [
    "est = RandomForestRegressor(n_jobs=-1)\n",
    "def hypertuning_rscv(est, p_distr, nbr_iter,X,y):\n",
    "    rdmsearch = RandomizedSearchCV(est, param_distributions=p_distr,\n",
    "                                  n_jobs=-1, n_iter=nbr_iter, cv=5)\n",
    "    rdmsearch.fit(X,y)\n",
    "    ht_params = rdmsearch.best_params_\n",
    "    ht_score = rdmsearch.best_score_\n",
    "    return ht_params, ht_score"
   ]
  },
  {
   "cell_type": "raw",
   "metadata": {},
   "source": [
    "rf_parameters, rf_ht_score = hypertuning_rscv(est, random_grid, 40, X_train, Y_train)"
   ]
  },
  {
   "cell_type": "raw",
   "metadata": {},
   "source": [
    "rf_ht_score"
   ]
  },
  {
   "cell_type": "raw",
   "metadata": {},
   "source": [
    "rf_parameters"
   ]
  },
  {
   "cell_type": "code",
   "execution_count": null,
   "metadata": {},
   "outputs": [],
   "source": []
  },
  {
   "cell_type": "code",
   "execution_count": null,
   "metadata": {},
   "outputs": [],
   "source": [
    "from sklearn.model_selection import cross_val_score\n",
    "score = cross_val_score(model2, X_train, Y_train, cv=10)\n",
    "score.mean()"
   ]
  },
  {
   "cell_type": "code",
   "execution_count": null,
   "metadata": {},
   "outputs": [],
   "source": [
    "score"
   ]
  },
  {
   "cell_type": "code",
   "execution_count": null,
   "metadata": {},
   "outputs": [],
   "source": [
    "from sklearn.model_selection import cross_val_score\n",
    "score = cross_val_score(model2, X_train, Y_train, cv=10, scoring='mean_squared_error')\n",
    "score.mean()"
   ]
  },
  {
   "cell_type": "code",
   "execution_count": null,
   "metadata": {},
   "outputs": [],
   "source": [
    "score"
   ]
  },
  {
   "cell_type": "code",
   "execution_count": null,
   "metadata": {
    "colab": {
     "base_uri": "https://localhost:8080/",
     "height": 34
    },
    "colab_type": "code",
    "executionInfo": {
     "elapsed": 757731,
     "status": "ok",
     "timestamp": 1568434318631,
     "user": {
      "displayName": "vedant kale",
      "photoUrl": "https://lh3.googleusercontent.com/a-/AAuE7mCDab_KFU1MHWEjRsQP-6z1fyiPUiZjRxo9hWUi2w=s64",
      "userId": "16040215375828489081"
     },
     "user_tz": -330
    },
    "id": "vKG3XQYYJOBW",
    "outputId": "ed85fc3a-f6cf-476b-de36-c8530fe78748"
   },
   "outputs": [],
   "source": [
    "# Root mean square of our prediction on X_train and Y_train is calculated for Random Forest\n",
    "RMSR1=np.sqrt(metrics.mean_squared_error(Y_train, prediction4))\n",
    "RMSR1"
   ]
  },
  {
   "cell_type": "code",
   "execution_count": null,
   "metadata": {
    "colab": {
     "base_uri": "https://localhost:8080/",
     "height": 34
    },
    "colab_type": "code",
    "executionInfo": {
     "elapsed": 761379,
     "status": "ok",
     "timestamp": 1568434322856,
     "user": {
      "displayName": "vedant kale",
      "photoUrl": "https://lh3.googleusercontent.com/a-/AAuE7mCDab_KFU1MHWEjRsQP-6z1fyiPUiZjRxo9hWUi2w=s64",
      "userId": "16040215375828489081"
     },
     "user_tz": -330
    },
    "id": "v2czApn7yvma",
    "outputId": "0ec97356-e4b9-4c83-92b3-fef6058a4204"
   },
   "outputs": [],
   "source": [
    "# Root mean square of our prediction on X_train and Y_train is c Random Forest\n",
    "RMSR1=np.sqrt(metrics.mean_squared_error(prediction2, prediction4))\n",
    "RMSR1"
   ]
  },
  {
   "cell_type": "code",
   "execution_count": null,
   "metadata": {
    "colab": {
     "base_uri": "https://localhost:8080/",
     "height": 1000
    },
    "colab_type": "code",
    "executionInfo": {
     "elapsed": 759037,
     "status": "ok",
     "timestamp": 1568434319964,
     "user": {
      "displayName": "vedant kale",
      "photoUrl": "https://lh3.googleusercontent.com/a-/AAuE7mCDab_KFU1MHWEjRsQP-6z1fyiPUiZjRxo9hWUi2w=s64",
      "userId": "16040215375828489081"
     },
     "user_tz": -330
    },
    "id": "mAL3UAEt5J4b",
    "outputId": "e4036e73-0507-4543-d467-69b33a348fe4"
   },
   "outputs": [],
   "source": [
    "# Converting and saving the predictions for Linear Regression\n",
    "\n",
    "from pandas import DataFrame\n",
    "C = { 'ID': d2['ID'],\n",
    "      'total_amount': prediction1,\n",
    "    }\n",
    "df = DataFrame(C, columns= ['ID', 'total_amount'])\n",
    "export_csv = df.to_csv ('SampleSubmission_lin.csv', index = None, header=True) # here you have to write path, where result file will be stored\n",
    "print (df)"
   ]
  },
  {
   "cell_type": "code",
   "execution_count": null,
   "metadata": {
    "colab": {
     "base_uri": "https://localhost:8080/",
     "height": 1000
    },
    "colab_type": "code",
    "executionInfo": {
     "elapsed": 759464,
     "status": "ok",
     "timestamp": 1568434320405,
     "user": {
      "displayName": "vedant kale",
      "photoUrl": "https://lh3.googleusercontent.com/a-/AAuE7mCDab_KFU1MHWEjRsQP-6z1fyiPUiZjRxo9hWUi2w=s64",
      "userId": "16040215375828489081"
     },
     "user_tz": -330
    },
    "id": "8KtpgWhE5J4d",
    "outputId": "1e5cf41c-813c-45c9-fc92-ca287505178d"
   },
   "outputs": [],
   "source": [
    "# Converting and saving the predictions for Random Forest Regression\n",
    "\n",
    "from pandas import DataFrame\n",
    "C = { 'ID': d2['ID'],\n",
    "      'total_amount': prediction3,\n",
    "    }\n",
    "df = DataFrame(C, columns= ['ID', 'total_amount'])\n",
    "export_csv = df.to_csv ('SampleSubmission_rf.csv', index = None, header=True) # here you have to write path, where result file will be stored\n",
    "print (df)"
   ]
  },
  {
   "cell_type": "code",
   "execution_count": null,
   "metadata": {
    "colab": {
     "base_uri": "https://localhost:8080/",
     "height": 1000
    },
    "colab_type": "code",
    "executionInfo": {
     "elapsed": 761891,
     "status": "ok",
     "timestamp": 1568434322852,
     "user": {
      "displayName": "vedant kale",
      "photoUrl": "https://lh3.googleusercontent.com/a-/AAuE7mCDab_KFU1MHWEjRsQP-6z1fyiPUiZjRxo9hWUi2w=s64",
      "userId": "16040215375828489081"
     },
     "user_tz": -330
    },
    "id": "qeFIM4Z6LL3M",
    "outputId": "32785497-f066-4e0d-827d-bbc1591a4d9b"
   },
   "outputs": [],
   "source": [
    "# Converting and saving the mean of predictions for Linear Regression and Random Forest\n",
    "from pandas import DataFrame\n",
    "C = { 'ID': d2['ID'],\n",
    "      'total_amount': (prediction1+prediction3)/2 ,\n",
    "    }\n",
    "df = DataFrame(C, columns= ['ID', 'total_amount'])\n",
    "export_csv = df.to_csv ('SampleSubmission_rf+lin.csv', index = None, header=True) # here you have to write path, where result file will be stored\n",
    "print (df)"
   ]
  },
  {
   "cell_type": "code",
   "execution_count": null,
   "metadata": {},
   "outputs": [],
   "source": []
  }
 ],
 "metadata": {
  "colab": {
   "collapsed_sections": [],
   "name": "chh_ola.ipynb",
   "provenance": [],
   "version": "0.3.2"
  },
  "kernelspec": {
   "display_name": "Python 3",
   "language": "python",
   "name": "python3"
  }
 },
 "nbformat": 4,
 "nbformat_minor": 1
}
