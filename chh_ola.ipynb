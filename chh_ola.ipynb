{
 "cells": [
  {
   "cell_type": "code",
   "execution_count": 28,
   "metadata": {
    "colab": {
     "base_uri": "https://localhost:8080/",
     "height": 124
    },
    "colab_type": "code",
    "executionInfo": {
     "elapsed": 47437,
     "status": "ok",
     "timestamp": 1568392690000,
     "user": {
      "displayName": "vedant kale",
      "photoUrl": "https://lh3.googleusercontent.com/a-/AAuE7mCDab_KFU1MHWEjRsQP-6z1fyiPUiZjRxo9hWUi2w=s64",
      "userId": "16040215375828489081"
     },
     "user_tz": -330
    },
    "id": "el5pJQjF5J3B",
    "outputId": "46721890-96d8-4557-a923-f9c9cb9d2358"
   },
   "outputs": [],
   "source": [
    "import numpy as np\n",
    "import pandas as pd\n",
    "import seaborn as sns\n",
    "import matplotlib.pyplot as plt\n",
    "import matplotlib as mpl\n",
    "from sklearn import metrics\n",
    "\n",
    "%matplotlib inline"
   ]
  },
  {
   "cell_type": "code",
   "execution_count": 29,
   "metadata": {
    "colab": {
     "base_uri": "https://localhost:8080/",
     "height": 89
    },
    "colab_type": "code",
    "executionInfo": {
     "elapsed": 51929,
     "status": "ok",
     "timestamp": 1568392694810,
     "user": {
      "displayName": "vedant kale",
      "photoUrl": "https://lh3.googleusercontent.com/a-/AAuE7mCDab_KFU1MHWEjRsQP-6z1fyiPUiZjRxo9hWUi2w=s64",
      "userId": "16040215375828489081"
     },
     "user_tz": -330
    },
    "id": "S-9qKmPE5J3I",
    "outputId": "a7aaf9a0-5c3b-4d9c-a823-439c9e74075d"
   },
   "outputs": [
    {
     "data": {
      "text/plain": [
       "(1048575, 17)"
      ]
     },
     "execution_count": 29,
     "metadata": {},
     "output_type": "execute_result"
    }
   ],
   "source": [
    "d1 = pd.read_csv('train2.csv',na_values=['+ACI-  +ACIAIg-status+ACIAIg- : 500+ACI-','0+AHs-'])\n",
    "d1.shape"
   ]
  },
  {
   "cell_type": "code",
   "execution_count": 30,
   "metadata": {
    "colab": {
     "base_uri": "https://localhost:8080/",
     "height": 399
    },
    "colab_type": "code",
    "executionInfo": {
     "elapsed": 52080,
     "status": "ok",
     "timestamp": 1568392695276,
     "user": {
      "displayName": "vedant kale",
      "photoUrl": "https://lh3.googleusercontent.com/a-/AAuE7mCDab_KFU1MHWEjRsQP-6z1fyiPUiZjRxo9hWUi2w=s64",
      "userId": "16040215375828489081"
     },
     "user_tz": -330
    },
    "id": "y0rWQtF05J3N",
    "outputId": "2a0cc710-dac6-4c92-f469-95d8c5432a4d"
   },
   "outputs": [
    {
     "name": "stdout",
     "output_type": "stream",
     "text": [
      "<class 'pandas.core.frame.DataFrame'>\n",
      "RangeIndex: 1048575 entries, 0 to 1048574\n",
      "Data columns (total 17 columns):\n",
      "ID                        1048575 non-null int64\n",
      "vendor+AF8-id             1048574 non-null float64\n",
      "pickup+AF8-loc            1048574 non-null float64\n",
      "drop+AF8-loc              1048574 non-null float64\n",
      "driver+AF8-tip            1048573 non-null object\n",
      "mta+AF8-tax               1048573 non-null object\n",
      "distance                  1048574 non-null float64\n",
      "pickup+AF8-time           1048574 non-null object\n",
      "drop+AF8-time             1048574 non-null object\n",
      "num+AF8-passengers        1048574 non-null float64\n",
      "toll+AF8-amount           1048573 non-null object\n",
      "payment+AF8-method        1048574 non-null float64\n",
      "rate+AF8-code             1048574 non-null float64\n",
      "stored+AF8-flag           1048574 non-null object\n",
      "extra+AF8-charges         1048574 non-null object\n",
      "improvement+AF8-charge    1048573 non-null object\n",
      "total+AF8-amount          1048573 non-null object\n",
      "dtypes: float64(7), int64(1), object(9)\n",
      "memory usage: 136.0+ MB\n"
     ]
    }
   ],
   "source": [
    "d1.info()"
   ]
  },
  {
   "cell_type": "code",
   "execution_count": 31,
   "metadata": {
    "colab": {
     "base_uri": "https://localhost:8080/",
     "height": 417
    },
    "colab_type": "code",
    "executionInfo": {
     "elapsed": 51774,
     "status": "ok",
     "timestamp": 1568392695280,
     "user": {
      "displayName": "vedant kale",
      "photoUrl": "https://lh3.googleusercontent.com/a-/AAuE7mCDab_KFU1MHWEjRsQP-6z1fyiPUiZjRxo9hWUi2w=s64",
      "userId": "16040215375828489081"
     },
     "user_tz": -330
    },
    "id": "Yaq65roy5J3R",
    "outputId": "bbd4f2f3-55a1-41e4-fe2f-6728d6bfeb43",
    "scrolled": true
   },
   "outputs": [
    {
     "data": {
      "text/html": [
       "<div>\n",
       "<style scoped>\n",
       "    .dataframe tbody tr th:only-of-type {\n",
       "        vertical-align: middle;\n",
       "    }\n",
       "\n",
       "    .dataframe tbody tr th {\n",
       "        vertical-align: top;\n",
       "    }\n",
       "\n",
       "    .dataframe thead th {\n",
       "        text-align: right;\n",
       "    }\n",
       "</style>\n",
       "<table border=\"1\" class=\"dataframe\">\n",
       "  <thead>\n",
       "    <tr style=\"text-align: right;\">\n",
       "      <th></th>\n",
       "      <th>ID</th>\n",
       "      <th>vendor+AF8-id</th>\n",
       "      <th>pickup+AF8-loc</th>\n",
       "      <th>drop+AF8-loc</th>\n",
       "      <th>driver+AF8-tip</th>\n",
       "      <th>mta+AF8-tax</th>\n",
       "      <th>distance</th>\n",
       "      <th>pickup+AF8-time</th>\n",
       "      <th>drop+AF8-time</th>\n",
       "      <th>num+AF8-passengers</th>\n",
       "      <th>toll+AF8-amount</th>\n",
       "      <th>payment+AF8-method</th>\n",
       "      <th>rate+AF8-code</th>\n",
       "      <th>stored+AF8-flag</th>\n",
       "      <th>extra+AF8-charges</th>\n",
       "      <th>improvement+AF8-charge</th>\n",
       "      <th>total+AF8-amount</th>\n",
       "    </tr>\n",
       "  </thead>\n",
       "  <tbody>\n",
       "    <tr>\n",
       "      <th>0</th>\n",
       "      <td>0</td>\n",
       "      <td>1.0</td>\n",
       "      <td>170.0</td>\n",
       "      <td>233.0</td>\n",
       "      <td>1.83</td>\n",
       "      <td>0.5</td>\n",
       "      <td>0.70</td>\n",
       "      <td>04/04/2017 05:59:43 PM</td>\n",
       "      <td>04/04/2017 06:05:04 PM</td>\n",
       "      <td>1.0</td>\n",
       "      <td>0</td>\n",
       "      <td>1.0</td>\n",
       "      <td>1.0</td>\n",
       "      <td>N</td>\n",
       "      <td>1</td>\n",
       "      <td>0.3</td>\n",
       "      <td>9.13</td>\n",
       "    </tr>\n",
       "    <tr>\n",
       "      <th>1</th>\n",
       "      <td>1</td>\n",
       "      <td>2.0</td>\n",
       "      <td>151.0</td>\n",
       "      <td>243.0</td>\n",
       "      <td>3.56</td>\n",
       "      <td>0.5</td>\n",
       "      <td>4.64</td>\n",
       "      <td>04/03/2017 07:03:34 PM</td>\n",
       "      <td>04/03/2017 07:20:04 PM</td>\n",
       "      <td>1.0</td>\n",
       "      <td>0</td>\n",
       "      <td>1.0</td>\n",
       "      <td>1.0</td>\n",
       "      <td>N</td>\n",
       "      <td>1</td>\n",
       "      <td>0.3</td>\n",
       "      <td>21.36</td>\n",
       "    </tr>\n",
       "    <tr>\n",
       "      <th>2</th>\n",
       "      <td>2</td>\n",
       "      <td>2.0</td>\n",
       "      <td>68.0</td>\n",
       "      <td>90.0</td>\n",
       "      <td>1.5</td>\n",
       "      <td>0.5</td>\n",
       "      <td>1.29</td>\n",
       "      <td>04/03/2017 03:06:13 PM</td>\n",
       "      <td>04/03/2017 03:12:30 PM</td>\n",
       "      <td>2.0</td>\n",
       "      <td>0</td>\n",
       "      <td>1.0</td>\n",
       "      <td>1.0</td>\n",
       "      <td>N</td>\n",
       "      <td>0</td>\n",
       "      <td>0.3</td>\n",
       "      <td>8.8</td>\n",
       "    </tr>\n",
       "    <tr>\n",
       "      <th>3</th>\n",
       "      <td>3</td>\n",
       "      <td>2.0</td>\n",
       "      <td>142.0</td>\n",
       "      <td>234.0</td>\n",
       "      <td>1.5</td>\n",
       "      <td>0.5</td>\n",
       "      <td>2.74</td>\n",
       "      <td>04/04/2017 08:10:52 AM</td>\n",
       "      <td>04/04/2017 08:27:00 AM</td>\n",
       "      <td>1.0</td>\n",
       "      <td>0</td>\n",
       "      <td>1.0</td>\n",
       "      <td>1.0</td>\n",
       "      <td>N</td>\n",
       "      <td>0</td>\n",
       "      <td>0.3</td>\n",
       "      <td>14.8</td>\n",
       "    </tr>\n",
       "    <tr>\n",
       "      <th>4</th>\n",
       "      <td>4</td>\n",
       "      <td>2.0</td>\n",
       "      <td>238.0</td>\n",
       "      <td>238.0</td>\n",
       "      <td>0</td>\n",
       "      <td>0.5</td>\n",
       "      <td>0.45</td>\n",
       "      <td>04/05/2017 02:02:59 PM</td>\n",
       "      <td>04/05/2017 02:05:41 PM</td>\n",
       "      <td>6.0</td>\n",
       "      <td>0</td>\n",
       "      <td>2.0</td>\n",
       "      <td>1.0</td>\n",
       "      <td>N</td>\n",
       "      <td>0</td>\n",
       "      <td>0.3</td>\n",
       "      <td>4.8</td>\n",
       "    </tr>\n",
       "  </tbody>\n",
       "</table>\n",
       "</div>"
      ],
      "text/plain": [
       "   ID  vendor+AF8-id  pickup+AF8-loc  drop+AF8-loc driver+AF8-tip mta+AF8-tax  \\\n",
       "0   0            1.0           170.0         233.0           1.83         0.5   \n",
       "1   1            2.0           151.0         243.0           3.56         0.5   \n",
       "2   2            2.0            68.0          90.0            1.5         0.5   \n",
       "3   3            2.0           142.0         234.0            1.5         0.5   \n",
       "4   4            2.0           238.0         238.0              0         0.5   \n",
       "\n",
       "   distance         pickup+AF8-time           drop+AF8-time  \\\n",
       "0      0.70  04/04/2017 05:59:43 PM  04/04/2017 06:05:04 PM   \n",
       "1      4.64  04/03/2017 07:03:34 PM  04/03/2017 07:20:04 PM   \n",
       "2      1.29  04/03/2017 03:06:13 PM  04/03/2017 03:12:30 PM   \n",
       "3      2.74  04/04/2017 08:10:52 AM  04/04/2017 08:27:00 AM   \n",
       "4      0.45  04/05/2017 02:02:59 PM  04/05/2017 02:05:41 PM   \n",
       "\n",
       "   num+AF8-passengers toll+AF8-amount  payment+AF8-method  rate+AF8-code  \\\n",
       "0                 1.0               0                 1.0            1.0   \n",
       "1                 1.0               0                 1.0            1.0   \n",
       "2                 2.0               0                 1.0            1.0   \n",
       "3                 1.0               0                 1.0            1.0   \n",
       "4                 6.0               0                 2.0            1.0   \n",
       "\n",
       "  stored+AF8-flag extra+AF8-charges improvement+AF8-charge total+AF8-amount  \n",
       "0               N                 1                    0.3             9.13  \n",
       "1               N                 1                    0.3            21.36  \n",
       "2               N                 0                    0.3              8.8  \n",
       "3               N                 0                    0.3             14.8  \n",
       "4               N                 0                    0.3              4.8  "
      ]
     },
     "execution_count": 31,
     "metadata": {},
     "output_type": "execute_result"
    }
   ],
   "source": [
    "d1.head()"
   ]
  },
  {
   "cell_type": "code",
   "execution_count": 32,
   "metadata": {
    "colab": {
     "base_uri": "https://localhost:8080/",
     "height": 330
    },
    "colab_type": "code",
    "executionInfo": {
     "elapsed": 52423,
     "status": "ok",
     "timestamp": 1568392696243,
     "user": {
      "displayName": "vedant kale",
      "photoUrl": "https://lh3.googleusercontent.com/a-/AAuE7mCDab_KFU1MHWEjRsQP-6z1fyiPUiZjRxo9hWUi2w=s64",
      "userId": "16040215375828489081"
     },
     "user_tz": -330
    },
    "id": "eI6I-TRE5J3U",
    "outputId": "3e8e5c1e-2bea-47b1-a4af-4f4de9fc6959",
    "scrolled": true
   },
   "outputs": [
    {
     "data": {
      "text/plain": [
       "ID                        0\n",
       "vendor+AF8-id             1\n",
       "pickup+AF8-loc            1\n",
       "drop+AF8-loc              1\n",
       "driver+AF8-tip            2\n",
       "mta+AF8-tax               2\n",
       "distance                  1\n",
       "pickup+AF8-time           1\n",
       "drop+AF8-time             1\n",
       "num+AF8-passengers        1\n",
       "toll+AF8-amount           2\n",
       "payment+AF8-method        1\n",
       "rate+AF8-code             1\n",
       "stored+AF8-flag           1\n",
       "extra+AF8-charges         1\n",
       "improvement+AF8-charge    2\n",
       "total+AF8-amount          2\n",
       "dtype: int64"
      ]
     },
     "execution_count": 32,
     "metadata": {},
     "output_type": "execute_result"
    }
   ],
   "source": [
    "d1.isnull().sum()"
   ]
  },
  {
   "cell_type": "code",
   "execution_count": 33,
   "metadata": {
    "colab": {},
    "colab_type": "code",
    "id": "jxrHKsDB5J3W"
   },
   "outputs": [],
   "source": [
    "d1_u1=d1.replace(to_replace='\\+AC0\\-', value='', regex=True)"
   ]
  },
  {
   "cell_type": "code",
   "execution_count": 34,
   "metadata": {
    "colab": {
     "base_uri": "https://localhost:8080/",
     "height": 417
    },
    "colab_type": "code",
    "executionInfo": {
     "elapsed": 63791,
     "status": "ok",
     "timestamp": 1568392707930,
     "user": {
      "displayName": "vedant kale",
      "photoUrl": "https://lh3.googleusercontent.com/a-/AAuE7mCDab_KFU1MHWEjRsQP-6z1fyiPUiZjRxo9hWUi2w=s64",
      "userId": "16040215375828489081"
     },
     "user_tz": -330
    },
    "id": "MlBGnRCC5J3Z",
    "outputId": "31ab4897-1e6a-44b5-e387-76b152b153a4"
   },
   "outputs": [
    {
     "data": {
      "text/html": [
       "<div>\n",
       "<style scoped>\n",
       "    .dataframe tbody tr th:only-of-type {\n",
       "        vertical-align: middle;\n",
       "    }\n",
       "\n",
       "    .dataframe tbody tr th {\n",
       "        vertical-align: top;\n",
       "    }\n",
       "\n",
       "    .dataframe thead th {\n",
       "        text-align: right;\n",
       "    }\n",
       "</style>\n",
       "<table border=\"1\" class=\"dataframe\">\n",
       "  <thead>\n",
       "    <tr style=\"text-align: right;\">\n",
       "      <th></th>\n",
       "      <th>ID</th>\n",
       "      <th>vendor+AF8-id</th>\n",
       "      <th>pickup+AF8-loc</th>\n",
       "      <th>drop+AF8-loc</th>\n",
       "      <th>driver+AF8-tip</th>\n",
       "      <th>mta+AF8-tax</th>\n",
       "      <th>distance</th>\n",
       "      <th>pickup+AF8-time</th>\n",
       "      <th>drop+AF8-time</th>\n",
       "      <th>num+AF8-passengers</th>\n",
       "      <th>toll+AF8-amount</th>\n",
       "      <th>payment+AF8-method</th>\n",
       "      <th>rate+AF8-code</th>\n",
       "      <th>stored+AF8-flag</th>\n",
       "      <th>extra+AF8-charges</th>\n",
       "      <th>improvement+AF8-charge</th>\n",
       "      <th>total+AF8-amount</th>\n",
       "    </tr>\n",
       "  </thead>\n",
       "  <tbody>\n",
       "    <tr>\n",
       "      <th>0</th>\n",
       "      <td>0</td>\n",
       "      <td>1.0</td>\n",
       "      <td>170.0</td>\n",
       "      <td>233.0</td>\n",
       "      <td>1.83</td>\n",
       "      <td>0.5</td>\n",
       "      <td>0.70</td>\n",
       "      <td>04/04/2017 05:59:43 PM</td>\n",
       "      <td>04/04/2017 06:05:04 PM</td>\n",
       "      <td>1.0</td>\n",
       "      <td>0</td>\n",
       "      <td>1.0</td>\n",
       "      <td>1.0</td>\n",
       "      <td>N</td>\n",
       "      <td>1</td>\n",
       "      <td>0.3</td>\n",
       "      <td>9.13</td>\n",
       "    </tr>\n",
       "    <tr>\n",
       "      <th>1</th>\n",
       "      <td>1</td>\n",
       "      <td>2.0</td>\n",
       "      <td>151.0</td>\n",
       "      <td>243.0</td>\n",
       "      <td>3.56</td>\n",
       "      <td>0.5</td>\n",
       "      <td>4.64</td>\n",
       "      <td>04/03/2017 07:03:34 PM</td>\n",
       "      <td>04/03/2017 07:20:04 PM</td>\n",
       "      <td>1.0</td>\n",
       "      <td>0</td>\n",
       "      <td>1.0</td>\n",
       "      <td>1.0</td>\n",
       "      <td>N</td>\n",
       "      <td>1</td>\n",
       "      <td>0.3</td>\n",
       "      <td>21.36</td>\n",
       "    </tr>\n",
       "    <tr>\n",
       "      <th>2</th>\n",
       "      <td>2</td>\n",
       "      <td>2.0</td>\n",
       "      <td>68.0</td>\n",
       "      <td>90.0</td>\n",
       "      <td>1.5</td>\n",
       "      <td>0.5</td>\n",
       "      <td>1.29</td>\n",
       "      <td>04/03/2017 03:06:13 PM</td>\n",
       "      <td>04/03/2017 03:12:30 PM</td>\n",
       "      <td>2.0</td>\n",
       "      <td>0</td>\n",
       "      <td>1.0</td>\n",
       "      <td>1.0</td>\n",
       "      <td>N</td>\n",
       "      <td>0</td>\n",
       "      <td>0.3</td>\n",
       "      <td>8.8</td>\n",
       "    </tr>\n",
       "    <tr>\n",
       "      <th>3</th>\n",
       "      <td>3</td>\n",
       "      <td>2.0</td>\n",
       "      <td>142.0</td>\n",
       "      <td>234.0</td>\n",
       "      <td>1.5</td>\n",
       "      <td>0.5</td>\n",
       "      <td>2.74</td>\n",
       "      <td>04/04/2017 08:10:52 AM</td>\n",
       "      <td>04/04/2017 08:27:00 AM</td>\n",
       "      <td>1.0</td>\n",
       "      <td>0</td>\n",
       "      <td>1.0</td>\n",
       "      <td>1.0</td>\n",
       "      <td>N</td>\n",
       "      <td>0</td>\n",
       "      <td>0.3</td>\n",
       "      <td>14.8</td>\n",
       "    </tr>\n",
       "    <tr>\n",
       "      <th>4</th>\n",
       "      <td>4</td>\n",
       "      <td>2.0</td>\n",
       "      <td>238.0</td>\n",
       "      <td>238.0</td>\n",
       "      <td>0</td>\n",
       "      <td>0.5</td>\n",
       "      <td>0.45</td>\n",
       "      <td>04/05/2017 02:02:59 PM</td>\n",
       "      <td>04/05/2017 02:05:41 PM</td>\n",
       "      <td>6.0</td>\n",
       "      <td>0</td>\n",
       "      <td>2.0</td>\n",
       "      <td>1.0</td>\n",
       "      <td>N</td>\n",
       "      <td>0</td>\n",
       "      <td>0.3</td>\n",
       "      <td>4.8</td>\n",
       "    </tr>\n",
       "  </tbody>\n",
       "</table>\n",
       "</div>"
      ],
      "text/plain": [
       "   ID  vendor+AF8-id  pickup+AF8-loc  drop+AF8-loc driver+AF8-tip mta+AF8-tax  \\\n",
       "0   0            1.0           170.0         233.0           1.83         0.5   \n",
       "1   1            2.0           151.0         243.0           3.56         0.5   \n",
       "2   2            2.0            68.0          90.0            1.5         0.5   \n",
       "3   3            2.0           142.0         234.0            1.5         0.5   \n",
       "4   4            2.0           238.0         238.0              0         0.5   \n",
       "\n",
       "   distance         pickup+AF8-time           drop+AF8-time  \\\n",
       "0      0.70  04/04/2017 05:59:43 PM  04/04/2017 06:05:04 PM   \n",
       "1      4.64  04/03/2017 07:03:34 PM  04/03/2017 07:20:04 PM   \n",
       "2      1.29  04/03/2017 03:06:13 PM  04/03/2017 03:12:30 PM   \n",
       "3      2.74  04/04/2017 08:10:52 AM  04/04/2017 08:27:00 AM   \n",
       "4      0.45  04/05/2017 02:02:59 PM  04/05/2017 02:05:41 PM   \n",
       "\n",
       "   num+AF8-passengers toll+AF8-amount  payment+AF8-method  rate+AF8-code  \\\n",
       "0                 1.0               0                 1.0            1.0   \n",
       "1                 1.0               0                 1.0            1.0   \n",
       "2                 2.0               0                 1.0            1.0   \n",
       "3                 1.0               0                 1.0            1.0   \n",
       "4                 6.0               0                 2.0            1.0   \n",
       "\n",
       "  stored+AF8-flag extra+AF8-charges improvement+AF8-charge total+AF8-amount  \n",
       "0               N                 1                    0.3             9.13  \n",
       "1               N                 1                    0.3            21.36  \n",
       "2               N                 0                    0.3              8.8  \n",
       "3               N                 0                    0.3             14.8  \n",
       "4               N                 0                    0.3              4.8  "
      ]
     },
     "execution_count": 34,
     "metadata": {},
     "output_type": "execute_result"
    }
   ],
   "source": [
    "d1_u1.head()"
   ]
  },
  {
   "cell_type": "code",
   "execution_count": 35,
   "metadata": {
    "colab": {
     "base_uri": "https://localhost:8080/",
     "height": 300
    },
    "colab_type": "code",
    "executionInfo": {
     "elapsed": 63925,
     "status": "ok",
     "timestamp": 1568392708369,
     "user": {
      "displayName": "vedant kale",
      "photoUrl": "https://lh3.googleusercontent.com/a-/AAuE7mCDab_KFU1MHWEjRsQP-6z1fyiPUiZjRxo9hWUi2w=s64",
      "userId": "16040215375828489081"
     },
     "user_tz": -330
    },
    "id": "65NfYYny5J3b",
    "outputId": "84e76550-9dc7-4810-c3e5-bf40df126d34"
   },
   "outputs": [
    {
     "data": {
      "text/html": [
       "<div>\n",
       "<style scoped>\n",
       "    .dataframe tbody tr th:only-of-type {\n",
       "        vertical-align: middle;\n",
       "    }\n",
       "\n",
       "    .dataframe tbody tr th {\n",
       "        vertical-align: top;\n",
       "    }\n",
       "\n",
       "    .dataframe thead th {\n",
       "        text-align: right;\n",
       "    }\n",
       "</style>\n",
       "<table border=\"1\" class=\"dataframe\">\n",
       "  <thead>\n",
       "    <tr style=\"text-align: right;\">\n",
       "      <th></th>\n",
       "      <th>ID</th>\n",
       "      <th>vendor+AF8-id</th>\n",
       "      <th>pickup+AF8-loc</th>\n",
       "      <th>drop+AF8-loc</th>\n",
       "      <th>distance</th>\n",
       "      <th>num+AF8-passengers</th>\n",
       "      <th>payment+AF8-method</th>\n",
       "      <th>rate+AF8-code</th>\n",
       "    </tr>\n",
       "  </thead>\n",
       "  <tbody>\n",
       "    <tr>\n",
       "      <th>count</th>\n",
       "      <td>1.048575e+06</td>\n",
       "      <td>1.048574e+06</td>\n",
       "      <td>1.048574e+06</td>\n",
       "      <td>1.048574e+06</td>\n",
       "      <td>1.048574e+06</td>\n",
       "      <td>1.048574e+06</td>\n",
       "      <td>1.048574e+06</td>\n",
       "      <td>1.048574e+06</td>\n",
       "    </tr>\n",
       "    <tr>\n",
       "      <th>mean</th>\n",
       "      <td>5.242870e+05</td>\n",
       "      <td>1.541465e+00</td>\n",
       "      <td>1.648085e+02</td>\n",
       "      <td>1.626675e+02</td>\n",
       "      <td>2.859832e+00</td>\n",
       "      <td>1.590696e+00</td>\n",
       "      <td>1.317943e+00</td>\n",
       "      <td>1.043368e+00</td>\n",
       "    </tr>\n",
       "    <tr>\n",
       "      <th>std</th>\n",
       "      <td>3.026977e+05</td>\n",
       "      <td>4.982779e-01</td>\n",
       "      <td>6.579282e+01</td>\n",
       "      <td>6.953073e+01</td>\n",
       "      <td>3.709541e+00</td>\n",
       "      <td>1.253700e+00</td>\n",
       "      <td>4.853266e-01</td>\n",
       "      <td>5.621114e-01</td>\n",
       "    </tr>\n",
       "    <tr>\n",
       "      <th>min</th>\n",
       "      <td>0.000000e+00</td>\n",
       "      <td>1.000000e+00</td>\n",
       "      <td>1.000000e+00</td>\n",
       "      <td>1.000000e+00</td>\n",
       "      <td>0.000000e+00</td>\n",
       "      <td>0.000000e+00</td>\n",
       "      <td>1.000000e+00</td>\n",
       "      <td>1.000000e+00</td>\n",
       "    </tr>\n",
       "    <tr>\n",
       "      <th>25%</th>\n",
       "      <td>2.621435e+05</td>\n",
       "      <td>1.000000e+00</td>\n",
       "      <td>1.250000e+02</td>\n",
       "      <td>1.130000e+02</td>\n",
       "      <td>9.300000e-01</td>\n",
       "      <td>1.000000e+00</td>\n",
       "      <td>1.000000e+00</td>\n",
       "      <td>1.000000e+00</td>\n",
       "    </tr>\n",
       "    <tr>\n",
       "      <th>50%</th>\n",
       "      <td>5.242870e+05</td>\n",
       "      <td>2.000000e+00</td>\n",
       "      <td>1.620000e+02</td>\n",
       "      <td>1.620000e+02</td>\n",
       "      <td>1.600000e+00</td>\n",
       "      <td>1.000000e+00</td>\n",
       "      <td>1.000000e+00</td>\n",
       "      <td>1.000000e+00</td>\n",
       "    </tr>\n",
       "    <tr>\n",
       "      <th>75%</th>\n",
       "      <td>7.864305e+05</td>\n",
       "      <td>2.000000e+00</td>\n",
       "      <td>2.330000e+02</td>\n",
       "      <td>2.330000e+02</td>\n",
       "      <td>2.900000e+00</td>\n",
       "      <td>2.000000e+00</td>\n",
       "      <td>2.000000e+00</td>\n",
       "      <td>1.000000e+00</td>\n",
       "    </tr>\n",
       "    <tr>\n",
       "      <th>max</th>\n",
       "      <td>1.048574e+06</td>\n",
       "      <td>2.000000e+00</td>\n",
       "      <td>2.650000e+02</td>\n",
       "      <td>2.650000e+02</td>\n",
       "      <td>1.138000e+02</td>\n",
       "      <td>9.000000e+00</td>\n",
       "      <td>4.000000e+00</td>\n",
       "      <td>9.900000e+01</td>\n",
       "    </tr>\n",
       "  </tbody>\n",
       "</table>\n",
       "</div>"
      ],
      "text/plain": [
       "                 ID  vendor+AF8-id  pickup+AF8-loc  drop+AF8-loc  \\\n",
       "count  1.048575e+06   1.048574e+06    1.048574e+06  1.048574e+06   \n",
       "mean   5.242870e+05   1.541465e+00    1.648085e+02  1.626675e+02   \n",
       "std    3.026977e+05   4.982779e-01    6.579282e+01  6.953073e+01   \n",
       "min    0.000000e+00   1.000000e+00    1.000000e+00  1.000000e+00   \n",
       "25%    2.621435e+05   1.000000e+00    1.250000e+02  1.130000e+02   \n",
       "50%    5.242870e+05   2.000000e+00    1.620000e+02  1.620000e+02   \n",
       "75%    7.864305e+05   2.000000e+00    2.330000e+02  2.330000e+02   \n",
       "max    1.048574e+06   2.000000e+00    2.650000e+02  2.650000e+02   \n",
       "\n",
       "           distance  num+AF8-passengers  payment+AF8-method  rate+AF8-code  \n",
       "count  1.048574e+06        1.048574e+06        1.048574e+06   1.048574e+06  \n",
       "mean   2.859832e+00        1.590696e+00        1.317943e+00   1.043368e+00  \n",
       "std    3.709541e+00        1.253700e+00        4.853266e-01   5.621114e-01  \n",
       "min    0.000000e+00        0.000000e+00        1.000000e+00   1.000000e+00  \n",
       "25%    9.300000e-01        1.000000e+00        1.000000e+00   1.000000e+00  \n",
       "50%    1.600000e+00        1.000000e+00        1.000000e+00   1.000000e+00  \n",
       "75%    2.900000e+00        2.000000e+00        2.000000e+00   1.000000e+00  \n",
       "max    1.138000e+02        9.000000e+00        4.000000e+00   9.900000e+01  "
      ]
     },
     "execution_count": 35,
     "metadata": {},
     "output_type": "execute_result"
    }
   ],
   "source": [
    "d1.describe()"
   ]
  },
  {
   "cell_type": "code",
   "execution_count": 36,
   "metadata": {
    "colab": {
     "base_uri": "https://localhost:8080/",
     "height": 121
    },
    "colab_type": "code",
    "executionInfo": {
     "elapsed": 63625,
     "status": "ok",
     "timestamp": 1568392708374,
     "user": {
      "displayName": "vedant kale",
      "photoUrl": "https://lh3.googleusercontent.com/a-/AAuE7mCDab_KFU1MHWEjRsQP-6z1fyiPUiZjRxo9hWUi2w=s64",
      "userId": "16040215375828489081"
     },
     "user_tz": -330
    },
    "id": "-r_eg-Xt5J3e",
    "outputId": "6df15468-9c4d-40d1-8630-c5730962a592",
    "scrolled": true
   },
   "outputs": [
    {
     "data": {
      "text/plain": [
       "Index(['ID', 'vendor+AF8-id', 'pickup+AF8-loc', 'drop+AF8-loc',\n",
       "       'driver+AF8-tip', 'mta+AF8-tax', 'distance', 'pickup+AF8-time',\n",
       "       'drop+AF8-time', 'num+AF8-passengers', 'toll+AF8-amount',\n",
       "       'payment+AF8-method', 'rate+AF8-code', 'stored+AF8-flag',\n",
       "       'extra+AF8-charges', 'improvement+AF8-charge', 'total+AF8-amount'],\n",
       "      dtype='object')"
      ]
     },
     "execution_count": 36,
     "metadata": {},
     "output_type": "execute_result"
    }
   ],
   "source": [
    "d1.columns"
   ]
  },
  {
   "cell_type": "code",
   "execution_count": 37,
   "metadata": {
    "colab": {
     "base_uri": "https://localhost:8080/",
     "height": 330
    },
    "colab_type": "code",
    "executionInfo": {
     "elapsed": 63889,
     "status": "ok",
     "timestamp": 1568392708951,
     "user": {
      "displayName": "vedant kale",
      "photoUrl": "https://lh3.googleusercontent.com/a-/AAuE7mCDab_KFU1MHWEjRsQP-6z1fyiPUiZjRxo9hWUi2w=s64",
      "userId": "16040215375828489081"
     },
     "user_tz": -330
    },
    "id": "ompnJiZX5J3h",
    "outputId": "e8b0d8b0-97fa-4133-d3dc-da0204c80d30"
   },
   "outputs": [
    {
     "data": {
      "text/plain": [
       "ID                        0\n",
       "vendor+AF8-id             1\n",
       "pickup+AF8-loc            1\n",
       "drop+AF8-loc              1\n",
       "driver+AF8-tip            2\n",
       "mta+AF8-tax               2\n",
       "distance                  1\n",
       "pickup+AF8-time           1\n",
       "drop+AF8-time             1\n",
       "num+AF8-passengers        1\n",
       "toll+AF8-amount           2\n",
       "payment+AF8-method        1\n",
       "rate+AF8-code             1\n",
       "stored+AF8-flag           1\n",
       "extra+AF8-charges         1\n",
       "improvement+AF8-charge    2\n",
       "total+AF8-amount          2\n",
       "dtype: int64"
      ]
     },
     "execution_count": 37,
     "metadata": {},
     "output_type": "execute_result"
    }
   ],
   "source": [
    "d1_u1.isnull().sum()"
   ]
  },
  {
   "cell_type": "code",
   "execution_count": 38,
   "metadata": {
    "colab": {},
    "colab_type": "code",
    "id": "Dl-fAk385J3k"
   },
   "outputs": [],
   "source": [
    "d1_u1['stored+AF8-flag']=d1_u1['stored+AF8-flag'].replace(to_replace='N', value=0, regex=True)\n",
    "d1_u1['stored+AF8-flag']=d1_u1['stored+AF8-flag'].replace(to_replace='Y', value=1, regex=True)    "
   ]
  },
  {
   "cell_type": "code",
   "execution_count": 39,
   "metadata": {
    "colab": {
     "base_uri": "https://localhost:8080/",
     "height": 417
    },
    "colab_type": "code",
    "executionInfo": {
     "elapsed": 64850,
     "status": "ok",
     "timestamp": 1568392710246,
     "user": {
      "displayName": "vedant kale",
      "photoUrl": "https://lh3.googleusercontent.com/a-/AAuE7mCDab_KFU1MHWEjRsQP-6z1fyiPUiZjRxo9hWUi2w=s64",
      "userId": "16040215375828489081"
     },
     "user_tz": -330
    },
    "id": "_MdrQwQk5J3m",
    "outputId": "34462367-cffc-4034-d42a-af6051de11f7"
   },
   "outputs": [
    {
     "data": {
      "text/html": [
       "<div>\n",
       "<style scoped>\n",
       "    .dataframe tbody tr th:only-of-type {\n",
       "        vertical-align: middle;\n",
       "    }\n",
       "\n",
       "    .dataframe tbody tr th {\n",
       "        vertical-align: top;\n",
       "    }\n",
       "\n",
       "    .dataframe thead th {\n",
       "        text-align: right;\n",
       "    }\n",
       "</style>\n",
       "<table border=\"1\" class=\"dataframe\">\n",
       "  <thead>\n",
       "    <tr style=\"text-align: right;\">\n",
       "      <th></th>\n",
       "      <th>ID</th>\n",
       "      <th>vendor+AF8-id</th>\n",
       "      <th>pickup+AF8-loc</th>\n",
       "      <th>drop+AF8-loc</th>\n",
       "      <th>driver+AF8-tip</th>\n",
       "      <th>mta+AF8-tax</th>\n",
       "      <th>distance</th>\n",
       "      <th>pickup+AF8-time</th>\n",
       "      <th>drop+AF8-time</th>\n",
       "      <th>num+AF8-passengers</th>\n",
       "      <th>toll+AF8-amount</th>\n",
       "      <th>payment+AF8-method</th>\n",
       "      <th>rate+AF8-code</th>\n",
       "      <th>stored+AF8-flag</th>\n",
       "      <th>extra+AF8-charges</th>\n",
       "      <th>improvement+AF8-charge</th>\n",
       "      <th>total+AF8-amount</th>\n",
       "    </tr>\n",
       "  </thead>\n",
       "  <tbody>\n",
       "    <tr>\n",
       "      <th>0</th>\n",
       "      <td>0</td>\n",
       "      <td>1.0</td>\n",
       "      <td>170.0</td>\n",
       "      <td>233.0</td>\n",
       "      <td>1.83</td>\n",
       "      <td>0.5</td>\n",
       "      <td>0.70</td>\n",
       "      <td>04/04/2017 05:59:43 PM</td>\n",
       "      <td>04/04/2017 06:05:04 PM</td>\n",
       "      <td>1.0</td>\n",
       "      <td>0</td>\n",
       "      <td>1.0</td>\n",
       "      <td>1.0</td>\n",
       "      <td>0.0</td>\n",
       "      <td>1</td>\n",
       "      <td>0.3</td>\n",
       "      <td>9.13</td>\n",
       "    </tr>\n",
       "    <tr>\n",
       "      <th>1</th>\n",
       "      <td>1</td>\n",
       "      <td>2.0</td>\n",
       "      <td>151.0</td>\n",
       "      <td>243.0</td>\n",
       "      <td>3.56</td>\n",
       "      <td>0.5</td>\n",
       "      <td>4.64</td>\n",
       "      <td>04/03/2017 07:03:34 PM</td>\n",
       "      <td>04/03/2017 07:20:04 PM</td>\n",
       "      <td>1.0</td>\n",
       "      <td>0</td>\n",
       "      <td>1.0</td>\n",
       "      <td>1.0</td>\n",
       "      <td>0.0</td>\n",
       "      <td>1</td>\n",
       "      <td>0.3</td>\n",
       "      <td>21.36</td>\n",
       "    </tr>\n",
       "    <tr>\n",
       "      <th>2</th>\n",
       "      <td>2</td>\n",
       "      <td>2.0</td>\n",
       "      <td>68.0</td>\n",
       "      <td>90.0</td>\n",
       "      <td>1.5</td>\n",
       "      <td>0.5</td>\n",
       "      <td>1.29</td>\n",
       "      <td>04/03/2017 03:06:13 PM</td>\n",
       "      <td>04/03/2017 03:12:30 PM</td>\n",
       "      <td>2.0</td>\n",
       "      <td>0</td>\n",
       "      <td>1.0</td>\n",
       "      <td>1.0</td>\n",
       "      <td>0.0</td>\n",
       "      <td>0</td>\n",
       "      <td>0.3</td>\n",
       "      <td>8.8</td>\n",
       "    </tr>\n",
       "    <tr>\n",
       "      <th>3</th>\n",
       "      <td>3</td>\n",
       "      <td>2.0</td>\n",
       "      <td>142.0</td>\n",
       "      <td>234.0</td>\n",
       "      <td>1.5</td>\n",
       "      <td>0.5</td>\n",
       "      <td>2.74</td>\n",
       "      <td>04/04/2017 08:10:52 AM</td>\n",
       "      <td>04/04/2017 08:27:00 AM</td>\n",
       "      <td>1.0</td>\n",
       "      <td>0</td>\n",
       "      <td>1.0</td>\n",
       "      <td>1.0</td>\n",
       "      <td>0.0</td>\n",
       "      <td>0</td>\n",
       "      <td>0.3</td>\n",
       "      <td>14.8</td>\n",
       "    </tr>\n",
       "    <tr>\n",
       "      <th>4</th>\n",
       "      <td>4</td>\n",
       "      <td>2.0</td>\n",
       "      <td>238.0</td>\n",
       "      <td>238.0</td>\n",
       "      <td>0</td>\n",
       "      <td>0.5</td>\n",
       "      <td>0.45</td>\n",
       "      <td>04/05/2017 02:02:59 PM</td>\n",
       "      <td>04/05/2017 02:05:41 PM</td>\n",
       "      <td>6.0</td>\n",
       "      <td>0</td>\n",
       "      <td>2.0</td>\n",
       "      <td>1.0</td>\n",
       "      <td>0.0</td>\n",
       "      <td>0</td>\n",
       "      <td>0.3</td>\n",
       "      <td>4.8</td>\n",
       "    </tr>\n",
       "  </tbody>\n",
       "</table>\n",
       "</div>"
      ],
      "text/plain": [
       "   ID  vendor+AF8-id  pickup+AF8-loc  drop+AF8-loc driver+AF8-tip mta+AF8-tax  \\\n",
       "0   0            1.0           170.0         233.0           1.83         0.5   \n",
       "1   1            2.0           151.0         243.0           3.56         0.5   \n",
       "2   2            2.0            68.0          90.0            1.5         0.5   \n",
       "3   3            2.0           142.0         234.0            1.5         0.5   \n",
       "4   4            2.0           238.0         238.0              0         0.5   \n",
       "\n",
       "   distance         pickup+AF8-time           drop+AF8-time  \\\n",
       "0      0.70  04/04/2017 05:59:43 PM  04/04/2017 06:05:04 PM   \n",
       "1      4.64  04/03/2017 07:03:34 PM  04/03/2017 07:20:04 PM   \n",
       "2      1.29  04/03/2017 03:06:13 PM  04/03/2017 03:12:30 PM   \n",
       "3      2.74  04/04/2017 08:10:52 AM  04/04/2017 08:27:00 AM   \n",
       "4      0.45  04/05/2017 02:02:59 PM  04/05/2017 02:05:41 PM   \n",
       "\n",
       "   num+AF8-passengers toll+AF8-amount  payment+AF8-method  rate+AF8-code  \\\n",
       "0                 1.0               0                 1.0            1.0   \n",
       "1                 1.0               0                 1.0            1.0   \n",
       "2                 2.0               0                 1.0            1.0   \n",
       "3                 1.0               0                 1.0            1.0   \n",
       "4                 6.0               0                 2.0            1.0   \n",
       "\n",
       "   stored+AF8-flag extra+AF8-charges improvement+AF8-charge total+AF8-amount  \n",
       "0              0.0                 1                    0.3             9.13  \n",
       "1              0.0                 1                    0.3            21.36  \n",
       "2              0.0                 0                    0.3              8.8  \n",
       "3              0.0                 0                    0.3             14.8  \n",
       "4              0.0                 0                    0.3              4.8  "
      ]
     },
     "execution_count": 39,
     "metadata": {},
     "output_type": "execute_result"
    }
   ],
   "source": [
    "d1_u1.head()"
   ]
  },
  {
   "cell_type": "code",
   "execution_count": 40,
   "metadata": {
    "colab": {},
    "colab_type": "code",
    "id": "GiwhoNkb5J3o"
   },
   "outputs": [],
   "source": [
    "mean_value=d1_u1['driver+AF8-tip'].median()\n",
    "d1_u1['driver+AF8-tip']=d1_u1['driver+AF8-tip'].fillna(mean_value)\n",
    "median_value=d1_u1['vendor+AF8-id'].median()\n",
    "d1_u1['vendor+AF8-id']=d1_u1['vendor+AF8-id'].fillna(median_value)\n",
    "median_value=d1_u1['pickup+AF8-loc'].median()\n",
    "d1_u1['pickup+AF8-loc']=d1_u1['pickup+AF8-loc'].fillna(median_value)\n",
    "median_value=d1_u1['drop+AF8-loc'].median()\n",
    "d1_u1['drop+AF8-loc']=d1_u1['drop+AF8-loc'].fillna(median_value)\n",
    "median_value=d1_u1['mta+AF8-tax'].median()\n",
    "d1_u1['mta+AF8-tax']=d1_u1['mta+AF8-tax'].fillna(median_value)\n",
    "median_value=d1_u1['distance'].median()\n",
    "d1_u1['distance']=d1_u1['distance'].fillna(median_value)\n",
    "median_value=d1_u1['num+AF8-passengers'].median()\n",
    "d1_u1['num+AF8-passengers']=d1_u1['num+AF8-passengers'].fillna(median_value)\n",
    "median_value=d1_u1['toll+AF8-amount'].median()\n",
    "d1_u1['toll+AF8-amount']=d1_u1['toll+AF8-amount'].fillna(median_value)\n",
    "median_value=d1_u1['extra+AF8-charges'].median()\n",
    "d1_u1['extra+AF8-charges']=d1_u1['extra+AF8-charges'].fillna(median_value)\n",
    "median_value=d1_u1['improvement+AF8-charge'].median()\n",
    "d1_u1['improvement+AF8-charge']=d1_u1['improvement+AF8-charge'].fillna(median_value)\n",
    "median_value=d1_u1['total+AF8-amount'].median()\n",
    "d1_u1['total+AF8-amount']=d1_u1['total+AF8-amount'].fillna(median_value)\n",
    "median_value=d1_u1['rate+AF8-code'].median()\n",
    "d1_u1['rate+AF8-code']=d1_u1['rate+AF8-code'].fillna(median_value)\n",
    "mean_value=d1_u1['stored+AF8-flag'].median()\n",
    "d1_u1['stored+AF8-flag']=d1_u1['stored+AF8-flag'].fillna(mean_value)\n"
   ]
  },
  {
   "cell_type": "code",
   "execution_count": 41,
   "metadata": {
    "colab": {
     "base_uri": "https://localhost:8080/",
     "height": 330
    },
    "colab_type": "code",
    "executionInfo": {
     "elapsed": 66013,
     "status": "ok",
     "timestamp": 1568392711729,
     "user": {
      "displayName": "vedant kale",
      "photoUrl": "https://lh3.googleusercontent.com/a-/AAuE7mCDab_KFU1MHWEjRsQP-6z1fyiPUiZjRxo9hWUi2w=s64",
      "userId": "16040215375828489081"
     },
     "user_tz": -330
    },
    "id": "fgAp61SW5J3r",
    "outputId": "9bcae8fa-b20e-4e01-cb4c-193e343a5e06"
   },
   "outputs": [
    {
     "data": {
      "text/plain": [
       "ID                        0\n",
       "vendor+AF8-id             0\n",
       "pickup+AF8-loc            0\n",
       "drop+AF8-loc              0\n",
       "driver+AF8-tip            0\n",
       "mta+AF8-tax               0\n",
       "distance                  0\n",
       "pickup+AF8-time           1\n",
       "drop+AF8-time             1\n",
       "num+AF8-passengers        0\n",
       "toll+AF8-amount           0\n",
       "payment+AF8-method        1\n",
       "rate+AF8-code             0\n",
       "stored+AF8-flag           0\n",
       "extra+AF8-charges         0\n",
       "improvement+AF8-charge    0\n",
       "total+AF8-amount          0\n",
       "dtype: int64"
      ]
     },
     "execution_count": 41,
     "metadata": {},
     "output_type": "execute_result"
    }
   ],
   "source": [
    "d1_u1.isnull().sum()"
   ]
  },
  {
   "cell_type": "code",
   "execution_count": 42,
   "metadata": {
    "colab": {},
    "colab_type": "code",
    "id": "MbAf3YPR5J3t"
   },
   "outputs": [],
   "source": [
    "d1_u1['pickup+AF8-time'] = pd.to_datetime(d1_u1['pickup+AF8-time'])\n",
    "d1_u1['drop+AF8-time'] = pd.to_datetime(d1_u1['drop+AF8-time'])\n",
    "d1_u1['pickup+AF8-time'] = d1_u1['drop+AF8-time']-d1_u1['pickup+AF8-time'] "
   ]
  },
  {
   "cell_type": "code",
   "execution_count": 43,
   "metadata": {
    "colab": {
     "base_uri": "https://localhost:8080/",
     "height": 330
    },
    "colab_type": "code",
    "executionInfo": {
     "elapsed": 406215,
     "status": "ok",
     "timestamp": 1568393052253,
     "user": {
      "displayName": "vedant kale",
      "photoUrl": "https://lh3.googleusercontent.com/a-/AAuE7mCDab_KFU1MHWEjRsQP-6z1fyiPUiZjRxo9hWUi2w=s64",
      "userId": "16040215375828489081"
     },
     "user_tz": -330
    },
    "id": "V--jJFbv5J3v",
    "outputId": "7618c1a8-6265-42f8-f625-79c18ef5f1a8"
   },
   "outputs": [
    {
     "data": {
      "text/html": [
       "<div>\n",
       "<style scoped>\n",
       "    .dataframe tbody tr th:only-of-type {\n",
       "        vertical-align: middle;\n",
       "    }\n",
       "\n",
       "    .dataframe tbody tr th {\n",
       "        vertical-align: top;\n",
       "    }\n",
       "\n",
       "    .dataframe thead th {\n",
       "        text-align: right;\n",
       "    }\n",
       "</style>\n",
       "<table border=\"1\" class=\"dataframe\">\n",
       "  <thead>\n",
       "    <tr style=\"text-align: right;\">\n",
       "      <th></th>\n",
       "      <th>ID</th>\n",
       "      <th>vendor+AF8-id</th>\n",
       "      <th>pickup+AF8-loc</th>\n",
       "      <th>drop+AF8-loc</th>\n",
       "      <th>driver+AF8-tip</th>\n",
       "      <th>mta+AF8-tax</th>\n",
       "      <th>distance</th>\n",
       "      <th>pickup+AF8-time</th>\n",
       "      <th>drop+AF8-time</th>\n",
       "      <th>num+AF8-passengers</th>\n",
       "      <th>toll+AF8-amount</th>\n",
       "      <th>payment+AF8-method</th>\n",
       "      <th>rate+AF8-code</th>\n",
       "      <th>stored+AF8-flag</th>\n",
       "      <th>extra+AF8-charges</th>\n",
       "      <th>improvement+AF8-charge</th>\n",
       "      <th>total+AF8-amount</th>\n",
       "    </tr>\n",
       "  </thead>\n",
       "  <tbody>\n",
       "    <tr>\n",
       "      <th>0</th>\n",
       "      <td>0</td>\n",
       "      <td>1.0</td>\n",
       "      <td>170.0</td>\n",
       "      <td>233.0</td>\n",
       "      <td>1.83</td>\n",
       "      <td>0.5</td>\n",
       "      <td>0.70</td>\n",
       "      <td>00:05:21</td>\n",
       "      <td>2017-04-04 18:05:04</td>\n",
       "      <td>1.0</td>\n",
       "      <td>0</td>\n",
       "      <td>1.0</td>\n",
       "      <td>1.0</td>\n",
       "      <td>0.0</td>\n",
       "      <td>1</td>\n",
       "      <td>0.3</td>\n",
       "      <td>9.13</td>\n",
       "    </tr>\n",
       "    <tr>\n",
       "      <th>1</th>\n",
       "      <td>1</td>\n",
       "      <td>2.0</td>\n",
       "      <td>151.0</td>\n",
       "      <td>243.0</td>\n",
       "      <td>3.56</td>\n",
       "      <td>0.5</td>\n",
       "      <td>4.64</td>\n",
       "      <td>00:16:30</td>\n",
       "      <td>2017-04-03 19:20:04</td>\n",
       "      <td>1.0</td>\n",
       "      <td>0</td>\n",
       "      <td>1.0</td>\n",
       "      <td>1.0</td>\n",
       "      <td>0.0</td>\n",
       "      <td>1</td>\n",
       "      <td>0.3</td>\n",
       "      <td>21.36</td>\n",
       "    </tr>\n",
       "    <tr>\n",
       "      <th>2</th>\n",
       "      <td>2</td>\n",
       "      <td>2.0</td>\n",
       "      <td>68.0</td>\n",
       "      <td>90.0</td>\n",
       "      <td>1.5</td>\n",
       "      <td>0.5</td>\n",
       "      <td>1.29</td>\n",
       "      <td>00:06:17</td>\n",
       "      <td>2017-04-03 15:12:30</td>\n",
       "      <td>2.0</td>\n",
       "      <td>0</td>\n",
       "      <td>1.0</td>\n",
       "      <td>1.0</td>\n",
       "      <td>0.0</td>\n",
       "      <td>0</td>\n",
       "      <td>0.3</td>\n",
       "      <td>8.8</td>\n",
       "    </tr>\n",
       "    <tr>\n",
       "      <th>3</th>\n",
       "      <td>3</td>\n",
       "      <td>2.0</td>\n",
       "      <td>142.0</td>\n",
       "      <td>234.0</td>\n",
       "      <td>1.5</td>\n",
       "      <td>0.5</td>\n",
       "      <td>2.74</td>\n",
       "      <td>00:16:08</td>\n",
       "      <td>2017-04-04 08:27:00</td>\n",
       "      <td>1.0</td>\n",
       "      <td>0</td>\n",
       "      <td>1.0</td>\n",
       "      <td>1.0</td>\n",
       "      <td>0.0</td>\n",
       "      <td>0</td>\n",
       "      <td>0.3</td>\n",
       "      <td>14.8</td>\n",
       "    </tr>\n",
       "    <tr>\n",
       "      <th>4</th>\n",
       "      <td>4</td>\n",
       "      <td>2.0</td>\n",
       "      <td>238.0</td>\n",
       "      <td>238.0</td>\n",
       "      <td>0</td>\n",
       "      <td>0.5</td>\n",
       "      <td>0.45</td>\n",
       "      <td>00:02:42</td>\n",
       "      <td>2017-04-05 14:05:41</td>\n",
       "      <td>6.0</td>\n",
       "      <td>0</td>\n",
       "      <td>2.0</td>\n",
       "      <td>1.0</td>\n",
       "      <td>0.0</td>\n",
       "      <td>0</td>\n",
       "      <td>0.3</td>\n",
       "      <td>4.8</td>\n",
       "    </tr>\n",
       "  </tbody>\n",
       "</table>\n",
       "</div>"
      ],
      "text/plain": [
       "   ID  vendor+AF8-id  pickup+AF8-loc  drop+AF8-loc driver+AF8-tip mta+AF8-tax  \\\n",
       "0   0            1.0           170.0         233.0           1.83         0.5   \n",
       "1   1            2.0           151.0         243.0           3.56         0.5   \n",
       "2   2            2.0            68.0          90.0            1.5         0.5   \n",
       "3   3            2.0           142.0         234.0            1.5         0.5   \n",
       "4   4            2.0           238.0         238.0              0         0.5   \n",
       "\n",
       "   distance pickup+AF8-time       drop+AF8-time  num+AF8-passengers  \\\n",
       "0      0.70        00:05:21 2017-04-04 18:05:04                 1.0   \n",
       "1      4.64        00:16:30 2017-04-03 19:20:04                 1.0   \n",
       "2      1.29        00:06:17 2017-04-03 15:12:30                 2.0   \n",
       "3      2.74        00:16:08 2017-04-04 08:27:00                 1.0   \n",
       "4      0.45        00:02:42 2017-04-05 14:05:41                 6.0   \n",
       "\n",
       "  toll+AF8-amount  payment+AF8-method  rate+AF8-code  stored+AF8-flag  \\\n",
       "0               0                 1.0            1.0              0.0   \n",
       "1               0                 1.0            1.0              0.0   \n",
       "2               0                 1.0            1.0              0.0   \n",
       "3               0                 1.0            1.0              0.0   \n",
       "4               0                 2.0            1.0              0.0   \n",
       "\n",
       "  extra+AF8-charges improvement+AF8-charge total+AF8-amount  \n",
       "0                 1                    0.3             9.13  \n",
       "1                 1                    0.3            21.36  \n",
       "2                 0                    0.3              8.8  \n",
       "3                 0                    0.3             14.8  \n",
       "4                 0                    0.3              4.8  "
      ]
     },
     "execution_count": 43,
     "metadata": {},
     "output_type": "execute_result"
    }
   ],
   "source": [
    "d1_u1.head()"
   ]
  },
  {
   "cell_type": "code",
   "execution_count": 44,
   "metadata": {
    "colab": {
     "base_uri": "https://localhost:8080/",
     "height": 72
    },
    "colab_type": "code",
    "executionInfo": {
     "elapsed": 405908,
     "status": "ok",
     "timestamp": 1568393052256,
     "user": {
      "displayName": "vedant kale",
      "photoUrl": "https://lh3.googleusercontent.com/a-/AAuE7mCDab_KFU1MHWEjRsQP-6z1fyiPUiZjRxo9hWUi2w=s64",
      "userId": "16040215375828489081"
     },
     "user_tz": -330
    },
    "id": "fh7sYeia5J3x",
    "outputId": "3679f43d-8851-4d42-c419-8ebbcffc81ce"
   },
   "outputs": [
    {
     "name": "stderr",
     "output_type": "stream",
     "text": [
      "C:\\ProgramData\\Anaconda3\\lib\\site-packages\\IPython\\core\\interactiveshell.py:3325: FutureWarning: Passing timedelta64-dtype data is deprecated, will raise a TypeError in a future version\n",
      "  exec(code_obj, self.user_global_ns, self.user_ns)\n"
     ]
    }
   ],
   "source": [
    "d1_u1['pickup+AF8-time'] = pd.to_datetime(d1_u1['pickup+AF8-time'])\n",
    "d1_u1['journey_duration'] = d1_u1['pickup+AF8-time'].dt.hour*60 + d1_u1['pickup+AF8-time'].dt.minute + (d1_u1['pickup+AF8-time'].dt.second)/60 "
   ]
  },
  {
   "cell_type": "code",
   "execution_count": 45,
   "metadata": {
    "colab": {},
    "colab_type": "code",
    "id": "w8IMBG6d5J30"
   },
   "outputs": [],
   "source": [
    "mean_value=d1_u1['journey_duration'].median()\n",
    "d1_u1['journey_duration']=d1_u1['journey_duration'].fillna(mean_value)"
   ]
  },
  {
   "cell_type": "code",
   "execution_count": 46,
   "metadata": {},
   "outputs": [
    {
     "data": {
      "text/plain": [
       "Index(['ID', 'vendor+AF8-id', 'pickup+AF8-loc', 'drop+AF8-loc',\n",
       "       'driver+AF8-tip', 'mta+AF8-tax', 'distance', 'pickup+AF8-time',\n",
       "       'drop+AF8-time', 'num+AF8-passengers', 'toll+AF8-amount',\n",
       "       'payment+AF8-method', 'rate+AF8-code', 'stored+AF8-flag',\n",
       "       'extra+AF8-charges', 'improvement+AF8-charge', 'total+AF8-amount',\n",
       "       'journey_duration'],\n",
       "      dtype='object')"
      ]
     },
     "execution_count": 46,
     "metadata": {},
     "output_type": "execute_result"
    }
   ],
   "source": [
    "d1_u1.columns"
   ]
  },
  {
   "cell_type": "code",
   "execution_count": 47,
   "metadata": {},
   "outputs": [
    {
     "data": {
      "text/html": [
       "<div>\n",
       "<style scoped>\n",
       "    .dataframe tbody tr th:only-of-type {\n",
       "        vertical-align: middle;\n",
       "    }\n",
       "\n",
       "    .dataframe tbody tr th {\n",
       "        vertical-align: top;\n",
       "    }\n",
       "\n",
       "    .dataframe thead th {\n",
       "        text-align: right;\n",
       "    }\n",
       "</style>\n",
       "<table border=\"1\" class=\"dataframe\">\n",
       "  <thead>\n",
       "    <tr style=\"text-align: right;\">\n",
       "      <th></th>\n",
       "      <th>ID</th>\n",
       "      <th>vendor+AF8-id</th>\n",
       "      <th>pickup+AF8-loc</th>\n",
       "      <th>drop+AF8-loc</th>\n",
       "      <th>driver+AF8-tip</th>\n",
       "      <th>mta+AF8-tax</th>\n",
       "      <th>distance</th>\n",
       "      <th>pickup+AF8-time</th>\n",
       "      <th>drop+AF8-time</th>\n",
       "      <th>num+AF8-passengers</th>\n",
       "      <th>toll+AF8-amount</th>\n",
       "      <th>payment+AF8-method</th>\n",
       "      <th>rate+AF8-code</th>\n",
       "      <th>stored+AF8-flag</th>\n",
       "      <th>extra+AF8-charges</th>\n",
       "      <th>improvement+AF8-charge</th>\n",
       "      <th>total+AF8-amount</th>\n",
       "      <th>journey_duration</th>\n",
       "    </tr>\n",
       "  </thead>\n",
       "  <tbody>\n",
       "    <tr>\n",
       "      <th>0</th>\n",
       "      <td>0</td>\n",
       "      <td>1.0</td>\n",
       "      <td>170.0</td>\n",
       "      <td>233.0</td>\n",
       "      <td>1.83</td>\n",
       "      <td>0.5</td>\n",
       "      <td>0.70</td>\n",
       "      <td>1970-01-01 00:05:21</td>\n",
       "      <td>2017-04-04 18:05:04</td>\n",
       "      <td>1.0</td>\n",
       "      <td>0</td>\n",
       "      <td>1.0</td>\n",
       "      <td>1.0</td>\n",
       "      <td>0.0</td>\n",
       "      <td>1</td>\n",
       "      <td>0.3</td>\n",
       "      <td>9.13</td>\n",
       "      <td>5.350000</td>\n",
       "    </tr>\n",
       "    <tr>\n",
       "      <th>1</th>\n",
       "      <td>1</td>\n",
       "      <td>2.0</td>\n",
       "      <td>151.0</td>\n",
       "      <td>243.0</td>\n",
       "      <td>3.56</td>\n",
       "      <td>0.5</td>\n",
       "      <td>4.64</td>\n",
       "      <td>1970-01-01 00:16:30</td>\n",
       "      <td>2017-04-03 19:20:04</td>\n",
       "      <td>1.0</td>\n",
       "      <td>0</td>\n",
       "      <td>1.0</td>\n",
       "      <td>1.0</td>\n",
       "      <td>0.0</td>\n",
       "      <td>1</td>\n",
       "      <td>0.3</td>\n",
       "      <td>21.36</td>\n",
       "      <td>16.500000</td>\n",
       "    </tr>\n",
       "    <tr>\n",
       "      <th>2</th>\n",
       "      <td>2</td>\n",
       "      <td>2.0</td>\n",
       "      <td>68.0</td>\n",
       "      <td>90.0</td>\n",
       "      <td>1.5</td>\n",
       "      <td>0.5</td>\n",
       "      <td>1.29</td>\n",
       "      <td>1970-01-01 00:06:17</td>\n",
       "      <td>2017-04-03 15:12:30</td>\n",
       "      <td>2.0</td>\n",
       "      <td>0</td>\n",
       "      <td>1.0</td>\n",
       "      <td>1.0</td>\n",
       "      <td>0.0</td>\n",
       "      <td>0</td>\n",
       "      <td>0.3</td>\n",
       "      <td>8.8</td>\n",
       "      <td>6.283333</td>\n",
       "    </tr>\n",
       "    <tr>\n",
       "      <th>3</th>\n",
       "      <td>3</td>\n",
       "      <td>2.0</td>\n",
       "      <td>142.0</td>\n",
       "      <td>234.0</td>\n",
       "      <td>1.5</td>\n",
       "      <td>0.5</td>\n",
       "      <td>2.74</td>\n",
       "      <td>1970-01-01 00:16:08</td>\n",
       "      <td>2017-04-04 08:27:00</td>\n",
       "      <td>1.0</td>\n",
       "      <td>0</td>\n",
       "      <td>1.0</td>\n",
       "      <td>1.0</td>\n",
       "      <td>0.0</td>\n",
       "      <td>0</td>\n",
       "      <td>0.3</td>\n",
       "      <td>14.8</td>\n",
       "      <td>16.133333</td>\n",
       "    </tr>\n",
       "    <tr>\n",
       "      <th>4</th>\n",
       "      <td>4</td>\n",
       "      <td>2.0</td>\n",
       "      <td>238.0</td>\n",
       "      <td>238.0</td>\n",
       "      <td>0</td>\n",
       "      <td>0.5</td>\n",
       "      <td>0.45</td>\n",
       "      <td>1970-01-01 00:02:42</td>\n",
       "      <td>2017-04-05 14:05:41</td>\n",
       "      <td>6.0</td>\n",
       "      <td>0</td>\n",
       "      <td>2.0</td>\n",
       "      <td>1.0</td>\n",
       "      <td>0.0</td>\n",
       "      <td>0</td>\n",
       "      <td>0.3</td>\n",
       "      <td>4.8</td>\n",
       "      <td>2.700000</td>\n",
       "    </tr>\n",
       "  </tbody>\n",
       "</table>\n",
       "</div>"
      ],
      "text/plain": [
       "   ID  vendor+AF8-id  pickup+AF8-loc  drop+AF8-loc driver+AF8-tip mta+AF8-tax  \\\n",
       "0   0            1.0           170.0         233.0           1.83         0.5   \n",
       "1   1            2.0           151.0         243.0           3.56         0.5   \n",
       "2   2            2.0            68.0          90.0            1.5         0.5   \n",
       "3   3            2.0           142.0         234.0            1.5         0.5   \n",
       "4   4            2.0           238.0         238.0              0         0.5   \n",
       "\n",
       "   distance     pickup+AF8-time       drop+AF8-time  num+AF8-passengers  \\\n",
       "0      0.70 1970-01-01 00:05:21 2017-04-04 18:05:04                 1.0   \n",
       "1      4.64 1970-01-01 00:16:30 2017-04-03 19:20:04                 1.0   \n",
       "2      1.29 1970-01-01 00:06:17 2017-04-03 15:12:30                 2.0   \n",
       "3      2.74 1970-01-01 00:16:08 2017-04-04 08:27:00                 1.0   \n",
       "4      0.45 1970-01-01 00:02:42 2017-04-05 14:05:41                 6.0   \n",
       "\n",
       "  toll+AF8-amount  payment+AF8-method  rate+AF8-code  stored+AF8-flag  \\\n",
       "0               0                 1.0            1.0              0.0   \n",
       "1               0                 1.0            1.0              0.0   \n",
       "2               0                 1.0            1.0              0.0   \n",
       "3               0                 1.0            1.0              0.0   \n",
       "4               0                 2.0            1.0              0.0   \n",
       "\n",
       "  extra+AF8-charges improvement+AF8-charge total+AF8-amount  journey_duration  \n",
       "0                 1                    0.3             9.13          5.350000  \n",
       "1                 1                    0.3            21.36         16.500000  \n",
       "2                 0                    0.3              8.8          6.283333  \n",
       "3                 0                    0.3             14.8         16.133333  \n",
       "4                 0                    0.3              4.8          2.700000  "
      ]
     },
     "execution_count": 47,
     "metadata": {},
     "output_type": "execute_result"
    }
   ],
   "source": [
    "d1_u1.head()"
   ]
  },
  {
   "cell_type": "code",
   "execution_count": 49,
   "metadata": {},
   "outputs": [],
   "source": [
    "d1_u1.columns = ['ID', 'vendor_id', 'pickup_loc', 'drop_loc',\n",
    "       'driver_tip', 'mta_tax', 'distance', 'pickup_time',\n",
    "       'drop_time', 'num_passengers', 'toll_amount',\n",
    "       'payment_method', 'rate_code', 'stored_flag',\n",
    "       'extra_charges', 'improvement_charge', 'total_amount', 'journey_duration']"
   ]
  },
  {
   "cell_type": "code",
   "execution_count": 50,
   "metadata": {},
   "outputs": [
    {
     "data": {
      "text/html": [
       "<div>\n",
       "<style scoped>\n",
       "    .dataframe tbody tr th:only-of-type {\n",
       "        vertical-align: middle;\n",
       "    }\n",
       "\n",
       "    .dataframe tbody tr th {\n",
       "        vertical-align: top;\n",
       "    }\n",
       "\n",
       "    .dataframe thead th {\n",
       "        text-align: right;\n",
       "    }\n",
       "</style>\n",
       "<table border=\"1\" class=\"dataframe\">\n",
       "  <thead>\n",
       "    <tr style=\"text-align: right;\">\n",
       "      <th></th>\n",
       "      <th>ID</th>\n",
       "      <th>vendor_id</th>\n",
       "      <th>pickup_loc</th>\n",
       "      <th>drop_loc</th>\n",
       "      <th>driver_tip</th>\n",
       "      <th>mta_tax</th>\n",
       "      <th>distance</th>\n",
       "      <th>pickup_time</th>\n",
       "      <th>drop_time</th>\n",
       "      <th>num_passengers</th>\n",
       "      <th>toll_amount</th>\n",
       "      <th>payment_method</th>\n",
       "      <th>rate_code</th>\n",
       "      <th>stored_flag</th>\n",
       "      <th>extra_charges</th>\n",
       "      <th>improvement_charge</th>\n",
       "      <th>total_amount</th>\n",
       "      <th>journey_duration</th>\n",
       "    </tr>\n",
       "  </thead>\n",
       "  <tbody>\n",
       "    <tr>\n",
       "      <th>0</th>\n",
       "      <td>0</td>\n",
       "      <td>1.0</td>\n",
       "      <td>170.0</td>\n",
       "      <td>233.0</td>\n",
       "      <td>1.83</td>\n",
       "      <td>0.5</td>\n",
       "      <td>0.70</td>\n",
       "      <td>1970-01-01 00:05:21</td>\n",
       "      <td>2017-04-04 18:05:04</td>\n",
       "      <td>1.0</td>\n",
       "      <td>0</td>\n",
       "      <td>1.0</td>\n",
       "      <td>1.0</td>\n",
       "      <td>0.0</td>\n",
       "      <td>1</td>\n",
       "      <td>0.3</td>\n",
       "      <td>9.13</td>\n",
       "      <td>5.350000</td>\n",
       "    </tr>\n",
       "    <tr>\n",
       "      <th>1</th>\n",
       "      <td>1</td>\n",
       "      <td>2.0</td>\n",
       "      <td>151.0</td>\n",
       "      <td>243.0</td>\n",
       "      <td>3.56</td>\n",
       "      <td>0.5</td>\n",
       "      <td>4.64</td>\n",
       "      <td>1970-01-01 00:16:30</td>\n",
       "      <td>2017-04-03 19:20:04</td>\n",
       "      <td>1.0</td>\n",
       "      <td>0</td>\n",
       "      <td>1.0</td>\n",
       "      <td>1.0</td>\n",
       "      <td>0.0</td>\n",
       "      <td>1</td>\n",
       "      <td>0.3</td>\n",
       "      <td>21.36</td>\n",
       "      <td>16.500000</td>\n",
       "    </tr>\n",
       "    <tr>\n",
       "      <th>2</th>\n",
       "      <td>2</td>\n",
       "      <td>2.0</td>\n",
       "      <td>68.0</td>\n",
       "      <td>90.0</td>\n",
       "      <td>1.5</td>\n",
       "      <td>0.5</td>\n",
       "      <td>1.29</td>\n",
       "      <td>1970-01-01 00:06:17</td>\n",
       "      <td>2017-04-03 15:12:30</td>\n",
       "      <td>2.0</td>\n",
       "      <td>0</td>\n",
       "      <td>1.0</td>\n",
       "      <td>1.0</td>\n",
       "      <td>0.0</td>\n",
       "      <td>0</td>\n",
       "      <td>0.3</td>\n",
       "      <td>8.8</td>\n",
       "      <td>6.283333</td>\n",
       "    </tr>\n",
       "    <tr>\n",
       "      <th>3</th>\n",
       "      <td>3</td>\n",
       "      <td>2.0</td>\n",
       "      <td>142.0</td>\n",
       "      <td>234.0</td>\n",
       "      <td>1.5</td>\n",
       "      <td>0.5</td>\n",
       "      <td>2.74</td>\n",
       "      <td>1970-01-01 00:16:08</td>\n",
       "      <td>2017-04-04 08:27:00</td>\n",
       "      <td>1.0</td>\n",
       "      <td>0</td>\n",
       "      <td>1.0</td>\n",
       "      <td>1.0</td>\n",
       "      <td>0.0</td>\n",
       "      <td>0</td>\n",
       "      <td>0.3</td>\n",
       "      <td>14.8</td>\n",
       "      <td>16.133333</td>\n",
       "    </tr>\n",
       "    <tr>\n",
       "      <th>4</th>\n",
       "      <td>4</td>\n",
       "      <td>2.0</td>\n",
       "      <td>238.0</td>\n",
       "      <td>238.0</td>\n",
       "      <td>0</td>\n",
       "      <td>0.5</td>\n",
       "      <td>0.45</td>\n",
       "      <td>1970-01-01 00:02:42</td>\n",
       "      <td>2017-04-05 14:05:41</td>\n",
       "      <td>6.0</td>\n",
       "      <td>0</td>\n",
       "      <td>2.0</td>\n",
       "      <td>1.0</td>\n",
       "      <td>0.0</td>\n",
       "      <td>0</td>\n",
       "      <td>0.3</td>\n",
       "      <td>4.8</td>\n",
       "      <td>2.700000</td>\n",
       "    </tr>\n",
       "  </tbody>\n",
       "</table>\n",
       "</div>"
      ],
      "text/plain": [
       "   ID  vendor_id  pickup_loc  drop_loc driver_tip mta_tax  distance  \\\n",
       "0   0        1.0       170.0     233.0       1.83     0.5      0.70   \n",
       "1   1        2.0       151.0     243.0       3.56     0.5      4.64   \n",
       "2   2        2.0        68.0      90.0        1.5     0.5      1.29   \n",
       "3   3        2.0       142.0     234.0        1.5     0.5      2.74   \n",
       "4   4        2.0       238.0     238.0          0     0.5      0.45   \n",
       "\n",
       "          pickup_time           drop_time  num_passengers toll_amount  \\\n",
       "0 1970-01-01 00:05:21 2017-04-04 18:05:04             1.0           0   \n",
       "1 1970-01-01 00:16:30 2017-04-03 19:20:04             1.0           0   \n",
       "2 1970-01-01 00:06:17 2017-04-03 15:12:30             2.0           0   \n",
       "3 1970-01-01 00:16:08 2017-04-04 08:27:00             1.0           0   \n",
       "4 1970-01-01 00:02:42 2017-04-05 14:05:41             6.0           0   \n",
       "\n",
       "   payment_method  rate_code  stored_flag extra_charges improvement_charge  \\\n",
       "0             1.0        1.0          0.0             1                0.3   \n",
       "1             1.0        1.0          0.0             1                0.3   \n",
       "2             1.0        1.0          0.0             0                0.3   \n",
       "3             1.0        1.0          0.0             0                0.3   \n",
       "4             2.0        1.0          0.0             0                0.3   \n",
       "\n",
       "  total_amount  journey_duration  \n",
       "0         9.13          5.350000  \n",
       "1        21.36         16.500000  \n",
       "2          8.8          6.283333  \n",
       "3         14.8         16.133333  \n",
       "4          4.8          2.700000  "
      ]
     },
     "execution_count": 50,
     "metadata": {},
     "output_type": "execute_result"
    }
   ],
   "source": [
    "d1_u1.head()"
   ]
  },
  {
   "cell_type": "markdown",
   "metadata": {},
   "source": [
    "### Loading the test Data"
   ]
  },
  {
   "cell_type": "code",
   "execution_count": 51,
   "metadata": {
    "colab": {
     "base_uri": "https://localhost:8080/",
     "height": 382
    },
    "colab_type": "code",
    "executionInfo": {
     "elapsed": 406933,
     "status": "ok",
     "timestamp": 1568393053593,
     "user": {
      "displayName": "vedant kale",
      "photoUrl": "https://lh3.googleusercontent.com/a-/AAuE7mCDab_KFU1MHWEjRsQP-6z1fyiPUiZjRxo9hWUi2w=s64",
      "userId": "16040215375828489081"
     },
     "user_tz": -330
    },
    "id": "UcSUpblW5J34",
    "outputId": "0f4bad1d-f4bd-471a-fcd5-dfc86d6af6c1"
   },
   "outputs": [
    {
     "name": "stdout",
     "output_type": "stream",
     "text": [
      "<class 'pandas.core.frame.DataFrame'>\n",
      "RangeIndex: 154235 entries, 0 to 154234\n",
      "Data columns (total 16 columns):\n",
      "ID                    154235 non-null int64\n",
      "vendor_id             154235 non-null int64\n",
      "pickup_loc            154235 non-null float64\n",
      "drop_loc              154235 non-null float64\n",
      "driver_tip            154235 non-null float64\n",
      "mta_tax               154235 non-null float64\n",
      "distance              154235 non-null float64\n",
      "pickup_time           154235 non-null object\n",
      "drop_time             154235 non-null object\n",
      "num_passengers        154235 non-null float64\n",
      "toll_amount           154235 non-null float64\n",
      "payment_method        154235 non-null float64\n",
      "rate_code             154235 non-null float64\n",
      "stored_flag           154235 non-null object\n",
      "extra_charges         154235 non-null float64\n",
      "improvement_charge    154235 non-null float64\n",
      "dtypes: float64(11), int64(2), object(3)\n",
      "memory usage: 18.8+ MB\n"
     ]
    }
   ],
   "source": [
    "d2 = pd.read_csv('test2.csv')\n",
    "d2.info()"
   ]
  },
  {
   "cell_type": "code",
   "execution_count": 52,
   "metadata": {
    "colab": {
     "base_uri": "https://localhost:8080/",
     "height": 312
    },
    "colab_type": "code",
    "executionInfo": {
     "elapsed": 406628,
     "status": "ok",
     "timestamp": 1568393053594,
     "user": {
      "displayName": "vedant kale",
      "photoUrl": "https://lh3.googleusercontent.com/a-/AAuE7mCDab_KFU1MHWEjRsQP-6z1fyiPUiZjRxo9hWUi2w=s64",
      "userId": "16040215375828489081"
     },
     "user_tz": -330
    },
    "id": "DUzsHa3d5J36",
    "outputId": "5f5f6637-5e81-4cfa-ae9c-8a0ef97c00da"
   },
   "outputs": [
    {
     "data": {
      "text/plain": [
       "ID                    0\n",
       "vendor_id             0\n",
       "pickup_loc            0\n",
       "drop_loc              0\n",
       "driver_tip            0\n",
       "mta_tax               0\n",
       "distance              0\n",
       "pickup_time           0\n",
       "drop_time             0\n",
       "num_passengers        0\n",
       "toll_amount           0\n",
       "payment_method        0\n",
       "rate_code             0\n",
       "stored_flag           0\n",
       "extra_charges         0\n",
       "improvement_charge    0\n",
       "dtype: int64"
      ]
     },
     "execution_count": 52,
     "metadata": {},
     "output_type": "execute_result"
    }
   ],
   "source": [
    "d2.isnull().sum()"
   ]
  },
  {
   "cell_type": "code",
   "execution_count": 53,
   "metadata": {
    "colab": {
     "base_uri": "https://localhost:8080/",
     "height": 72
    },
    "colab_type": "code",
    "executionInfo": {
     "elapsed": 456784,
     "status": "ok",
     "timestamp": 1568393104055,
     "user": {
      "displayName": "vedant kale",
      "photoUrl": "https://lh3.googleusercontent.com/a-/AAuE7mCDab_KFU1MHWEjRsQP-6z1fyiPUiZjRxo9hWUi2w=s64",
      "userId": "16040215375828489081"
     },
     "user_tz": -330
    },
    "id": "0Xq9vwn95J39",
    "outputId": "2dba9687-546a-41a8-d668-6e714b7d1997"
   },
   "outputs": [],
   "source": [
    "d2['pickup_time'] = pd.to_datetime(d2['pickup_time'])\n",
    "d2['drop_time'] = pd.to_datetime(d2['drop_time'])\n",
    "d2['pickup_time'] = d2['drop_time']-d2['pickup_time'] \n",
    "d2['pickup_time'] = pd.to_datetime(d2['pickup_time'])\n",
    "d2['journey_duration'] = d2['pickup_time'].dt.hour*60 + d2['pickup_time'].dt.minute + (d2['pickup_time'].dt.second)/60 "
   ]
  },
  {
   "cell_type": "code",
   "execution_count": 54,
   "metadata": {
    "colab": {},
    "colab_type": "code",
    "id": "FMhf7uY35J4A"
   },
   "outputs": [],
   "source": [
    "d2['stored_flag']=d2['stored_flag'].replace(to_replace='N', value=0, regex=True)\n",
    "d2['stored_flag']=d2['stored_flag'].replace(to_replace='Y', value=1, regex=True)    "
   ]
  },
  {
   "cell_type": "code",
   "execution_count": 55,
   "metadata": {
    "colab": {
     "base_uri": "https://localhost:8080/",
     "height": 313
    },
    "colab_type": "code",
    "executionInfo": {
     "elapsed": 456475,
     "status": "ok",
     "timestamp": 1568393104059,
     "user": {
      "displayName": "vedant kale",
      "photoUrl": "https://lh3.googleusercontent.com/a-/AAuE7mCDab_KFU1MHWEjRsQP-6z1fyiPUiZjRxo9hWUi2w=s64",
      "userId": "16040215375828489081"
     },
     "user_tz": -330
    },
    "id": "UzyB2NtL5J4D",
    "outputId": "fa628b66-2b94-4a65-f615-22aa0623c6c4"
   },
   "outputs": [
    {
     "data": {
      "text/html": [
       "<div>\n",
       "<style scoped>\n",
       "    .dataframe tbody tr th:only-of-type {\n",
       "        vertical-align: middle;\n",
       "    }\n",
       "\n",
       "    .dataframe tbody tr th {\n",
       "        vertical-align: top;\n",
       "    }\n",
       "\n",
       "    .dataframe thead th {\n",
       "        text-align: right;\n",
       "    }\n",
       "</style>\n",
       "<table border=\"1\" class=\"dataframe\">\n",
       "  <thead>\n",
       "    <tr style=\"text-align: right;\">\n",
       "      <th></th>\n",
       "      <th>ID</th>\n",
       "      <th>vendor_id</th>\n",
       "      <th>pickup_loc</th>\n",
       "      <th>drop_loc</th>\n",
       "      <th>driver_tip</th>\n",
       "      <th>mta_tax</th>\n",
       "      <th>distance</th>\n",
       "      <th>pickup_time</th>\n",
       "      <th>drop_time</th>\n",
       "      <th>num_passengers</th>\n",
       "      <th>toll_amount</th>\n",
       "      <th>payment_method</th>\n",
       "      <th>rate_code</th>\n",
       "      <th>stored_flag</th>\n",
       "      <th>extra_charges</th>\n",
       "      <th>improvement_charge</th>\n",
       "      <th>journey_duration</th>\n",
       "    </tr>\n",
       "  </thead>\n",
       "  <tbody>\n",
       "    <tr>\n",
       "      <th>0</th>\n",
       "      <td>0</td>\n",
       "      <td>1</td>\n",
       "      <td>68.0</td>\n",
       "      <td>186.0</td>\n",
       "      <td>1.00</td>\n",
       "      <td>0.5</td>\n",
       "      <td>0.70</td>\n",
       "      <td>1970-01-01 00:04:17</td>\n",
       "      <td>2017-04-05 05:54:03</td>\n",
       "      <td>1.0</td>\n",
       "      <td>0.0</td>\n",
       "      <td>1.0</td>\n",
       "      <td>1.0</td>\n",
       "      <td>0</td>\n",
       "      <td>0.5</td>\n",
       "      <td>0.3</td>\n",
       "      <td>4.283333</td>\n",
       "    </tr>\n",
       "    <tr>\n",
       "      <th>1</th>\n",
       "      <td>1</td>\n",
       "      <td>1</td>\n",
       "      <td>170.0</td>\n",
       "      <td>161.0</td>\n",
       "      <td>2.55</td>\n",
       "      <td>0.5</td>\n",
       "      <td>1.00</td>\n",
       "      <td>1970-01-01 00:18:33</td>\n",
       "      <td>2017-04-07 09:16:00</td>\n",
       "      <td>1.0</td>\n",
       "      <td>0.0</td>\n",
       "      <td>1.0</td>\n",
       "      <td>1.0</td>\n",
       "      <td>0</td>\n",
       "      <td>0.0</td>\n",
       "      <td>0.3</td>\n",
       "      <td>18.550000</td>\n",
       "    </tr>\n",
       "    <tr>\n",
       "      <th>2</th>\n",
       "      <td>2</td>\n",
       "      <td>2</td>\n",
       "      <td>13.0</td>\n",
       "      <td>246.0</td>\n",
       "      <td>2.96</td>\n",
       "      <td>0.5</td>\n",
       "      <td>3.35</td>\n",
       "      <td>1970-01-01 00:14:52</td>\n",
       "      <td>2017-04-06 08:21:33</td>\n",
       "      <td>2.0</td>\n",
       "      <td>0.0</td>\n",
       "      <td>1.0</td>\n",
       "      <td>1.0</td>\n",
       "      <td>0</td>\n",
       "      <td>0.0</td>\n",
       "      <td>0.3</td>\n",
       "      <td>14.866667</td>\n",
       "    </tr>\n",
       "    <tr>\n",
       "      <th>3</th>\n",
       "      <td>3</td>\n",
       "      <td>1</td>\n",
       "      <td>170.0</td>\n",
       "      <td>233.0</td>\n",
       "      <td>2.00</td>\n",
       "      <td>0.5</td>\n",
       "      <td>0.80</td>\n",
       "      <td>1970-01-01 00:05:47</td>\n",
       "      <td>2017-04-04 08:37:21</td>\n",
       "      <td>2.0</td>\n",
       "      <td>0.0</td>\n",
       "      <td>1.0</td>\n",
       "      <td>1.0</td>\n",
       "      <td>0</td>\n",
       "      <td>0.0</td>\n",
       "      <td>0.3</td>\n",
       "      <td>5.783333</td>\n",
       "    </tr>\n",
       "    <tr>\n",
       "      <th>4</th>\n",
       "      <td>4</td>\n",
       "      <td>1</td>\n",
       "      <td>237.0</td>\n",
       "      <td>236.0</td>\n",
       "      <td>1.00</td>\n",
       "      <td>0.5</td>\n",
       "      <td>0.70</td>\n",
       "      <td>1970-01-01 00:06:53</td>\n",
       "      <td>2017-04-07 11:00:59</td>\n",
       "      <td>1.0</td>\n",
       "      <td>0.0</td>\n",
       "      <td>1.0</td>\n",
       "      <td>1.0</td>\n",
       "      <td>1</td>\n",
       "      <td>0.0</td>\n",
       "      <td>0.3</td>\n",
       "      <td>6.883333</td>\n",
       "    </tr>\n",
       "  </tbody>\n",
       "</table>\n",
       "</div>"
      ],
      "text/plain": [
       "   ID  vendor_id  pickup_loc  drop_loc  driver_tip  mta_tax  distance  \\\n",
       "0   0          1        68.0     186.0        1.00      0.5      0.70   \n",
       "1   1          1       170.0     161.0        2.55      0.5      1.00   \n",
       "2   2          2        13.0     246.0        2.96      0.5      3.35   \n",
       "3   3          1       170.0     233.0        2.00      0.5      0.80   \n",
       "4   4          1       237.0     236.0        1.00      0.5      0.70   \n",
       "\n",
       "          pickup_time           drop_time  num_passengers  toll_amount  \\\n",
       "0 1970-01-01 00:04:17 2017-04-05 05:54:03             1.0          0.0   \n",
       "1 1970-01-01 00:18:33 2017-04-07 09:16:00             1.0          0.0   \n",
       "2 1970-01-01 00:14:52 2017-04-06 08:21:33             2.0          0.0   \n",
       "3 1970-01-01 00:05:47 2017-04-04 08:37:21             2.0          0.0   \n",
       "4 1970-01-01 00:06:53 2017-04-07 11:00:59             1.0          0.0   \n",
       "\n",
       "   payment_method  rate_code  stored_flag  extra_charges  improvement_charge  \\\n",
       "0             1.0        1.0            0            0.5                 0.3   \n",
       "1             1.0        1.0            0            0.0                 0.3   \n",
       "2             1.0        1.0            0            0.0                 0.3   \n",
       "3             1.0        1.0            0            0.0                 0.3   \n",
       "4             1.0        1.0            1            0.0                 0.3   \n",
       "\n",
       "   journey_duration  \n",
       "0          4.283333  \n",
       "1         18.550000  \n",
       "2         14.866667  \n",
       "3          5.783333  \n",
       "4          6.883333  "
      ]
     },
     "execution_count": 55,
     "metadata": {},
     "output_type": "execute_result"
    }
   ],
   "source": [
    "d2.head()"
   ]
  },
  {
   "cell_type": "code",
   "execution_count": 56,
   "metadata": {},
   "outputs": [],
   "source": [
    "### NOW USING THE MODEL"
   ]
  },
  {
   "cell_type": "code",
   "execution_count": 57,
   "metadata": {
    "colab": {
     "base_uri": "https://localhost:8080/",
     "height": 34
    },
    "colab_type": "code",
    "executionInfo": {
     "elapsed": 456169,
     "status": "ok",
     "timestamp": 1568393104060,
     "user": {
      "displayName": "vedant kale",
      "photoUrl": "https://lh3.googleusercontent.com/a-/AAuE7mCDab_KFU1MHWEjRsQP-6z1fyiPUiZjRxo9hWUi2w=s64",
      "userId": "16040215375828489081"
     },
     "user_tz": -330
    },
    "id": "nZJuIka45J4F",
    "outputId": "03ecbbbd-44bd-434a-c0c0-abb4b6c5e5dd"
   },
   "outputs": [
    {
     "data": {
      "text/plain": [
       "(1048575, 13)"
      ]
     },
     "execution_count": 57,
     "metadata": {},
     "output_type": "execute_result"
    }
   ],
   "source": [
    "X_train = d1_u1[['vendor_id', 'pickup_loc', 'drop_loc', 'driver_tip', 'mta_tax',\n",
    "       'distance', 'num_passengers', 'toll_amount', 'rate_code', 'extra_charges',\n",
    "       'improvement_charge', 'journey_duration','stored_flag']]\n",
    "X_train.shape"
   ]
  },
  {
   "cell_type": "code",
   "execution_count": 59,
   "metadata": {
    "colab": {
     "base_uri": "https://localhost:8080/",
     "height": 34
    },
    "colab_type": "code",
    "executionInfo": {
     "elapsed": 455860,
     "status": "ok",
     "timestamp": 1568393104062,
     "user": {
      "displayName": "vedant kale",
      "photoUrl": "https://lh3.googleusercontent.com/a-/AAuE7mCDab_KFU1MHWEjRsQP-6z1fyiPUiZjRxo9hWUi2w=s64",
      "userId": "16040215375828489081"
     },
     "user_tz": -330
    },
    "id": "AyLI8PMy5J4H",
    "outputId": "17a34115-ec07-4c04-e0e6-0f51732ae3a3"
   },
   "outputs": [
    {
     "data": {
      "text/plain": [
       "(1048575,)"
      ]
     },
     "execution_count": 59,
     "metadata": {},
     "output_type": "execute_result"
    }
   ],
   "source": [
    "Y_train = d1_u1['total_amount']\n",
    "Y_train.shape"
   ]
  },
  {
   "cell_type": "code",
   "execution_count": 60,
   "metadata": {
    "colab": {
     "base_uri": "https://localhost:8080/",
     "height": 104
    },
    "colab_type": "code",
    "executionInfo": {
     "elapsed": 455555,
     "status": "ok",
     "timestamp": 1568393104064,
     "user": {
      "displayName": "vedant kale",
      "photoUrl": "https://lh3.googleusercontent.com/a-/AAuE7mCDab_KFU1MHWEjRsQP-6z1fyiPUiZjRxo9hWUi2w=s64",
      "userId": "16040215375828489081"
     },
     "user_tz": -330
    },
    "id": "gtx38qoB5J4K",
    "outputId": "db35f4d4-db70-4f59-f431-02e342e66a46"
   },
   "outputs": [
    {
     "data": {
      "text/plain": [
       "Index(['ID', 'vendor_id', 'pickup_loc', 'drop_loc', 'driver_tip', 'mta_tax',\n",
       "       'distance', 'pickup_time', 'drop_time', 'num_passengers', 'toll_amount',\n",
       "       'payment_method', 'rate_code', 'stored_flag', 'extra_charges',\n",
       "       'improvement_charge', 'journey_duration'],\n",
       "      dtype='object')"
      ]
     },
     "execution_count": 60,
     "metadata": {},
     "output_type": "execute_result"
    }
   ],
   "source": [
    "d2.columns"
   ]
  },
  {
   "cell_type": "code",
   "execution_count": 61,
   "metadata": {
    "colab": {
     "base_uri": "https://localhost:8080/",
     "height": 34
    },
    "colab_type": "code",
    "executionInfo": {
     "elapsed": 456150,
     "status": "ok",
     "timestamp": 1568393104970,
     "user": {
      "displayName": "vedant kale",
      "photoUrl": "https://lh3.googleusercontent.com/a-/AAuE7mCDab_KFU1MHWEjRsQP-6z1fyiPUiZjRxo9hWUi2w=s64",
      "userId": "16040215375828489081"
     },
     "user_tz": -330
    },
    "id": "SZa6TBOb5J4M",
    "outputId": "9ce296fb-dc63-4d10-f1c1-773c367f9c7c"
   },
   "outputs": [
    {
     "data": {
      "text/plain": [
       "(154235, 13)"
      ]
     },
     "execution_count": 61,
     "metadata": {},
     "output_type": "execute_result"
    }
   ],
   "source": [
    "X_test = d2[['vendor_id', 'pickup_loc', 'drop_loc', 'driver_tip', 'mta_tax',\n",
    "       'distance', 'num_passengers', 'toll_amount', 'rate_code', 'extra_charges',\n",
    "       'improvement_charge', 'journey_duration','stored_flag']]\n",
    "X_test.shape"
   ]
  },
  {
   "cell_type": "code",
   "execution_count": 62,
   "metadata": {
    "colab": {
     "base_uri": "https://localhost:8080/",
     "height": 260
    },
    "colab_type": "code",
    "executionInfo": {
     "elapsed": 455849,
     "status": "ok",
     "timestamp": 1568393104977,
     "user": {
      "displayName": "vedant kale",
      "photoUrl": "https://lh3.googleusercontent.com/a-/AAuE7mCDab_KFU1MHWEjRsQP-6z1fyiPUiZjRxo9hWUi2w=s64",
      "userId": "16040215375828489081"
     },
     "user_tz": -330
    },
    "id": "4vmUq2D-5J4O",
    "outputId": "6c383da8-861d-4207-fcfd-9200fd915fcc"
   },
   "outputs": [
    {
     "data": {
      "text/plain": [
       "vendor_id             0\n",
       "pickup_loc            0\n",
       "drop_loc              0\n",
       "driver_tip            0\n",
       "mta_tax               0\n",
       "distance              0\n",
       "num_passengers        0\n",
       "toll_amount           0\n",
       "rate_code             0\n",
       "extra_charges         0\n",
       "improvement_charge    0\n",
       "journey_duration      0\n",
       "stored_flag           0\n",
       "dtype: int64"
      ]
     },
     "execution_count": 62,
     "metadata": {},
     "output_type": "execute_result"
    }
   ],
   "source": [
    "X_train.isnull().sum()"
   ]
  },
  {
   "cell_type": "code",
   "execution_count": 63,
   "metadata": {
    "colab": {
     "base_uri": "https://localhost:8080/",
     "height": 330
    },
    "colab_type": "code",
    "executionInfo": {
     "elapsed": 456209,
     "status": "ok",
     "timestamp": 1568393105641,
     "user": {
      "displayName": "vedant kale",
      "photoUrl": "https://lh3.googleusercontent.com/a-/AAuE7mCDab_KFU1MHWEjRsQP-6z1fyiPUiZjRxo9hWUi2w=s64",
      "userId": "16040215375828489081"
     },
     "user_tz": -330
    },
    "id": "2t9AEtS21Zmk",
    "outputId": "e468302f-32de-40fb-fd8c-1b5e99a1bf79"
   },
   "outputs": [
    {
     "name": "stdout",
     "output_type": "stream",
     "text": [
      "<class 'pandas.core.frame.DataFrame'>\n",
      "RangeIndex: 1048575 entries, 0 to 1048574\n",
      "Data columns (total 13 columns):\n",
      "vendor_id             1048575 non-null float64\n",
      "pickup_loc            1048575 non-null float64\n",
      "drop_loc              1048575 non-null float64\n",
      "driver_tip            1048575 non-null object\n",
      "mta_tax               1048575 non-null object\n",
      "distance              1048575 non-null float64\n",
      "num_passengers        1048575 non-null float64\n",
      "toll_amount           1048575 non-null object\n",
      "rate_code             1048575 non-null float64\n",
      "extra_charges         1048575 non-null object\n",
      "improvement_charge    1048575 non-null object\n",
      "journey_duration      1048575 non-null float64\n",
      "stored_flag           1048575 non-null float64\n",
      "dtypes: float64(8), object(5)\n",
      "memory usage: 104.0+ MB\n"
     ]
    }
   ],
   "source": [
    "X_train.info()"
   ]
  },
  {
   "cell_type": "code",
   "execution_count": 64,
   "metadata": {
    "colab": {
     "base_uri": "https://localhost:8080/",
     "height": 538
    },
    "colab_type": "code",
    "executionInfo": {
     "elapsed": 455896,
     "status": "ok",
     "timestamp": 1568393105643,
     "user": {
      "displayName": "vedant kale",
      "photoUrl": "https://lh3.googleusercontent.com/a-/AAuE7mCDab_KFU1MHWEjRsQP-6z1fyiPUiZjRxo9hWUi2w=s64",
      "userId": "16040215375828489081"
     },
     "user_tz": -330
    },
    "id": "zXr2Hck55J4P",
    "outputId": "c6b95f0e-39ae-4816-a3f4-a01a20fb5c31"
   },
   "outputs": [
    {
     "name": "stderr",
     "output_type": "stream",
     "text": [
      "C:\\ProgramData\\Anaconda3\\lib\\site-packages\\ipykernel_launcher.py:1: SettingWithCopyWarning: \n",
      "A value is trying to be set on a copy of a slice from a DataFrame.\n",
      "Try using .loc[row_indexer,col_indexer] = value instead\n",
      "\n",
      "See the caveats in the documentation: http://pandas.pydata.org/pandas-docs/stable/indexing.html#indexing-view-versus-copy\n",
      "  \"\"\"Entry point for launching an IPython kernel.\n",
      "C:\\ProgramData\\Anaconda3\\lib\\site-packages\\ipykernel_launcher.py:2: SettingWithCopyWarning: \n",
      "A value is trying to be set on a copy of a slice from a DataFrame.\n",
      "Try using .loc[row_indexer,col_indexer] = value instead\n",
      "\n",
      "See the caveats in the documentation: http://pandas.pydata.org/pandas-docs/stable/indexing.html#indexing-view-versus-copy\n",
      "  \n",
      "C:\\ProgramData\\Anaconda3\\lib\\site-packages\\ipykernel_launcher.py:3: SettingWithCopyWarning: \n",
      "A value is trying to be set on a copy of a slice from a DataFrame.\n",
      "Try using .loc[row_indexer,col_indexer] = value instead\n",
      "\n",
      "See the caveats in the documentation: http://pandas.pydata.org/pandas-docs/stable/indexing.html#indexing-view-versus-copy\n",
      "  This is separate from the ipykernel package so we can avoid doing imports until\n",
      "C:\\ProgramData\\Anaconda3\\lib\\site-packages\\ipykernel_launcher.py:4: SettingWithCopyWarning: \n",
      "A value is trying to be set on a copy of a slice from a DataFrame.\n",
      "Try using .loc[row_indexer,col_indexer] = value instead\n",
      "\n",
      "See the caveats in the documentation: http://pandas.pydata.org/pandas-docs/stable/indexing.html#indexing-view-versus-copy\n",
      "  after removing the cwd from sys.path.\n",
      "C:\\ProgramData\\Anaconda3\\lib\\site-packages\\ipykernel_launcher.py:5: SettingWithCopyWarning: \n",
      "A value is trying to be set on a copy of a slice from a DataFrame.\n",
      "Try using .loc[row_indexer,col_indexer] = value instead\n",
      "\n",
      "See the caveats in the documentation: http://pandas.pydata.org/pandas-docs/stable/indexing.html#indexing-view-versus-copy\n",
      "  \"\"\"\n"
     ]
    }
   ],
   "source": [
    "X_train['driver_tip'] = X_train['driver_tip'].astype('float')\n",
    "X_train['mta_tax'] = X_train['mta_tax'].astype('float')\n",
    "X_train['toll_amount'] = X_train['toll_amount'].astype('float')\n",
    "X_train['extra_charges'] = X_train['extra_charges'].astype('float')\n",
    "X_train['improvement_charge'] = X_train['improvement_charge'].astype('float')"
   ]
  },
  {
   "cell_type": "code",
   "execution_count": 65,
   "metadata": {
    "colab": {
     "base_uri": "https://localhost:8080/",
     "height": 348
    },
    "colab_type": "code",
    "executionInfo": {
     "elapsed": 456640,
     "status": "ok",
     "timestamp": 1568393106701,
     "user": {
      "displayName": "vedant kale",
      "photoUrl": "https://lh3.googleusercontent.com/a-/AAuE7mCDab_KFU1MHWEjRsQP-6z1fyiPUiZjRxo9hWUi2w=s64",
      "userId": "16040215375828489081"
     },
     "user_tz": -330
    },
    "id": "C5hTBV6t5tzT",
    "outputId": "73af2107-b9ed-45fd-9115-457924b9457f"
   },
   "outputs": [
    {
     "name": "stderr",
     "output_type": "stream",
     "text": [
      "C:\\ProgramData\\Anaconda3\\lib\\site-packages\\ipykernel_launcher.py:1: SettingWithCopyWarning: \n",
      "A value is trying to be set on a copy of a slice from a DataFrame.\n",
      "Try using .loc[row_indexer,col_indexer] = value instead\n",
      "\n",
      "See the caveats in the documentation: http://pandas.pydata.org/pandas-docs/stable/indexing.html#indexing-view-versus-copy\n",
      "  \"\"\"Entry point for launching an IPython kernel.\n"
     ]
    },
    {
     "data": {
      "text/html": [
       "<div>\n",
       "<style scoped>\n",
       "    .dataframe tbody tr th:only-of-type {\n",
       "        vertical-align: middle;\n",
       "    }\n",
       "\n",
       "    .dataframe tbody tr th {\n",
       "        vertical-align: top;\n",
       "    }\n",
       "\n",
       "    .dataframe thead th {\n",
       "        text-align: right;\n",
       "    }\n",
       "</style>\n",
       "<table border=\"1\" class=\"dataframe\">\n",
       "  <thead>\n",
       "    <tr style=\"text-align: right;\">\n",
       "      <th></th>\n",
       "      <th>vendor_id</th>\n",
       "      <th>pickup_loc</th>\n",
       "      <th>drop_loc</th>\n",
       "      <th>driver_tip</th>\n",
       "      <th>mta_tax</th>\n",
       "      <th>distance</th>\n",
       "      <th>num_passengers</th>\n",
       "      <th>toll_amount</th>\n",
       "      <th>rate_code</th>\n",
       "      <th>extra_charges</th>\n",
       "      <th>improvement_charge</th>\n",
       "      <th>journey_duration</th>\n",
       "      <th>stored_flag</th>\n",
       "      <th>loc_diff</th>\n",
       "    </tr>\n",
       "  </thead>\n",
       "  <tbody>\n",
       "    <tr>\n",
       "      <th>0</th>\n",
       "      <td>1.0</td>\n",
       "      <td>170.0</td>\n",
       "      <td>233.0</td>\n",
       "      <td>1.83</td>\n",
       "      <td>0.5</td>\n",
       "      <td>0.70</td>\n",
       "      <td>1.0</td>\n",
       "      <td>0.0</td>\n",
       "      <td>1.0</td>\n",
       "      <td>1.0</td>\n",
       "      <td>0.3</td>\n",
       "      <td>5.350000</td>\n",
       "      <td>0.0</td>\n",
       "      <td>63.0</td>\n",
       "    </tr>\n",
       "    <tr>\n",
       "      <th>1</th>\n",
       "      <td>2.0</td>\n",
       "      <td>151.0</td>\n",
       "      <td>243.0</td>\n",
       "      <td>3.56</td>\n",
       "      <td>0.5</td>\n",
       "      <td>4.64</td>\n",
       "      <td>1.0</td>\n",
       "      <td>0.0</td>\n",
       "      <td>1.0</td>\n",
       "      <td>1.0</td>\n",
       "      <td>0.3</td>\n",
       "      <td>16.500000</td>\n",
       "      <td>0.0</td>\n",
       "      <td>92.0</td>\n",
       "    </tr>\n",
       "    <tr>\n",
       "      <th>2</th>\n",
       "      <td>2.0</td>\n",
       "      <td>68.0</td>\n",
       "      <td>90.0</td>\n",
       "      <td>1.50</td>\n",
       "      <td>0.5</td>\n",
       "      <td>1.29</td>\n",
       "      <td>2.0</td>\n",
       "      <td>0.0</td>\n",
       "      <td>1.0</td>\n",
       "      <td>0.0</td>\n",
       "      <td>0.3</td>\n",
       "      <td>6.283333</td>\n",
       "      <td>0.0</td>\n",
       "      <td>22.0</td>\n",
       "    </tr>\n",
       "    <tr>\n",
       "      <th>3</th>\n",
       "      <td>2.0</td>\n",
       "      <td>142.0</td>\n",
       "      <td>234.0</td>\n",
       "      <td>1.50</td>\n",
       "      <td>0.5</td>\n",
       "      <td>2.74</td>\n",
       "      <td>1.0</td>\n",
       "      <td>0.0</td>\n",
       "      <td>1.0</td>\n",
       "      <td>0.0</td>\n",
       "      <td>0.3</td>\n",
       "      <td>16.133333</td>\n",
       "      <td>0.0</td>\n",
       "      <td>92.0</td>\n",
       "    </tr>\n",
       "    <tr>\n",
       "      <th>4</th>\n",
       "      <td>2.0</td>\n",
       "      <td>238.0</td>\n",
       "      <td>238.0</td>\n",
       "      <td>0.00</td>\n",
       "      <td>0.5</td>\n",
       "      <td>0.45</td>\n",
       "      <td>6.0</td>\n",
       "      <td>0.0</td>\n",
       "      <td>1.0</td>\n",
       "      <td>0.0</td>\n",
       "      <td>0.3</td>\n",
       "      <td>2.700000</td>\n",
       "      <td>0.0</td>\n",
       "      <td>0.0</td>\n",
       "    </tr>\n",
       "  </tbody>\n",
       "</table>\n",
       "</div>"
      ],
      "text/plain": [
       "   vendor_id  pickup_loc  drop_loc  driver_tip  mta_tax  distance  \\\n",
       "0        1.0       170.0     233.0        1.83      0.5      0.70   \n",
       "1        2.0       151.0     243.0        3.56      0.5      4.64   \n",
       "2        2.0        68.0      90.0        1.50      0.5      1.29   \n",
       "3        2.0       142.0     234.0        1.50      0.5      2.74   \n",
       "4        2.0       238.0     238.0        0.00      0.5      0.45   \n",
       "\n",
       "   num_passengers  toll_amount  rate_code  extra_charges  improvement_charge  \\\n",
       "0             1.0          0.0        1.0            1.0                 0.3   \n",
       "1             1.0          0.0        1.0            1.0                 0.3   \n",
       "2             2.0          0.0        1.0            0.0                 0.3   \n",
       "3             1.0          0.0        1.0            0.0                 0.3   \n",
       "4             6.0          0.0        1.0            0.0                 0.3   \n",
       "\n",
       "   journey_duration  stored_flag  loc_diff  \n",
       "0          5.350000          0.0      63.0  \n",
       "1         16.500000          0.0      92.0  \n",
       "2          6.283333          0.0      22.0  \n",
       "3         16.133333          0.0      92.0  \n",
       "4          2.700000          0.0       0.0  "
      ]
     },
     "execution_count": 65,
     "metadata": {},
     "output_type": "execute_result"
    }
   ],
   "source": [
    "X_train['loc_diff']=X_train['drop_loc']-X_train['pickup_loc']\n",
    "X_train.head()"
   ]
  },
  {
   "cell_type": "code",
   "execution_count": 66,
   "metadata": {
    "colab": {},
    "colab_type": "code",
    "id": "I1DLp2O01o9d"
   },
   "outputs": [],
   "source": [
    "Y_train = Y_train.astype('float')"
   ]
  },
  {
   "cell_type": "code",
   "execution_count": 67,
   "metadata": {
    "colab": {
     "base_uri": "https://localhost:8080/",
     "height": 301
    },
    "colab_type": "code",
    "executionInfo": {
     "elapsed": 487328,
     "status": "ok",
     "timestamp": 1568393137704,
     "user": {
      "displayName": "vedant kale",
      "photoUrl": "https://lh3.googleusercontent.com/a-/AAuE7mCDab_KFU1MHWEjRsQP-6z1fyiPUiZjRxo9hWUi2w=s64",
      "userId": "16040215375828489081"
     },
     "user_tz": -330
    },
    "id": "_cgLkogHynai",
    "outputId": "a0091700-cc72-4675-d902-d708651a4d5c"
   },
   "outputs": [
    {
     "data": {
      "text/plain": [
       "Text(0, 0.5, 'total_fare')"
      ]
     },
     "execution_count": 67,
     "metadata": {},
     "output_type": "execute_result"
    },
    {
     "data": {
      "image/png": "[encoded data removed]",
      "text/plain": [
       "<Figure size 432x288 with 1 Axes>"
      ]
     },
     "metadata": {
      "needs_background": "light"
     },
     "output_type": "display_data"
    }
   ],
   "source": [
    "mpl.rcParams['agg.path.chunksize'] = 10000\n",
    "plt.scatter(X_train['pickup_loc'], Y_train)\n",
    "plt.xlabel('pickup_loc')\n",
    "plt.ylabel('total_fare')\n",
    "#mpl.rcParams['agg.path.chunksize'] = 10000\n",
    "plt.scatter(X_train['drop_loc'], Y_train)\n",
    "plt.xlabel('drop_loc')\n",
    "plt.ylabel('total_fare')\n",
    "#mpl.rcParams['agg.path.chunksize'] = 10000\n",
    "plt.scatter(X_train['loc_diff'], Y_train)\n",
    "plt.ylim(0,1000)\n",
    "plt.xlabel('loc_diff')\n",
    "plt.ylabel('total_fare')"
   ]
  },
  {
   "cell_type": "code",
   "execution_count": 68,
   "metadata": {
    "colab": {
     "base_uri": "https://localhost:8080/",
     "height": 300
    },
    "colab_type": "code",
    "executionInfo": {
     "elapsed": 497623,
     "status": "ok",
     "timestamp": 1568393148305,
     "user": {
      "displayName": "vedant kale",
      "photoUrl": "https://lh3.googleusercontent.com/a-/AAuE7mCDab_KFU1MHWEjRsQP-6z1fyiPUiZjRxo9hWUi2w=s64",
      "userId": "16040215375828489081"
     },
     "user_tz": -330
    },
    "id": "K29KSqbG78lm",
    "outputId": "9423a62f-6c7c-41aa-f2e6-5ce82922d107"
   },
   "outputs": [
    {
     "data": {
      "text/plain": [
       "Text(0, 0.5, 'total_fare')"
      ]
     },
     "execution_count": 68,
     "metadata": {},
     "output_type": "execute_result"
    },
    {
     "data": {
      "image/png": "[encoded data removed]",
      "text/plain": [
       "<Figure size 432x288 with 1 Axes>"
      ]
     },
     "metadata": {
      "needs_background": "light"
     },
     "output_type": "display_data"
    }
   ],
   "source": [
    "plt.scatter(X_train['distance'], Y_train)\n",
    "plt.xlabel('distance')\n",
    "plt.xlim(0,85)\n",
    "plt.ylim(0,750)\n",
    "plt.ylabel('total_fare')"
   ]
  },
  {
   "cell_type": "code",
   "execution_count": 69,
   "metadata": {
    "colab": {
     "base_uri": "https://localhost:8080/",
     "height": 300
    },
    "colab_type": "code",
    "executionInfo": {
     "elapsed": 507497,
     "status": "ok",
     "timestamp": 1568393158498,
     "user": {
      "displayName": "vedant kale",
      "photoUrl": "https://lh3.googleusercontent.com/a-/AAuE7mCDab_KFU1MHWEjRsQP-6z1fyiPUiZjRxo9hWUi2w=s64",
      "userId": "16040215375828489081"
     },
     "user_tz": -330
    },
    "id": "3DurBC6678sz",
    "outputId": "f6d2a3bf-d1eb-4f51-9920-2be472eab1fa"
   },
   "outputs": [
    {
     "data": {
      "text/plain": [
       "Text(0, 0.5, 'total_fare')"
      ]
     },
     "execution_count": 69,
     "metadata": {},
     "output_type": "execute_result"
    },
    {
     "data": {
      "image/png": "[encoded data removed]",
      "text/plain": [
       "<Figure size 432x288 with 1 Axes>"
      ]
     },
     "metadata": {
      "needs_background": "light"
     },
     "output_type": "display_data"
    }
   ],
   "source": [
    "plt.scatter(X_train['driver_tip'], Y_train)\n",
    "plt.xlabel('driver_tip')\n",
    "plt.xlim(0,230)\n",
    "plt.ylim(0,750)\n",
    "plt.ylabel('total_fare')"
   ]
  },
  {
   "cell_type": "code",
   "execution_count": 70,
   "metadata": {
    "colab": {
     "base_uri": "https://localhost:8080/",
     "height": 300
    },
    "colab_type": "code",
    "executionInfo": {
     "elapsed": 9522,
     "status": "ok",
     "timestamp": 1568393169475,
     "user": {
      "displayName": "vedant kale",
      "photoUrl": "https://lh3.googleusercontent.com/a-/AAuE7mCDab_KFU1MHWEjRsQP-6z1fyiPUiZjRxo9hWUi2w=s64",
      "userId": "16040215375828489081"
     },
     "user_tz": -330
    },
    "id": "KMypb0eo78y3",
    "outputId": "d48327f9-3c29-49f9-8905-35e0cb12bc1c"
   },
   "outputs": [
    {
     "data": {
      "text/plain": [
       "Text(0, 0.5, 'total_fare')"
      ]
     },
     "execution_count": 70,
     "metadata": {},
     "output_type": "execute_result"
    },
    {
     "data": {
      "image/png": "[encoded data removed]",
      "text/plain": [
       "<Figure size 432x288 with 1 Axes>"
      ]
     },
     "metadata": {
      "needs_background": "light"
     },
     "output_type": "display_data"
    }
   ],
   "source": [
    "plt.scatter(X_train['mta_tax'], Y_train)\n",
    "plt.xlabel('mta_tax')\n",
    "# plt.xlim(0,230)\n",
    "# plt.ylim(0,750)\n",
    "plt.ylabel('total_fare')"
   ]
  },
  {
   "cell_type": "code",
   "execution_count": 71,
   "metadata": {
    "colab": {
     "base_uri": "https://localhost:8080/",
     "height": 300
    },
    "colab_type": "code",
    "executionInfo": {
     "elapsed": 528417,
     "status": "ok",
     "timestamp": 1568393180030,
     "user": {
      "displayName": "vedant kale",
      "photoUrl": "https://lh3.googleusercontent.com/a-/AAuE7mCDab_KFU1MHWEjRsQP-6z1fyiPUiZjRxo9hWUi2w=s64",
      "userId": "16040215375828489081"
     },
     "user_tz": -330
    },
    "id": "wJn0GjhE788e",
    "outputId": "310693b4-2a41-437c-f283-f8668db3ac1e"
   },
   "outputs": [
    {
     "data": {
      "text/plain": [
       "Text(0, 0.5, 'total_fare')"
      ]
     },
     "execution_count": 71,
     "metadata": {},
     "output_type": "execute_result"
    },
    {
     "data": {
      "image/png": "[encoded data removed]",
      "text/plain": [
       "<Figure size 432x288 with 1 Axes>"
      ]
     },
     "metadata": {
      "needs_background": "light"
     },
     "output_type": "display_data"
    }
   ],
   "source": [
    "plt.scatter(X_train['num_passengers'], Y_train)\n",
    "plt.xlabel('num_passengers')\n",
    "plt.xlim(0,10)\n",
    "plt.ylim(0,850)\n",
    "plt.ylabel('total_fare')"
   ]
  },
  {
   "cell_type": "code",
   "execution_count": 72,
   "metadata": {
    "colab": {
     "base_uri": "https://localhost:8080/",
     "height": 300
    },
    "colab_type": "code",
    "executionInfo": {
     "elapsed": 538291,
     "status": "ok",
     "timestamp": 1568393190212,
     "user": {
      "displayName": "vedant kale",
      "photoUrl": "https://lh3.googleusercontent.com/a-/AAuE7mCDab_KFU1MHWEjRsQP-6z1fyiPUiZjRxo9hWUi2w=s64",
      "userId": "16040215375828489081"
     },
     "user_tz": -330
    },
    "id": "LlVNs8HL-eLI",
    "outputId": "b2fb79ce-19b9-403c-d7f6-f9170c32d973"
   },
   "outputs": [
    {
     "data": {
      "text/plain": [
       "Text(0, 0.5, 'total_fare')"
      ]
     },
     "execution_count": 72,
     "metadata": {},
     "output_type": "execute_result"
    },
    {
     "data": {
      "image/png": "[encoded data removed]",
      "text/plain": [
       "<Figure size 432x288 with 1 Axes>"
      ]
     },
     "metadata": {
      "needs_background": "light"
     },
     "output_type": "display_data"
    }
   ],
   "source": [
    "plt.scatter(X_train['toll_amount'], Y_train)\n",
    "plt.xlabel('toll_amount')\n",
    "plt.xlim(0,100)\n",
    "plt.ylim(0,750)\n",
    "plt.ylabel('total_fare')"
   ]
  },
  {
   "cell_type": "code",
   "execution_count": 73,
   "metadata": {
    "colab": {
     "base_uri": "https://localhost:8080/",
     "height": 300
    },
    "colab_type": "code",
    "executionInfo": {
     "elapsed": 548555,
     "status": "ok",
     "timestamp": 1568393200813,
     "user": {
      "displayName": "vedant kale",
      "photoUrl": "https://lh3.googleusercontent.com/a-/AAuE7mCDab_KFU1MHWEjRsQP-6z1fyiPUiZjRxo9hWUi2w=s64",
      "userId": "16040215375828489081"
     },
     "user_tz": -330
    },
    "id": "Bl-1dPVv-m7v",
    "outputId": "267c62be-d37d-40b6-92ba-4fe766413976"
   },
   "outputs": [
    {
     "data": {
      "text/plain": [
       "Text(0, 0.5, 'total_fare')"
      ]
     },
     "execution_count": 73,
     "metadata": {},
     "output_type": "execute_result"
    },
    {
     "data": {
      "image/png": "[encoded data removed]",
      "text/plain": [
       "<Figure size 432x288 with 1 Axes>"
      ]
     },
     "metadata": {
      "needs_background": "light"
     },
     "output_type": "display_data"
    }
   ],
   "source": [
    "plt.scatter(X_train['rate_code'], Y_train)\n",
    "plt.xlabel('rate_code')\n",
    "plt.xlim(0,10)\n",
    "plt.ylim(0,750)\n",
    "plt.ylabel('total_fare')"
   ]
  },
  {
   "cell_type": "code",
   "execution_count": 74,
   "metadata": {
    "colab": {
     "base_uri": "https://localhost:8080/",
     "height": 300
    },
    "colab_type": "code",
    "executionInfo": {
     "elapsed": 559020,
     "status": "ok",
     "timestamp": 1568393211582,
     "user": {
      "displayName": "vedant kale",
      "photoUrl": "https://lh3.googleusercontent.com/a-/AAuE7mCDab_KFU1MHWEjRsQP-6z1fyiPUiZjRxo9hWUi2w=s64",
      "userId": "16040215375828489081"
     },
     "user_tz": -330
    },
    "id": "V8_z7Wdj_66J",
    "outputId": "175a3ef2-ea6b-4ab9-d824-118bb8e69f61"
   },
   "outputs": [
    {
     "data": {
      "text/plain": [
       "Text(0, 0.5, 'total_fare')"
      ]
     },
     "execution_count": 74,
     "metadata": {},
     "output_type": "execute_result"
    },
    {
     "data": {
      "image/png": "[encoded data removed]",
      "text/plain": [
       "<Figure size 432x288 with 1 Axes>"
      ]
     },
     "metadata": {
      "needs_background": "light"
     },
     "output_type": "display_data"
    }
   ],
   "source": [
    "plt.scatter(X_train['extra_charges'], Y_train)\n",
    "plt.xlabel('extra_charges')\n",
    "# plt.xlim(0,100)\n",
    "# plt.ylim(0,750)\n",
    "plt.ylabel('total_fare')"
   ]
  },
  {
   "cell_type": "code",
   "execution_count": 75,
   "metadata": {
    "colab": {
     "base_uri": "https://localhost:8080/",
     "height": 300
    },
    "colab_type": "code",
    "executionInfo": {
     "elapsed": 569442,
     "status": "ok",
     "timestamp": 1568393222316,
     "user": {
      "displayName": "vedant kale",
      "photoUrl": "https://lh3.googleusercontent.com/a-/AAuE7mCDab_KFU1MHWEjRsQP-6z1fyiPUiZjRxo9hWUi2w=s64",
      "userId": "16040215375828489081"
     },
     "user_tz": -330
    },
    "id": "9GGcpnZT_7Kl",
    "outputId": "2a37be31-79f4-4640-8f8e-efb31524d45d"
   },
   "outputs": [
    {
     "data": {
      "text/plain": [
       "Text(0, 0.5, 'total_fare')"
      ]
     },
     "execution_count": 75,
     "metadata": {},
     "output_type": "execute_result"
    },
    {
     "data": {
      "image/png": "[encoded data removed]",
      "text/plain": [
       "<Figure size 432x288 with 1 Axes>"
      ]
     },
     "metadata": {
      "needs_background": "light"
     },
     "output_type": "display_data"
    }
   ],
   "source": [
    "plt.scatter(X_train['improvement_charge'], Y_train)\n",
    "plt.xlabel('improvement_charge')\n",
    "# plt.xlim(0,100)\n",
    "# plt.ylim(0,750)\n",
    "plt.ylabel('total_fare')"
   ]
  },
  {
   "cell_type": "code",
   "execution_count": 76,
   "metadata": {
    "colab": {
     "base_uri": "https://localhost:8080/",
     "height": 301
    },
    "colab_type": "code",
    "executionInfo": {
     "elapsed": 580020,
     "status": "ok",
     "timestamp": 1568393233201,
     "user": {
      "displayName": "vedant kale",
      "photoUrl": "https://lh3.googleusercontent.com/a-/AAuE7mCDab_KFU1MHWEjRsQP-6z1fyiPUiZjRxo9hWUi2w=s64",
      "userId": "16040215375828489081"
     },
     "user_tz": -330
    },
    "id": "zZGPNnNEBMFw",
    "outputId": "9b1980ad-dc49-4d67-98ff-bb8ff9bf26f7"
   },
   "outputs": [
    {
     "data": {
      "text/plain": [
       "Text(0, 0.5, 'total_fare')"
      ]
     },
     "execution_count": 76,
     "metadata": {},
     "output_type": "execute_result"
    },
    {
     "data": {
      "image/png": "[encoded data removed]",
      "text/plain": [
       "<Figure size 432x288 with 1 Axes>"
      ]
     },
     "metadata": {
      "needs_background": "light"
     },
     "output_type": "display_data"
    }
   ],
   "source": [
    "plt.scatter(X_train['journey_duration'], Y_train)\n",
    "plt.xlabel('journey_duration')\n",
    "# plt.xlim(0,100)\n",
    "# plt.ylim(0,750)\n",
    "plt.ylabel('total_fare')"
   ]
  },
  {
   "cell_type": "code",
   "execution_count": 77,
   "metadata": {
    "colab": {
     "base_uri": "https://localhost:8080/",
     "height": 300
    },
    "colab_type": "code",
    "executionInfo": {
     "elapsed": 590381,
     "status": "ok",
     "timestamp": 1568393243875,
     "user": {
      "displayName": "vedant kale",
      "photoUrl": "https://lh3.googleusercontent.com/a-/AAuE7mCDab_KFU1MHWEjRsQP-6z1fyiPUiZjRxo9hWUi2w=s64",
      "userId": "16040215375828489081"
     },
     "user_tz": -330
    },
    "id": "2ACJk7gABMxf",
    "outputId": "72c9620e-ade4-4adc-d953-50c65fc90ae4"
   },
   "outputs": [
    {
     "data": {
      "text/plain": [
       "Text(0, 0.5, 'total_fare')"
      ]
     },
     "execution_count": 77,
     "metadata": {},
     "output_type": "execute_result"
    },
    {
     "data": {
      "image/png": "[encoded data removed]",
      "text/plain": [
       "<Figure size 432x288 with 1 Axes>"
      ]
     },
     "metadata": {
      "needs_background": "light"
     },
     "output_type": "display_data"
    }
   ],
   "source": [
    "plt.scatter(X_train['stored_flag'], Y_train)\n",
    "plt.xlabel('stored_flag')\n",
    "# plt.xlim(0,100)\n",
    "# plt.ylim(0,750)\n",
    "plt.ylabel('total_fare')"
   ]
  },
  {
   "cell_type": "code",
   "execution_count": 79,
   "metadata": {
    "colab": {
     "base_uri": "https://localhost:8080/",
     "height": 330
    },
    "colab_type": "code",
    "executionInfo": {
     "elapsed": 590075,
     "status": "ok",
     "timestamp": 1568393243879,
     "user": {
      "displayName": "vedant kale",
      "photoUrl": "https://lh3.googleusercontent.com/a-/AAuE7mCDab_KFU1MHWEjRsQP-6z1fyiPUiZjRxo9hWUi2w=s64",
      "userId": "16040215375828489081"
     },
     "user_tz": -330
    },
    "id": "ClG9rJkLBN-c",
    "outputId": "7c48e068-7cdc-472a-8199-fa5db4eac4f7"
   },
   "outputs": [
    {
     "name": "stderr",
     "output_type": "stream",
     "text": [
      "C:\\ProgramData\\Anaconda3\\lib\\site-packages\\ipykernel_launcher.py:1: SettingWithCopyWarning: \n",
      "A value is trying to be set on a copy of a slice from a DataFrame.\n",
      "Try using .loc[row_indexer,col_indexer] = value instead\n",
      "\n",
      "See the caveats in the documentation: http://pandas.pydata.org/pandas-docs/stable/indexing.html#indexing-view-versus-copy\n",
      "  \"\"\"Entry point for launching an IPython kernel.\n",
      "C:\\ProgramData\\Anaconda3\\lib\\site-packages\\ipykernel_launcher.py:2: SettingWithCopyWarning: \n",
      "A value is trying to be set on a copy of a slice from a DataFrame.\n",
      "Try using .loc[row_indexer,col_indexer] = value instead\n",
      "\n",
      "See the caveats in the documentation: http://pandas.pydata.org/pandas-docs/stable/indexing.html#indexing-view-versus-copy\n",
      "  \n",
      "C:\\ProgramData\\Anaconda3\\lib\\site-packages\\ipykernel_launcher.py:3: SettingWithCopyWarning: \n",
      "A value is trying to be set on a copy of a slice from a DataFrame.\n",
      "Try using .loc[row_indexer,col_indexer] = value instead\n",
      "\n",
      "See the caveats in the documentation: http://pandas.pydata.org/pandas-docs/stable/indexing.html#indexing-view-versus-copy\n",
      "  This is separate from the ipykernel package so we can avoid doing imports until\n"
     ]
    }
   ],
   "source": [
    "X_train['dist_sq'] = X_train['distance'] * X_train['distance']\n",
    "X_train['tip_sq'] = X_train['driver_tip'] * X_train['driver_tip']\n",
    "X_train['toll_sq'] = X_train['toll_amount'] * X_train['toll_amount']"
   ]
  },
  {
   "cell_type": "code",
   "execution_count": 80,
   "metadata": {
    "colab": {
     "base_uri": "https://localhost:8080/",
     "height": 330
    },
    "colab_type": "code",
    "executionInfo": {
     "elapsed": 589766,
     "status": "ok",
     "timestamp": 1568393243881,
     "user": {
      "displayName": "vedant kale",
      "photoUrl": "https://lh3.googleusercontent.com/a-/AAuE7mCDab_KFU1MHWEjRsQP-6z1fyiPUiZjRxo9hWUi2w=s64",
      "userId": "16040215375828489081"
     },
     "user_tz": -330
    },
    "id": "1-gz0g52HP5u",
    "outputId": "b841a062-9eb8-4d75-f4fa-ff2e7cadfa87"
   },
   "outputs": [
    {
     "name": "stdout",
     "output_type": "stream",
     "text": [
      "<class 'pandas.core.frame.DataFrame'>\n",
      "RangeIndex: 154235 entries, 0 to 154234\n",
      "Data columns (total 13 columns):\n",
      "vendor_id             154235 non-null int64\n",
      "pickup_loc            154235 non-null float64\n",
      "drop_loc              154235 non-null float64\n",
      "driver_tip            154235 non-null float64\n",
      "mta_tax               154235 non-null float64\n",
      "distance              154235 non-null float64\n",
      "num_passengers        154235 non-null float64\n",
      "toll_amount           154235 non-null float64\n",
      "rate_code             154235 non-null float64\n",
      "extra_charges         154235 non-null float64\n",
      "improvement_charge    154235 non-null float64\n",
      "journey_duration      154235 non-null float64\n",
      "stored_flag           154235 non-null int64\n",
      "dtypes: float64(11), int64(2)\n",
      "memory usage: 15.3 MB\n"
     ]
    }
   ],
   "source": [
    "X_test.info()"
   ]
  },
  {
   "cell_type": "code",
   "execution_count": 81,
   "metadata": {
    "colab": {
     "base_uri": "https://localhost:8080/",
     "height": 330
    },
    "colab_type": "code",
    "executionInfo": {
     "elapsed": 589986,
     "status": "ok",
     "timestamp": 1568393244403,
     "user": {
      "displayName": "vedant kale",
      "photoUrl": "https://lh3.googleusercontent.com/a-/AAuE7mCDab_KFU1MHWEjRsQP-6z1fyiPUiZjRxo9hWUi2w=s64",
      "userId": "16040215375828489081"
     },
     "user_tz": -330
    },
    "id": "DKgL1N4eG7tm",
    "outputId": "0705d957-021f-469c-9ac8-932dacd3ec95"
   },
   "outputs": [
    {
     "name": "stderr",
     "output_type": "stream",
     "text": [
      "C:\\ProgramData\\Anaconda3\\lib\\site-packages\\ipykernel_launcher.py:1: SettingWithCopyWarning: \n",
      "A value is trying to be set on a copy of a slice from a DataFrame.\n",
      "Try using .loc[row_indexer,col_indexer] = value instead\n",
      "\n",
      "See the caveats in the documentation: http://pandas.pydata.org/pandas-docs/stable/indexing.html#indexing-view-versus-copy\n",
      "  \"\"\"Entry point for launching an IPython kernel.\n",
      "C:\\ProgramData\\Anaconda3\\lib\\site-packages\\ipykernel_launcher.py:2: SettingWithCopyWarning: \n",
      "A value is trying to be set on a copy of a slice from a DataFrame.\n",
      "Try using .loc[row_indexer,col_indexer] = value instead\n",
      "\n",
      "See the caveats in the documentation: http://pandas.pydata.org/pandas-docs/stable/indexing.html#indexing-view-versus-copy\n",
      "  \n",
      "C:\\ProgramData\\Anaconda3\\lib\\site-packages\\ipykernel_launcher.py:3: SettingWithCopyWarning: \n",
      "A value is trying to be set on a copy of a slice from a DataFrame.\n",
      "Try using .loc[row_indexer,col_indexer] = value instead\n",
      "\n",
      "See the caveats in the documentation: http://pandas.pydata.org/pandas-docs/stable/indexing.html#indexing-view-versus-copy\n",
      "  This is separate from the ipykernel package so we can avoid doing imports until\n"
     ]
    }
   ],
   "source": [
    "X_test['loc_diff'] = X_test['drop_loc'] - X_test['pickup_loc']\n",
    "X_test['dist_sq'] = X_test['distance'] * X_test['distance']\n",
    "X_test['tip_sq'] = X_test['driver_tip'] * X_test['driver_tip']\n",
    "X_test['toll_sq'] = X_test['toll_amount'] * X_test['toll_amount']"
   ]
  },
  {
   "cell_type": "code",
   "execution_count": 82,
   "metadata": {
    "colab": {
     "base_uri": "https://localhost:8080/",
     "height": 244
    },
    "colab_type": "code",
    "executionInfo": {
     "elapsed": 589820,
     "status": "ok",
     "timestamp": 1568393244404,
     "user": {
      "displayName": "vedant kale",
      "photoUrl": "https://lh3.googleusercontent.com/a-/AAuE7mCDab_KFU1MHWEjRsQP-6z1fyiPUiZjRxo9hWUi2w=s64",
      "userId": "16040215375828489081"
     },
     "user_tz": -330
    },
    "id": "U7-9AAIREKLk",
    "outputId": "fa449d75-ed3f-4c37-80b6-a1d31d374c7f"
   },
   "outputs": [
    {
     "data": {
      "text/html": [
       "<div>\n",
       "<style scoped>\n",
       "    .dataframe tbody tr th:only-of-type {\n",
       "        vertical-align: middle;\n",
       "    }\n",
       "\n",
       "    .dataframe tbody tr th {\n",
       "        vertical-align: top;\n",
       "    }\n",
       "\n",
       "    .dataframe thead th {\n",
       "        text-align: right;\n",
       "    }\n",
       "</style>\n",
       "<table border=\"1\" class=\"dataframe\">\n",
       "  <thead>\n",
       "    <tr style=\"text-align: right;\">\n",
       "      <th></th>\n",
       "      <th>vendor_id</th>\n",
       "      <th>pickup_loc</th>\n",
       "      <th>drop_loc</th>\n",
       "      <th>driver_tip</th>\n",
       "      <th>mta_tax</th>\n",
       "      <th>distance</th>\n",
       "      <th>num_passengers</th>\n",
       "      <th>toll_amount</th>\n",
       "      <th>rate_code</th>\n",
       "      <th>extra_charges</th>\n",
       "      <th>improvement_charge</th>\n",
       "      <th>journey_duration</th>\n",
       "      <th>stored_flag</th>\n",
       "      <th>loc_diff</th>\n",
       "      <th>dist_sq</th>\n",
       "      <th>tip_sq</th>\n",
       "      <th>toll_sq</th>\n",
       "    </tr>\n",
       "  </thead>\n",
       "  <tbody>\n",
       "    <tr>\n",
       "      <th>0</th>\n",
       "      <td>1.0</td>\n",
       "      <td>170.0</td>\n",
       "      <td>233.0</td>\n",
       "      <td>1.83</td>\n",
       "      <td>0.5</td>\n",
       "      <td>0.70</td>\n",
       "      <td>1.0</td>\n",
       "      <td>0.0</td>\n",
       "      <td>1.0</td>\n",
       "      <td>1.0</td>\n",
       "      <td>0.3</td>\n",
       "      <td>5.350000</td>\n",
       "      <td>0.0</td>\n",
       "      <td>63.0</td>\n",
       "      <td>0.4900</td>\n",
       "      <td>3.3489</td>\n",
       "      <td>0.0</td>\n",
       "    </tr>\n",
       "    <tr>\n",
       "      <th>1</th>\n",
       "      <td>2.0</td>\n",
       "      <td>151.0</td>\n",
       "      <td>243.0</td>\n",
       "      <td>3.56</td>\n",
       "      <td>0.5</td>\n",
       "      <td>4.64</td>\n",
       "      <td>1.0</td>\n",
       "      <td>0.0</td>\n",
       "      <td>1.0</td>\n",
       "      <td>1.0</td>\n",
       "      <td>0.3</td>\n",
       "      <td>16.500000</td>\n",
       "      <td>0.0</td>\n",
       "      <td>92.0</td>\n",
       "      <td>21.5296</td>\n",
       "      <td>12.6736</td>\n",
       "      <td>0.0</td>\n",
       "    </tr>\n",
       "    <tr>\n",
       "      <th>2</th>\n",
       "      <td>2.0</td>\n",
       "      <td>68.0</td>\n",
       "      <td>90.0</td>\n",
       "      <td>1.50</td>\n",
       "      <td>0.5</td>\n",
       "      <td>1.29</td>\n",
       "      <td>2.0</td>\n",
       "      <td>0.0</td>\n",
       "      <td>1.0</td>\n",
       "      <td>0.0</td>\n",
       "      <td>0.3</td>\n",
       "      <td>6.283333</td>\n",
       "      <td>0.0</td>\n",
       "      <td>22.0</td>\n",
       "      <td>1.6641</td>\n",
       "      <td>2.2500</td>\n",
       "      <td>0.0</td>\n",
       "    </tr>\n",
       "    <tr>\n",
       "      <th>3</th>\n",
       "      <td>2.0</td>\n",
       "      <td>142.0</td>\n",
       "      <td>234.0</td>\n",
       "      <td>1.50</td>\n",
       "      <td>0.5</td>\n",
       "      <td>2.74</td>\n",
       "      <td>1.0</td>\n",
       "      <td>0.0</td>\n",
       "      <td>1.0</td>\n",
       "      <td>0.0</td>\n",
       "      <td>0.3</td>\n",
       "      <td>16.133333</td>\n",
       "      <td>0.0</td>\n",
       "      <td>92.0</td>\n",
       "      <td>7.5076</td>\n",
       "      <td>2.2500</td>\n",
       "      <td>0.0</td>\n",
       "    </tr>\n",
       "    <tr>\n",
       "      <th>4</th>\n",
       "      <td>2.0</td>\n",
       "      <td>238.0</td>\n",
       "      <td>238.0</td>\n",
       "      <td>0.00</td>\n",
       "      <td>0.5</td>\n",
       "      <td>0.45</td>\n",
       "      <td>6.0</td>\n",
       "      <td>0.0</td>\n",
       "      <td>1.0</td>\n",
       "      <td>0.0</td>\n",
       "      <td>0.3</td>\n",
       "      <td>2.700000</td>\n",
       "      <td>0.0</td>\n",
       "      <td>0.0</td>\n",
       "      <td>0.2025</td>\n",
       "      <td>0.0000</td>\n",
       "      <td>0.0</td>\n",
       "    </tr>\n",
       "  </tbody>\n",
       "</table>\n",
       "</div>"
      ],
      "text/plain": [
       "   vendor_id  pickup_loc  drop_loc  driver_tip  mta_tax  distance  \\\n",
       "0        1.0       170.0     233.0        1.83      0.5      0.70   \n",
       "1        2.0       151.0     243.0        3.56      0.5      4.64   \n",
       "2        2.0        68.0      90.0        1.50      0.5      1.29   \n",
       "3        2.0       142.0     234.0        1.50      0.5      2.74   \n",
       "4        2.0       238.0     238.0        0.00      0.5      0.45   \n",
       "\n",
       "   num_passengers  toll_amount  rate_code  extra_charges  improvement_charge  \\\n",
       "0             1.0          0.0        1.0            1.0                 0.3   \n",
       "1             1.0          0.0        1.0            1.0                 0.3   \n",
       "2             2.0          0.0        1.0            0.0                 0.3   \n",
       "3             1.0          0.0        1.0            0.0                 0.3   \n",
       "4             6.0          0.0        1.0            0.0                 0.3   \n",
       "\n",
       "   journey_duration  stored_flag  loc_diff  dist_sq   tip_sq  toll_sq  \n",
       "0          5.350000          0.0      63.0   0.4900   3.3489      0.0  \n",
       "1         16.500000          0.0      92.0  21.5296  12.6736      0.0  \n",
       "2          6.283333          0.0      22.0   1.6641   2.2500      0.0  \n",
       "3         16.133333          0.0      92.0   7.5076   2.2500      0.0  \n",
       "4          2.700000          0.0       0.0   0.2025   0.0000      0.0  "
      ]
     },
     "execution_count": 82,
     "metadata": {},
     "output_type": "execute_result"
    }
   ],
   "source": [
    "X_train.head()"
   ]
  },
  {
   "cell_type": "code",
   "execution_count": 83,
   "metadata": {
    "colab": {
     "base_uri": "https://localhost:8080/",
     "height": 399
    },
    "colab_type": "code",
    "executionInfo": {
     "elapsed": 590338,
     "status": "ok",
     "timestamp": 1568393245081,
     "user": {
      "displayName": "vedant kale",
      "photoUrl": "https://lh3.googleusercontent.com/a-/AAuE7mCDab_KFU1MHWEjRsQP-6z1fyiPUiZjRxo9hWUi2w=s64",
      "userId": "16040215375828489081"
     },
     "user_tz": -330
    },
    "id": "bRBfVRx4GTPu",
    "outputId": "884e569b-b90e-4b63-e494-d373082970a5"
   },
   "outputs": [
    {
     "name": "stdout",
     "output_type": "stream",
     "text": [
      "<class 'pandas.core.frame.DataFrame'>\n",
      "RangeIndex: 1048575 entries, 0 to 1048574\n",
      "Data columns (total 17 columns):\n",
      "vendor_id             1048575 non-null float64\n",
      "pickup_loc            1048575 non-null float64\n",
      "drop_loc              1048575 non-null float64\n",
      "driver_tip            1048575 non-null float64\n",
      "mta_tax               1048575 non-null float64\n",
      "distance              1048575 non-null float64\n",
      "num_passengers        1048575 non-null float64\n",
      "toll_amount           1048575 non-null float64\n",
      "rate_code             1048575 non-null float64\n",
      "extra_charges         1048575 non-null float64\n",
      "improvement_charge    1048575 non-null float64\n",
      "journey_duration      1048575 non-null float64\n",
      "stored_flag           1048575 non-null float64\n",
      "loc_diff              1048575 non-null float64\n",
      "dist_sq               1048575 non-null float64\n",
      "tip_sq                1048575 non-null float64\n",
      "toll_sq               1048575 non-null float64\n",
      "dtypes: float64(17)\n",
      "memory usage: 136.0 MB\n"
     ]
    }
   ],
   "source": [
    "X_train.info()"
   ]
  },
  {
   "cell_type": "code",
   "execution_count": 84,
   "metadata": {
    "colab": {},
    "colab_type": "code",
    "id": "fDbSvviy5J4T"
   },
   "outputs": [],
   "source": [
    "from sklearn.ensemble import RandomForestRegressor\n",
    "from sklearn.linear_model import LinearRegression\n",
    "from sklearn import linear_model"
   ]
  },
  {
   "cell_type": "code",
   "execution_count": 85,
   "metadata": {
    "colab": {
     "base_uri": "https://localhost:8080/",
     "height": 583
    },
    "colab_type": "code",
    "executionInfo": {
     "elapsed": 590815,
     "status": "ok",
     "timestamp": 1568393245724,
     "user": {
      "displayName": "vedant kale",
      "photoUrl": "https://lh3.googleusercontent.com/a-/AAuE7mCDab_KFU1MHWEjRsQP-6z1fyiPUiZjRxo9hWUi2w=s64",
      "userId": "16040215375828489081"
     },
     "user_tz": -330
    },
    "id": "VuQJp5sr5J4W",
    "outputId": "9314284f-6899-408a-ee3d-e7ecbd5e422c"
   },
   "outputs": [
    {
     "data": {
      "text/html": [
       "<div>\n",
       "<style scoped>\n",
       "    .dataframe tbody tr th:only-of-type {\n",
       "        vertical-align: middle;\n",
       "    }\n",
       "\n",
       "    .dataframe tbody tr th {\n",
       "        vertical-align: top;\n",
       "    }\n",
       "\n",
       "    .dataframe thead th {\n",
       "        text-align: right;\n",
       "    }\n",
       "</style>\n",
       "<table border=\"1\" class=\"dataframe\">\n",
       "  <thead>\n",
       "    <tr style=\"text-align: right;\">\n",
       "      <th></th>\n",
       "      <th>Coeifficent Values</th>\n",
       "    </tr>\n",
       "  </thead>\n",
       "  <tbody>\n",
       "    <tr>\n",
       "      <th>vendor_id</th>\n",
       "      <td>-0.027521</td>\n",
       "    </tr>\n",
       "    <tr>\n",
       "      <th>pickup_loc</th>\n",
       "      <td>0.000800</td>\n",
       "    </tr>\n",
       "    <tr>\n",
       "      <th>drop_loc</th>\n",
       "      <td>0.001000</td>\n",
       "    </tr>\n",
       "    <tr>\n",
       "      <th>driver_tip</th>\n",
       "      <td>1.436325</td>\n",
       "    </tr>\n",
       "    <tr>\n",
       "      <th>mta_tax</th>\n",
       "      <td>-43.302996</td>\n",
       "    </tr>\n",
       "    <tr>\n",
       "      <th>distance</th>\n",
       "      <td>2.764576</td>\n",
       "    </tr>\n",
       "    <tr>\n",
       "      <th>num_passengers</th>\n",
       "      <td>0.006758</td>\n",
       "    </tr>\n",
       "    <tr>\n",
       "      <th>toll_amount</th>\n",
       "      <td>0.940391</td>\n",
       "    </tr>\n",
       "    <tr>\n",
       "      <th>rate_code</th>\n",
       "      <td>1.348842</td>\n",
       "    </tr>\n",
       "    <tr>\n",
       "      <th>extra_charges</th>\n",
       "      <td>0.555807</td>\n",
       "    </tr>\n",
       "    <tr>\n",
       "      <th>improvement_charge</th>\n",
       "      <td>56.647109</td>\n",
       "    </tr>\n",
       "    <tr>\n",
       "      <th>journey_duration</th>\n",
       "      <td>0.005879</td>\n",
       "    </tr>\n",
       "    <tr>\n",
       "      <th>stored_flag</th>\n",
       "      <td>0.388080</td>\n",
       "    </tr>\n",
       "    <tr>\n",
       "      <th>loc_diff</th>\n",
       "      <td>0.000199</td>\n",
       "    </tr>\n",
       "    <tr>\n",
       "      <th>dist_sq</th>\n",
       "      <td>-0.014504</td>\n",
       "    </tr>\n",
       "    <tr>\n",
       "      <th>tip_sq</th>\n",
       "      <td>-0.001618</td>\n",
       "    </tr>\n",
       "    <tr>\n",
       "      <th>toll_sq</th>\n",
       "      <td>0.000078</td>\n",
       "    </tr>\n",
       "  </tbody>\n",
       "</table>\n",
       "</div>"
      ],
      "text/plain": [
       "                    Coeifficent Values\n",
       "vendor_id                    -0.027521\n",
       "pickup_loc                    0.000800\n",
       "drop_loc                      0.001000\n",
       "driver_tip                    1.436325\n",
       "mta_tax                     -43.302996\n",
       "distance                      2.764576\n",
       "num_passengers                0.006758\n",
       "toll_amount                   0.940391\n",
       "rate_code                     1.348842\n",
       "extra_charges                 0.555807\n",
       "improvement_charge           56.647109\n",
       "journey_duration              0.005879\n",
       "stored_flag                   0.388080\n",
       "loc_diff                      0.000199\n",
       "dist_sq                      -0.014504\n",
       "tip_sq                       -0.001618\n",
       "toll_sq                       0.000078"
      ]
     },
     "execution_count": 85,
     "metadata": {},
     "output_type": "execute_result"
    }
   ],
   "source": [
    "model1 = linear_model.LinearRegression()\n",
    "\n",
    "model1.fit(X_train, Y_train)\n",
    "\n",
    "prediction1 = model1.predict(X_test)\n",
    "prediction2 = model1.predict(X_train)\n",
    "\n",
    "Y_test = prediction1\n",
    "\n",
    "#plt.scatter(Y_test, prediction1)\n",
    "\n",
    "model1.coef_\n",
    "\n",
    "dframe_coef = pd.DataFrame(model1.coef_, X_train.columns, columns=['Coeifficent Values'])\n",
    "\n",
    "dframe_coef"
   ]
  },
  {
   "cell_type": "code",
   "execution_count": 86,
   "metadata": {
    "colab": {
     "base_uri": "https://localhost:8080/",
     "height": 436
    },
    "colab_type": "code",
    "executionInfo": {
     "elapsed": 608103,
     "status": "error",
     "timestamp": 1568393263185,
     "user": {
      "displayName": "vedant kale",
      "photoUrl": "https://lh3.googleusercontent.com/a-/AAuE7mCDab_KFU1MHWEjRsQP-6z1fyiPUiZjRxo9hWUi2w=s64",
      "userId": "16040215375828489081"
     },
     "user_tz": -330
    },
    "id": "TM9hwW_rIsRd",
    "outputId": "82e286a2-77b3-408c-d0e5-39025005a6a4"
   },
   "outputs": [
    {
     "name": "stderr",
     "output_type": "stream",
     "text": [
      "C:\\ProgramData\\Anaconda3\\lib\\site-packages\\sklearn\\ensemble\\forest.py:245: FutureWarning: The default value of n_estimators will change from 10 in version 0.20 to 100 in 0.22.\n",
      "  \"10 in version 0.20 to 100 in 0.22.\", FutureWarning)\n"
     ]
    }
   ],
   "source": [
    "model2 = RandomForestRegressor()\n",
    "\n",
    "model2.fit(X_train, Y_train)\n",
    "\n",
    "prediction3 = model2.predict(X_test)\n",
    "prediction4 = model2.predict(X_train)\n",
    "\n",
    "Y_test = prediction3\n",
    "\n",
    "#plt.scatter(Y_test, prediction1)\n",
    "\n",
    "# model1.coef_\n",
    "\n",
    "# dframe_coef = pd.DataFrame(model1.coef_, X_train.columns, columns=['Coeifficent Values'])\n",
    "\n",
    "# dframe_coef"
   ]
  },
  {
   "cell_type": "code",
   "execution_count": 111,
   "metadata": {},
   "outputs": [],
   "source": [
    "from sklearn.model_selection import cross_validate\n",
    "\n",
    "#loo = cross_validate.LeaveOneOut(len(Y_train))\n",
    "\n",
    "scores = cross_validate(model2, X_train, Y_train, cv=3,\n",
    "                        scoring=('r2', 'neg_mean_squared_error'),\n",
    "                         return_train_score=True)"
   ]
  },
  {
   "cell_type": "code",
   "execution_count": 117,
   "metadata": {},
   "outputs": [
    {
     "data": {
      "text/plain": [
       "{'fit_time': array([111.86932707, 111.12688875, 112.64294147]),\n",
       " 'score_time': array([6.11098337, 6.04985738, 6.21170688]),\n",
       " 'test_r2': array([0.91736381, 0.88576509, 0.91545507]),\n",
       " 'train_r2': array([0.98581115, 0.97328264, 0.971128  ]),\n",
       " 'test_neg_mean_squared_error': array([-18.49098353, -26.41458557, -19.2554383 ]),\n",
       " 'train_neg_mean_squared_error': array([-3.25623603, -6.03170501, -6.56837279])}"
      ]
     },
     "execution_count": 117,
     "metadata": {},
     "output_type": "execute_result"
    }
   ],
   "source": [
    "scores"
   ]
  },
  {
   "cell_type": "code",
   "execution_count": 88,
   "metadata": {
    "colab": {},
    "colab_type": "code",
    "id": "BvczHcrWeTnD"
   },
   "outputs": [],
   "source": [
    "import xgboost as xgb"
   ]
  },
  {
   "cell_type": "code",
   "execution_count": 89,
   "metadata": {
    "colab": {
     "base_uri": "https://localhost:8080/",
     "height": 523
    },
    "colab_type": "code",
    "executionInfo": {
     "elapsed": 87200,
     "status": "error",
     "timestamp": 1568393368637,
     "user": {
      "displayName": "vedant kale",
      "photoUrl": "https://lh3.googleusercontent.com/a-/AAuE7mCDab_KFU1MHWEjRsQP-6z1fyiPUiZjRxo9hWUi2w=s64",
      "userId": "16040215375828489081"
     },
     "user_tz": -330
    },
    "id": "FJ3-fAGPeU2U",
    "outputId": "69ffed38-73b1-4710-a228-a186b856609d"
   },
   "outputs": [
    {
     "name": "stderr",
     "output_type": "stream",
     "text": [
      "C:\\ProgramData\\Anaconda3\\lib\\site-packages\\xgboost\\core.py:587: FutureWarning: Series.base is deprecated and will be removed in a future version\n",
      "  if getattr(data, 'base', None) is not None and \\\n",
      "C:\\ProgramData\\Anaconda3\\lib\\site-packages\\xgboost\\core.py:588: FutureWarning: Series.base is deprecated and will be removed in a future version\n",
      "  data.base is not None and isinstance(data, np.ndarray) \\\n"
     ]
    },
    {
     "name": "stdout",
     "output_type": "stream",
     "text": [
      "[18:46:23] WARNING: C:/Jenkins/workspace/xgboost-win64_release_0.90/src/objective/regression_obj.cu:152: reg:linear is now deprecated in favor of reg:squarederror.\n"
     ]
    }
   ],
   "source": [
    "model3 = xgb.XGBRegressor()\n",
    "\n",
    "model3.fit(X_train, Y_train)\n",
    "\n",
    "prediction5 = model3.predict(X_test)\n",
    "prediction6 = model3.predict(X_train)\n",
    "\n",
    "Y_test = prediction5\n",
    "\n",
    "#plt.scatter(Y_test, prediction1)\n",
    "\n",
    "# model1.coef_\n",
    "\n",
    "# dframe_coef = pd.DataFrame(model1.coef_, X_train.columns, columns=['Coeifficent Values'])\n",
    "\n",
    "# dframe_coef"
   ]
  },
  {
   "cell_type": "code",
   "execution_count": 90,
   "metadata": {
    "colab": {},
    "colab_type": "code",
    "id": "etqpxXk85J4Z"
   },
   "outputs": [
    {
     "data": {
      "text/plain": [
       "6.484487494114009"
      ]
     },
     "execution_count": 90,
     "metadata": {},
     "output_type": "execute_result"
    }
   ],
   "source": [
    "RMSR1=np.sqrt(metrics.mean_squared_error(Y_train, prediction2))\n",
    "RMSR1"
   ]
  },
  {
   "cell_type": "code",
   "execution_count": 113,
   "metadata": {
    "colab": {},
    "colab_type": "code",
    "id": "vKG3XQYYJOBW"
   },
   "outputs": [
    {
     "name": "stdout",
     "output_type": "stream",
     "text": [
      "2.1365483135586785\n"
     ]
    },
    {
     "data": {
      "text/plain": [
       "array([ 7.3  , 15.35 , 17.76 , ...,  9.36 , 14.751, 15.96 ])"
      ]
     },
     "execution_count": 113,
     "metadata": {},
     "output_type": "execute_result"
    }
   ],
   "source": [
    "RMSR1=np.sqrt(metrics.mean_squared_error(Y_train, prediction4))\n",
    "print(RMSR1)\n",
    "prediction3"
   ]
  },
  {
   "cell_type": "code",
   "execution_count": 115,
   "metadata": {},
   "outputs": [
    {
     "data": {
      "text/plain": [
       "array([ 7.3 , 15.35, 17.76,  8.65,  7.8 ,  9.12, 11.3 , 15.36,  8.65,\n",
       "       12.35, 21.06, 14.81, 23.55, 22.75, 10.35,  5.8 , 41.47, 11.8 ,\n",
       "        6.6 ,  5.8 , 18.75, 13.56,  7.3 , 46.87, 23.66,  8.5 , 15.78,\n",
       "       16.6 , 56.78,  4.6 , 29.96,  7.74, 20.8 , 18.5 , 11.4 , 16.1 ,\n",
       "        8.3 , 18.15,  4.27,  7.55,  9.49,  9.02, 11.76, 49.86, 18.6 ,\n",
       "        6.65, 11.75,  6.6 ,  6.65, 35.03,  8.65, 85.25,  6.85,  7.45,\n",
       "        9.1 ,  6.95, 11.16,  6.95,  9.35, 14.12,  5.55, 25.92, 45.36,\n",
       "        4.2 , 12.89,  8.8 , 14.16, 20.4 , 11.8 , 17.71,  8.3 , 33.6 ,\n",
       "        8.75, 13.56,  7.5 , 11.1 , 11.3 , 11.25,  8.15, 29.16, 16.1 ,\n",
       "       11.8 ,  7.56,  9.3 ,  5.75, 16.53, 19.6 , 10.03, 12.36, 19.9 ,\n",
       "       16.54, 21.95, 22.36,  8.5 ,  8.76,  7.8 , 20.54,  8.65, 20.23,\n",
       "       10.56])"
      ]
     },
     "execution_count": 115,
     "metadata": {},
     "output_type": "execute_result"
    }
   ],
   "source": [
    "prediction3.round(2)[:100]"
   ]
  },
  {
   "cell_type": "code",
   "execution_count": 96,
   "metadata": {
    "colab": {},
    "colab_type": "code",
    "id": "AtEFSK86e4Yq"
   },
   "outputs": [
    {
     "name": "stdout",
     "output_type": "stream",
     "text": [
      "5.39571489954327\n"
     ]
    },
    {
     "data": {
      "text/plain": [
       "array([ 7.318637 , 14.8995075, 17.540714 , ...,  9.263428 , 14.461661 ,\n",
       "       16.171844 ], dtype=float32)"
      ]
     },
     "execution_count": 96,
     "metadata": {},
     "output_type": "execute_result"
    }
   ],
   "source": [
    "RMSR1=np.sqrt(metrics.mean_squared_error(Y_train, prediction6))\n",
    "print(RMSR1)\n",
    "prediction5"
   ]
  },
  {
   "cell_type": "raw",
   "metadata": {
    "colab": {},
    "colab_type": "code",
    "id": "mAL3UAEt5J4b"
   },
   "source": [
    "from pandas import DataFrame\n",
    "C = { 'ID': d2['ID'],\n",
    "      'total_amount': prediction1,\n",
    "    }\n",
    "df = DataFrame(C, columns= ['ID', 'total_amount'])\n",
    "export_csv = df.to_csv ('SampleSubmission1.csv', index = None, header=True) # here you have to write path, where result file will be stored\n",
    "print (df)"
   ]
  },
  {
   "cell_type": "code",
   "execution_count": 98,
   "metadata": {
    "colab": {},
    "colab_type": "code",
    "id": "8KtpgWhE5J4d"
   },
   "outputs": [
    {
     "name": "stdout",
     "output_type": "stream",
     "text": [
      "            ID  total_amount\n",
      "0            0         7.300\n",
      "1            1        15.350\n",
      "2            2        17.760\n",
      "3            3         8.650\n",
      "4            4         7.800\n",
      "5            5         9.120\n",
      "6            6        11.300\n",
      "7            7        15.360\n",
      "8            8         8.650\n",
      "9            9        12.350\n",
      "10          10        21.061\n",
      "11          11        14.813\n",
      "12          12        23.550\n",
      "13          13        22.750\n",
      "14          14        10.350\n",
      "15          15         5.800\n",
      "16          16        41.470\n",
      "17          17        11.804\n",
      "18          18         6.600\n",
      "19          19         5.800\n",
      "20          20        18.750\n",
      "21          21        13.560\n",
      "22          22         7.300\n",
      "23          23        46.870\n",
      "24          24        23.658\n",
      "25          25         8.500\n",
      "26          26        15.782\n",
      "27          27        16.600\n",
      "28          28        56.780\n",
      "29          29         4.600\n",
      "...        ...           ...\n",
      "154205  154205        43.132\n",
      "154206  154206         4.750\n",
      "154207  154207        32.600\n",
      "154208  154208        11.400\n",
      "154209  154209         9.360\n",
      "154210  154210        16.560\n",
      "154211  154211         7.850\n",
      "154212  154212         9.350\n",
      "154213  154213        11.450\n",
      "154214  154214         9.750\n",
      "154215  154215         8.550\n",
      "154216  154216        11.160\n",
      "154217  154217        10.500\n",
      "154218  154218        12.950\n",
      "154219  154219        15.450\n",
      "154220  154220        20.150\n",
      "154221  154221         5.750\n",
      "154222  154222         7.550\n",
      "154223  154223        14.300\n",
      "154224  154224        44.410\n",
      "154225  154225        21.619\n",
      "154226  154226         5.800\n",
      "154227  154227        19.250\n",
      "154228  154228        35.860\n",
      "154229  154229         8.400\n",
      "154230  154230        15.360\n",
      "154231  154231         8.610\n",
      "154232  154232         9.360\n",
      "154233  154233        14.751\n",
      "154234  154234        15.960\n",
      "\n",
      "[154235 rows x 2 columns]\n"
     ]
    }
   ],
   "source": [
    "from pandas import DataFrame\n",
    "C = { 'ID': d2['ID'],\n",
    "      'total_amount': prediction3,\n",
    "    }\n",
    "df = DataFrame(C, columns= ['ID', 'total_amount'])\n",
    "export_csv = df.to_csv ('SampleSubmission2.csv', index = None, header=True) # here you have to write path, where result file will be stored\n",
    "print (df)"
   ]
  },
  {
   "cell_type": "raw",
   "metadata": {
    "colab": {},
    "colab_type": "code",
    "id": "qeFIM4Z6LL3M"
   },
   "source": [
    "from pandas import DataFrame\n",
    "C = { 'ID': d2['ID'],\n",
    "      'total_amount': (prediction1+prediction3)/2-0.1,\n",
    "    }\n",
    "df = DataFrame(C, columns= ['ID', 'total_amount'])\n",
    "export_csv = df.to_csv ('SampleSubmission3.csv', index = None, header=True) # here you have to write path, where result file will be stored\n",
    "print (df)"
   ]
  },
  {
   "cell_type": "code",
   "execution_count": null,
   "metadata": {
    "colab": {},
    "colab_type": "code",
    "id": "cEUumWGM5J4f"
   },
   "outputs": [],
   "source": []
  }
 ],
 "metadata": {
  "colab": {
   "collapsed_sections": [],
   "name": "chh_ola.ipynb",
   "provenance": [],
   "version": "0.3.2"
  },
  "kernelspec": {
   "display_name": "Python 3",
   "language": "python",
   "name": "python3"
  },
  "language_info": {
   "codemirror_mode": {
    "name": "ipython",
    "version": 3
   },
   "file_extension": ".py",
   "mimetype": "text/x-python",
   "name": "python",
   "nbconvert_exporter": "python",
   "pygments_lexer": "ipython3",
   "version": "3.7.3"
  }
 },
 "nbformat": 4,
 "nbformat_minor": 1
}
